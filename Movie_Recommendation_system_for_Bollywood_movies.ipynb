{
  "nbformat": 4,
  "nbformat_minor": 0,
  "metadata": {
    "colab": {
      "provenance": []
    },
    "kernelspec": {
      "name": "python3",
      "display_name": "Python 3"
    },
    "language_info": {
      "name": "python"
    }
  },
  "cells": [
    {
      "cell_type": "markdown",
      "source": [
        "# Movie Recommendation system for Bollywood movies\n",
        "\n",
        "### based on name of actors"
      ],
      "metadata": {
        "id": "RF-LWtAyE5yD"
      }
    },
    {
      "cell_type": "markdown",
      "source": [
        "## Importing the dependencies"
      ],
      "metadata": {
        "id": "4keJXUOc2Oz5"
      }
    },
    {
      "cell_type": "code",
      "execution_count": 304,
      "metadata": {
        "id": "olpNUCpczjak"
      },
      "outputs": [],
      "source": [
        "import numpy as np\n",
        "import pandas as pd\n",
        "import difflib\n",
        "from scipy.sparse import find\n",
        "\n",
        "from sklearn.feature_extraction.text import TfidfVectorizer \n",
        "# for transforming the textual data to numerical feature vector to find present similarity values \n",
        "from sklearn.metrics.pairwise import cosine_similarity"
      ]
    },
    {
      "cell_type": "markdown",
      "source": [
        "## Dataset Loading and Preprocessing\n"
      ],
      "metadata": {
        "id": "ykYvxcJp3bc_"
      }
    },
    {
      "cell_type": "code",
      "source": [
        "# loading the dataset\n",
        "\n",
        "dataset = pd.read_csv('bollywood_movie_dataset.csv')"
      ],
      "metadata": {
        "id": "UvrfSw_b3auQ"
      },
      "execution_count": 313,
      "outputs": []
    },
    {
      "cell_type": "code",
      "source": [
        "dataset.shape"
      ],
      "metadata": {
        "colab": {
          "base_uri": "https://localhost:8080/"
        },
        "id": "oFpV2bYEZZ8P",
        "outputId": "5b3723d8-bcdc-428a-ed89-ba08406fbf89"
      },
      "execution_count": 314,
      "outputs": [
        {
          "output_type": "execute_result",
          "data": {
            "text/plain": [
              "(4329, 23)"
            ]
          },
          "metadata": {},
          "execution_count": 314
        }
      ]
    },
    {
      "cell_type": "code",
      "source": [
        "dataset.head()"
      ],
      "metadata": {
        "colab": {
          "base_uri": "https://localhost:8080/",
          "height": 681
        },
        "id": "nEIbtmfX3arR",
        "outputId": "b3e1fd57-168c-4e2f-a245-6fb8a74e9ae8"
      },
      "execution_count": 318,
      "outputs": [
        {
          "output_type": "execute_result",
          "data": {
            "text/plain": [
              "   index                               title_x    imdb_id  \\\n",
              "0      1              Uri: The Surgical Strike  tt8291224   \n",
              "1      2                         Battalion 609  tt9472208   \n",
              "2      3  The Accidental Prime Minister (film)  tt6986710   \n",
              "3      4                       Why Cheat India  tt8108208   \n",
              "4      5                       Evening Shadows  tt6028796   \n",
              "\n",
              "                                         poster_path  \\\n",
              "0  https://upload.wikimedia.org/wikipedia/en/thum...   \n",
              "1                                                NaN   \n",
              "2  https://upload.wikimedia.org/wikipedia/en/thum...   \n",
              "3  https://upload.wikimedia.org/wikipedia/en/thum...   \n",
              "4                                                NaN   \n",
              "\n",
              "                                           wiki_link  \\\n",
              "0  https://en.wikipedia.org/wiki/Uri:_The_Surgica...   \n",
              "1        https://en.wikipedia.org/wiki/Battalion_609   \n",
              "2  https://en.wikipedia.org/wiki/The_Accidental_P...   \n",
              "3      https://en.wikipedia.org/wiki/Why_Cheat_India   \n",
              "4      https://en.wikipedia.org/wiki/Evening_Shadows   \n",
              "\n",
              "                           title                 original_title  is_adult  \\\n",
              "0       Uri: The Surgical Strike       Uri: The Surgical Strike         0   \n",
              "1                  Battalion 609                  Battalion 609         0   \n",
              "2  The Accidental Prime Minister  The Accidental Prime Minister         0   \n",
              "3                Why Cheat India                Why Cheat India         0   \n",
              "4                Evening Shadows                Evening Shadows         0   \n",
              "\n",
              "   year_of_release runtime  ...  \\\n",
              "0             2019     138  ...   \n",
              "1             2019     131  ...   \n",
              "2             2019     112  ...   \n",
              "3             2019     121  ...   \n",
              "4             2018     102  ...   \n",
              "\n",
              "                                               story  \\\n",
              "0  Divided over five chapters  the film chronicle...   \n",
              "1  The story revolves around a cricket match betw...   \n",
              "2  Based on the memoir by Indian policy analyst S...   \n",
              "3  The movie focuses on existing malpractices in ...   \n",
              "4  While gay rights and marriage equality has bee...   \n",
              "\n",
              "                                             summary  tagline  \\\n",
              "0  Indian army special forces execute a covert op...      NaN   \n",
              "1  The story of Battalion 609 revolves around a c...      NaN   \n",
              "2  Explores Manmohan Singh's tenure as the Prime ...      NaN   \n",
              "3  The movie focuses on existing malpractices in ...      NaN   \n",
              "4  Under the 'Evening Shadows'  truth often plays...      NaN   \n",
              "\n",
              "                                              actors        wins_nominations  \\\n",
              "0  Vicky Kaushal|Paresh Rawal|Mohit Raina|Yami Ga...                  4 wins   \n",
              "1  Vicky Ahuja|Shoaib Ibrahim|Shrikant Kamat|Elen...                     NaN   \n",
              "2  Anupam Kher|Akshaye Khanna|Aahana Kumra|Atul S...                     NaN   \n",
              "3  Emraan Hashmi|Shreya Dhanwanthary|Snighdadeep ...                     NaN   \n",
              "4  Mona Ambegaonkar|Ananth Narayan Mahadevan|Deva...  17 wins & 1 nomination   \n",
              "\n",
              "              release_date Unnamed: 19 Unnamed: 20 Unnamed: 21  Unnamed: 22  \n",
              "0    11 January 2019 (USA)         NaN         NaN         NaN          NaN  \n",
              "1  11 January 2019 (India)         NaN         NaN         NaN          NaN  \n",
              "2    11 January 2019 (USA)         NaN         NaN         NaN      #VALUE!  \n",
              "3    18 January 2019 (USA)         NaN         NaN         NaN          NaN  \n",
              "4  11 January 2019 (India)         NaN         NaN         NaN          NaN  \n",
              "\n",
              "[5 rows x 23 columns]"
            ],
            "text/html": [
              "\n",
              "  <div id=\"df-6beb48ff-f5f4-43d3-8ff2-907cf60ab3aa\">\n",
              "    <div class=\"colab-df-container\">\n",
              "      <div>\n",
              "<style scoped>\n",
              "    .dataframe tbody tr th:only-of-type {\n",
              "        vertical-align: middle;\n",
              "    }\n",
              "\n",
              "    .dataframe tbody tr th {\n",
              "        vertical-align: top;\n",
              "    }\n",
              "\n",
              "    .dataframe thead th {\n",
              "        text-align: right;\n",
              "    }\n",
              "</style>\n",
              "<table border=\"1\" class=\"dataframe\">\n",
              "  <thead>\n",
              "    <tr style=\"text-align: right;\">\n",
              "      <th></th>\n",
              "      <th>index</th>\n",
              "      <th>title_x</th>\n",
              "      <th>imdb_id</th>\n",
              "      <th>poster_path</th>\n",
              "      <th>wiki_link</th>\n",
              "      <th>title</th>\n",
              "      <th>original_title</th>\n",
              "      <th>is_adult</th>\n",
              "      <th>year_of_release</th>\n",
              "      <th>runtime</th>\n",
              "      <th>...</th>\n",
              "      <th>story</th>\n",
              "      <th>summary</th>\n",
              "      <th>tagline</th>\n",
              "      <th>actors</th>\n",
              "      <th>wins_nominations</th>\n",
              "      <th>release_date</th>\n",
              "      <th>Unnamed: 19</th>\n",
              "      <th>Unnamed: 20</th>\n",
              "      <th>Unnamed: 21</th>\n",
              "      <th>Unnamed: 22</th>\n",
              "    </tr>\n",
              "  </thead>\n",
              "  <tbody>\n",
              "    <tr>\n",
              "      <th>0</th>\n",
              "      <td>1</td>\n",
              "      <td>Uri: The Surgical Strike</td>\n",
              "      <td>tt8291224</td>\n",
              "      <td>https://upload.wikimedia.org/wikipedia/en/thum...</td>\n",
              "      <td>https://en.wikipedia.org/wiki/Uri:_The_Surgica...</td>\n",
              "      <td>Uri: The Surgical Strike</td>\n",
              "      <td>Uri: The Surgical Strike</td>\n",
              "      <td>0</td>\n",
              "      <td>2019</td>\n",
              "      <td>138</td>\n",
              "      <td>...</td>\n",
              "      <td>Divided over five chapters  the film chronicle...</td>\n",
              "      <td>Indian army special forces execute a covert op...</td>\n",
              "      <td>NaN</td>\n",
              "      <td>Vicky Kaushal|Paresh Rawal|Mohit Raina|Yami Ga...</td>\n",
              "      <td>4 wins</td>\n",
              "      <td>11 January 2019 (USA)</td>\n",
              "      <td>NaN</td>\n",
              "      <td>NaN</td>\n",
              "      <td>NaN</td>\n",
              "      <td>NaN</td>\n",
              "    </tr>\n",
              "    <tr>\n",
              "      <th>1</th>\n",
              "      <td>2</td>\n",
              "      <td>Battalion 609</td>\n",
              "      <td>tt9472208</td>\n",
              "      <td>NaN</td>\n",
              "      <td>https://en.wikipedia.org/wiki/Battalion_609</td>\n",
              "      <td>Battalion 609</td>\n",
              "      <td>Battalion 609</td>\n",
              "      <td>0</td>\n",
              "      <td>2019</td>\n",
              "      <td>131</td>\n",
              "      <td>...</td>\n",
              "      <td>The story revolves around a cricket match betw...</td>\n",
              "      <td>The story of Battalion 609 revolves around a c...</td>\n",
              "      <td>NaN</td>\n",
              "      <td>Vicky Ahuja|Shoaib Ibrahim|Shrikant Kamat|Elen...</td>\n",
              "      <td>NaN</td>\n",
              "      <td>11 January 2019 (India)</td>\n",
              "      <td>NaN</td>\n",
              "      <td>NaN</td>\n",
              "      <td>NaN</td>\n",
              "      <td>NaN</td>\n",
              "    </tr>\n",
              "    <tr>\n",
              "      <th>2</th>\n",
              "      <td>3</td>\n",
              "      <td>The Accidental Prime Minister (film)</td>\n",
              "      <td>tt6986710</td>\n",
              "      <td>https://upload.wikimedia.org/wikipedia/en/thum...</td>\n",
              "      <td>https://en.wikipedia.org/wiki/The_Accidental_P...</td>\n",
              "      <td>The Accidental Prime Minister</td>\n",
              "      <td>The Accidental Prime Minister</td>\n",
              "      <td>0</td>\n",
              "      <td>2019</td>\n",
              "      <td>112</td>\n",
              "      <td>...</td>\n",
              "      <td>Based on the memoir by Indian policy analyst S...</td>\n",
              "      <td>Explores Manmohan Singh's tenure as the Prime ...</td>\n",
              "      <td>NaN</td>\n",
              "      <td>Anupam Kher|Akshaye Khanna|Aahana Kumra|Atul S...</td>\n",
              "      <td>NaN</td>\n",
              "      <td>11 January 2019 (USA)</td>\n",
              "      <td>NaN</td>\n",
              "      <td>NaN</td>\n",
              "      <td>NaN</td>\n",
              "      <td>#VALUE!</td>\n",
              "    </tr>\n",
              "    <tr>\n",
              "      <th>3</th>\n",
              "      <td>4</td>\n",
              "      <td>Why Cheat India</td>\n",
              "      <td>tt8108208</td>\n",
              "      <td>https://upload.wikimedia.org/wikipedia/en/thum...</td>\n",
              "      <td>https://en.wikipedia.org/wiki/Why_Cheat_India</td>\n",
              "      <td>Why Cheat India</td>\n",
              "      <td>Why Cheat India</td>\n",
              "      <td>0</td>\n",
              "      <td>2019</td>\n",
              "      <td>121</td>\n",
              "      <td>...</td>\n",
              "      <td>The movie focuses on existing malpractices in ...</td>\n",
              "      <td>The movie focuses on existing malpractices in ...</td>\n",
              "      <td>NaN</td>\n",
              "      <td>Emraan Hashmi|Shreya Dhanwanthary|Snighdadeep ...</td>\n",
              "      <td>NaN</td>\n",
              "      <td>18 January 2019 (USA)</td>\n",
              "      <td>NaN</td>\n",
              "      <td>NaN</td>\n",
              "      <td>NaN</td>\n",
              "      <td>NaN</td>\n",
              "    </tr>\n",
              "    <tr>\n",
              "      <th>4</th>\n",
              "      <td>5</td>\n",
              "      <td>Evening Shadows</td>\n",
              "      <td>tt6028796</td>\n",
              "      <td>NaN</td>\n",
              "      <td>https://en.wikipedia.org/wiki/Evening_Shadows</td>\n",
              "      <td>Evening Shadows</td>\n",
              "      <td>Evening Shadows</td>\n",
              "      <td>0</td>\n",
              "      <td>2018</td>\n",
              "      <td>102</td>\n",
              "      <td>...</td>\n",
              "      <td>While gay rights and marriage equality has bee...</td>\n",
              "      <td>Under the 'Evening Shadows'  truth often plays...</td>\n",
              "      <td>NaN</td>\n",
              "      <td>Mona Ambegaonkar|Ananth Narayan Mahadevan|Deva...</td>\n",
              "      <td>17 wins &amp; 1 nomination</td>\n",
              "      <td>11 January 2019 (India)</td>\n",
              "      <td>NaN</td>\n",
              "      <td>NaN</td>\n",
              "      <td>NaN</td>\n",
              "      <td>NaN</td>\n",
              "    </tr>\n",
              "  </tbody>\n",
              "</table>\n",
              "<p>5 rows × 23 columns</p>\n",
              "</div>\n",
              "      <button class=\"colab-df-convert\" onclick=\"convertToInteractive('df-6beb48ff-f5f4-43d3-8ff2-907cf60ab3aa')\"\n",
              "              title=\"Convert this dataframe to an interactive table.\"\n",
              "              style=\"display:none;\">\n",
              "        \n",
              "  <svg xmlns=\"http://www.w3.org/2000/svg\" height=\"24px\"viewBox=\"0 0 24 24\"\n",
              "       width=\"24px\">\n",
              "    <path d=\"M0 0h24v24H0V0z\" fill=\"none\"/>\n",
              "    <path d=\"M18.56 5.44l.94 2.06.94-2.06 2.06-.94-2.06-.94-.94-2.06-.94 2.06-2.06.94zm-11 1L8.5 8.5l.94-2.06 2.06-.94-2.06-.94L8.5 2.5l-.94 2.06-2.06.94zm10 10l.94 2.06.94-2.06 2.06-.94-2.06-.94-.94-2.06-.94 2.06-2.06.94z\"/><path d=\"M17.41 7.96l-1.37-1.37c-.4-.4-.92-.59-1.43-.59-.52 0-1.04.2-1.43.59L10.3 9.45l-7.72 7.72c-.78.78-.78 2.05 0 2.83L4 21.41c.39.39.9.59 1.41.59.51 0 1.02-.2 1.41-.59l7.78-7.78 2.81-2.81c.8-.78.8-2.07 0-2.86zM5.41 20L4 18.59l7.72-7.72 1.47 1.35L5.41 20z\"/>\n",
              "  </svg>\n",
              "      </button>\n",
              "      \n",
              "  <style>\n",
              "    .colab-df-container {\n",
              "      display:flex;\n",
              "      flex-wrap:wrap;\n",
              "      gap: 12px;\n",
              "    }\n",
              "\n",
              "    .colab-df-convert {\n",
              "      background-color: #E8F0FE;\n",
              "      border: none;\n",
              "      border-radius: 50%;\n",
              "      cursor: pointer;\n",
              "      display: none;\n",
              "      fill: #1967D2;\n",
              "      height: 32px;\n",
              "      padding: 0 0 0 0;\n",
              "      width: 32px;\n",
              "    }\n",
              "\n",
              "    .colab-df-convert:hover {\n",
              "      background-color: #E2EBFA;\n",
              "      box-shadow: 0px 1px 2px rgba(60, 64, 67, 0.3), 0px 1px 3px 1px rgba(60, 64, 67, 0.15);\n",
              "      fill: #174EA6;\n",
              "    }\n",
              "\n",
              "    [theme=dark] .colab-df-convert {\n",
              "      background-color: #3B4455;\n",
              "      fill: #D2E3FC;\n",
              "    }\n",
              "\n",
              "    [theme=dark] .colab-df-convert:hover {\n",
              "      background-color: #434B5C;\n",
              "      box-shadow: 0px 1px 3px 1px rgba(0, 0, 0, 0.15);\n",
              "      filter: drop-shadow(0px 1px 2px rgba(0, 0, 0, 0.3));\n",
              "      fill: #FFFFFF;\n",
              "    }\n",
              "  </style>\n",
              "\n",
              "      <script>\n",
              "        const buttonEl =\n",
              "          document.querySelector('#df-6beb48ff-f5f4-43d3-8ff2-907cf60ab3aa button.colab-df-convert');\n",
              "        buttonEl.style.display =\n",
              "          google.colab.kernel.accessAllowed ? 'block' : 'none';\n",
              "\n",
              "        async function convertToInteractive(key) {\n",
              "          const element = document.querySelector('#df-6beb48ff-f5f4-43d3-8ff2-907cf60ab3aa');\n",
              "          const dataTable =\n",
              "            await google.colab.kernel.invokeFunction('convertToInteractive',\n",
              "                                                     [key], {});\n",
              "          if (!dataTable) return;\n",
              "\n",
              "          const docLinkHtml = 'Like what you see? Visit the ' +\n",
              "            '<a target=\"_blank\" href=https://colab.research.google.com/notebooks/data_table.ipynb>data table notebook</a>'\n",
              "            + ' to learn more about interactive tables.';\n",
              "          element.innerHTML = '';\n",
              "          dataTable['output_type'] = 'display_data';\n",
              "          await google.colab.output.renderOutput(dataTable, element);\n",
              "          const docLink = document.createElement('div');\n",
              "          docLink.innerHTML = docLinkHtml;\n",
              "          element.appendChild(docLink);\n",
              "        }\n",
              "      </script>\n",
              "    </div>\n",
              "  </div>\n",
              "  "
            ]
          },
          "metadata": {},
          "execution_count": 318
        }
      ]
    },
    {
      "cell_type": "markdown",
      "source": [
        "### Removing unnecessary details"
      ],
      "metadata": {
        "id": "yZ3BfSNQIUMx"
      }
    },
    {
      "cell_type": "code",
      "source": [
        "dataset = dataset.drop(['imdb_id','imdb_rating', 'poster_path','is_adult', 'wiki_link','title','original_title', 'imdb_votes',  'year_of_release','wins_nominations', 'release_date'], axis = 1)"
      ],
      "metadata": {
        "id": "gc5EymqvIajk"
      },
      "execution_count": 319,
      "outputs": []
    },
    {
      "cell_type": "code",
      "source": [
        "dataset.head()"
      ],
      "metadata": {
        "colab": {
          "base_uri": "https://localhost:8080/",
          "height": 614
        },
        "id": "TnkIFUlGJK-9",
        "outputId": "76ffb806-d2f4-4e77-f61f-a7fed45498b4"
      },
      "execution_count": 320,
      "outputs": [
        {
          "output_type": "execute_result",
          "data": {
            "text/plain": [
              "   index                               title_x runtime            genres  \\\n",
              "0      1              Uri: The Surgical Strike     138  Action|Drama|War   \n",
              "1      2                         Battalion 609     131               War   \n",
              "2      3  The Accidental Prime Minister (film)     112   Biography|Drama   \n",
              "3      4                       Why Cheat India     121       Crime|Drama   \n",
              "4      5                       Evening Shadows     102             Drama   \n",
              "\n",
              "                                               story  \\\n",
              "0  Divided over five chapters  the film chronicle...   \n",
              "1  The story revolves around a cricket match betw...   \n",
              "2  Based on the memoir by Indian policy analyst S...   \n",
              "3  The movie focuses on existing malpractices in ...   \n",
              "4  While gay rights and marriage equality has bee...   \n",
              "\n",
              "                                             summary tagline  \\\n",
              "0  Indian army special forces execute a covert op...     NaN   \n",
              "1  The story of Battalion 609 revolves around a c...     NaN   \n",
              "2  Explores Manmohan Singh's tenure as the Prime ...     NaN   \n",
              "3  The movie focuses on existing malpractices in ...     NaN   \n",
              "4  Under the 'Evening Shadows'  truth often plays...     NaN   \n",
              "\n",
              "                                              actors  Unnamed: 19  \\\n",
              "0  Vicky Kaushal|Paresh Rawal|Mohit Raina|Yami Ga...          NaN   \n",
              "1  Vicky Ahuja|Shoaib Ibrahim|Shrikant Kamat|Elen...          NaN   \n",
              "2  Anupam Kher|Akshaye Khanna|Aahana Kumra|Atul S...          NaN   \n",
              "3  Emraan Hashmi|Shreya Dhanwanthary|Snighdadeep ...          NaN   \n",
              "4  Mona Ambegaonkar|Ananth Narayan Mahadevan|Deva...          NaN   \n",
              "\n",
              "   Unnamed: 20  Unnamed: 21 Unnamed: 22  \n",
              "0          NaN          NaN         NaN  \n",
              "1          NaN          NaN         NaN  \n",
              "2          NaN          NaN     #VALUE!  \n",
              "3          NaN          NaN         NaN  \n",
              "4          NaN          NaN         NaN  "
            ],
            "text/html": [
              "\n",
              "  <div id=\"df-17816e24-c548-47d9-bc47-295f222a8a06\">\n",
              "    <div class=\"colab-df-container\">\n",
              "      <div>\n",
              "<style scoped>\n",
              "    .dataframe tbody tr th:only-of-type {\n",
              "        vertical-align: middle;\n",
              "    }\n",
              "\n",
              "    .dataframe tbody tr th {\n",
              "        vertical-align: top;\n",
              "    }\n",
              "\n",
              "    .dataframe thead th {\n",
              "        text-align: right;\n",
              "    }\n",
              "</style>\n",
              "<table border=\"1\" class=\"dataframe\">\n",
              "  <thead>\n",
              "    <tr style=\"text-align: right;\">\n",
              "      <th></th>\n",
              "      <th>index</th>\n",
              "      <th>title_x</th>\n",
              "      <th>runtime</th>\n",
              "      <th>genres</th>\n",
              "      <th>story</th>\n",
              "      <th>summary</th>\n",
              "      <th>tagline</th>\n",
              "      <th>actors</th>\n",
              "      <th>Unnamed: 19</th>\n",
              "      <th>Unnamed: 20</th>\n",
              "      <th>Unnamed: 21</th>\n",
              "      <th>Unnamed: 22</th>\n",
              "    </tr>\n",
              "  </thead>\n",
              "  <tbody>\n",
              "    <tr>\n",
              "      <th>0</th>\n",
              "      <td>1</td>\n",
              "      <td>Uri: The Surgical Strike</td>\n",
              "      <td>138</td>\n",
              "      <td>Action|Drama|War</td>\n",
              "      <td>Divided over five chapters  the film chronicle...</td>\n",
              "      <td>Indian army special forces execute a covert op...</td>\n",
              "      <td>NaN</td>\n",
              "      <td>Vicky Kaushal|Paresh Rawal|Mohit Raina|Yami Ga...</td>\n",
              "      <td>NaN</td>\n",
              "      <td>NaN</td>\n",
              "      <td>NaN</td>\n",
              "      <td>NaN</td>\n",
              "    </tr>\n",
              "    <tr>\n",
              "      <th>1</th>\n",
              "      <td>2</td>\n",
              "      <td>Battalion 609</td>\n",
              "      <td>131</td>\n",
              "      <td>War</td>\n",
              "      <td>The story revolves around a cricket match betw...</td>\n",
              "      <td>The story of Battalion 609 revolves around a c...</td>\n",
              "      <td>NaN</td>\n",
              "      <td>Vicky Ahuja|Shoaib Ibrahim|Shrikant Kamat|Elen...</td>\n",
              "      <td>NaN</td>\n",
              "      <td>NaN</td>\n",
              "      <td>NaN</td>\n",
              "      <td>NaN</td>\n",
              "    </tr>\n",
              "    <tr>\n",
              "      <th>2</th>\n",
              "      <td>3</td>\n",
              "      <td>The Accidental Prime Minister (film)</td>\n",
              "      <td>112</td>\n",
              "      <td>Biography|Drama</td>\n",
              "      <td>Based on the memoir by Indian policy analyst S...</td>\n",
              "      <td>Explores Manmohan Singh's tenure as the Prime ...</td>\n",
              "      <td>NaN</td>\n",
              "      <td>Anupam Kher|Akshaye Khanna|Aahana Kumra|Atul S...</td>\n",
              "      <td>NaN</td>\n",
              "      <td>NaN</td>\n",
              "      <td>NaN</td>\n",
              "      <td>#VALUE!</td>\n",
              "    </tr>\n",
              "    <tr>\n",
              "      <th>3</th>\n",
              "      <td>4</td>\n",
              "      <td>Why Cheat India</td>\n",
              "      <td>121</td>\n",
              "      <td>Crime|Drama</td>\n",
              "      <td>The movie focuses on existing malpractices in ...</td>\n",
              "      <td>The movie focuses on existing malpractices in ...</td>\n",
              "      <td>NaN</td>\n",
              "      <td>Emraan Hashmi|Shreya Dhanwanthary|Snighdadeep ...</td>\n",
              "      <td>NaN</td>\n",
              "      <td>NaN</td>\n",
              "      <td>NaN</td>\n",
              "      <td>NaN</td>\n",
              "    </tr>\n",
              "    <tr>\n",
              "      <th>4</th>\n",
              "      <td>5</td>\n",
              "      <td>Evening Shadows</td>\n",
              "      <td>102</td>\n",
              "      <td>Drama</td>\n",
              "      <td>While gay rights and marriage equality has bee...</td>\n",
              "      <td>Under the 'Evening Shadows'  truth often plays...</td>\n",
              "      <td>NaN</td>\n",
              "      <td>Mona Ambegaonkar|Ananth Narayan Mahadevan|Deva...</td>\n",
              "      <td>NaN</td>\n",
              "      <td>NaN</td>\n",
              "      <td>NaN</td>\n",
              "      <td>NaN</td>\n",
              "    </tr>\n",
              "  </tbody>\n",
              "</table>\n",
              "</div>\n",
              "      <button class=\"colab-df-convert\" onclick=\"convertToInteractive('df-17816e24-c548-47d9-bc47-295f222a8a06')\"\n",
              "              title=\"Convert this dataframe to an interactive table.\"\n",
              "              style=\"display:none;\">\n",
              "        \n",
              "  <svg xmlns=\"http://www.w3.org/2000/svg\" height=\"24px\"viewBox=\"0 0 24 24\"\n",
              "       width=\"24px\">\n",
              "    <path d=\"M0 0h24v24H0V0z\" fill=\"none\"/>\n",
              "    <path d=\"M18.56 5.44l.94 2.06.94-2.06 2.06-.94-2.06-.94-.94-2.06-.94 2.06-2.06.94zm-11 1L8.5 8.5l.94-2.06 2.06-.94-2.06-.94L8.5 2.5l-.94 2.06-2.06.94zm10 10l.94 2.06.94-2.06 2.06-.94-2.06-.94-.94-2.06-.94 2.06-2.06.94z\"/><path d=\"M17.41 7.96l-1.37-1.37c-.4-.4-.92-.59-1.43-.59-.52 0-1.04.2-1.43.59L10.3 9.45l-7.72 7.72c-.78.78-.78 2.05 0 2.83L4 21.41c.39.39.9.59 1.41.59.51 0 1.02-.2 1.41-.59l7.78-7.78 2.81-2.81c.8-.78.8-2.07 0-2.86zM5.41 20L4 18.59l7.72-7.72 1.47 1.35L5.41 20z\"/>\n",
              "  </svg>\n",
              "      </button>\n",
              "      \n",
              "  <style>\n",
              "    .colab-df-container {\n",
              "      display:flex;\n",
              "      flex-wrap:wrap;\n",
              "      gap: 12px;\n",
              "    }\n",
              "\n",
              "    .colab-df-convert {\n",
              "      background-color: #E8F0FE;\n",
              "      border: none;\n",
              "      border-radius: 50%;\n",
              "      cursor: pointer;\n",
              "      display: none;\n",
              "      fill: #1967D2;\n",
              "      height: 32px;\n",
              "      padding: 0 0 0 0;\n",
              "      width: 32px;\n",
              "    }\n",
              "\n",
              "    .colab-df-convert:hover {\n",
              "      background-color: #E2EBFA;\n",
              "      box-shadow: 0px 1px 2px rgba(60, 64, 67, 0.3), 0px 1px 3px 1px rgba(60, 64, 67, 0.15);\n",
              "      fill: #174EA6;\n",
              "    }\n",
              "\n",
              "    [theme=dark] .colab-df-convert {\n",
              "      background-color: #3B4455;\n",
              "      fill: #D2E3FC;\n",
              "    }\n",
              "\n",
              "    [theme=dark] .colab-df-convert:hover {\n",
              "      background-color: #434B5C;\n",
              "      box-shadow: 0px 1px 3px 1px rgba(0, 0, 0, 0.15);\n",
              "      filter: drop-shadow(0px 1px 2px rgba(0, 0, 0, 0.3));\n",
              "      fill: #FFFFFF;\n",
              "    }\n",
              "  </style>\n",
              "\n",
              "      <script>\n",
              "        const buttonEl =\n",
              "          document.querySelector('#df-17816e24-c548-47d9-bc47-295f222a8a06 button.colab-df-convert');\n",
              "        buttonEl.style.display =\n",
              "          google.colab.kernel.accessAllowed ? 'block' : 'none';\n",
              "\n",
              "        async function convertToInteractive(key) {\n",
              "          const element = document.querySelector('#df-17816e24-c548-47d9-bc47-295f222a8a06');\n",
              "          const dataTable =\n",
              "            await google.colab.kernel.invokeFunction('convertToInteractive',\n",
              "                                                     [key], {});\n",
              "          if (!dataTable) return;\n",
              "\n",
              "          const docLinkHtml = 'Like what you see? Visit the ' +\n",
              "            '<a target=\"_blank\" href=https://colab.research.google.com/notebooks/data_table.ipynb>data table notebook</a>'\n",
              "            + ' to learn more about interactive tables.';\n",
              "          element.innerHTML = '';\n",
              "          dataTable['output_type'] = 'display_data';\n",
              "          await google.colab.output.renderOutput(dataTable, element);\n",
              "          const docLink = document.createElement('div');\n",
              "          docLink.innerHTML = docLinkHtml;\n",
              "          element.appendChild(docLink);\n",
              "        }\n",
              "      </script>\n",
              "    </div>\n",
              "  </div>\n",
              "  "
            ]
          },
          "metadata": {},
          "execution_count": 320
        }
      ]
    },
    {
      "cell_type": "code",
      "source": [
        "dataset.tail()"
      ],
      "metadata": {
        "colab": {
          "base_uri": "https://localhost:8080/",
          "height": 562
        },
        "id": "d6pftABQ3al5",
        "outputId": "df14d5b4-5c56-416b-a67e-54c08bdae761"
      },
      "execution_count": 321,
      "outputs": [
        {
          "output_type": "execute_result",
          "data": {
            "text/plain": [
              "      index                   title_x runtime        genres  \\\n",
              "4324   4325       Samadhi (1950 film)     165         Drama   \n",
              "4325   4326       Sangram (1950 film)     139         Drama   \n",
              "4326   4327        Sargam (1950 film)     135  Drama|Family   \n",
              "4327   4328  Sheesh Mahal (1950 film)     144         Drama   \n",
              "4328   4329       Meena Bazaar (film)      \\N         Drama   \n",
              "\n",
              "                                                  story  \\\n",
              "4324  The story is based on the true incident at INA...   \n",
              "4325  After the death of his wife  a policeman fails...   \n",
              "4326                                                NaN   \n",
              "4327  Thakur Jaspal Singh lives in the prestigious a...   \n",
              "4328                                                NaN   \n",
              "\n",
              "                                                summary tagline  \\\n",
              "4324  The story is based on the true incident at INA...     NaN   \n",
              "4325  After the death of his wife  a policeman fails...     NaN   \n",
              "4326                                       Add a Plot »     NaN   \n",
              "4327  Thakur Jaspal Singh lives in the prestigious a...     NaN   \n",
              "4328                                       Add a Plot »     NaN   \n",
              "\n",
              "                                                 actors  Unnamed: 19  \\\n",
              "4324  Ashok Kumar|Nalini Jaywant|Kuldip Kaur|Shyam|M...          NaN   \n",
              "4325  Ashok Kumar|Nalini Jaywant|Nawab|Sajjan|Tiwari...          NaN   \n",
              "4326  Raj Kapoor|Rehana|Om Prakash|David Abraham|Rad...          NaN   \n",
              "4327  Sohrab Modi|Naseem Banu|Pushpa Hans|Nigar Sult...          NaN   \n",
              "4328                                                NaN          NaN   \n",
              "\n",
              "      Unnamed: 20  Unnamed: 21 Unnamed: 22  \n",
              "4324          NaN          NaN         NaN  \n",
              "4325          NaN          NaN         NaN  \n",
              "4326          NaN          NaN         NaN  \n",
              "4327          NaN          NaN         NaN  \n",
              "4328          NaN          NaN         NaN  "
            ],
            "text/html": [
              "\n",
              "  <div id=\"df-cc5ec4f8-fb39-420f-9ef9-5a923c952599\">\n",
              "    <div class=\"colab-df-container\">\n",
              "      <div>\n",
              "<style scoped>\n",
              "    .dataframe tbody tr th:only-of-type {\n",
              "        vertical-align: middle;\n",
              "    }\n",
              "\n",
              "    .dataframe tbody tr th {\n",
              "        vertical-align: top;\n",
              "    }\n",
              "\n",
              "    .dataframe thead th {\n",
              "        text-align: right;\n",
              "    }\n",
              "</style>\n",
              "<table border=\"1\" class=\"dataframe\">\n",
              "  <thead>\n",
              "    <tr style=\"text-align: right;\">\n",
              "      <th></th>\n",
              "      <th>index</th>\n",
              "      <th>title_x</th>\n",
              "      <th>runtime</th>\n",
              "      <th>genres</th>\n",
              "      <th>story</th>\n",
              "      <th>summary</th>\n",
              "      <th>tagline</th>\n",
              "      <th>actors</th>\n",
              "      <th>Unnamed: 19</th>\n",
              "      <th>Unnamed: 20</th>\n",
              "      <th>Unnamed: 21</th>\n",
              "      <th>Unnamed: 22</th>\n",
              "    </tr>\n",
              "  </thead>\n",
              "  <tbody>\n",
              "    <tr>\n",
              "      <th>4324</th>\n",
              "      <td>4325</td>\n",
              "      <td>Samadhi (1950 film)</td>\n",
              "      <td>165</td>\n",
              "      <td>Drama</td>\n",
              "      <td>The story is based on the true incident at INA...</td>\n",
              "      <td>The story is based on the true incident at INA...</td>\n",
              "      <td>NaN</td>\n",
              "      <td>Ashok Kumar|Nalini Jaywant|Kuldip Kaur|Shyam|M...</td>\n",
              "      <td>NaN</td>\n",
              "      <td>NaN</td>\n",
              "      <td>NaN</td>\n",
              "      <td>NaN</td>\n",
              "    </tr>\n",
              "    <tr>\n",
              "      <th>4325</th>\n",
              "      <td>4326</td>\n",
              "      <td>Sangram (1950 film)</td>\n",
              "      <td>139</td>\n",
              "      <td>Drama</td>\n",
              "      <td>After the death of his wife  a policeman fails...</td>\n",
              "      <td>After the death of his wife  a policeman fails...</td>\n",
              "      <td>NaN</td>\n",
              "      <td>Ashok Kumar|Nalini Jaywant|Nawab|Sajjan|Tiwari...</td>\n",
              "      <td>NaN</td>\n",
              "      <td>NaN</td>\n",
              "      <td>NaN</td>\n",
              "      <td>NaN</td>\n",
              "    </tr>\n",
              "    <tr>\n",
              "      <th>4326</th>\n",
              "      <td>4327</td>\n",
              "      <td>Sargam (1950 film)</td>\n",
              "      <td>135</td>\n",
              "      <td>Drama|Family</td>\n",
              "      <td>NaN</td>\n",
              "      <td>Add a Plot »</td>\n",
              "      <td>NaN</td>\n",
              "      <td>Raj Kapoor|Rehana|Om Prakash|David Abraham|Rad...</td>\n",
              "      <td>NaN</td>\n",
              "      <td>NaN</td>\n",
              "      <td>NaN</td>\n",
              "      <td>NaN</td>\n",
              "    </tr>\n",
              "    <tr>\n",
              "      <th>4327</th>\n",
              "      <td>4328</td>\n",
              "      <td>Sheesh Mahal (1950 film)</td>\n",
              "      <td>144</td>\n",
              "      <td>Drama</td>\n",
              "      <td>Thakur Jaspal Singh lives in the prestigious a...</td>\n",
              "      <td>Thakur Jaspal Singh lives in the prestigious a...</td>\n",
              "      <td>NaN</td>\n",
              "      <td>Sohrab Modi|Naseem Banu|Pushpa Hans|Nigar Sult...</td>\n",
              "      <td>NaN</td>\n",
              "      <td>NaN</td>\n",
              "      <td>NaN</td>\n",
              "      <td>NaN</td>\n",
              "    </tr>\n",
              "    <tr>\n",
              "      <th>4328</th>\n",
              "      <td>4329</td>\n",
              "      <td>Meena Bazaar (film)</td>\n",
              "      <td>\\N</td>\n",
              "      <td>Drama</td>\n",
              "      <td>NaN</td>\n",
              "      <td>Add a Plot »</td>\n",
              "      <td>NaN</td>\n",
              "      <td>NaN</td>\n",
              "      <td>NaN</td>\n",
              "      <td>NaN</td>\n",
              "      <td>NaN</td>\n",
              "      <td>NaN</td>\n",
              "    </tr>\n",
              "  </tbody>\n",
              "</table>\n",
              "</div>\n",
              "      <button class=\"colab-df-convert\" onclick=\"convertToInteractive('df-cc5ec4f8-fb39-420f-9ef9-5a923c952599')\"\n",
              "              title=\"Convert this dataframe to an interactive table.\"\n",
              "              style=\"display:none;\">\n",
              "        \n",
              "  <svg xmlns=\"http://www.w3.org/2000/svg\" height=\"24px\"viewBox=\"0 0 24 24\"\n",
              "       width=\"24px\">\n",
              "    <path d=\"M0 0h24v24H0V0z\" fill=\"none\"/>\n",
              "    <path d=\"M18.56 5.44l.94 2.06.94-2.06 2.06-.94-2.06-.94-.94-2.06-.94 2.06-2.06.94zm-11 1L8.5 8.5l.94-2.06 2.06-.94-2.06-.94L8.5 2.5l-.94 2.06-2.06.94zm10 10l.94 2.06.94-2.06 2.06-.94-2.06-.94-.94-2.06-.94 2.06-2.06.94z\"/><path d=\"M17.41 7.96l-1.37-1.37c-.4-.4-.92-.59-1.43-.59-.52 0-1.04.2-1.43.59L10.3 9.45l-7.72 7.72c-.78.78-.78 2.05 0 2.83L4 21.41c.39.39.9.59 1.41.59.51 0 1.02-.2 1.41-.59l7.78-7.78 2.81-2.81c.8-.78.8-2.07 0-2.86zM5.41 20L4 18.59l7.72-7.72 1.47 1.35L5.41 20z\"/>\n",
              "  </svg>\n",
              "      </button>\n",
              "      \n",
              "  <style>\n",
              "    .colab-df-container {\n",
              "      display:flex;\n",
              "      flex-wrap:wrap;\n",
              "      gap: 12px;\n",
              "    }\n",
              "\n",
              "    .colab-df-convert {\n",
              "      background-color: #E8F0FE;\n",
              "      border: none;\n",
              "      border-radius: 50%;\n",
              "      cursor: pointer;\n",
              "      display: none;\n",
              "      fill: #1967D2;\n",
              "      height: 32px;\n",
              "      padding: 0 0 0 0;\n",
              "      width: 32px;\n",
              "    }\n",
              "\n",
              "    .colab-df-convert:hover {\n",
              "      background-color: #E2EBFA;\n",
              "      box-shadow: 0px 1px 2px rgba(60, 64, 67, 0.3), 0px 1px 3px 1px rgba(60, 64, 67, 0.15);\n",
              "      fill: #174EA6;\n",
              "    }\n",
              "\n",
              "    [theme=dark] .colab-df-convert {\n",
              "      background-color: #3B4455;\n",
              "      fill: #D2E3FC;\n",
              "    }\n",
              "\n",
              "    [theme=dark] .colab-df-convert:hover {\n",
              "      background-color: #434B5C;\n",
              "      box-shadow: 0px 1px 3px 1px rgba(0, 0, 0, 0.15);\n",
              "      filter: drop-shadow(0px 1px 2px rgba(0, 0, 0, 0.3));\n",
              "      fill: #FFFFFF;\n",
              "    }\n",
              "  </style>\n",
              "\n",
              "      <script>\n",
              "        const buttonEl =\n",
              "          document.querySelector('#df-cc5ec4f8-fb39-420f-9ef9-5a923c952599 button.colab-df-convert');\n",
              "        buttonEl.style.display =\n",
              "          google.colab.kernel.accessAllowed ? 'block' : 'none';\n",
              "\n",
              "        async function convertToInteractive(key) {\n",
              "          const element = document.querySelector('#df-cc5ec4f8-fb39-420f-9ef9-5a923c952599');\n",
              "          const dataTable =\n",
              "            await google.colab.kernel.invokeFunction('convertToInteractive',\n",
              "                                                     [key], {});\n",
              "          if (!dataTable) return;\n",
              "\n",
              "          const docLinkHtml = 'Like what you see? Visit the ' +\n",
              "            '<a target=\"_blank\" href=https://colab.research.google.com/notebooks/data_table.ipynb>data table notebook</a>'\n",
              "            + ' to learn more about interactive tables.';\n",
              "          element.innerHTML = '';\n",
              "          dataTable['output_type'] = 'display_data';\n",
              "          await google.colab.output.renderOutput(dataTable, element);\n",
              "          const docLink = document.createElement('div');\n",
              "          docLink.innerHTML = docLinkHtml;\n",
              "          element.appendChild(docLink);\n",
              "        }\n",
              "      </script>\n",
              "    </div>\n",
              "  </div>\n",
              "  "
            ]
          },
          "metadata": {},
          "execution_count": 321
        }
      ]
    },
    {
      "cell_type": "code",
      "source": [
        "# columns in dataset\n",
        "\n",
        "dataset.columns"
      ],
      "metadata": {
        "colab": {
          "base_uri": "https://localhost:8080/"
        },
        "id": "Vrd2I78X3ajU",
        "outputId": "0363a9c3-2e7d-4fb9-be74-f10d1298f2e1"
      },
      "execution_count": 322,
      "outputs": [
        {
          "output_type": "execute_result",
          "data": {
            "text/plain": [
              "Index(['index', 'title_x', 'runtime', 'genres', 'story', 'summary', 'tagline',\n",
              "       'actors', 'Unnamed: 19', 'Unnamed: 20', 'Unnamed: 21', 'Unnamed: 22'],\n",
              "      dtype='object')"
            ]
          },
          "metadata": {},
          "execution_count": 322
        }
      ]
    },
    {
      "cell_type": "code",
      "source": [
        "# shape of dataset frame\n",
        "\n",
        "dataset.shape"
      ],
      "metadata": {
        "colab": {
          "base_uri": "https://localhost:8080/"
        },
        "id": "zt7g-pN13ag-",
        "outputId": "8f7b2bf5-311f-493e-8508-1a0c94371730"
      },
      "execution_count": 323,
      "outputs": [
        {
          "output_type": "execute_result",
          "data": {
            "text/plain": [
              "(4329, 12)"
            ]
          },
          "metadata": {},
          "execution_count": 323
        }
      ]
    },
    {
      "cell_type": "code",
      "source": [
        "# information about dataset\n",
        "\n",
        "dataset.info()"
      ],
      "metadata": {
        "colab": {
          "base_uri": "https://localhost:8080/"
        },
        "id": "rgetpbb-3aeN",
        "outputId": "4779b068-d598-41d9-da21-6d0fb75a5243"
      },
      "execution_count": 324,
      "outputs": [
        {
          "output_type": "stream",
          "name": "stdout",
          "text": [
            "<class 'pandas.core.frame.DataFrame'>\n",
            "RangeIndex: 4329 entries, 0 to 4328\n",
            "Data columns (total 12 columns):\n",
            " #   Column       Non-Null Count  Dtype  \n",
            "---  ------       --------------  -----  \n",
            " 0   index        4329 non-null   int64  \n",
            " 1   title_x      4329 non-null   object \n",
            " 2   runtime      4329 non-null   object \n",
            " 3   genres       4329 non-null   object \n",
            " 4   story        4065 non-null   object \n",
            " 5   summary      4329 non-null   object \n",
            " 6   tagline      685 non-null    object \n",
            " 7   actors       4320 non-null   object \n",
            " 8   Unnamed: 19  0 non-null      float64\n",
            " 9   Unnamed: 20  0 non-null      float64\n",
            " 10  Unnamed: 21  0 non-null      float64\n",
            " 11  Unnamed: 22  1 non-null      object \n",
            "dtypes: float64(3), int64(1), object(8)\n",
            "memory usage: 406.0+ KB\n"
          ]
        }
      ]
    },
    {
      "cell_type": "code",
      "source": [
        "# checking for null values in dataset\n",
        "\n",
        "dataset.isnull().sum()"
      ],
      "metadata": {
        "colab": {
          "base_uri": "https://localhost:8080/"
        },
        "id": "pXQ17s833abq",
        "outputId": "0a5d2adb-caef-4fb9-a938-a6537bf06b11"
      },
      "execution_count": 325,
      "outputs": [
        {
          "output_type": "execute_result",
          "data": {
            "text/plain": [
              "index             0\n",
              "title_x           0\n",
              "runtime           0\n",
              "genres            0\n",
              "story           264\n",
              "summary           0\n",
              "tagline        3644\n",
              "actors            9\n",
              "Unnamed: 19    4329\n",
              "Unnamed: 20    4329\n",
              "Unnamed: 21    4329\n",
              "Unnamed: 22    4328\n",
              "dtype: int64"
            ]
          },
          "metadata": {},
          "execution_count": 325
        }
      ]
    },
    {
      "cell_type": "code",
      "source": [
        "# Total count of null values\n",
        "\n",
        "dataset.isnull().sum().sum()"
      ],
      "metadata": {
        "colab": {
          "base_uri": "https://localhost:8080/"
        },
        "id": "qc35vjwMBx1T",
        "outputId": "fcd8945c-6b81-45fe-9844-fdbc6b526fca"
      },
      "execution_count": 326,
      "outputs": [
        {
          "output_type": "execute_result",
          "data": {
            "text/plain": [
              "21232"
            ]
          },
          "metadata": {},
          "execution_count": 326
        }
      ]
    },
    {
      "cell_type": "code",
      "source": [
        "# shape of dataset now \n",
        "\n",
        "dataset.shape"
      ],
      "metadata": {
        "colab": {
          "base_uri": "https://localhost:8080/"
        },
        "id": "J9f7b_LnKFl1",
        "outputId": "ecb0c709-609d-4927-9585-63094bc93d73"
      },
      "execution_count": 328,
      "outputs": [
        {
          "output_type": "execute_result",
          "data": {
            "text/plain": [
              "(4329, 12)"
            ]
          },
          "metadata": {},
          "execution_count": 328
        }
      ]
    },
    {
      "cell_type": "code",
      "source": [
        "# changing the title of movies to lowercase \n",
        "\n",
        "dataset['title_x'] = dataset['title_x'].str.lower()\n",
        "print(dataset['title_x'].head())"
      ],
      "metadata": {
        "colab": {
          "base_uri": "https://localhost:8080/"
        },
        "id": "o11FsadrKKJE",
        "outputId": "8d805d1c-249d-4045-d4ed-136e31b8a159"
      },
      "execution_count": 329,
      "outputs": [
        {
          "output_type": "stream",
          "name": "stdout",
          "text": [
            "0                uri: the surgical strike\n",
            "1                           battalion 609\n",
            "2    the accidental prime minister (film)\n",
            "3                         why cheat india\n",
            "4                         evening shadows\n",
            "Name: title_x, dtype: object\n"
          ]
        }
      ]
    },
    {
      "cell_type": "code",
      "source": [
        "# changing the actors names to lowercase \n",
        "\n",
        "dataset['actors'] = dataset['actors'].str.lower()\n",
        "print(dataset['actors'].head())"
      ],
      "metadata": {
        "colab": {
          "base_uri": "https://localhost:8080/"
        },
        "id": "8eyfynyIaAoJ",
        "outputId": "7a46e12a-bf94-4718-d97c-919b57a76919"
      },
      "execution_count": 340,
      "outputs": [
        {
          "output_type": "stream",
          "name": "stdout",
          "text": [
            "0    vicky kaushal|paresh rawal|mohit raina|yami ga...\n",
            "1    vicky ahuja|shoaib ibrahim|shrikant kamat|elen...\n",
            "2    anupam kher|akshaye khanna|aahana kumra|atul s...\n",
            "3    emraan hashmi|shreya dhanwanthary|snighdadeep ...\n",
            "4    mona ambegaonkar|ananth narayan mahadevan|deva...\n",
            "Name: actors, dtype: object\n"
          ]
        }
      ]
    },
    {
      "cell_type": "code",
      "source": [
        "# changing the story to lowercase \n",
        "\n",
        "dataset['story'] = dataset['story'].str.lower()\n",
        "print(dataset['story'].head())"
      ],
      "metadata": {
        "colab": {
          "base_uri": "https://localhost:8080/"
        },
        "id": "KJZnMlccaN-v",
        "outputId": "441a0ee3-021f-493c-aa8d-4bd59865e5c3"
      },
      "execution_count": 342,
      "outputs": [
        {
          "output_type": "stream",
          "name": "stdout",
          "text": [
            "0    divided over five chapters  the film chronicle...\n",
            "1    the story revolves around a cricket match betw...\n",
            "2    based on the memoir by indian policy analyst s...\n",
            "3    the movie focuses on existing malpractices in ...\n",
            "4    while gay rights and marriage equality has bee...\n",
            "Name: story, dtype: object\n"
          ]
        }
      ]
    },
    {
      "cell_type": "code",
      "source": [
        "# changing the summary to lowercase \n",
        "\n",
        "dataset['summary'] = dataset['summary'].str.lower()\n",
        "print(dataset['summary'].head())"
      ],
      "metadata": {
        "colab": {
          "base_uri": "https://localhost:8080/"
        },
        "id": "HkW95uhNaTdP",
        "outputId": "ef6675ea-fba0-49c4-8b7a-cba0f2665557"
      },
      "execution_count": 343,
      "outputs": [
        {
          "output_type": "stream",
          "name": "stdout",
          "text": [
            "0    indian army special forces execute a covert op...\n",
            "1    the story of battalion 609 revolves around a c...\n",
            "2    explores manmohan singh's tenure as the prime ...\n",
            "3    the movie focuses on existing malpractices in ...\n",
            "4    under the 'evening shadows'  truth often plays...\n",
            "Name: summary, dtype: object\n"
          ]
        }
      ]
    },
    {
      "cell_type": "code",
      "source": [
        "dataset.head()"
      ],
      "metadata": {
        "colab": {
          "base_uri": "https://localhost:8080/",
          "height": 614
        },
        "id": "AdF6bR9XLQ_x",
        "outputId": "85010b78-d99a-44f8-fc71-961d59c31198"
      },
      "execution_count": 344,
      "outputs": [
        {
          "output_type": "execute_result",
          "data": {
            "text/plain": [
              "   index                               title_x runtime            genres  \\\n",
              "0      1              uri: the surgical strike     138  Action|Drama|War   \n",
              "1      2                         battalion 609     131               War   \n",
              "2      3  the accidental prime minister (film)     112   Biography|Drama   \n",
              "3      4                       why cheat india     121       Crime|Drama   \n",
              "4      5                       evening shadows     102             Drama   \n",
              "\n",
              "                                               story  \\\n",
              "0  divided over five chapters  the film chronicle...   \n",
              "1  the story revolves around a cricket match betw...   \n",
              "2  based on the memoir by indian policy analyst s...   \n",
              "3  the movie focuses on existing malpractices in ...   \n",
              "4  while gay rights and marriage equality has bee...   \n",
              "\n",
              "                                             summary tagline  \\\n",
              "0  indian army special forces execute a covert op...     NaN   \n",
              "1  the story of battalion 609 revolves around a c...     NaN   \n",
              "2  explores manmohan singh's tenure as the prime ...     NaN   \n",
              "3  the movie focuses on existing malpractices in ...     NaN   \n",
              "4  under the 'evening shadows'  truth often plays...     NaN   \n",
              "\n",
              "                                              actors  Unnamed: 19  \\\n",
              "0  vicky kaushal|paresh rawal|mohit raina|yami ga...          NaN   \n",
              "1  vicky ahuja|shoaib ibrahim|shrikant kamat|elen...          NaN   \n",
              "2  anupam kher|akshaye khanna|aahana kumra|atul s...          NaN   \n",
              "3  emraan hashmi|shreya dhanwanthary|snighdadeep ...          NaN   \n",
              "4  mona ambegaonkar|ananth narayan mahadevan|deva...          NaN   \n",
              "\n",
              "   Unnamed: 20  Unnamed: 21 Unnamed: 22  \n",
              "0          NaN          NaN         NaN  \n",
              "1          NaN          NaN         NaN  \n",
              "2          NaN          NaN     #VALUE!  \n",
              "3          NaN          NaN         NaN  \n",
              "4          NaN          NaN         NaN  "
            ],
            "text/html": [
              "\n",
              "  <div id=\"df-c4128271-da82-404a-b958-819798be2245\">\n",
              "    <div class=\"colab-df-container\">\n",
              "      <div>\n",
              "<style scoped>\n",
              "    .dataframe tbody tr th:only-of-type {\n",
              "        vertical-align: middle;\n",
              "    }\n",
              "\n",
              "    .dataframe tbody tr th {\n",
              "        vertical-align: top;\n",
              "    }\n",
              "\n",
              "    .dataframe thead th {\n",
              "        text-align: right;\n",
              "    }\n",
              "</style>\n",
              "<table border=\"1\" class=\"dataframe\">\n",
              "  <thead>\n",
              "    <tr style=\"text-align: right;\">\n",
              "      <th></th>\n",
              "      <th>index</th>\n",
              "      <th>title_x</th>\n",
              "      <th>runtime</th>\n",
              "      <th>genres</th>\n",
              "      <th>story</th>\n",
              "      <th>summary</th>\n",
              "      <th>tagline</th>\n",
              "      <th>actors</th>\n",
              "      <th>Unnamed: 19</th>\n",
              "      <th>Unnamed: 20</th>\n",
              "      <th>Unnamed: 21</th>\n",
              "      <th>Unnamed: 22</th>\n",
              "    </tr>\n",
              "  </thead>\n",
              "  <tbody>\n",
              "    <tr>\n",
              "      <th>0</th>\n",
              "      <td>1</td>\n",
              "      <td>uri: the surgical strike</td>\n",
              "      <td>138</td>\n",
              "      <td>Action|Drama|War</td>\n",
              "      <td>divided over five chapters  the film chronicle...</td>\n",
              "      <td>indian army special forces execute a covert op...</td>\n",
              "      <td>NaN</td>\n",
              "      <td>vicky kaushal|paresh rawal|mohit raina|yami ga...</td>\n",
              "      <td>NaN</td>\n",
              "      <td>NaN</td>\n",
              "      <td>NaN</td>\n",
              "      <td>NaN</td>\n",
              "    </tr>\n",
              "    <tr>\n",
              "      <th>1</th>\n",
              "      <td>2</td>\n",
              "      <td>battalion 609</td>\n",
              "      <td>131</td>\n",
              "      <td>War</td>\n",
              "      <td>the story revolves around a cricket match betw...</td>\n",
              "      <td>the story of battalion 609 revolves around a c...</td>\n",
              "      <td>NaN</td>\n",
              "      <td>vicky ahuja|shoaib ibrahim|shrikant kamat|elen...</td>\n",
              "      <td>NaN</td>\n",
              "      <td>NaN</td>\n",
              "      <td>NaN</td>\n",
              "      <td>NaN</td>\n",
              "    </tr>\n",
              "    <tr>\n",
              "      <th>2</th>\n",
              "      <td>3</td>\n",
              "      <td>the accidental prime minister (film)</td>\n",
              "      <td>112</td>\n",
              "      <td>Biography|Drama</td>\n",
              "      <td>based on the memoir by indian policy analyst s...</td>\n",
              "      <td>explores manmohan singh's tenure as the prime ...</td>\n",
              "      <td>NaN</td>\n",
              "      <td>anupam kher|akshaye khanna|aahana kumra|atul s...</td>\n",
              "      <td>NaN</td>\n",
              "      <td>NaN</td>\n",
              "      <td>NaN</td>\n",
              "      <td>#VALUE!</td>\n",
              "    </tr>\n",
              "    <tr>\n",
              "      <th>3</th>\n",
              "      <td>4</td>\n",
              "      <td>why cheat india</td>\n",
              "      <td>121</td>\n",
              "      <td>Crime|Drama</td>\n",
              "      <td>the movie focuses on existing malpractices in ...</td>\n",
              "      <td>the movie focuses on existing malpractices in ...</td>\n",
              "      <td>NaN</td>\n",
              "      <td>emraan hashmi|shreya dhanwanthary|snighdadeep ...</td>\n",
              "      <td>NaN</td>\n",
              "      <td>NaN</td>\n",
              "      <td>NaN</td>\n",
              "      <td>NaN</td>\n",
              "    </tr>\n",
              "    <tr>\n",
              "      <th>4</th>\n",
              "      <td>5</td>\n",
              "      <td>evening shadows</td>\n",
              "      <td>102</td>\n",
              "      <td>Drama</td>\n",
              "      <td>while gay rights and marriage equality has bee...</td>\n",
              "      <td>under the 'evening shadows'  truth often plays...</td>\n",
              "      <td>NaN</td>\n",
              "      <td>mona ambegaonkar|ananth narayan mahadevan|deva...</td>\n",
              "      <td>NaN</td>\n",
              "      <td>NaN</td>\n",
              "      <td>NaN</td>\n",
              "      <td>NaN</td>\n",
              "    </tr>\n",
              "  </tbody>\n",
              "</table>\n",
              "</div>\n",
              "      <button class=\"colab-df-convert\" onclick=\"convertToInteractive('df-c4128271-da82-404a-b958-819798be2245')\"\n",
              "              title=\"Convert this dataframe to an interactive table.\"\n",
              "              style=\"display:none;\">\n",
              "        \n",
              "  <svg xmlns=\"http://www.w3.org/2000/svg\" height=\"24px\"viewBox=\"0 0 24 24\"\n",
              "       width=\"24px\">\n",
              "    <path d=\"M0 0h24v24H0V0z\" fill=\"none\"/>\n",
              "    <path d=\"M18.56 5.44l.94 2.06.94-2.06 2.06-.94-2.06-.94-.94-2.06-.94 2.06-2.06.94zm-11 1L8.5 8.5l.94-2.06 2.06-.94-2.06-.94L8.5 2.5l-.94 2.06-2.06.94zm10 10l.94 2.06.94-2.06 2.06-.94-2.06-.94-.94-2.06-.94 2.06-2.06.94z\"/><path d=\"M17.41 7.96l-1.37-1.37c-.4-.4-.92-.59-1.43-.59-.52 0-1.04.2-1.43.59L10.3 9.45l-7.72 7.72c-.78.78-.78 2.05 0 2.83L4 21.41c.39.39.9.59 1.41.59.51 0 1.02-.2 1.41-.59l7.78-7.78 2.81-2.81c.8-.78.8-2.07 0-2.86zM5.41 20L4 18.59l7.72-7.72 1.47 1.35L5.41 20z\"/>\n",
              "  </svg>\n",
              "      </button>\n",
              "      \n",
              "  <style>\n",
              "    .colab-df-container {\n",
              "      display:flex;\n",
              "      flex-wrap:wrap;\n",
              "      gap: 12px;\n",
              "    }\n",
              "\n",
              "    .colab-df-convert {\n",
              "      background-color: #E8F0FE;\n",
              "      border: none;\n",
              "      border-radius: 50%;\n",
              "      cursor: pointer;\n",
              "      display: none;\n",
              "      fill: #1967D2;\n",
              "      height: 32px;\n",
              "      padding: 0 0 0 0;\n",
              "      width: 32px;\n",
              "    }\n",
              "\n",
              "    .colab-df-convert:hover {\n",
              "      background-color: #E2EBFA;\n",
              "      box-shadow: 0px 1px 2px rgba(60, 64, 67, 0.3), 0px 1px 3px 1px rgba(60, 64, 67, 0.15);\n",
              "      fill: #174EA6;\n",
              "    }\n",
              "\n",
              "    [theme=dark] .colab-df-convert {\n",
              "      background-color: #3B4455;\n",
              "      fill: #D2E3FC;\n",
              "    }\n",
              "\n",
              "    [theme=dark] .colab-df-convert:hover {\n",
              "      background-color: #434B5C;\n",
              "      box-shadow: 0px 1px 3px 1px rgba(0, 0, 0, 0.15);\n",
              "      filter: drop-shadow(0px 1px 2px rgba(0, 0, 0, 0.3));\n",
              "      fill: #FFFFFF;\n",
              "    }\n",
              "  </style>\n",
              "\n",
              "      <script>\n",
              "        const buttonEl =\n",
              "          document.querySelector('#df-c4128271-da82-404a-b958-819798be2245 button.colab-df-convert');\n",
              "        buttonEl.style.display =\n",
              "          google.colab.kernel.accessAllowed ? 'block' : 'none';\n",
              "\n",
              "        async function convertToInteractive(key) {\n",
              "          const element = document.querySelector('#df-c4128271-da82-404a-b958-819798be2245');\n",
              "          const dataTable =\n",
              "            await google.colab.kernel.invokeFunction('convertToInteractive',\n",
              "                                                     [key], {});\n",
              "          if (!dataTable) return;\n",
              "\n",
              "          const docLinkHtml = 'Like what you see? Visit the ' +\n",
              "            '<a target=\"_blank\" href=https://colab.research.google.com/notebooks/data_table.ipynb>data table notebook</a>'\n",
              "            + ' to learn more about interactive tables.';\n",
              "          element.innerHTML = '';\n",
              "          dataTable['output_type'] = 'display_data';\n",
              "          await google.colab.output.renderOutput(dataTable, element);\n",
              "          const docLink = document.createElement('div');\n",
              "          docLink.innerHTML = docLinkHtml;\n",
              "          element.appendChild(docLink);\n",
              "        }\n",
              "      </script>\n",
              "    </div>\n",
              "  </div>\n",
              "  "
            ]
          },
          "metadata": {},
          "execution_count": 344
        }
      ]
    },
    {
      "cell_type": "code",
      "source": [
        "selected_features = ['genres', 'story', 'actors','runtime', 'summary']\n",
        "print(selected_features)"
      ],
      "metadata": {
        "colab": {
          "base_uri": "https://localhost:8080/"
        },
        "id": "zafODR_7KpuF",
        "outputId": "c5850004-4326-47eb-abcd-c91da83888e1"
      },
      "execution_count": 345,
      "outputs": [
        {
          "output_type": "stream",
          "name": "stdout",
          "text": [
            "['genres', 'story', 'actors', 'runtime', 'summary']\n"
          ]
        }
      ]
    },
    {
      "cell_type": "code",
      "source": [
        "# replacing the null values with null string\n",
        "\n",
        "for features in selected_features :\n",
        "  dataset[features] = dataset[features].fillna('')"
      ],
      "metadata": {
        "id": "HlTm5MNbKprS"
      },
      "execution_count": 346,
      "outputs": []
    },
    {
      "cell_type": "code",
      "source": [
        "dataset[features].isnull().sum()"
      ],
      "metadata": {
        "colab": {
          "base_uri": "https://localhost:8080/"
        },
        "id": "Lc-ZJfYdKpoi",
        "outputId": "c48ad691-fb0e-4da2-eef0-5ff08d36d3cc"
      },
      "execution_count": 347,
      "outputs": [
        {
          "output_type": "execute_result",
          "data": {
            "text/plain": [
              "0"
            ]
          },
          "metadata": {},
          "execution_count": 347
        }
      ]
    },
    {
      "cell_type": "code",
      "source": [
        "dataset['runtime'] = dataset['runtime'].astype(str)"
      ],
      "metadata": {
        "id": "47aS1rZiKpl3"
      },
      "execution_count": 348,
      "outputs": []
    },
    {
      "cell_type": "code",
      "source": [
        "combined_features = dataset['genres']+''+dataset['story']+''+dataset['actors']+''+dataset['runtime']+''+dataset['summary']"
      ],
      "metadata": {
        "id": "qMSO7WzcKpgg"
      },
      "execution_count": 349,
      "outputs": []
    },
    {
      "cell_type": "code",
      "source": [
        "# first 5 values of dataset\n",
        "\n",
        "combined_features.head()"
      ],
      "metadata": {
        "colab": {
          "base_uri": "https://localhost:8080/"
        },
        "id": "EMIqozUkKpd5",
        "outputId": "86c39e00-aa14-45d0-adde-6d5662366595"
      },
      "execution_count": 350,
      "outputs": [
        {
          "output_type": "execute_result",
          "data": {
            "text/plain": [
              "0    Action|Drama|Wardivided over five chapters  th...\n",
              "1    Warthe story revolves around a cricket match b...\n",
              "2    Biography|Dramabased on the memoir by indian p...\n",
              "3    Crime|Dramathe movie focuses on existing malpr...\n",
              "4    Dramawhile gay rights and marriage equality ha...\n",
              "dtype: object"
            ]
          },
          "metadata": {},
          "execution_count": 350
        }
      ]
    },
    {
      "cell_type": "code",
      "source": [
        "# first row of dataset\n",
        "\n",
        "combined_features[0]"
      ],
      "metadata": {
        "colab": {
          "base_uri": "https://localhost:8080/",
          "height": 122
        },
        "id": "3L2B3Ry7KpaA",
        "outputId": "2d347ce8-7363-47f9-9d81-e5b5ab1ad833"
      },
      "execution_count": 351,
      "outputs": [
        {
          "output_type": "execute_result",
          "data": {
            "text/plain": [
              "'Action|Drama|Wardivided over five chapters  the film chronicles the events of the surgical strike conducted by the indian military against suspected militants in pakistan occupied kashmir. it tells the story of the 11 tumultuous events over which the operation was carried out. indian army special forces carry out a covert operation to avenge the killing of fellow army men at their base by a terrorist group.vicky kaushal|paresh rawal|mohit raina|yami gautam|kirti kulhari|rajit kapoor|ivan rodrigues|manasi parekh|swaroop sampat|riva arora|yogesh soman|fareed ahmed|akashdeep arora|kallol banerjee|138indian army special forces execute a covert operation  avenging the killing of fellow army men at their base by a terrorist group.'"
            ],
            "application/vnd.google.colaboratory.intrinsic+json": {
              "type": "string"
            }
          },
          "metadata": {},
          "execution_count": 351
        }
      ]
    },
    {
      "cell_type": "code",
      "source": [
        "print(combined_features)"
      ],
      "metadata": {
        "colab": {
          "base_uri": "https://localhost:8080/"
        },
        "id": "OimYmAZEOzcD",
        "outputId": "b5add7ff-d3b3-48c4-f09f-925665f057b6"
      },
      "execution_count": 352,
      "outputs": [
        {
          "output_type": "stream",
          "name": "stdout",
          "text": [
            "0       Action|Drama|Wardivided over five chapters  th...\n",
            "1       Warthe story revolves around a cricket match b...\n",
            "2       Biography|Dramabased on the memoir by indian p...\n",
            "3       Crime|Dramathe movie focuses on existing malpr...\n",
            "4       Dramawhile gay rights and marriage equality ha...\n",
            "                              ...                        \n",
            "4324    Dramathe story is based on the true incident a...\n",
            "4325    Dramaafter the death of his wife  a policeman ...\n",
            "4326    Drama|Familyraj kapoor|rehana|om prakash|david...\n",
            "4327    Dramathakur jaspal singh lives in the prestigi...\n",
            "4328                                  Drama\\Nadd a plot »\n",
            "Length: 4329, dtype: object\n"
          ]
        }
      ]
    },
    {
      "cell_type": "markdown",
      "source": [
        "## Converting the text data into features vector using TfidfVectorizer"
      ],
      "metadata": {
        "id": "N_6i-XDNPCOX"
      }
    },
    {
      "cell_type": "code",
      "source": [
        "# Transforms text to feature vectors that can be used as input to estimator.\n",
        "\n",
        "vectorizer = TfidfVectorizer()\n",
        "feature_vector = vectorizer.fit_transform(combined_features )"
      ],
      "metadata": {
        "id": "a2YnmW2lO-3K"
      },
      "execution_count": 353,
      "outputs": []
    },
    {
      "cell_type": "code",
      "source": [
        "print(feature_vector)"
      ],
      "metadata": {
        "colab": {
          "base_uri": "https://localhost:8080/"
        },
        "id": "yYRQYQ4jPgCq",
        "outputId": "42f71533-bea9-4eed-94f7-cd5369942fd0"
      },
      "execution_count": 354,
      "outputs": [
        {
          "output_type": "stream",
          "name": "stdout",
          "text": [
            "  (0, 4628)\t0.11056112975602572\n",
            "  (0, 11540)\t0.11258520734395237\n",
            "  (0, 970)\t0.13157467040336976\n",
            "  (0, 5016)\t0.06653960541939301\n",
            "  (0, 16332)\t0.13157467040336976\n",
            "  (0, 3463)\t0.11258520734395237\n",
            "  (0, 3382)\t0.08542560005357036\n",
            "  (0, 12092)\t0.12106790007969773\n",
            "  (0, 27619)\t0.10103263855926892\n",
            "  (0, 31988)\t0.10877576679362172\n",
            "  (0, 4235)\t0.1339213797401411\n",
            "  (0, 24696)\t0.12106790007969773\n",
            "  (0, 25838)\t0.10005435943235372\n",
            "  (0, 28760)\t0.09744944199168287\n",
            "  (0, 21712)\t0.07725545582260569\n",
            "  (0, 18301)\t0.10320177051193972\n",
            "  (0, 24759)\t0.11258520734395237\n",
            "  (0, 15535)\t0.11492183343665972\n",
            "  (0, 16461)\t0.0318775622180689\n",
            "  (0, 23539)\t0.08954758910868171\n",
            "  (0, 17117)\t0.10877576679362172\n",
            "  (0, 16907)\t0.0921229298269117\n",
            "  (0, 12995)\t0.07904081878500971\n",
            "  (0, 31934)\t0.1044150631129877\n",
            "  (0, 23473)\t0.09002883795542357\n",
            "  :\t:\n",
            "  (4327, 27642)\t0.08286550576862918\n",
            "  (4327, 14035)\t0.04811204249053485\n",
            "  (4327, 14304)\t0.12963536666550554\n",
            "  (4327, 27290)\t0.07463532174402272\n",
            "  (4327, 31707)\t0.024504796231823583\n",
            "  (4327, 30274)\t0.05889097552996517\n",
            "  (4327, 29322)\t0.027396627400652192\n",
            "  (4327, 21345)\t0.02841724493733007\n",
            "  (4327, 5233)\t0.024091904404245922\n",
            "  (4327, 15468)\t0.026657278710185767\n",
            "  (4327, 3786)\t0.020329467152831647\n",
            "  (4327, 31756)\t0.044635736975341116\n",
            "  (4327, 3829)\t0.14564865379736464\n",
            "  (4327, 29319)\t0.022028684185561795\n",
            "  (4327, 29825)\t0.0984662751574647\n",
            "  (4327, 31638)\t0.028391474047541568\n",
            "  (4327, 15524)\t0.02668202855802153\n",
            "  (4327, 14901)\t0.10562452965202239\n",
            "  (4327, 6479)\t0.01863275350523875\n",
            "  (4327, 21151)\t0.02581511838976778\n",
            "  (4327, 29309)\t0.09739347938531097\n",
            "  (4327, 21393)\t0.10337615936622663\n",
            "  (4328, 19955)\t0.7258825988150398\n",
            "  (4328, 22376)\t0.5978326858512363\n",
            "  (4328, 10059)\t0.3401331099223082\n"
          ]
        }
      ]
    },
    {
      "cell_type": "markdown",
      "source": [
        "## Cosine Similarity"
      ],
      "metadata": {
        "id": "rL2zutvcPtFM"
      }
    },
    {
      "cell_type": "code",
      "source": [
        "# similarity confidence value using cosine similiarity\n",
        "\n",
        "similarity = cosine_similarity(feature_vector)"
      ],
      "metadata": {
        "id": "CEpn2rikPhuJ"
      },
      "execution_count": 355,
      "outputs": []
    },
    {
      "cell_type": "code",
      "source": [
        "print(similarity)"
      ],
      "metadata": {
        "colab": {
          "base_uri": "https://localhost:8080/"
        },
        "id": "cMj9CesGP1Ac",
        "outputId": "ea52cd4d-e9f0-4054-a679-de23ed294380"
      },
      "execution_count": 356,
      "outputs": [
        {
          "output_type": "stream",
          "name": "stdout",
          "text": [
            "[[1.         0.17219709 0.04617793 ... 0.00685765 0.03572243 0.01023735]\n",
            " [0.17219709 1.         0.05877757 ... 0.         0.04842137 0.        ]\n",
            " [0.04617793 0.05877757 1.         ... 0.         0.05624512 0.        ]\n",
            " ...\n",
            " [0.00685765 0.         0.         ... 1.         0.         0.14936306]\n",
            " [0.03572243 0.04842137 0.05624512 ... 0.         1.         0.        ]\n",
            " [0.01023735 0.         0.         ... 0.14936306 0.         1.        ]]\n"
          ]
        }
      ]
    },
    {
      "cell_type": "code",
      "source": [
        "print(similarity.shape)\n",
        "# compare with all the other movies present there"
      ],
      "metadata": {
        "colab": {
          "base_uri": "https://localhost:8080/"
        },
        "id": "ddpibQ2jP2he",
        "outputId": "d9b4e94c-7e85-42b7-aa76-873df2e09f41"
      },
      "execution_count": 357,
      "outputs": [
        {
          "output_type": "stream",
          "name": "stdout",
          "text": [
            "(4329, 4329)\n"
          ]
        }
      ]
    },
    {
      "cell_type": "code",
      "source": [
        "# creating a list with all the moviee names in dataset\n",
        "\n",
        "list_of_titles = dataset['title_x'].tolist()\n",
        "print(list_of_titles)"
      ],
      "metadata": {
        "colab": {
          "base_uri": "https://localhost:8080/"
        },
        "id": "KICoVzxTP5Nn",
        "outputId": "c1995346-4048-46a5-e281-96d2463fabde"
      },
      "execution_count": 358,
      "outputs": [
        {
          "output_type": "stream",
          "name": "stdout",
          "text": [
            "['uri: the surgical strike', 'battalion 609', 'the accidental prime minister (film)', 'why cheat india', 'evening shadows', 'soni (film)', 'fraud saiyaan', 'bombairiya', 'manikarnika: the queen of jhansi', 'thackeray (film)', 'amavas', 'gully boy', 'hum chaar', 'total dhamaal', 'sonchiriya', 'badla (2019 film)', 'mard ko dard nahi hota', 'hamid (film)', 'photograph (film)', 'risknamaa', 'mere pyare prime minister', '22 yards', 'kesari (film)', 'notebook (2019 film)', 'junglee (2019 film)', 'gone kesh', 'albert pinto ko gussa kyun aata hai?', 'the tashkent files', 'kalank', 'setters (film)', 'student of the year 2', 'pm narendra modi', 'de de pyaar de', \"india's most wanted (film)\", 'yeh hai india', 'khamoshi (2019 film)', 'kabir singh', 'article 15 (film)', 'one day: justice delivered', 'hume tumse pyaar kitna', 'super 30 (film)', 'family of thakurganj', 'batla house', 'jhootha kahin ka', 'judgementall hai kya', 'chicken curry law', 'arjun patiala', 'jabariya jodi', 'pranaam', 'the sky is pink', 'mission mangal', 'saaho', 'dream girl (2019 film)', 'section 375', 'the zoya factor (film)', 'pal pal dil ke paas', 'prassthanam', 'p se pyaar f se faraar', 'ghost (2019 film)', 'bala (2019 film)', 'yaaram (2019 film)', 'housefull 4', 'saand ki aankh', 'made in china (2019 film)', 'ujda chaman', 'bypass road (film)', 'satellite shankar', 'jhalki', 'marjaavaan', 'motichoor chaknachoor', 'keep safe distance (film)', 'pagalpanti (2019 film)', 'ramprasad ki tehrvi', 'yeh saali aashiqui', 'dil bechara', 'pati patni aur woh (2019 film)', 'commando 3 (film)', 'mardaani 2', 'dabangg 3', 'good newwz', 'kaalakaandi', 'vodka diaries', 'my birthday song', 'nirdosh', 'mukkabaaz', 'union leader (film)', 'love per square foot', 'aiyaary', 'padmaavat', 'kuchh bheege alfaaz', 'jaane kyun de yaaron', 'veerey ki wedding', 'sonu ke titu ki sweety', 'hate story 4', 'dil juunglee', '3 storeys', 'raid (2018 film)', 'hichki', 'missing (2018 film)', 'baaghi 2', 'october (2018 film)', 'mercury (film)', 'beyond the clouds (2017 film)', 'nanu ki jaanu', 'daas dev', 'omerta (film)', 'raazi', 'hope aur hum', 'high jack (film)', 'khajoor pe atke', 'parmanu: the story of pokhran', 'bioscopewala', 'bhavesh joshi superhero', 'phamous', 'race 3', 'dhadak', 'sanju', 'saheb biwi aur gangster 3', 'nawabzaade', 'mulk (film)', 'brij mohan amar rahe', 'karwaan', 'gold (2018 film)', 'satyameva jayate (2018 film)', 'happy phirr bhag jayegi', 'genius (2018 hindi film)', 'yamla pagla deewana: phir se', 'stree (2018 film)', 'paltan (film)', 'laila majnu (2018 film)', 'gali guleiyan', 'halkaa', 'pataakha', 'batti gul meter chalu', 'love sonia', 'manto (2018 film)', 'ishqeria', 'manmarziyaan', 'mitron', 'sui dhaaga', 'baazaar', 'jalebi (film)', 'fryday', 'tumbbad', 'helicopter eela', 'namaste england', 'andhadhun', 'badhaai ho', '5 weddings', 'kaashi in search of ganga', 'dassehra', 'the journey of karma', 'jack and dil', 'mohalla assi', 'pihu', 'bhaiaji superhit', 'rajma chawal', 'zero (2018 film)', 'simmba', 'tiger zinda hai', 'golmaal again', 'judwaa 2', 'ok jaanu', 'coffee with d', 'kaabil', 'raees (film)', 'thugs of hindostan', 'hind ka napak ko jawab: msg lion heart 2', 'running shaadi', 'the ghazi attack', 'irada (2017 film)', 'rangoon (2017 hindi film)', 'wedding anniversary', 'jeena isi ka naam hai (film)', 'badrinath ki dulhania', 'trapped (2016 hindi film)', 'aa gaya hero', 'mantra (2016 film)', 'phillauri (film)', 'machine (2017 film)', 'bhanwarey', 'anaarkali of aarah', 'naam shabana', 'hotel salvation', 'begum jaan', 'noor (film)', 'ek thi rani aisi bhi', 'maatr', 'sarkar 3', 'jattu engineer', 'half girlfriend (film)', 'meri pyaari bindu', 'sachin: a billion dreams', 'hindi medium', 'sweetiee weds nri', 'dobaara: see your evil', 'flat 211', 'dear maya', 'raabta (film)', 'behen hogi teri', 'tubelight (2017 hindi film)', 'bank chor', 'ek haseena thi ek deewana tha', 'jagga jasoos', 'shab (film)', 'lipstick under my burkha', 'bachche kachche sachche', 'g kutta se', 'indu sarkar', 'jab harry met sejal', 'munna michael', 'toilet: ek prem katha', 'mubarakan', 'guest iin london', 'bareilly ki barfi', 'babumoshai bandookbaaz', 'yadvi – the dignified princess', 'qaidi band', 'shubh mangal saavdhan', 'raag desh (film)', 'daddy (2017 film)', 'simran (film)', 'lucknow central', 'a gentleman', \"viceroy's house (film)\", 'patel ki punjabi shaadi', 'newton (film)', 'the final exit', 'bhoomi (film)', 'haseena parkar', 'jd (film)', 'haraamkhor', 'poster boys', 'mom (film)', 'chef (2017 film)', 'ranchi diaries', 'babuji ek ticket bambai', 'rukh (film)', 'secret superstar', 'aval (2017 film)', 'ribbon (film)', 'shaadi mein zaroor aana', 'jia aur jia', 'qarib qarib singlle', 'aksar 2', 'panchlait', 'tumhari sulu', 'julie 2', 'kadvi hawa', 'firangi', 'fukrey returns', 'monsoon shootout', 'ajji', 'chalk n duster', 'rebellious flower', 'saankal', 'airlift (film)', 'sallu ki shaadi', 'irudhi suttru', 'kyaa kool hain hum 3', 'mastizaade', 'dil jo na keh saka', 'jugni (2016 film)', 'ghayal: once again', 'fitoor', 'sanam re', 'direct ishq', 'ishq forever', 'loveshhuda', 'neerja', 'aligarh (film)', 'bollywood diaries', 'love shagun', 'tere bin laden: dead or alive', 'jai gangaajal', 'kapoor & sons', 'rocky handsome', 'love games (film)', 'fan (film)', 'nil battey sannata', 'laal rang', 'baaghi (2016 film)', 'global baba', 'shortcut safari', 'the blueberry hunt', 'santa banta pvt ltd', 'traffic (2016 film)', '1920: london', 'azhar (film)', 'buddha in a traffic jam', 'murari the mad gentleman', 'dear dad (film)', 'phobia (2016 film)', 'sarbjit (film)', 'veerappan (2016 film)', 'do lafzon ki kahani (film)', 'te3n', 'udta punjab', 'khel toh ab shuru hoga', 'luv u alia', '7 hours to go', 'raman raghav 2.0', 'junooniyat', 'rough book', 'dhanak', 'fredrick (film)', 'dil toh deewana hai', 'sultan (2016 film)', 'brahman naman', 'great grand masti', 'waiting (2015 film)', 'ishq click', 'm cream', 'madaari', 'dishoom', 'fever (2016 film)', 'rustom (film)', 'hai apna dil toh awara', 'mohenjo daro (film)', 'happy bhag jayegi', 'waarrior savitri', 'a flying jatt', 'baar baar dekho', 'freaky ali', 'raaz: reboot', 'pink (2016 film)', 'parched', 'banjo (2016 film)', 'days of tafree', 'wah taj', 'island city (2015 film)', 'ek kahani julie ki', 'm.s. dhoni: the untold story', 'msg: the warrior lion heart', 'devi (2016 film)', 'motu patlu: king of kings', 'anna (2016 film)', 'fuddu', 'saat uchakkey', 'beiimaan love', 'umrika', 'shivaay', 'dongari ka raja', 'ae dil hai mushkil', 'tum bin ii', 'rock on 2', 'force 2', 'dear zindagi', 'befikre', 'moh maya money', 'shorgul', 'saansein', 'ki & ka', 'wajah tum ho', 'dangal (film)', 'mirzya (film)', 'prem ratan dhan payo', 'tanu weds manu: returns', 'tanu weds manu: returns', '31st october (film)', 'abcd 2', 'dilwale (2015 film)', 'bajrangi bhaijaan', 'bajirao mastani', 'welcome back (film)', 'baby (2015 hindi film)', 'singh is bliing', 'gabbar is back', 'gabbar is back', 'mumbai can dance saala', 'alone (2015 hindi film)', 'tevar', 'sharafat gayi tel lene', 'dolly ki doli', 'hawaizaada', 'khamoshiyan', 'rahasya', 'jai jawaan jai kisaan (film)', 'shamitabh', 'roy (film)', 'badlapur (film)', 'crazy cukkad family', 'take it easy (2015 film)', 'qissa (film)', 'ab tak chhappan 2', 'dum laga ke haisha', 'dirty politics (film)', 'msg: the messenger', 'badmashiyaan', 'coffee bloom', 'hey bro', 'nh10 (film)', 'hunterrr', 'detective byomkesh bakshy!', 'luckhnowi ishq', 'court (film)', 'margarita with a straw', 'ek paheli leela', 'barkhaa', 'mr. x (2015 film)', 'nh-8 road to nidhivan', 'dilliwali zaalim girlfriend', 'dharam sankat mein', 'kaagaz ke fools', 'kuch kuch locha hai', 'piku', 'bombay velvet', 'i love desi', 'dil dhadakne do', 'welcome 2 karachi', 'p se pm tak', 'mere genie uncle', 'hamari adhuri kahani', 'miss tanakpur haazir ho', 'uvaa', 'ishq ke parindey', 'ishqedarriyaan', 'sabki bajegi band', 'masaan', 'guddu rangeela', 'bezubaan ishq', 'aisa yeh jahaan', 'second hand husband', 'i love ny (2015 film)', 'main hoon part-time killer', 'kaun kitne paani mein', 'drishyam (2015 film)', 'bangistan', 'all is well (2015 film)', 'brothers (2015 film)', 'gour hari dastaan', 'manjhi – the mountain man', 'thoda lutf thoda ishq', 'phantom (2015 film)', 'hero (2015 hindi film)', 'sorry daddy', 'talvar (film)', 'katti batti', 'meeruthiya gangsters', 'msg-2 the messenger', 'calendar girls (2015 film)', 'bhaag johnny', 'jazbaa', 'bumper draw', 'chinar daastaan-e-ishq', 'kis kisko pyaar karoon', 'pyaar ka punchnama 2', 'wedding pullav', 'shaandaar', 'titli (2014 film)', 'guddu ki gun', 'the silent heroes', 'ranbanka', 'sholay', 'dedh ishqiya', 'karle pyaar karle', 'om-dar-b-dar', 'paranthe wali gali', 'strings of passion', 'gunday', 'jai ho (film)', 'hasee toh phasee', 'heartless (2014 film)', 'ya rab', 'darr @ the mall', 'one by two (2014 film)', 'babloo happy hai', 'highway (2014 hindi film)', 'gulabi gang (film)', 'shaadi ke side effects', 'gulaab gang', 'queen (2014 film)', 'bewakoofiyaan', 'total siyapaa', 'dee saturday night', 'karar: the deal', 'lakshmi (2014 film)', 'ragini mms 2', 'dishkiyaoon', 'ankhon dekhi', 'gang of ghosts', 'anuradha (2014 film)', 'w (2014 film)', 'o teri', 'honour killing (film)', '2 states (2014 film)', 'jal (film)', 'bhoothnath returns', 'main tera hero', 'lucky kabootar', 'station (2014 film)', 'youngistaan', 'samrat & co.', 'purani jeans', 'kya dilli kya lahore', 'koyelaanchal', 'manjunath (film)', 'dekh tamasha dekh', 'mastram', 'the xposé', 'children of war (2014 film)', 'hawaa hawaai', 'kahin hai mera pyar', 'kuku mathur ki jhand ho gayi', 'heropanti', 'citylights (2014 film)', 'filmistaan', 'revolver rani', 'kaanchi: the unbreakable', 'machhli jal ki rani hai', 'khwaabb', 'yeh hai bakrapur', 'ek villain', 'bobby jasoos', 'humshakals', 'humpty sharma ki dulhania', 'hate story 2', 'lekar hum deewana dil', 'riyasat (film)', 'amit sahni ki list', 'holiday: a soldier is never off duty', 'fugly (film)', 'bazaar e husn', 'pizza (2014 film)', 'entertainment (2014 film)', 'singham returns', 'mardaani', 'raja natwarlal', 'mary kom (film)', 'creature 3d', 'finding fanny', 'khoobsurat (2014 film)', '3 a.m. (2014 film)', 'kick (2014 film)', 'mad about dance', 'mumbhai connection', 'life is beautiful (2014 film)', 'desi kattey', 'haider (film)', 'bang bang!', 'spark (2014 film)', 'daawat-e-ishq', 'balwinder singh famous ho gaya', 'jigariyaa', 'tamanchey', 'mumbai 125 km', 'meinu ek ladki chaahiye', 'chaarfutiya chhokare', 'sonali cable', 'happy new year (2014 film)', 'super nani', 'ekkees toppon ki salaami', 'rang rasiya', 'the shaukeens', 'roar: tigers of the sundarbans', 'a decent arrangement', 'gollu aur pappu', 'titoo mba', 'kill dil', 'ungli', 'happy ending (film)', 'zed plus', 'zid (2014 film)', 'action jackson (2014 film)', 'bhopal: a prayer for rain', 'mumbai delhi mumbai', 'badlapur boys', 'main aur mr. riight', 'ugly (film)', 'pk (film)', 'dehraadun diary', 'matru ki bijlee ka mandola', 'sulemani keeda', 'inkaar (2013 film)', 'gangoobai', 'akaash vani', 'main krishna hoon', 'race 2', 'bandook', 'listen... amaya', 'special 26', 'murder 3', 'zila ghaziabad', 'kai po che!', 'bloody isshq', 'saare jahaan se mehnga', '3g (film)', 'mere dad ki maruti', 'jolly llb', 'saheb biwi aur gangster returns', 'mai (2013 film)', 'vishwaroopam', 'rangrezz', 'aashiqui 2', 'ek thi daayan', 'himmatwala (2013 film)', 'nautanki saala!', 'jayantabhai ki luv story', 'commando: a one man army', 'bombay talkies (film)', 'go goa gone', 'gippi', 'aurangzeb (film)', 'ishkq in paris', 'zindagi 50-50', 'yeh jawaani hai deewani', 'fukrey', 'chhota bheem and the throne of bali', 'raanjhanaa', 'ankur arora murder case', 'shortcut romeo', 'ghanchakkar (film)', 'hum hai raahi car ke', 'policegiri', 'bhaag milkha bhaag', 'sixteen (2013 indian film)', 'b.a. pass', 'enemmy', 'issaq', 'bajatey raho', 'luv u soniyo', 'nasha (film)', 'chor chor super chor', 'calapor (film)', 'love in bombay', 'd-day (2013 film)', 'siddharth (2013 film)', 'once upon ay time in mumbai dobaara!', 'madras cafe', 'satyagraha (film)', 'shuddh desi romance', 'ramaiya vastavaiya', 'chennai express', 'grand masti', 'john day (film)', 'horror story (film)', 'phata poster nikhla hero', 'ship of theseus (film)', 'the lunchbox', 'baat bann gayi', 'boss (2013 hindi film)', 'shahid (film)', 'mickey virus', 'satya 2', 'rajjo', 'maazii', 'sooper se ooper', 'prague (2013 film)', 'wake up india', 'super model (film)', 'gori tere pyaar mein', 'what the fish', 'jackpot (2013 film)', 'table no. 21', 'bullett raja', 'dhoom 3', 'chashme baddoor (2013 film)', 'lootera', 'war chhod na yaar', 'chaalis chauraasi', 'ghost (2012 film)', 'sadda adda', 'singh saab the great', 'goliyon ki raasleela ram-leela', 'agneepath (2012 film)', 'ek main aur ekk tu', 'ekk deewana tha', '?: a question mark', 'jodi breakers', 'tere naal love ho gaya', 'staying alive (2012 film)', 'paan singh tomar (film)', 'kahaani', 'zindagi tere naam', 'agent vinod (2012 film)', 'blood money (2012 film)', 'bumboo', \"valentine's night\", 'married 2 america', 'chaar din ki chandni', 'bittoo boss', 'vicky donor', 'hate story', 'tezz', 'dangerous ishhq', 'ishaqzaade', 'department (film)', 'fatso!', 'arjun: the warrior prince', 'life ki toh lag gayi', 'shanghai (2012 film)', 'ferrari ki sawaari', 'teri meri kahaani (film)', 'mr. bhatti on chutti', 'yeh khula aasmaan', 'rakhtbeej', 'gangs of wasseypur', 'gangs of wasseypur – part 2', 'cocktail (2012 film)', 'gattu', 'kyaa super kool hain hum', 'maximum (film)', 'paanch ghantey mien paanch crore', 'ek tha tiger', 'challo driver', 'shirin farhad ki toh nikal padi', 'joker (2012 film)', 'aalaap (film)', 'mere dost picture abhi baki hai', 'krishna aur kans', 'from sydney with love', 'jalpari: the desert mermaid', 'barfi!', 'heroine (2012 film)', 'chal pichchur banate hain', 'kismat love paisa dilli', 'jeena hai toh thok daal', 'omg – oh my god!', 'aiyyaa', 'chittagong (film)', 'bhoot returns', 'delhi safari', 'chakravyuh (2012 film)', 'student of the year', 'ajab gazabb love', 'rush (2012 film)', '1920: the evil returns', 'sons of ram', 'ata pata laapata', 'jab tak hai jaan', 'talaash: the answer lies within', 'login (film)', 'son of sardaar', 'cigarette ki tarah', 'dabangg 2', 'players (2012 film)', 'housefull 2', 'bol bachchan', 'english vinglish', 'impatient vivek', 'yamla pagla deewana', 'mumbai mast kallander', 'dhobi ghat (film)', 'turning 30', 'hostel (2011 film)', 'dil toh baccha hai ji', 'united six', 'utt pataang', 'patiala house (film)', '7 khoon maaf', 'tanu weds manu', 'f.a.l.t.u', 'memories in march', 'thank you (2011 film)', 'angel (2011 film)', 'happy husbands (2011 film)', 'teen thay bhai', 'dum maaro dum (film)', 'shor in the city', 'zokkomon', 'chalo dilli', 'aashiqui.in', 'satrangee parachute', 'monica (film)', 'i am (2010 indian film)', 'naughty @ 40', 'haunted – 3d', 'love u...mr. kalakaar!', 'ragini mms', 'stanley ka dabba', 'shagird (2011 film)', '404 (film)', 'shaitan (film)', 'pyaar ka punchnama', 'bheja fry 2', 'always kabhi kabhi', 'double dhamaal', 'bbuddah... hoga terra baap', 'delhi belly (film)', 'murder 2', 'chillar party', 'zindagi na milegi dobara', 'dear friend hitler', 'i am kalam', 'bin bulaye baraati', 'kucch luv jaisaa', 'singham', 'khap (film)', 'bubble gum (film)', 'shabri', 'phhir', 'aarakshan', 'chatur singh two star', 'sahi dhandhe galat bande', 'bodyguard (2011 hindi film)', 'yeh dooriyan', 'not a love story (2011 film)', 'hum tum shabana', 'mummy punjabi', 'mere brother ki dulhan', 'mausam (2011 film)', 'u r my jaan', 'force (2011 film)', 'saheb biwi aur gangster', 'tere mere phere', 'breakaway (2011 film)', 'chargesheet (film)', 'love breakups zindagi', 'mujhse fraaandship karoge', 'aazaan', 'ra.one', 'rockstar (2011 film)', 'miley naa miley hum', 'tell me o kkhuda', 'damadamm!', 'ladies vs ricky bahl', 'desi boyz', 'game (2011 film)', 'no one killed jessica', 'rascals (2011 film)', 'the dirty picture', 'pyaar impossible!', 'chance pe dance', 'my friend pinto', 'veer (2010 film)', 'striker (2010 film)', 'rann (film)', 'ishqiya', 'road to sangam', 'jo hum chahein', 'click (2010 film)', 'toh baat pakki!', 'my name is khan', 'teen patti (film)', 'karthik calling karthik', 'don 2', 'rokkk', 'aakhari decision', 'right yaaa wrong', 'sukhmani: hope for life', 'thanks maa', 'na ghar ke na ghaat ke', 'trump card (film)', 'shaapit', 'hum tum aur ghost', 'well done abba', 'tum milo toh sahi', 'jaane kahan se aayi hai', 'prem kaa game', 'sadiyaan', 'the japanese wife', 'paathshaala', 'phoonk 2', 'lahore (film)', 'apartment (film)', 'city of gold (2010 film)', 'chase (2010 film)', 'housefull (2010 film)', 'mittal v/s mittal', \"it's a wonderful afterlife\", 'prince (2010 film)', 'raavan', 'bumm bumm bole', 'kushti (film)', 'kites (film)', 'love sex aur dhokha', 'milenge milenge', 'ek second... jo zindagi badal de?', 'mr. singh mrs. mehta', 'lamhaa', 'khatta meetha (2010 film)', 'tere bin laden', 'udaan (2010 film)', 'once upon a time in mumbaai', 'help (film)', 'peepli live', 'lafangey parindey', 'hello darling', 'antardwand', 'aashayein', 'soch lo', 'dabangg', 'khichdi: the movie', 'red alert: the war within', 'life express (2010 film)', 'the film emotional atyachar', 'hisss', 'crook (film)', 'do dooni chaar', 'aakrosh (2010 film)', 'ramayana: the epic', 'knock out (2010 film)', 'jhootha hi sahi', 'guzaarish (film)', 'allah ke banday', 'break ke baad', 'khuda kasam', 'phas gaye re obama', 'malik ek', 'a flat (film)', 'no problem (2010 film)', 'band baaja baaraat', 'kaalo', 'mirch', 'tees maar khan (2010 film)', 'isi life mein', 'toonpur ka super hero', 'tera kya hoga johnny', 'ramaa: the saviour', 'i hate luv storys', 'dulha mil gaya', 'anjaana anjaani', 'dunno y... na jaane kyon', 'pankh', 'action replayy', '3 idiots', 'luck by chance', 'love aaj kal', 'wanted (2009 film)', 'delhi-6', 'raaz: the mystery continues', 'aasma: the sky is the limit', 'ajab prem ki ghazab kahani', 'chal chala chal', 'billu', 'the stoneman murders', 'kisse pyaar karoon', 'dhoondte reh jaaoge', 'karma aur holi', 'victory (2009 film)', 'kaminey', 'jai veeru', 'little zizou', 'gulaal (film)', 'aloo chaat (film)', 'barah aana', 'firaaq', 'aa dekhen zara', '99 (2009 film)', 'ek: the power of one', 'ek se bure do', 'sikandar (2009 film)', 'zor lagaa ke...haiya!', 'paying guests', 'new york (2009 film)', 'sankat city', 'shortkut', 'luck (2009 film)', 'life partner', 'daddy cool (2009 hindi film)', 'kisaan', 'yeh mera india', 'aagey se right', 'chintu ji', 'quick gun murugun', 'fox (film)', 'baabarr', 'phir kabhi', 'vaada raha', 'dil bole hadippa!', \"what's your raashee?\", 'acid factory', 'all the best: fun begins', 'wake up sid', 'main aurr mrs khanna', 'blue (2009 film)', 'bal ganesh 2', 'fruit and nut (film)', 'aladin (film)', 'london dreams', 'jail (2009 film)', 'tum mile', 'kurbaan (2009 film)', 'de dana dan', 'paa (film)', 'rocket singh: salesman of the year', 'raat gayi baat gayi?', 'accident on hill road', 'chandni chowk to china', 'dostana (2008 film)', 'race (2008 film)', 'rab ne bana di jodi', 'ghajini (2008 film)', 'singh is kinng', 'golmaal returns', 'jodhaa akbar', 'bachna ae haseeno', 'bhoothnath', 'sarkar raj', 'halla bol', 'humne jeena seekh liya', 'bombay to bangkok', 'tulsi (film)', 'sunday (2008 film)', 'one two three', 'krazzy 4', 'u me aur hum', 'sirf (film)', 'tashan (film)', 'anamika (2008 film)', 'jimmy (2008 film)', 'jannat (film)', 'don muthu swami', 'woodstock villa', 'mere baap pehle aap', 'summer 2007', 'de taali', 'haal-e-dil', 'thodi life thoda magic', 'thoda pyaar thoda magic', 'via darjeeling', 'kismat konnection', 'love story 2050', 'contract (2008 film)', 'mission istaanbul', 'money hai toh honey hai', 'god tussi great ho', 'mumbai meri jaan', 'maan gaye mughal-e-azam', 'rock on!!', 'c kkompany', 'chamku', 'mukhbiir', 'tahaan', '1920 (film)', 'the last lear', 'welcome to sajjanpur', 'saas bahu aur sensex', 'hari puttar: a comedy of terrors', 'drona (2008 film)', 'hello (2008 film)', 'karzzzz', 'heroes (2008 film)', 'roadside romeo', 'ek vivaah... aisa bhi', 'deshdrohi', 'fashion (2008 film)', 'dasvidaniya', 'yuvvraaj', 'oye lucky! lucky oye!', 'oh my god (2008 film)', 'sorry bhai!', '1971 (2007 film)', 'meerabai not out', 'wafa: a deadly love story', 'gumnaam – the mystery', 'dil kabaddi', 'aag (2007 film)', 'aap kaa surroor', 'aggar (film)', 'anwar (2007 film)', 'aaja nachle', 'apne', 'awarapan', 'bheja fry (film)', 'bhool bhulaiyaa', 'bhram', 'big brother (2007 film)', '68 pages', 'aur pappu paas ho gaya', 'apna asmaan', 'black friday (2007 film)', 'the blue umbrella (2005 film)', 'blood brothers (2007 indian film)', 'buddha mar gaya', 'cash (2007 film)', 'cheeni kum', 'chhodon naa yaar', 'darling (2007 indian film)', 'chak de! india', 'dhamaal', 'goal (2007 hindi film)', 'dharm (film)', 'bombay to goa (2007 film)', 'dhokha', 'dil dosti etc', 'dhol (film)', 'ek chalis ki last local', 'familywala', 'gandhi my father', \"don't stop dreaming\", 'dus kahaniyaan', 'eklavya: the royal guard', 'go (2007 film)', 'gauri: the unborn', 'heyy babyy', 'guru (2007 film)', 'honeymoon travels pvt. ltd.', 'jahan jaaeyega hamen paaeyega', 'jhoom barabar jhoom', 'jab we met', 'good boy bad boy', 'fool & final', 'khoya khoya chand', 'johnny gaddaar', 'just married (2007 film)', 'kya love story hai', 'kudiyon ka hai zamana', 'hastey hastey', 'laaga chunari mein daag', 'life in a... metro', 'loins of punjab presents', 'manorama six feet under', 'marigold (2007 film)', 'mp3: mera pehla pehla pyaar', 'hattrick (film)', 'naqaab', 'mumbai salsa', 'the namesake (film)', 'namastey london', 'my bollywood bride', 'nehlle pe dehlla', 'nishabd', 'no smoking (2007 film)', 'om shanti om', 'partner (2007 film)', 'raqeeb', 'nanhe jaisalmer', 'life mein kabhie kabhiee', 'risk (2007 film)', 'shakalaka boom boom', 'red swastik', 'salaam-e-ishq: a tribute to love', 'saawariya', 'sarhad paar', 'say salaam india', 'red: the dark side', 'shootout at lokhandwala', 'strangers (2007 hindi film)', 'swami (2007 film)', 'taare zameen par', 'ta ra rum pum', 'speed (2007 film)', 'traffic signal (film)', 'the train (2007 film)', 'showbiz (film)', 'sunglass (film)', 'welcome (2007 film)', '36 china town', 'zamaanat', 'aap ki khatir (2006 film)', 'ahista ahista (2006 film)', 'aksar', 'alag', 'anthony kaun hai?', 'apna sapna money money', 'ankahee (2006 film)', 'yatra (2007 film)', 'baabul (2006 film)', 'aisa kyon hota hai?', 'adharm (2006 film)', 'being cyrus', 'banaras (2006 film)', 'bas ek pal', 'bhagam bhag', 'chingaari', 'bhoot unkle', 'chand ke paar chalo (film)', 'aryan: unbreakable', 'chup chup ke', 'corporate (2006 film)', 'darna zaroori hai', 'deadline: sirf 24 ghante', 'dil diya hai', 'darwaaza bandh rakho', 'eight: the power of shani', 'dhoom 2', 'dor (film)', 'don (2006 hindi film)', 'family (2006 film)', 'fanaa (2006 film)', 'gangster (2006 film)', 'golmaal: fun unlimited', 'devaki (2005 film)', 'fight club – members only', 'dharti kahe pukar ke (2006 film)', 'humko deewana kar gaye', 'humko tumse pyaar hai', 'i see you (2006 film)', 'jaane hoga kya', 'jaan-e-mann', 'jawani diwani: a youthful joyride', 'holiday (2006 film)', 'iqraar by chance', 'khosla ka ghosla', 'kabhi alvida naa kehna', 'love ke chakkar mein', 'lage raho munna bhai', 'kabul express', 'jigyaasa', 'krrish', 'malamaal weekly', 'omkara (2006 film)', 'pyaar ke side effects', 'naksha', 'phir hera pheri', 'pyare mohan', 'mere jeevan saathi (2006 film)', 'prateeksha', 'sacred evil – a true story', 'rang de basanti', 'shaadi karke phas gaya yaar', 'sandwich (2006 film)', 'shaadi se pehle', 'saawan... the love season', 'shiva (2006 film)', 'souten: the other woman', 'shikhar (film)', 'children of heaven', 'tathastu', 'the killer (2006 film)', 'umrao jaan (2006 film)', 'taxi no. 9211', 'teesri aankh: the hidden camera', 'vivah', 'utthaan', 'waris shah: ishq daa waaris', 'woh lamhe...', 'yun hota toh kya hota', 'umar (film)', 'zindaggi rocks', 'tom dick and harry (2006 film)', 'aashiq banaya aapne', 'anjaane (2005 film)', 'apaharan', 'bachke rehna re baba', '7½ phere', 'barsaat (2005 film)', 'bewafaa (2005 film)', 'black (2005 film)', 'zinda (film)', 'bluffmaster!', '99.9 fm (film)', 'bhola in bollywood', 'bhagmati (2005 film)', 'blackmail (2005 film)', 'bunty aur babli', 'chaahat – ek nasha', 'chetna: the excitement', 'chand sa roshan chehra', 'chocolate (2005 film)', 'd (film)', 'deewane huye paagal', 'bullet: ek dhamaka', 'chehraa', 'dil jo bhi kahey...', 'dosti: friends forever', 'classic – dance of love', 'dus', 'elaan (2005 film)', 'fareb (2005 film)', 'ek ajnabee', 'fun – can be dangerous sometimes', 'ek khiladi ek haseena (film)', 'double cross (2005 film)', 'dreams (2006 film)', 'home delivery', 'garam masala (2005 film)', 'iqbal (film)', 'jai chiranjeeva', 'hazaaron khwaishein aisi', 'insan', 'jo bole so nihaal (film)', 'karam (film)', 'kaal (2005 film)', 'kalyug (2005 film)', 'kasak (2005 film)', 'hanuman (2005 film)', 'james (2005 film)', 'kisna: the warrior poet', 'koi aap sa', 'khamoshh... khauff ki raat', 'jurm (2005 film)', 'kuchh meetha ho jaye', 'kyaa kool hai hum', 'lucky: no time for love', 'main aisa hi hoon', 'kyon ki', 'main meri patni aur woh', 'maine gandhi ko nahin mara', 'maine pyaar kyun kiya?', 'mangal pandey: the rising', 'koi mere dil mein hai', 'mr prime minister', 'my brother…nikhil', \"my wife's murder\", 'naina (2005 film)', \"neal 'n' nikki\", 'no entry', 'padmashree laloo prasad yadav', 'page 3 (film)', 'morning raga', 'parineeta (2005 film)', 'pehchaan: the face of truth', 'paheli', 'rog', 'pyaar mein twist', 'salaam namaste', 'revati (film)', 'sarkar (2005 film)', 'sehar', 'shabd (film)', 'shabnam mausi', 'sheesha (2005 film)', 'ramji londonwaley', 'silsiilay', 'socha na tha', 'taj mahal: an eternal love story', 'tango charlie', 'the film', 'vaada (film)', 'vaah! life ho toh aisi!', 'ssukh', 'shaadi no. 1', 'viruddh... family comes first', 'waqt: the race against time', 'vidyaarthi', 'yakeen (2005 film)', 'zeher', 'veer-zaara', 'main hoon na', 'zameer: the fire within', 'mujhse shaadi karogi', 'dhoom', 'khakee', 'hum tum', 'hulchul (2004 film)', 'murder (2004 film)', 'yuva', 'aitraaz', 'aetbaar', 'ab tumhare hawale watan saathiyo', 'aan: men at work', 'bardaasht', 'chameli (film)', 'agnipankh', 'asambhav', 'charas (2004 film)', 'deewaar (2004 film)', 'dev (2004 film)', 'dil maange more', 'dil ne jise apna kahaa', 'dobara', 'aabra ka daabra', 'dil bechara pyaar ka maara', 'gayab', 'fida', 'garv: pride & honour', 'ek se badhkar ek (2004 film)', 'ek hasina thi (film)', 'girlfriend (2004 film)', 'hatya (2004 film)', 'hava aney dey', 'hawas (2004 film)', 'hyderabad blues 2', 'julie (2004 film)', 'kaun hai jo sapno mein aaya', 'inteqam: the perfect game', 'kis kis ki kismat', 'insaaf: the justice', 'i proud to be an indian', 'khamosh pani', 'kismat (2004 film)', 'lakeer – forbidden lines', 'krishna cottage', 'kyun! ho gaya na...', 'madhoshi', 'lakshya (film)', 'ishq hai tumse', 'maqbool', 'masti (2004 film)', 'meenaxi: a tale of three cities', 'musafir (2004 film)', 'mughal-e-azam', 'muskaan', 'meri biwi ka jawaab nahin', 'naach (2004 film)', 'netaji subhas chandra bose: the forgotten hero', 'paap', 'phir milenge', 'plan (film)', 'police force: an inside story', 'paisa vasool', 'popcorn khao! mast ho jao', 'rakht', 'raincoat (film)', 'rudraksh (film)', 'shaadi ka laddoo', 'run (2004 film)', 'rok sako to rok lo', 'suno sasurjee', 'swades', 'taarzan: the wonder car', 'nothing but life', 'shart: the challenge', 'tumsa nahin dekha: a love story', 'vaastu shastra (film)', 'yeh lamhe judaai ke', 'sheen (film)', \"dude where's the party?\", 'thoda tum badlo thoda hum', 'koi... mil gaya', 'kal ho naa ho', 'shukriya: till death do us apart', 'chalte chalte (2003 film)', 'the hero: love story of a spy', 'baghban (2003 film)', 'main prem ki diwani hoon', 'loc kargil', 'border (1997 film)', 'munna bhai m.b.b.s.', 'qayamat: city under threat', '88 antop hill', '3 deewarein', 'aanch', 'aapko pehle bhi kahin dekha hai', 'bhoot (film)', 'boom (film)', 'aaj ka andha kanoon', 'andaaz', 'andaaz', 'armaan (2003 film)', 'chori chori (2003 film)', 'calcutta mail', 'baaz: a bird in danger', 'basti (film)', 'magic magic 3d', 'dil ka rishta', 'darna mana hai', 'dhoop', 'dhund (2003 film)', 'chura liyaa hai tumne', 'the bypass', 'dum (2003 hindi film)', 'dil pardesi ho gayaa', 'ek alag mausam', 'footpath (2003 film)', 'escape from taliban', 'ek din 24 ghante', 'gangaajal', 'hawa (film)', 'haasil', 'final solution (2003 film)', 'ek aur ek gyarah', 'hungama (2003 film)', 'green card fever', 'flavors (film)', 'indian babu', 'fun2shh... dudes in the 10th century', 'inteha (2003 film)', 'jaal: the trap', 'ishq vishk', 'hawayein', 'jajantaram mamantaram', 'jism (2003 film)', 'jhankaar beats', 'ganges: river to heaven', 'kagaar: life on the edge', 'kash aap hamare hote', 'khel – no ordinary game', 'janasheen', 'kaise kahoon ke... pyaar hai', 'khushi (2003 hindi film)', 'khwahish', 'kucch to hai', 'kuch naa kaho', 'main madhuri dixit banna chahti hoon', \"joggers' park (film)\", 'market (2003 film)', 'om (2003 film)', 'out of control (2003 film)', 'mumbai matinee', 'matrubhoomi', 'parwana (2003 film)', 'pinjar (film)', 'mumbai se aaya mera dost', 'saaya (2003 film)', 'samay: when time strikes', 'nayee padosan', 'satta (film)', 'sssshhh...', 'praan jaye par shaan na jaye', 'raghu romeo', 'stumped (film)', 'rules: pyaar ka superhit formula', 'right here right now (film)', 'raja bhaiya (film)', 'tere naam', 'tujhe meri kasam', 'talaash: the hunt begins...', 'tehzeeb (2003 film)', 'the pink mirror', 'yeh dil', 'xcuse me', 'raaz (2002 film)', 'zameen (2003 film)', 'waisa bhi hota hai part ii', 'devdas (2002 hindi film)', 'kaante', 'hum tumhare hain sanam', 'aankhen (2002 film)', 'saathiya (film)', 'company (film)', 'awara paagal deewana', 'humraaz', '16 december (film)', '23rd march 1931: shaheed', 'agni varsha', 'ab ke baras', 'aap mujhe achche lagne lage', 'annarth', 'ansh: the deadly part', 'mujhse dosti karoge!', 'bollywood queen', 'badhaai ho badhaai', 'chor machaaye shor', 'chalo ishq ladaaye', 'akhiyon se goli maare', 'bomb the system', 'baaja', 'be-lagaam', 'deewangee', 'dil vil pyar vyar', 'dil hai tumhaara', 'ek chhotisi love story', 'encounter: the killing', 'filhaal...', 'ghaav: the wound', 'gunaah (2002 film)', 'haan maine bhi pyaar kiya', 'hum kisise kum nahin (2002 film)', 'hum pyar tumhi se kar baithe', 'jaani dushman: ek anokhi kahani', 'jeena sirf merre liye', 'karz: the burden of truth', 'kabhie tum kabhie hum', 'kehtaa hai dil baar baar', 'koi mere dil se poochhe', 'kranti (2002 film)', 'kuch tum kaho kuch hum kahein', 'kya yehi pyaar hai', 'kyaa dil ne kahaa', 'kitne door kitne paas', 'maa tujhhe salaam (2002 film)', 'maine dil tujhko diya', 'makdee', 'hathyar (2002 film)', 'war and peace (2002 film)', 'maseeha', 'mere yaar ki shaadi hai', 'mitr my friend', 'na tum jaano na hum', 'pitaah', 'om jai jagadish', 'nishad (2002 film)', 'pyaar diwana hota hai', 'pyaasa (2002 film)', 'shaheed-e-azam', 'road (film)', 'shakti: the power', 'shararat (2002 film)', 'the legend of bhagat singh', 'tumko na bhool paayenge', 'tum se achcha kaun hai', 'waah! tera kya kehna', 'yeh dil aashiqanaa', 'yeh kaisi mohabbat', 'yeh mohabbat hai', 'sur – the melody of life', 'rishtey (film)', 'yeh hai jalwa', 'zindagi khoobsoorat hai', 'kabhi khushi kabhie gham...', 'yeh kya ho raha hai?', 'lagaan', 'lagaan', 'gadar: ek prem katha', 'indian (2001 film)', 'dil chahta hai', 'chori chori chupke chupke', 'yaadein (2001 film)', 'lajja (2001 film)', 'aalavandhan', 'aamdani atthanni kharcha rupaiya', 'aashiq (2001 film)', 'aks (2001 film)', 'ajnabee (2001 film)', 'censor (film)', 'aśoka (film)', 'albela (2001 film)', 'bas itna sa khwaab hai', 'ek rishtaa: the bond of love', 'bhairav (film)', 'bengal tiger (2001 film)', 'chhupa rustam: a musical thriller', 'daman (film)', 'chandni bar', 'deewaanapan', 'dil ne phir yaad kiya (2001 film)', 'ehsaas: the feeling', 'farz (2001 film)', 'grahan', 'dattak', 'jodi no.1', 'hum ho gaye aapke', 'kasam (2001 film)', 'kuch khatti kuch meethi', 'kasoor', 'maya (2001 film)', 'ittefaq (2001 film)', 'mitti (2001 film)', 'mujhe meri biwi se bachaao', 'mujhe kucch kehna hai', 'hadh: life on the edge of death', 'nayak (2001 hindi film)', 'one 2 ka 4', 'kyo kii... main jhuth nahin bolta', 'love ke liye kuch bhi karega', 'pyaar ishq aur mohabbat', 'pyaar tune kya kiya', 'paagalpan', 'moksha (2001 film)', 'style (2001 film)', 'rehnaa hai terre dil mein', 'officer (2001 film)', 'rahul (film)', 'pyaar zindagi hai', 'yeh raaste hain pyaar ke', 'tum bin', 'yeh teraa ghar yeh meraa ghar', 'zubeidaa', 'mohabbatein', 'dhadkan', 'mission kashmir', 'kaho naa... pyaar hai', 'badal', 'dulhan hum le jayenge', 'tera mera saath rahen', 'yeh zindagi ka safar', 'josh (2000 film)', 'aaghaaz', 'aaj ka ravan', 'fiza', 'anjaane (2000 film)', 'refugee (2000 film)', 'kya kehna', 'beti no.1', 'bichhoo', 'baaghi (2000 film)', 'bulandi (2000 film)', 'billa no. 786', 'bhai thakur (film)', 'bawandar', 'astitva', 'champion (2000 film)', 'deewane', 'dhai akshar prem ke', 'gang (film)', 'ghaath', 'hadh kar di aapne', 'har dil jo pyar karega', 'hari-bhari', 'hera pheri (2000 film)', 'hamara dil aapke paas hai', 'hum to mohabbat karega', 'hey ram', 'dil pe mat le yaar!!', 'chal mere bhai', 'gaja gamini', 'jallad no. 1', 'jis desh mein ganga rehta hain', 'jung (2000 film)', 'jungle (2000 film)', 'kahin pyaar na ho jaaye (2000 film)', 'joru ka ghulam', 'khauff', 'khiladi 420', 'krodh (film)', 'kurukshetra (2000 film)', 'pukar (2000 film)', 'mela (2000 film)', 'phir bhi dil hai hindustani', 'raja ko rani se pyar ho gaya', 'raju chacha', 'nidaan', 'shikari (2000 film)', 'ramayana: the legend of prince rama', 'tera jadoo chal gayaa', 'meri jung ka elaan', 'kunwara', 'the revenge: geeta mera naam', 'aa ab laut chalen', 'arjun pandit (1999 film)', 'baadshah (1999 film)', 'aarzoo', 'anari no.1', 'bade dilwala', 'sultaan', 'tarkieb', 'biwi no.1', 'bhopal express (film)', 'chehraa (1999 film)', 'daag (1999 film)', 'dahek', 'dillagi (1999 film)', 'dulhan banoo main teri', 'gair (film)', 'godmother (film)', 'dil kya kare', 'haseena maan jaayegi', 'hindustan ki kasam (1999 film)', 'hogi pyaar ki jeet', 'hello brother (1999 film)', 'hu tu tu', 'hum aapke dil mein rehte hain', 'hum dil de chuke sanam', 'hum saath-saath hain', 'hote hote pyar ho gaya', 'heeralal pannalal (1999 film)', 'international khiladi', 'jaanam samjha karo', 'jaanwar (1999 film)', 'kaala samrajya', 'jahan tum le chalo', 'kachche dhaage', 'hum tum pe marte hain', 'kartoos', 'kohram', 'kaun?', 'khoobsurat (1999 film)', 'lal baadshah', 'kahani kismat ki (1999 film)', 'laawaris (1999 film)', 'mann (film)', 'mast (film)', 'pyaar koi khel nahin', 'pyaar mein kabhi kabhi', 'nyaydaata', 'rajaji (film)', 'samar (1999 film)', 'sangharsh (1999 film)', 'mother (1999 film)', 'phool aur aag', 'safari (1999 film)', 'naukar ki kameez', 'shool', 'split wide open', 'sanyasi mera naam', 'silsila hai pyar ka', 'trishakti', 'vaastav: the reality', 'thakshak', 'sooryavansham', 'shera (film)', 'sarfarosh', 'kuch kuch hota hai', 'zulmi', 'soldier (1998 indian film)', 'pyaar to hona hi tha', 'taal (film)', 'sirf tum', 'pyaar kiya to darna kya (1998 film)', 'dil se..', 'dil se..', 'ghulam (film)', 'ghulam (film)', 'major saab', 'yeh hai mumbai meri jaan', 'dulhe raja', 'dulhe raja', 'bade miyan chote miyan', 'china gate (1998 film)', '2001: do hazaar ek', 'aakrosh (1998 film)', 'achanak (1998 film)', 'badmaash (1998 film)', 'bandhan (1998 film)', 'dand nayak', 'aunty no. 1', 'doli saja ke rakhna', 'duplicate (1998 film)', 'dushman (1998 film)', 'gharwali baharwali', 'dhoondte reh jaaoge! (1998 film)', 'do numbri', 'my dear kuttichathan', 'ghar bazar', 'gunda (1998 film)', 'ganga ki kasam (1999 film)', 'himmatwala (1998 film)', 'humse badhkar kaun', 'hitler (1998 film)', 'hero hindustani', 'hazaar chaurasi ki maa', 'hafta vasuli', 'kabhi na kabhi', 'iski topi uske sarr', 'jab pyaar kisise hota hai', 'jhooth bole kauwa kaate', 'kudrat (1998 film)', 'maharaja (1998 film)', 'hyderabad blues', 'jaane jigar', 'mehndi (1998 film)', 'mere do anmol ratan', 'khote sikkey', 'miss 420', 'pardesi babu', 'keemat – they are back', 'prem aggan', 'military raaj', 'kareeb', 'saat rang ke sapne', 'qila (film)', 'main solah baras ki', 'mohabbat aur jung', 'salaakhen (1998 film)', 'sar utha ke jiyo', 'ustadon ke ustad (1998 film)', 'train to pakistan (film)', 'sham ghansham', 'wajood (1998 film)', 'satya (1998 film)', 'saaz (film)', 'zakhm', 'zor (film)', 'yugpurush', 'sher-e-hindustan', 'saazish (1998 film)', 'tirchhi topiwale', 'vinashak – destroyer', 'dil to pagal hai', 'pardes (film)', 'ishq (1997 film)', 'gupt: the hidden truth', 'zulm-o-sitam', 'yamraaj', 'ziddi (1997 film)', 'koyla', 'judaai (1997 film)', 'deewana mastana', 'aar ya paar', 'aastha: in the prison of spring', 'aflatoon (film)', 'aur pyaar ho gaya', 'auzaar', 'hero no. 1', 'agnichakra', 'daava', 'dhaal', 'chachi 420', 'do ankhen barah hath', 'bhai (1997 film)', 'chupp', 'darmiyaan: in between', 'daud (film)', 'gudia (1997 film)', 'hameshaa', 'gudgudee', 'himalay putra', 'ghulam-e-mustafa', 'banarasi babu (1997 film)', 'ek phool teen kante', 'jodidar', 'judwaa', 'jeeo shaan se', 'insaaf (1997 film)', 'kaalia (1997 film)', 'jeevan yudh', 'kaun sachcha kaun jhootha', 'loha (1997 film)', 'itihaas (1997 film)', 'judge mujrim', 'lav kush', 'kaun rokega mujhe', 'mrityudata', 'mere sapno ki rani (film)', 'naseeb (1997 film)', 'mr. and mrs. khiladi', 'qahar', 'krishna arjun', 'raja ki aayegi baraat', 'lahu ke do rang (1997 film)', 'mahaanta', 'mrityudand', 'uff! yeh mohabbat', 'prithvi (1997 film)', 'suraj (1997 film)', 'virasat (1997 film)', 'salma pe dil aa gaya', 'yes boss (film)', 'sanam (1997 film)', 'raja hindustani', 'jeet (1996 film)', 'yeshwant', 'sixth happiness', 'shapath', 'ghatak: lethal', 'angaara', 'agni sakshi (1996 film)', 'saajan chale sasural', 'tarazu', 'army (1996 film)', 'aur ek prem kahani', 'aisi bhi kya jaldi hai', 'ajay (1996 film)', 'aurat aurat aurat', 'bal bramhachari', 'bandish (1996 film)', 'beqabu', 'bhishma (1996 film)', 'chaahat (1996 film)', 'chhote sarkar (1996 film)', 'daraar', 'dastak (1996 film)', 'apne dam par', 'diljale', 'aatank', 'dushman duniya ka', 'daanveer', 'bambai ka babu (1996 film)', 'english babu desi mem', 'fire (1996 film)', 'bangaru bullodu', 'dil tera diwana (1996 film)', 'is raat ki subah nahin', 'himmat (1996 film)', 'ek tha raja', 'jaan (film)', 'himmatvar', 'dushmani: a violent love story', 'loafer (1996 film)', 'khiladiyon ka khiladi', 'krishna (1996 hindi film)', 'khamoshi: the musical', 'maahir', 'majhdhaar', 'fareb (1996 film)', 'jung (1996 film)', 'masoom (1996 film)', 'jurmana (1996 film)', 'muqadar', 'namak (film)', 'mafia (1996 film)', 'mr. bechara', 'prem granth', 'megha (1996 film)', 'rajkumar (1996 film)', 'rakshak', 'papa kehte hai', 'maachis', 'nirbhay (film)', 'rangbaaz (1996 film)', 'sapoot', 'sanshodhan', 'shastra (film)', 'ram aur shyam (1996 film)', 'papi gudia', 'return of jewel thief', 'tere mere sapne (1996 film)', 'vijeta (1996 film)', 'sardari begum', 'the making of the mahatma', 'smuggler (1996 film)', 'tu chor main sipahi', 'zordaar', 'aatank hi aatank', 'aazmayish', 'ahankaar', 'akele hum akele tum', 'vishwasghaat', 'andolan (1995 film)', 'angrakshak', 'baazi (1995 film)', 'barsaat (1995 film)', 'bewafa sanam', 'coolie no. 1 (1995 film)', 'yash (film)', 'gaddaar (1995 film)', 'dilwale dulhania le jayenge', 'criminal (1995 film)', 'dil ka doctor', 'diya aur toofan (1995 film)', 'ab insaf hoga', 'fauji (1995 film)', 'haathkadi (1995 film)', 'gundaraj', 'haqeeqat (1995 film)', 'hulchul (1995 film)', 'god and gun', 'gunehgar', 'guddu', 'hum dono (1995 film)', 'jallaad', 'janam kundli', 'jawab (1995 film)', 'karan arjun', 'kartavya (1995 film)', 'jai vikraanta', 'kalyug ke avtaar', 'mera damad', 'ham sab chor hain (1995 film)', 'naseem (film)', 'naajayaz', 'nazar ke samne', 'kismat (1995 film)', 'oh darling! yeh hai india!', 'nishana (1995 film)', 'maidan-e-jung', 'policewala gunda', 'prem (film)', 'milan (1995 film)', 'param vir chakra (film)', 'raja (1995 film)', 'paandav', 'rangeela (1995 film)', 'ram jaane', 'ram shastra', 'raasaiyya', 'paappi devataa', 'saajan ki baahon mein', 'rock dancer', 'ravan raaj: a true story', 'sauda (film)', 'surakshaa (1995 film)', 'takkar (1995 film)', 'taqdeerwala', 'sanjay (film)', 'sabse bada khiladi', 'the gambler (1995 film)', 'yaraana (1995 film)', 'veergati', 'sarhad: the border of crime', 'mohra', 'target (1995 film)', 'taaqat (1995 film)', 'hum aapke hain koun..!', 'raja babu (film)', 'krantiveer', 'the don (1995 film)', 'laadla (1994 film)', 'yeh dillagi', 'yeh dillagi', 'main khiladi tu anari', 'dilwale (1994 film)', 'suhaag (1994 film)', 'vijaypath', 'zamaana deewana', 'trimurti (1995 film)', 'aa gale lag jaa (1994 film)', 'aag (1994 film)', '1942: a love story', 'aag aandhi aur toofan', 'aatish: feel the fire', 'andaz (1994 film)', 'andaz apna apna', 'amanaat', 'aranyaka (film)', 'baali umar ko salaam', 'anjaam', 'aag aur chingari', 'brahma (1994 film)', 'betaaj badshah', 'chaand kaa tukdaa', 'aao pyaar karen (1994 film)', 'dilbar (film)', 'chauraha', 'cheetah (1994 film)', 'beta ho to aisa', 'anth', 'bandit queen', 'drohkaal', 'ekka raja rani', 'elaan (1994 film)', 'eena meena deeka', 'chhoti bahoo', 'do fantoosh', 'dulaara', 'ghar ki izzat (1994 film)', 'hanste khelte', 'hum hain bemisaal', 'ganga aur ranga', 'insaaf apne lahoo se', 'jai kishen', 'janam se pehle', 'gopi kishan', 'gangster (1994 film)', 'ikke pe ikka', 'kabhi haan kabhi naa', 'insaniyat (1994 film)', 'khuddar', 'ishq mein jeena ishq mein marna', 'juaari', 'jazbaat (1994 film)', 'janta ki adalat', 'madam x (1994 film)', 'khudai', 'karan (film)', 'mammo', 'madhosh (1994 film)', 'naaraaz', 'kranti kshetra', 'pehla pehla pyar', 'maha shaktishaali', 'prem shakti', 'saajan ka ghar', 'mr. azaad', 'paramaatma', 'prem yog', 'stuntman (film)', 'pyar ka rog', 'udhaar ki zindagi', 'teesra kaun', 'the gentleman (film)', 'woh chokri', 'sangdil sanam', 'yaar gaddar', 'zaalim', 'zamane se kya darna', 'aag ka toofan', 'vaade iraade', 'zakhmi dil (1994 film)', 'aadmi khilona hai', 'aaina (1993 film)', 'aaja meri jaan', 'aankhen (1993 film)', 'aashik awara', 'aadmi (1993 film)', 'yuhi kabhi', 'anmol', 'aulad ke dushman', 'aasoo bane angaarey', 'anari (1993 film)', 'vishnu vijaya', 'bhaji on the beach', 'bedardi', 'balmaa', 'baazigar', 'chahoonga main tujhe', 'damini', 'dalaal', 'bhagyawan', 'bhookamp', 'dhanwan (1993 film)', 'dhartiputra', 'dil hai betaab', 'chor aur chaand', 'dil ki baazi', 'dil tera aashiq', 'divya shakti', 'chandra mukhi', 'gardish', 'ek hi raasta (1993 film)', 'darr', 'gumrah (1993 film)', 'gurudev (film)', 'hum hain rahi pyar ke', 'in custody (film)', 'hasti', 'game (1993 film)', 'izzat ki roti', 'kayda kanoon', 'insaniyat ke devta', 'khal-naaikaa', 'khalnayak', 'king uncle', 'kshatriya (film)', 'gunaah (1993 film)', 'hum hain kamaal ke', 'geetanjali (1993 film)', 'jeevan ki shatranj', 'mahakaal', 'maya memsaab', 'muqabla (1993 film)', 'pardesi (1993 film)', 'patang (film)', 'pehchaan (1993 film)', 'pehla nasha', 'meri aan', 'krishan avtaar', 'lootere', 'phool (1993 film)', 'phool aur angaar', 'platform (1993 film)', 'professor ki padosan', 'phir teri kahani yaad aayee', 'papeeha', 'police wala', 'sainik', 'phoolan hasina ramkali', 'sahibaan', 'rang (1993 film)', 'sangraam', 'roop ki rani choron ka raja (1993 film)', 'rudaali', 'pyar pyar', 'shaktiman (1993 film)', 'shatranj (1993 film)', 'shreemaan aashique', 'tadipaar', 'sardar (1993 film)', 'pyaar ka tarana', 'sir (film)', 'veerta', 'waqt hamara hai', 'zakhmi rooh', 'deewana (1992 film)', 'khuda gawah', 'santaan', 'yugandhar (1993 film)', 'vishwatma', 'vansh', 'tahqiqaat', 'zakhmo ka hisaab', 'dil ka kya kasoor', 'raat (film)', 'mere sajana saath nibhana', 'meera ka mohan', 'panaah (film)', 'suryavanshi (film)', 'virodhi (1992 film)', 'jaan tere naam', 'current (1992 film)', 'i love you (1992 film)', 'insaaf ki devi', 'sarphira', 'zindagi ek juaa', 'adharm (1992 film)', 'police officer (film)', 'humlaa', 'prem deewane', 'tyagi (film)', 'laat saab', 'kasak (1992 film)', 'mr. bond', 'saatwan aasman', 'jaan se pyaara', 'mashooq (film)', 'zulm ki hukumat', 'chamatkar', 'jo jeeta wohi sikandar', 'nishchaiy', 'parda hai parda (film)', 'bekhudi', 'police aur mujrim', 'sapne sajan ke', 'ek ladka ek ladki', 'radha ka sangam', 'aaj ka goonda raaj', 'deedar (1992 film)', 'bol radha bol', 'jeena marna tere sang', 'humshakal (1992 film)', 'angaar', 'bewaffa se waffa', 'balwaan', 'khel (film)', 'dilwale kabhi na hare', 'junoon (1992 film)', 'antham', 'yalgaar (1992 film)', 'jigar', 'suraj ka satvan ghoda', 'isi ka naam zindagi', 'muskurahat (1992 film)', 'raju ban gaya gentleman', 'ghar jamai (1992 film)', 'jaanam', 'khule-aam', 'sangeet (film)', 'umar 55 ki dil bachpan ka', 'baaz (1992 film)', 'roja', 'antarnaad', 'ajooba', 'akayla', 'aakhri cheekh', 'aag laga do sawan ko', 'afsana pyar ka', 'ayee milan ki raat', 'benaam badsha', 'aaj ka samson', 'dancer (1991 film)', 'deshwasi', '100 days (1991 film)', 'banjaran', 'dushman devta', 'bhabhi (1991 film)', 'mane (film)', 'dil hai ke manta nahin', 'farishtay', 'fateh (1991 film)', 'begunaah', 'do matwale', 'diksha (film)', 'dharam sankat', 'first love letter', 'hum (film)', 'henna (film)', 'house no. 13', 'hafta bandh', 'jeena teri gali mein', 'ghar parivar', 'izzat (1991 film)', 'karz chukana hai', 'khoon ka karz', 'indrajeet', 'jaan pechaan', 'khilaaf', 'kohraam', 'irada (1991 film)', 'kurbaan (1991 film)', 'jigarwala', 'kaun kare kurbanie', 'lamhe', 'kasba (film)', 'khooni raat', 'love (1991 film)', 'mast kalandar', 'khooni panja', 'lakshmanrekha', 'mehandi ban gai khoon', 'patthar ke phool', 'phool aur kaante', 'maa (1991 film)', 'phool bane angaray', 'narsimha (1991 film)', 'prahaar: the final attack', 'paap ki aandhi', 'pyaar ka saaya', 'ramgarh ke sholay', 'numbri aadmi', 'nazar (1991 film)', 'pratigyabadh', 'ranbhoomi', 'rupaye dus karod', 'saajan', 'qurbani rang layegi', 'pita (film)', 'saathi (1991 film)', 'sau crore', 'saudagar (1991 film)', 'sadak', 'sapnon ka mandir', 'sanam bewafa', 'pratikar', 'prem qaidi', 'shankara (1991 film)', 'saugandh (1991 film)', 'swarg yahan narak yahan', 'swarg jaisaa ghar', 'trinetra', 'yaara dildara', 'shiv ram', 'aaj ka arjun', 'aag ka gola', 'aandhiyan', 'aaj ke shahenshah', 'yeh aag kab bujhegi', 'amiri garibi', 'aashiqui', 'agneekaal', 'shikari (1991 film)', 'vishnu-devaa', 'awaaz de kahan hai', 'awwal number', 'azaad desh ke gulam', 'amba (film)', 'baaghi: a rebel for love', 'baap numbri beta dus numbri', 'bahaar aane tak', 'bandh darwaza', 'agneepath (1990 film)', 'awaargi', 'c.i.d. (1990 film)', 'chor pe mor', 'dil (1990 film)', 'deewana mujh sa nahin', 'apmaan ki aag', 'ghar ho to aisa', 'drishti (film)', 'ek doctor ki maut', 'ghayal (1990 film)', 'dushman (1990 film)', 'hatim tai (1990 film)', 'doodh ka karz', 'gunahon ka devta (1990 film)', 'jawani zindabad', 'jamai raja', 'jai shiv shankar', 'kaarnama', 'hum se na takrana', 'izzatdaar', 'jeevan ek sanghursh', 'jeene do', 'maha-sangram', 'kishen kanhaiya', 'khatarnaak', 'mera pati sirf mera hai', 'police public', 'naaka bandi', 'pati patni aur tawaif', 'kafan (film)', 'kali ganga', 'jurm (1990 film)', 'pratibandh', 'sailaab (1990 film)', 'nyay anyay', 'shiva (1990 film)', 'shaitani ilaaka', 'pyar ke naam qurbaan', 'pyar ka karz', 'raeeszada', 'sheshnaag (film)', 'shandaar', 'sher dil', 'tejaa', 'swarg', 'veeru dada', 'zahreelay', 'taqdeer ka tamasha', 'thodasa roomani ho jaayen', 'thanedaar', 'ram lakhan', 'asmaan se ooncha', 'tridev', 'chaalbaaz', 'batwara', 'bade ghar ki beti', 'bahurani (1989 film)', 'bhrashtachar', 'maine pyar kiya', 'daata', 'dav pech', 'daddy (1989 film)', 'dana paani', 'chandni', 'eeshwar (1989 film)', 'do qaidi', 'gair kanooni', 'gawaahi', 'chingari (1989 film)', 'goonj (1989 film)', 'hero hiralal', 'ghar ka chiraag', 'guru (1989 film)', 'joshilaay', 'hisaab khoon ka', 'hum bhi insaan hain (1989 film)', 'ilaaka', 'jaadugar', 'hum intezaar karenge', 'jaaydaad', 'jaisi karni waisi bharnii', 'kanoon apna apna', 'khayal gatha', 'kala bazaar', 'jung baaz', 'ladaai', 'lashkar (film)', 'mahaadev', 'love love love (1989 film)', 'main azaad hoon', 'main tera dushman', 'nigahen: nagina part ii', 'mujrim', 'main tere liye', 'paraya ghar', 'prem pratigyaa', 'purani haveli (film)', 'sachai ki taqat', 'sachché ká bol-bálá', 'shehzaade', 'sikka (film)', 'suryaa: an awakening', 'toofan (1989 film)', 'parinda', 'raakh', 'ustaad (1989 film)', 'vardi (film)', 'vicky daada', 'aaj ka robin hood', 'aage ki soch', 'aakhri adaalat', 'agnee (1988 film)', 'akarshan', 'andha yudh', 'aaj ke angaare', 'aurat teri yehi kahani', 'charnon ki saugandh', 'bees saal baad (1988 film)', 'biwi ho to aisi', 'daisy (1988 film)', 'commando (1988 film)', 'dariya dil', 'dayavan', 'dharamyudh', 'do waqt ki roti', 'ek hi maqsad', 'ek naya rishta', 'halaal ki kamai', 'ganga tere desh mein', 'gangaa jamunaa saraswati', 'ghar ghar ki kahani (1988 film)', 'ghar mein ram gali mein shyam', 'gunahon ka faisla', 'faisla', 'hatya', 'hum farishte nahin', 'inteqam', 'jeete hain shaan se', 'jungle ki beti', 'kab tak chup rahungi', 'kabrastan', 'kanwarlal', 'kabzaa', 'khoon bhari maang', 'khatron ke khiladi (1988 film)', 'libaas', 'maalamaal', 'mahaveera (film)', 'main zinda hoon', 'mar mitenge', 'mardon wali baat', 'mohabbat ke dushman', 'mohre', 'mulzim', 'namumkin', 'paanch fauladi', 'om-dar-b-dar', 'paap ki duniya', 'paap ko jalaa kar raakh kar doonga', 'pestonjee', 'pushpaka vimana (1987 film)', 'pyaar mohabbat', 'rihaee (film)', 'rukhsat', 'saazish (1988 film)', 'ram-avtar', 'qatil', 'pyaar ka mandir', 'rama o rama', 'qayamat se qayamat tak', 'sherni', 'sagar sangam', 'sone pe suhaaga', 'shahenshah (1988 film)', 'soorma bhopali', 'shiv shakti', 'salaam bombay!', 'vijay (1988 film)', 'tezaab', 'the deceivers (film)', 'tohfa mohabbat ka', 'trishagni', 'veerana', 'zulm ko jala doonga', 'woh phir aayegi', 'waaris (1988 film)', 'waqt ki awaz', 'yateem', 'zakhmi aurat', 'zalzala (1988 film)', 'aag hi aag', 'aaj (film)', 'apne apne', 'aulad (1987 film)', 'awam (film)', 'dacait', 'dadagiri (film)', 'dak bangla', 'daku hasina', 'dance dance (film)', 'deewana tere naam ka', 'dil tujhko diya', 'hifazat (1987 film)', 'hawalaat', 'hiraasat', 'diljalaa', 'himmat aur mehanat', 'ijaazat', 'imaandaar', 'inaam dus hazaar', 'hukumat', 'insaniyat ke dushman', 'insaaf (1987 film)', 'jaan hatheli pe', 'jalwa', 'insaf ki pukar', 'itihaas (1987 film)', 'kaash', 'kaun jeeta kaun haara', 'khazana (film)', 'khudgarz', 'loha (1987 film)', 'jhanjhaar', 'mera yaar mera dushman', 'madadgaar', 'marte dam tak', 'mard ki zabaan', 'majaal', 'mera karam mera dharam', 'mera lahoo', 'pratighaat', 'mr. india (1987 film)', 'muqaddar ka faisla', 'naam o nishan', 'mirch masala', 'nazrana (1987 film)', 'param dharam', 'parivaar (1987 film)', 'pyaar karke dekho', 'pyar ki jeet (1987 film)', 'sadak chhap', 'pyar ke kabil', 'satyamev jayate (film)', 'sindoor (1987 film)', 'sitapur ki geeta', 'susman (film)', 'sutradhar (film)', 'thikana (film)', 'uttar dakshin', 'watan ke rakhwale', 'yeh woh manzil to nahin', 'aadamkhor', 'aag aur shola', 'aap ke saath', 'adhikar (1986 film)', 'aakhree raasta', 'aisa pyaar kahan', 'allah rakha (film)', 'amrit (film)', 'amma (1986 film)', 'andheri raat mein diya tere haath mein', 'ankush', 'anokha rishta', 'avinash (film)', 'anubhav (1986 film)', 'asli naqli', 'bhagwaan dada', 'baat ban jaye', 'chameli ki shaadi', 'dahleez', 'dharm adhikari', 'dilwaala', 'dosti dushmani', 'ek aur sikander', 'ek chadar maili si', 'ek ruka hua faisla', 'genesis (1986 film)', 'ghar sansar', 'haathon ki lakeeren', 'kala dhanda goray log', 'ilzaam', 'insaaf ki awaaz', 'jaal (1986 film)', 'jeeva (1986 film)', 'janbaaz', 'kaanch ki deewar', 'karma (1986 film)', 'khel mohabbat ka', 'love 86', 'main balwaan', 'love and god', 'mera dharam', 'mazloom', 'mera haque', 'naseeb apna apna (1986 film)', 'nasihat', 'new delhi times (film)', 'mohabbat ki kasam', 'muddat', 'naache mayuri', 'naam (1986 film)', 'suhaagan', 'palay khan (film)', 'pyar kiya hai pyar karenge', 'pyaar ke do pal', 'qatl', 'nagina (1986 film)', 'shart (1986 film)', 'saveray wali gaadi', 'singhasan', 'swarag se sunder', 'swati (1986 film)', 'tahkhana', 'tan-badan', 'shatru', 'aaj ka daur', 'zindagani', 'aakhir kyon?', 'aandhi-toofan', 'aar paar (1985 film)', 'adventures of tarzan', 'aitbaar', 'alag alag', 'aghaat', 'ameer aadmi gharib aadmi', 'ankahee (1985 film)', 'arjun (1985 film)', 'awara baap', 'babu (1985 film)', 'baadal', 'balidaan (1985 film)', 'bepanaah', 'bewafai', 'bhago bhut aaya', 'bhavani junction', 'bond 303', 'debshishu', 'dekha pyar tumhara', 'do dilon ki dastaan (1985 film)', 'durgaa', 'ek chitthi pyar bhari', 'ek se bhale do', 'faasle', 'damul', 'ghar dwaar', 'geraftaar', 'ghulami', 'haqeeqat (1985 film)', 'hoshiyar', 'hum dono (1985 film)', 'insaaf main karoonga', 'hum naujawan', 'jaan ki baazi', 'jhoothi', 'kabhie ajnabi the', 'jaanoo', 'karishma kudrat kaa', 'lava (1985 film)', 'lover boy (1985 film)', 'maa kasam (1985 film)', 'mard (1985 film)', 'maha shaktimaan', 'mahaguru (1985 film)', 'khamosh', 'karm yudh', 'nasoor', 'massey sahib', 'mera jawab', 'mera saathi', 'meraa ghar mere bachche', 'mohabbat (1985 film)', 'meri jung', 'phaansi ke baad', 'paisa yeh paisa', 'pighalta aasman', 'oonche log (1985 film)', 'pataal bhairavi', 'pyar jhukta nahin', 'pyari behna', 'ram teri ganga maili', 'rao saheb (film)', 'masterji', 'saagar (film)', 'saaheb', 'sarfarosh (1985 film)', 'sanjog (1985 film)', 'shiva ka insaaf', 'tawaif (film)', 'ram tere kitne naam', 'ulta seedha', 'trikal', 'teri meherbaniyan', 'yaadon ki kasam', 'yudh (film)', 'zamana (1985 film)', 'zabardast', 'zulm ka badla', 'aaj ka m.l.a. ram avtar', 'aaj ki awaaz', 'aan aur shaan', 'aasmaan', 'ab ayega mazaa', 'abodh', 'all rounder (1984 film)', 'anand aur anand', 'andar baahar', 'andhi gali', 'asha jyoti', 'awaaz', 'bhavna (film)', 'thaayillamal naan illai', 'dharm aur qanoon', 'bindiya chamkegi', 'boxer (1984 film)', 'duniya (1984 film)', 'ek nai paheli', 'haisiyat', 'gangvaa', 'hanste khelte (1984 film)', 'inquilaab (1984 film)', 'holi (1984 film)', 'insaaf kaun karega', 'jaag utha insan', 'jagir (film)', 'jawaani', 'jeene nahi doonga', 'john jani janardhan', 'jhutha sach (film)', 'kamla (film)', 'karishmaa', 'kasam paida karne wale ki', 'khandhar', 'laila (1984 film)', 'hip hip hurray (film)', 'ghar ek mandir (film)', 'mera faisla', 'lakhon ki baat', 'lorie (film)', 'love marriage (1984 film)', 'mashaal', 'meraa dost meraa dushman', 'meri adalat (1984 film)', 'mohan joshi hazir ho!', 'maqsad', 'my dear kuttichathan', 'naya kadam', 'parama (film)', 'paar (film)', 'phulwari (1984 film)', 'vayanadan thamban', 'purana mandir', 'qaidi (1984 film)', 'raaj tilak', 'raavan (1984 film)', 'rakta bandhan', 'saaransh', 'sasural (1984 film)', 'seepeeyan', 'sharara', 'sohni mahiwal (1984 film)', 'sunny (1984 film)', 'tarang (film)', 'party (1984 film)', 'yaadgaar (1984 film)', 'teri baahon mein', 'utsav', 'wanted: dead or alive (1984 film)', 'waqt ki pukar', 'sharaabi', 'tarkeeb', 'yeh desh', 'yeh ishq nahin aasaan', 'zakhmi sher', 'agar tum na hote', 'zameen aasmaan (1984 film)', 'achha bura', 'tohfa', 'andha kanoon', 'arohan (film)', 'arpan', 'avtaar', 'bade dil wala', 'bandhan kuchchey dhaagon ka', 'bekaraar', 'betaab', 'ardh satya', 'coolie (1983 hindi film)', 'chor police', 'ek baar chale aao', 'daulat ke dushman', 'doosri dulhan', 'faraib', 'gehri chot - urf: durdesh', 'hero (1983 film)', 'hum se hai zamana', 'jaane bhi do yaaro', 'jeet hamaari', 'justice chaudhury', 'karate (film)', 'himmatwala (1983 film)', 'kissi se na kehna', 'lalach', 'katha (1983 film)', 'log kya kahenge', 'kalaakaar', 'lovers (1983 film)', 'jaani dost', 'mahaan', 'main awara hoon', 'mandi (film)', 'masoom (1983 film)', 'mazdoor', 'mujhe insaaf chahiye', 'nastik (1983 film)', 'mawaali', 'naukar biwi ka', 'pasand apni apni', 'prem tapasya', 'pukar (1983 film)', 'qayamat', 'rishta kagaz ka', 'romance (1983 film)', 'rang birangi', 'sadma', 'shubh kaamna', 'sookha', 'taqdeer (1983 film)', 'woh jo hasina', 'souten', 'woh saat din', 'nishaan (film)', 'zara si zindagi', 'aadat se majboor', 'aadharshila', 'aagaman', 'aamne samne (1982 film)', 'angoor (1982 film)', 'anokha bandhan', 'aparoopa', 'apna bana lo', 'apradhi kaun? (1982 film)', 'arth (film)', 'ashanti (1982 film)', 'ayaash', 'baawri', 'badle ki aag', 'baghavat', 'bazaar (1982 film)', 'bemisal', 'bezubaan', 'ormakal marikkumo', 'dard ka rishta', 'bheegi palkein', 'daulat (1982 film)', 'chorni', 'deedar-e-yaar', 'desh premee', 'dharam kanta', 'dial 100 (1982 film)', 'dil-e-nadaan', 'do dishayen', 'do ustad', 'ghazab', 'farz aur kanoon', 'dulha bikta hai', 'gopichand jasoos', 'haathkadi (1982 film)', 'hamari bahu alka', 'insaan (1982 film)', 'jaanwar (1982 film)', 'johny i love you', 'khud-daar', 'jeeo aur jeene do', 'kaamchor', 'jeevan dhaara', 'disco dancer', 'main intequam loonga', 'madanolsavam', 'maine jeena seekh liya', 'lakshmi (1982 film)', 'meharbaani', 'mehndi rang layegi', 'namkeen', 'nadiya ke paar (1982 film)', 'namak halaal', 'nikaah (film)', 'prem rog', 'raaste pyar ke', 'rajput (film)', 'samraat (film)', 'saath saath (film)', 'sanam teri kasam (1982 film)', 'satte pe satta', 'sawaal (film)', 'shakti (1982 film)', 'shaukeen', 'shiv charan', 'situm (film)', 'shriman shrimati', 'star (1982 film)', 'sun sajna', 'suraag (1982 film)', 'taqdeer ka badshah', 'swami dada', 'teesri aankh (1982 film)', 'teri kasam', 'umbartha', 'ustadi ustad se', 'vijeta (1982 film)', 'vidhaata', 'yeh nazdeekiyan', 'yeh to kamaal ho gaya', 'yeh vaada raha (film)', 'chashme buddoor (1981 film)', 'chehre pe chehra', 'dard (1981 film)', 'dhanwan (1981 film)', 'dhuan', 'ek hi bhool', 'fiffty fiffty', 'ghamandee', 'ghungroo ki awaaz', 'harjaee', 'hum se badkar kaun', 'jail yatra', 'jeene ki arzoo', 'jiyo to aise jiyo', 'jwala daku', 'jyoti (1981 film)', 'kalyug (1981 film)', 'kaalia', 'kachche heere', 'katilon ke kaatil', 'khoon ka rishta', 'krodhi', 'khuda kasam (1981 film)', 'kudrat', 'laawaris (1981 film)', 'laparwah', 'love story (1981 film)', 'maan gaye ustaad', 'kranti', 'main aur mera haathi', 'plot no. 5', 'nakhuda (film)', 'meri aawaz suno', 'naseeb (1981 film)', 'naram garam', 'kahani ek chor ki', 'pyaasa sawan', 'raaz (1981 film)', 'professor pyarelal', 'prem geet', 'sadgati', 'rocky (1981 film)', 'waqt ki deewar', 'sansani: the sensation', 'sahhas', 'shakka (film)', 'tajurba', 'umrao jaan (1981 film)', 'wardat', 'yaarana (1981 film)', 'silsila (1981 film)', 'aap to aise na the', 'aanchal (1980 film)', 'zamane ko dikhana hai', 'aap ke deewane', 'aasha (1980 film)', 'abdullah (film)', 'albert pinto ko gussa kyoon aata hai', 'aakrosh (1980 film)', 'adventures of ali-baba and the forty thieves', 'arising from the surface', 'arising from the surface', 'apne paraye', 'be-reham', 'bandish (1980 film)', 'bombay 405 miles', 'chambal ki kasam', 'choron ki baaraat', 'chunaoti', 'dhan daulat', 'do aur do paanch', 'do premee', 'dostana (1980 film)', 'ek baar kaho', 'gehrayee', 'garam khoon', 'guest house (1980 film)', 'hum paanch (film)', 'jal mahal (film)', 'insaf ka tarazu', 'jazbaat (1980 film)', 'judaai (1980 film)', 'jwalamukhi (1980 film)', 'karz (film)', 'kali ghata (1980 film)', 'jyoti bane jwala', 'khanjar (1980 film)', 'khubsoorat', 'neeyat (film)', 'lootmaar', 'man pasand', 'nishana (1980 film)', 'patita (1980 film)', 'khwab', 'kismet (1980 film)', 'pyaara dushman', 'payal ki jhankaar', 'qurbani (film)', 'phir wahi raat', 'ram balram', 'red rose (1980 film)', 'saboot', 'sitara (1980 film)', 'sparsh (film)', 'shaan (film)', 'sau din saas ke', 'the burning train', 'takkar (1980 film)', 'taxi chor', 'the naxalites', 'thodisi bewafaii', 'unees-bees', 'yari dushmani', 'aakhri kasam', 'aatish (film)', 'ahinsa (1979 film)', 'ahsaas', 'amar deep (1979 film)', 'aur kaun?', 'bagula bhagat', 'baton baton mein', 'bhayaanak', 'dhongee', 'bin phere hum tere', 'dada (1979 film)', 'dil kaa heera', 'do ladke dono kadke', 'do shikaari', 'dooriyaan', 'duniya meri jeb mein', 'gautam govinda', 'allauddinum albhutha vilakkum', 'gol maal', 'gopal krishna (1979 film)', 'the great gambler', 'griha pravesh', 'hamare tumhare', 'har har gange', 'heera-moti', 'hum tere aashiq hain', 'jaan-e-bahaar', 'jaani dushman', 'janta hawaldar', 'jeena yahan', 'jhoota kahin ka', 'jurmana (1979 film)', 'kaala patthar', 'kartavya (1979 film)', 'khandaan (1979 film)', 'lahu ke do rang (1979 film)', 'lok parlok', 'maan apmaan', 'magroor (1979 film)', 'manzil (1979 film)', 'meera (1979 film)', 'meri biwi ki shaadi', 'mr. natwarlal', 'muqabla (1979 film)', 'nagin aur suhagin', 'nauker (1979 film)', 'noorie', 'prem bandhan', 'prem vivah', 'raadha aur seeta', 'ratnadeep (film)', 'saanch ko aanch nahin', 'salaam memsaab', 'sampark', 'sargam (1979 film)', 'sarkari mehmaan', 'sawan ko aane do', 'shaayad', 'shikshaa', 'shodh', 'solva sawan', 'suhaag (1979 film)', 'sunayana', 'surakksha', 'taraana', 'tere pyar mein (1979 film)', 'aahuti (1978 film)', 'aakhri daku', 'amar shakti', 'anjane mein', 'ankhiyon ke jharokhon se', 'arvind desai ki ajeeb dastaan', 'apna khoon', 'atithee', 'azaad (1978 film)', 'badalte rishtey', 'besharam', 'bhola bhala', 'chakravyuha (1978 film)', 'chor ho to aisa', 'chor ke ghar chor', 'college girl (1978 film)', 'do musafir', 'des pardes (1978 film)', 'damaad', 'daaku aur jawan', 'devata (1978 film)', 'dillagi (1978 film)', 'don (1978 film)', 'gaman', 'dil se mile dil', \"hullabaloo over georgie and bonnie's pictures\", 'ganga ki saugandh', 'heeralaal pannalal (1978 film)', 'ghar (film)', 'karmayogi (1978 film)', 'kasme vaade', 'khatta meetha (1978 film)', 'khoon ka badla khoon', 'khoon ki pukaar', 'main tulsi tere aangan ki', 'kondura', 'mera rakshak', 'muqaddar ka sikandar', 'nasbandi', 'naya daur (1978 film)', 'phaansi', 'phool khile hain gulshan gulshan (film)', 'phandebaaz', 'ram kasam', 'saajan bina suhagan', 'safed haathi', 'shalimar (1978 film)', 'sone ka dil lohe ke haath', 'toote khilone', 'swarg narak', 'trishna (1978 film)', 'aadmi sadak ka', 'tumhare liye', 'vishwanath (1978 film)', 'aakhri goli', 'aafat', 'satyam shivam sundaram', 'aaina (1977 film)', 'aap ki khatir (1977 film)', 'aashiq hoon baharon ka', 'adalat (1976 film)', 'abhi to jee lein', 'ab kya hoga', 'adha din aadhi raat', 'agar... if', 'agent vinod (1977 film)', 'alaap', 'amaanat', 'alibaba marjinaa', 'anand ashram', 'anurodh', 'apnapan', 'chaani', 'chacha bhatija', 'chakkar pe chakkar', 'chala murari hero banne', 'chalta purza', 'chandi sona', 'charandas', 'chhailla babu', 'chor sipahee', 'daku aur mahatma', 'darling darling (1977 film)', 'dharam veer (film)', 'dildaar', 'do sholay', 'doosra aadmi', 'amar akbar anthony', 'bhumika (film)', 'ek hi raasta (1977 film)', 'dulhan wahi jo piya man bhaye', 'dream girl (1977 film)', 'farishta ya qatil', 'haiwan', 'gharaonda', 'hatyara', 'hira aur patthar', 'hum kisise kum naheen', 'immaan dharam', 'inkaar (1977 film)', 'jadu tona', 'jallian wala bagh', 'jay vejay', 'kachcha chor', 'kalabaaz', 'karm', 'kasum khoon ki', 'khoon pasina', 'khel khilari ka', 'kinara (film)', 'kissa kursi ka', 'kitaab', 'kotwal saab', 'maha badmaash', 'mama bhanja', 'mukti (1977 film)', 'paapi', 'paheli (1977 film)', 'palkon ki chhaon mein', 'pandit aur pathan', 'parvarish (1977 film)', 'safed jhooth', 'priyatama', 'manmadha leelai', 'ram bharose', 'the chess players (film)', 'saheb bahadur', 'shankar hussain', 'taxi taxie', 'shirdi ke sai baba', 'tyaag', 'yaaron ka yaar', 'yehi hai zindagi', 'aaj ka mahaatma', 'aaj ka ye ghar', 'aap beati', 'arjun pandit (1976 film)', 'bairaag', 'bajrangbali (film)', 'swami (1977 film)', 'balika badhu (1976 film)', 'barood (1976 film)', 'bhala manus', 'bhanwar', 'chalte chalte (1976 film)', 'bullet (1976 film)', 'bundal baaz', 'charas (1976 film)', 'chhoti si baat', 'chitchor', 'deewaangee', 'do anjaane', 'dus numbri', 'ek se badhkar ek (1976 film)', 'ginny aur johnny', 'hera pheri (1976 film)', 'jaaneman (1976 film)', 'jeevan jyoti (1976 film)', 'kabeela', 'kabhie kabhie (1976 film)', 'kalicharan', 'khaan dost', 'lagaam (1976 film)', 'laila majnu (1976 film)', 'fakira (film)', 'maa (1976 film)', 'maha chor', 'mazdoor zindabaad', 'mehbooba (1976 film)', 'manthan', 'naach uthe sansaar', 'mrigayaa', 'nagin (1976 film)', 'nehle pe dehla', 'rakhi aur rifle', 'rangila ratan', 'sabse bada rupaiya (1976 film)', 'sajjo rani', 'shankar shambhu', 'shaque', 'sharafat chod di maine', 'sita kalyanam (1976 film)', 'tapasya (1976 film)', 'udhar ka sindur', 'zindagi (1976 film)', 'aa jaa sanam', 'aakhri daao', 'aakraman', 'aandhi', 'anari (1975 film)', 'anokha', 'apne rang hazaar', 'apne dushman', 'andhera', 'balak aur janwar', 'chaitali (film)', 'shankar dada', 'dafaa 302', 'dharmatma', 'chori mera kaam', 'chupke chupke', 'deewaar', 'dharam karam', 'charandas chor', 'amanush', 'dhoti lota aur chowpatty', 'do jasoos', 'do jhoot', 'do thug', 'dulhan (1975 film)', 'ek mahal ho sapno ka', 'faraar', 'jaan hazir hai', 'himalay se ooncha', 'geet gaata chal', 'jaggu', 'jai santoshi maa', 'julie (1975 film)', 'kaagaz ki nao', 'kaala sona', 'kahte hain mujhko raja', 'khel khel mein', 'lafange', 'khushboo (1975 film)', 'mausam (1975 film)', 'mazaaq', 'mere sajna', 'mili (1975 film)', 'natak', 'nishant (film)', 'ponga pandit', 'pratigya (1975 film)', 'rafoo chakkar', 'raftaar (1975 film)', 'rani aur lalpari', 'saazish (1975 film)', 'salaakhen (1975 film)', 'prem kahani (1975 film)', 'sewak', 'sanyasi (1975 film)', 'sunehra sansar', 'uljhan', 'sholay', 'umar qaid', 'vardaan', 'vandana (film)', 'warrant (film)', 'zakhmee', 'zameer (1975 film)', 'zinda dil', 'zorro (1975 hindi film)', '27 down', '36 ghante', '5 rifles', 'aap ki kasam', 'aarop', 'ajanabee (1974 film)', 'avishkaar', 'amir garib', 'ankur (film)', 'azad mohabbat', 'badhti ka naam dadhi', 'call girl (1974 film)', 'benaam (1974 film)', 'bidaai (1974 film)', 'charitraheen', 'chhote sarkar (1974 film)', 'chor chor', 'chor machaye shor', 'chorus (1974 film)', 'chowkidar', 'dil diwana', 'doosri sita', 'dost (1974 film)', 'duniya ka mela', 'ek anek aur ekta', 'farebi', 'geetaa mera naam', 'goonj (1974 film)', 'haath ki safai', 'hamrahi', 'hanuman vijay', 'hawas', 'humshakal (1974 film)', 'insaaniyat', 'international crook', 'ishk ishk ishk', 'jadu ka shankh', 'jeevan sangram', 'kasauti', 'khote sikkay', 'khoon ki keemat', 'kisan aur bhagwan', 'kora kagaz', 'kunwara baap (1974 film)', 'majboor (1974 film)', 'madhosh (1974 film)', 'manzilein aur bhi hain', 'mere saath chal', 'manoranjan', 'resham ki dori', 'naya din nai raat', 'phir kab milogi', 'pran jaye par vachan na jaye', 'pocket maar (1974 film)', 'rajnigandha', 'roti (1974 film)', 'roti kapda aur makaan', 'sagina (film)', 'parinay', 'aaj ki taaza khabar', 'zehreela insaan', 'abhimaan (1973 film)', 'achanak (1973 film)', 'agni rekha', 'anokhi ada', 'anhonee (1973 film)', 'anamika (1973 film)', 'bada kabutar', 'banarasi babu (1973 film)', 'bandhe haath', 'barkha bahar', 'blackmail (1973 film)', 'bobby (1973 film)', 'chhalia (1973 film)', 'aa gale lag jaa (1973 film)', 'do phool', 'dharma (1973 film)', 'chhupa rustam', 'dhamkee', 'daag (1973 film)', 'dhund (1973 film)', 'gehri chaal', 'duvidha', 'ek mutthi aasmaan', 'ek kunwari ek kunwara', 'gaai aur gori', 'ek nari do roop', 'garm hava', 'ghulam begam badshah', 'jaise ko taisa', 'jalte badan', 'joshila', 'jheel ke us paar', 'jwaar bhata', 'kahani hum sab ki', 'hanste zakhm', 'honeymoon (1973 film)', 'hindustan ki kasam', 'heera panna', 'insaaf (1973 film)', 'kahani kismat ki', 'kashmakash (1973 film)', 'keemat (1973 film)', 'jugnu', 'khoon khoon', 'loafer (1973 film)', 'manchali', 'mehmaan (film)', 'mera desh mera dharam', 'nafrat', 'namak haraam', 'naya nasha', 'rickshawala', 'saudagar (1973 film)', 'shareef budmaash', 'yaadon ki baaraat', 'zanjeer (1973 film)', 'aan baan (1972 film)', 'aankh micholi', 'aankhon aankhon mein', 'amar prem', 'anokhi pehchan', 'annadata (1972 film)', 'anokha daan', 'anokha milan', 'apna desh', 'anuraag (1972 film)', 'apradh', 'babul ki galiyaan', 'baharon phool barsao', 'bansi birju', 'bawarchi', 'be-imaan', 'bees saal pehle', 'bhai ho to aisa', 'bombay to goa', 'dastaan (1972 film)', 'dharkan', 'dil daulat duniya', 'dil ka raja', 'ek bar mooskura do', 'do gaz zameen ke neeche', 'do yaar', 'do chor', 'double cross (1972 film)', 'dushman (1971 film)', 'ek adhuri kahani', 'ek bechara', 'ek hasina do diwane', 'ek khiladi bawan pattey', 'ek nazar', 'gaon hamara shaher tumhara', 'garam masala (1972 film)', 'gomti ke kinare', 'gora aur kala', 'haar jeet (1972 film)', 'do bachche dus haath', 'hari darshan', 'jangal mein mangal', 'janwar aur insaan', 'jawani diwani', 'joroo ka ghulam', 'lalkaar', 'maalik (1972 film)', 'maya darpan', 'mere bhaiya', 'milap', 'mere jeevan saathi (1972 film)', 'mome ki gudiya', 'koshish', 'pakeezah', 'parichay (film)', 'piya ka ghar', 'pyaar diwana', 'raampur ka lakshman', 'raja jani', 'raaste kaa patthar', 'rakhi aur hathkadi', 'rani mera naam', 'rivaaj', 'roop tera mastana', 'sa-re-ga-ma-pa', 'sabse bada sukh', 'sazaa (1972 film)', 'samadhi (1972 film)', 'sanjog (1972 film)', 'seeta aur geeta', 'shaadi ke baad', 'shehzada', 'tangewala', 'victoria no. 203', 'yeh gulistan hamara', 'zameen aasmaan (1972 film)', 'subah-o-shaam', 'zindagi zindagi', 'zaroorat', 'shor (film)', 'anand (1971 film)', 'aap aye bahaar ayee', 'albela (1971 film)', 'adhikar (1971 film)', 'andaz (1971 film)', 'anubhav (1971 film)', 'balidaan (1971 film)', 'banphool', 'bikhre moti', 'beharoopia', 'buddha mil gaya', 'chaahat (1971 film)', 'do raha', 'do boond pani', 'chhoti bahu', 'door ka raahi', 'ek nari ek brahmachari', 'badnam farishte', 'caravan (1971 film)', 'haathi mere saathi (1971 film)', 'elaan (1971 film)', 'ek paheli', 'ganga tera pani amrit', 'guddi (1971 film)', 'gambler (film)', 'hare rama hare krishna (1971 film)', 'haseenon ka devata', 'hulchul (1971 film)', 'hum tum aur woh (1971 film)', 'hungama (1971 film)', 'jaane-anjaane', 'jai bangladesh', 'jawan mohabbat', 'johar mehmood in hong kong', 'jal bin machhli nritya bin bijli', 'jwala (1971 film)', 'kal aaj aur kal', 'kangan (1971 film)', 'kathputli (1971 film)', 'khoj (1971 film)', 'ladki pasand hai', 'lakhon mein ek', 'lal patthar', 'main sunder hoon', 'man mandir', 'kati patang', 'mehboob ki mehndi', 'mela (1971 film)', 'memsaab (film)', 'maryada (1971 film)', 'mere apne', 'mera gaon mera desh', 'naya zamana', 'paras (film)', 'patanga', 'parde ke peechey', 'paraya dhan', 'parwana (1971 film)', 'preet ki dori', 'preetam', 'rakhwala (1971 film)', 'pyar ki kahani', 'reshma aur shera', 'sansar (1971 film)', 'seema (1971 film)', 'sharmeelee', 'shri krishna leela', 'tere mere sapne (1971 film)', 'tulsi vivah (film)', 'upaasna', 'uphaar', 'johny mera naam', 'sachaa jhutha', 'aan milo sajna', 'purab aur paschim', 'safar (1970 film)', 'humjoli', 'the train (1970 film)', 'khilona (1970 film)', 'kab? kyoon? aur kahan?', 'jeevan mrityu', 'tum haseen main jawaan', 'pehchan (1970 film)', 'gopi (1970 film)', 'ganwaar', 'sharafat', 'sawan bhadon', 'abhinetri', 'aansoo aur muskan', 'rootha na karo', 'saas bhi kabhi bahu thi', 'suhana safar', 'ghar ghar ki kahani', 'geet (1970 film)', 'heer raanjha', 'mastana (1970 film)', 'devi (1970 film)', 'bhai bhai', 'aag aur daag', 'bachpan', 'bhai-bhai', 'chetna', 'dastak (1970 film)', 'dharti', 'ek nanhi munni ladki thi', 'gunah aur kanoon', 'himmat (1970 film)', 'holi ayee re', 'insaan aur shaitan', 'ishq par zor nahin', 'jawab (1970 film)', 'maa aur mamta', 'bombay talkie', 'man ki aankhen', 'mera naam joker', 'mere humsafar', 'moojrim', 'my love (1970 film)', 'naya raasta', 'pagla kahin ka', 'pardesi', 'pavitra paapi', 'prem pujari', 'puraskar', 'pushpanjali (1970 film)', 'raaton ka raja', 'samaj ko badal dalo', 'yaadgaar (1970 film)', 'aadmi aur insaan', 'aansoo ban gaye phool', 'anjaana', 'anmol moti', 'anjaan hai koi', 'badi didi', 'bandhan (1969 film)', 'beti (film)', 'chanda aur bijli', 'chirag', 'dharti kahe pukar ke (1969 film)', 'do bhai (1969 film)', 'aradhana (1969 film)', 'aya sawan jhoom ke', 'the gold medal (film)', 'doli (film)', 'ek phool do mali', 'ek shrimaan ek shrimati', 'the guru (1969 film)', 'intaqam', 'bhuvan shome', 'do raaste', 'jigri dost', 'jahan pyar mile', 'jeene ki raah', 'mahal (1969 film)', 'ittefaq (1969 film)', 'mahua (film)', 'prince (1969 film)', 'pyar ka mausam', 'pyar ka sapna', 'rahgir', 'raja saab', 'sachaai', 'sajan (1969 film)', 'khamoshi (1970 film)', 'pyar hi pyar', 'shatranj (1969 film)', 'talash (1969 film)', 'satyakam', 'sara akash', 'tumse achha kaun hai', 'vishwas (film)', 'waris (1969 film)', 'yakeen (1969 film)', 'do kaliyaan', 'ankhen (1968 film)', 'ankhen (1968 film)', 'saat hindustani', 'neel kamal (1968 film)', 'shikar (1968 film)', 'padosan', 'kanyadaan (1968 film)', 'brahmachari (1968 hindi film)', 'brahmachari (1968 hindi film)', 'aadmi (1968 film)', 'duniya (1968 film)', 'aabroo (1968 film)', 'aashirwad', 'haseena maan jayegi', 'abhilasha (1968 film)', 'anokhi raat', 'aulad (1968 film)', 'baazi (1968 film)', 'baharon ki manzil (1968 film)', 'balram shri krishna', 'bambai raat ki bahon mein', 'ek kali muskai', 'do dooni char', 'gauri (1968 film)', 'humsaya', 'izzat (1968 film)', 'jhuk gaya aasman', 'kahin aur chal', 'khiladi (1968 film)', 'kismat (1968 film)', 'mere hamdam mere dost', 'mere huzoor', 'raja aur runk', 'saathi', 'sadhu aur shaitaan', 'ek phool ek bhool', 'sunghursh', 'teen bahuraniyan', 'saraswatichandra (film)', 'upkar', 'upkar', 'suhaag raat (1968 film)', 'sapno ka saudagar', 'ram aur shyam', 'ram aur shyam', 'farz (1967 film)', 'aag (1967 film)', 'shagird', 'hamraaz', 'mehrban', 'patthar ke sanam', 'milan (1967 film)', 'aman (film)', 'an evening in paris', 'jewel thief', 'jewel thief', 'anita (1967 film)', 'around the world (1967 film)', 'aurat (1967 film)', 'baharon ke sapne', 'bahu begum', 'bhakta prahlada (1967 film)', 'boond jo ban gayee moti', 'c.i.d. 909', 'chand par chadayee', 'chandan ka palna', 'chhoti si mulaqat', 'aamne samne (1967 film)', 'diwana (1967 film)', 'dulhan ek raat ki', 'ghar ka chiraag (1967 film)', 'gunahon ka devta (1967 film)', 'hare kanch ki chooriyan', 'hatey bazarey', 'jaal (1967 film)', 'jab yaad kisi ki aati hai', 'nai roshni (1967 film)', 'majhli didi', 'naunihal', 'night in london', 'noor jehan (film)', 'raaz (1967 film)', 'raat aur din', 'wahan ke log', 'woh koi aur hoga', 'phool aur patthar', 'phool aur patthar', 'suraj (1966 film)', 'mera saaya', 'do badan', 'aaye din bahar ke', 'sawan ki ghata', 'teesri manzil', 'dus lakh', 'pyar kiye jaa', 'pyar kiye jaa', 'anupama (1966 film)', 'baharen phir bhi aayengi', 'budtameez', 'daku mangal singh', 'daadi maa', 'devar', 'amrapali', 'love in tokyo', 'love in tokyo', 'space sheriff gavan', 'ladki sahyadri ki', 'mohabbat zindagi hai (1966 film)', 'neend hamari khwab tumhare', 'sagaai', 'teesri kasam', 'yeh zindagi kitni haseen hai', 'yeh raat phir na aayegi (1966 film)', 'akashdeep', 'aasman mahal', 'arzoo (1965 film)', 'bedaag', 'bhoot bungla', 'chand aur suraj', 'chhoti chhoti baten', 'guide (film)', 'himalay ki god mein', 'hum sab ustad hain', 'janwar (1965 film)', 'bheegi raat', 'johar-mehmood in goa', 'khandan (1965 film)', 'kaajal', 'mahabharat (1965 film)', 'mere sanam', 'gumnaam', 'neela aakash', 'nishan (1965 film)', 'oonche log (1965 film)', 'poonam ki raat', 'purnima (film)', 'jab jab phool khile', 'rishte naate', 'shaheed (1965 film)', 'shakespeare wallah', 'sindbad alibaba and aladdin', 'teen devian', 'ayee milan ki bela', 'dosti', 'ziddi (1964 film)', 'rajkumar (1964 film)', 'kashmir ki kali', 'haqeeqat (1964 film)', 'zindagi (1964 film)', 'april fool (1964 film)', 'aao pyaar karen (1964 film)', 'aap ki parchhaiyan', 'apne huye paraye', 'awara badal', 'sangam (1964 hindi film)', 'waqt (1965 film)', 'benazir (1964 film)', 'door ki awaaz', 'char dervesh', 'chitralekha (1964 film)', 'door gagan ki chhaon mein', 'daal me kala', 'jahan ara (film)', 'ganga ki lahren', 'gazal (1964 film)', 'dulha dulhan', 'woh kaun thi?', 'woh kaun thi?', 'kohraa (1964)', 'leader (1964 film)', 'majboor (1964 film)', 'mr. x in bombay', 'main bhi ladki hoon', 'mera qasoor kya hai', 'geet gaya patharon ne', 'sanjh aur savera', 'pooja ke phool', 'sant gyaneshwar', 'shabnam (1964 film)', 'shagoon', 'shehnai (1964 film)', 'yaadein (1964 film)', 'mere mehboob', 'taj mahal (1963 film)', 'phir wohi dil laya hoon', 'gumrah (1963 film)', 'phoolon ki sej', 'mujhe jeene do', 'akeli mat jaiyo', 'shikari (1963 film)', 'tere ghar ke samne', 'gehra daag', 'bandini (film)', 'bandini (film)', 'aaj aur kal (1963 film)', 'dil ek mandir', 'bharosa', 'bahurani (1963 film)', 'bluff master (1963 film)', 'begaana (1963 film)', 'dil hi to hai (1963 film)', 'ek dil sau afsane', 'ghar basake dekho', 'faulad', 'grahasti (1963 film)', 'kaun apna kaun paraya', 'kahin pyaar na ho jaaye (1963 film)', 'laagi nahi chhute ram', 'kinare kinare', 'the householder', 'meri surat teri ankhen', 'nartaki (1963 film)', 'parasmani', 'phool bane angaare', 'pyar ka bandhan', 'raaja', 'rustam sohrab', 'rustom-e-baghdad', 'sehra (film)', 'shehar aur sapna', 'ustadon ke ustad (1963 film)', 'yeh dil kisko doon', 'yeh rastey hain pyar ke', 'bees saal baad (1962 film)', 'professor (1962 film)', 'asli-naqli', 'dil tera diwana (1962 film)', 'sangeet samrat tansen', 'aashiq (1962 film)', 'apna banake dekho', 'anpadh', 'anpadh', 'dr. vidya', 'baat ek raat ki', \"girls' hostel\", 'gyara hazar ladkian', 'ek musafir ek hasina', 'ek musafir ek hasina', 'hariyali aur rasta', 'hariyali aur rasta', 'jhoola (1962 film)', 'main chup rahungi', 'man-mauji', 'half ticket', 'prem patra', 'aarti (film)', 'rakhi (1962 film)', 'rungoli', 'shaadi (1962 film)', 'soorat aur seerat', 'naughty boy (film)', 'gunga jumna', 'gharana (1961 film)', 'junglee (1961 film)', 'tower house (1962 hindi film)', 'aas ka panchhi', 'jab pyar kisi se hota hai', 'jab pyar kisi se hota hai', 'sasural (1961 film)', 'sasural (1961 film)', 'hum dono (1961 film)', 'china town (1962 film)', 'sahib bibi aur ghulam', 'boy friend (1961 film)', 'bhabhi ki chudiyan', 'kabuliwala (1961 film)', 'shola aur shabnam (1961 film)', 'amar rahe yeh pyar', 'chhaya (film)', 'dharmputra', 'hamari yaad aayegi', 'jhumroo', 'maya (1961 film)', 'memdidi', 'mr. india (1961 film)', 'nazrana (1961 film)', 'opera house (1961 film)', 'roop ki rani choron ka raja (1961 film)', 'sampoorna ramayana', 'stree (1961 film)', 'zabak', 'barsaat ki raat', 'chaudhvin ka chand', 'teen kanya', 'kohinoor (1960 film)', 'dil apna aur preet parai', 'dil apna aur preet parai', 'jis desh mein ganga behti hai', 'jis desh mein ganga behti hai', 'kanoon', 'ghunghat (1960 film)', 'kala bazar', 'anuradha (1960 film)', 'bewaqoof', 'love in simla', 'chhalia', 'college girl (1960 film)', 'bombai ka babu', 'dil bhi tera hum bhi tere', 'bindiya (1960 film)', 'ek ke baad ek', 'ek phool char kante', 'hum hindustani', 'jaali note', 'kalpana (1960 film)', 'manzil (1960 film)', 'masoom (1960 film)', 'parakh (1960 film)', 'return of mr. superman', 'shriman satyawadi', 'singapore (1960 film)', 'tu nahin aur sahi', 'usne kaha tha', 'sarhad (1960 film)', 'zameen ke tare', 'paigham', 'navrang', 'anari', 'anari', 'dhool ka phool', 'goonj uthi shehnai', 'dil deke dekho', 'sujata (1959 film)', 'chhoti bahen', 'chirag kahan roshni kahan', 'ardhangini (film)', 'chand (film)', 'aangan (1959 film)', 'daaka', 'jawani ki hawa (1959 film)', 'do ustad (1959 film)', 'char dil char rahen', 'insan jaag utha', 'barkha (1960 film)', 'kaagaz ke phool', 'kanhaiya (1959 film)', 'love marriage (1959 film)', 'main nashe mein hoon', 'raat ke rahi', 'madhumati', 'madhumati', 'chalti ka naam gaadi', 'yahudi', 'yahudi', 'phir subah hogi', 'veerapandiya kattabomman (film)', 'shararat (1959 film)', 'sadhna (1958 film)', 'parvarish (1958 film)', 'kala pani (1958 film)', 'howrah bridge (film)', 'dilli ka thug', 'phagun (1958 film)', 'adalat (1958 film)', 'aji bas shukriya', 'amardeep (1958 film)', \"12 o'clock (film)\", 'detective (1958 film)', 'devar bhabhi', 'do phool (1958 film)', 'ek shola', 'ghar sansar (1958 film)', 'jailor (1958 film)', 'mehndi (1958 film)', 'lajwanti', 'khazanchi (1958 film)', 'raj tilak (1958 film)', 'sahara (1958 film)', 'sitaron se aage', 'sohni mahiwal (1958 film)', 'solva saal', 'talaq (1958 film)', 'ragini (1958 film)', 'naya daur (1957 film)', 'zimbo (film)', 'mother india', 'do aankhen barah haath', 'paying guest', 'paying guest', 'aasha (1957 film)', 'bhabhi (1957 film)', 'pyaasa', 'pyaasa', 'tumsa nahin dekha (1957 film)', 'musafir (1957 film)', 'ab dilli dur nahin', 'sharada (1957 film)', 'dekh kabira roya', 'ek gaon ki kahani', 'kathputli (1957 film)', 'hum panchhi ek daal ke', 'dushman (1957 film)', 'baarish (film)', 'nau do gyarah', 'journey beyond three seas', 'nausherwan-e-adil', 'mai baap', 'suvarna sundari', 'c.i.d. (1956 film)', 'chori chori', 'chori chori', 'basant bahar (film)', 'new delhi (1956 film)', 'raj hath', 'ek hi raasta (1956 film)', 'toofan aur deeya', 'bhai-bhai (1956 film)', 'funtoosh', '26 january (film)', 'aan baan (1956 film)', 'bhagam bhag (1956 film)', 'devta (1956 film)', 'hatim tai (1956 film)', 'halaku (film)', 'hum sab chor hain (1956 film)', 'inspector (1956 film)', 'kismet ka khel', 'chhoo mantar', 'jagte raho', 'rangeen raten', 'sailaab (1956 film)', 'azaad (1955 film)', 'uran khatola (film)', 'uran khatola (film)', \"mr. & mrs. '55\", 'insaniyat (1955 film)', 'naya andaz', 'munimji', 'pocket maar (1956 film)', 'devdas (1955 film)', 'seema (1955 film)', 'adl-e-jehangir', 'abe-hayat (film)', 'shree 420', 'jhanak jhanak payal baaje', 'amanat (1955 film)', 'char paise', 'garam coat', 'baap re baap', 'faraar (1955 film)', 'marine drive (film)', 'house no. 44', 'kundan (film)', 'milap (1955 film)', 'railway platform (film)', 'sardar (1955 film)', 'swami vivekananda (1955 film)', 'yasmin (1955 film)', 'nastik (1954 film)', 'nagin (1954 film)', 'taxi driver (1954 film)', 'mirza ghalib (film)', 'mirza ghalib (film)', 'aar paar', 'jagriti', 'jagriti', 'amar (1954 film)', 'adhikar (1954 film)', 'angarey', 'boot polish (film)', 'boot polish (film)', 'baadbaan', 'baap beti', 'badshah (1954 film)', 'bahut din huwe', 'biraj bahu', 'hamlet (1954 film)', 'chandni chowk (film)', 'mayurpankh', 'naukari', 'ramayan (1954 film)', 'shabaab (film)', 'subah ka tara', 'anarkali (1953 film)', 'ladki', 'do bigha zamin', 'footpath (1953 film)', 'parineeta (1953 film)', 'shikast', 'shikast', 'humsafar', 'aah (film)', 'aabshar', 'armaan (1953 film)', 'alif laila (1953 film)', 'aurat (1953 film)', 'baaz', 'jeewan jyoti (1953 film)', 'jhansi ki rani (1953 film)', 'patita (1953 film)', 'shahenshah (1953 film)', 'baiju bawra (film)', 'jaal (1952 film)', 'daag (1952 film)', 'teen batti char raasta', 'anhonee (1952 film)', 'maa (1952 film)', 'aan', 'aan', 'sangdil', 'sangdil', 'aandhiyan (1952 film)', 'amber (film)', 'aladdin aur jadui chirag', 'anand math', 'diwana (1952 film)', 'mr. sampat', 'parchhain', 'tamasha (1952 film)', 'albela (1951 film)', 'afsana (film)', 'baazi (1951 film)', 'aaram (film)', 'bahar (film)', 'awaara', 'deedar (1951 film)', 'marmayogi', 'hulchul (1951 film)', 'jadoo (1951 film)', 'kali ghata (1951 film)', 'madhosh (1951 film)', 'naujawan (1951 film)', 'saiyan (film)', 'sanam (1951 film)', 'sazaa (1951 film)', 'tarana (1951 film)', 'aadhi raat', 'aankhen (1950 film)', 'afsar (1950 film)', 'anmol ratan', 'arzoo (1950 film)', 'bawre nain', 'beqasoor', 'babul (1950 film)', 'dastan (1950 film)', 'jogan (film)', 'samadhi (1950 film)', 'sangram (1950 film)', 'sargam (1950 film)', 'sheesh mahal (1950 film)', 'meena bazaar (film)']\n"
          ]
        }
      ]
    },
    {
      "cell_type": "markdown",
      "source": [
        "## Recommedation"
      ],
      "metadata": {
        "id": "CKuYDt2GQD8i"
      }
    },
    {
      "cell_type": "code",
      "source": [
        "# getting the name as input for recommendation\n",
        "\n",
        "movie_name = input('Enter your movie name : ')"
      ],
      "metadata": {
        "colab": {
          "base_uri": "https://localhost:8080/"
        },
        "id": "fhvXVDDBP7VV",
        "outputId": "a77bc8c9-d21d-4f74-ea43-33a9436afe05"
      },
      "execution_count": 359,
      "outputs": [
        {
          "name": "stdout",
          "output_type": "stream",
          "text": [
            "Enter your movie name : blue\n"
          ]
        }
      ]
    },
    {
      "cell_type": "code",
      "source": [
        "# finding the movie name given by the user\n",
        "\n",
        "find_close_match = difflib.get_close_matches(movie_name, list_of_all_titles)\n",
        "print(find_close_match)"
      ],
      "metadata": {
        "colab": {
          "base_uri": "https://localhost:8080/"
        },
        "id": "5GlIJnpJJZA5",
        "outputId": "5e06f141-3cb2-40dd-e18b-c617af1fc89c"
      },
      "execution_count": 360,
      "outputs": [
        {
          "output_type": "stream",
          "name": "stdout",
          "text": [
            "['billu']\n"
          ]
        }
      ]
    },
    {
      "cell_type": "code",
      "source": [
        "close_match = find_close_match[0]\n",
        "print(close_match)"
      ],
      "metadata": {
        "colab": {
          "base_uri": "https://localhost:8080/"
        },
        "id": "jM9zGJXUJxN4",
        "outputId": "982f388d-8d15-46ab-f2dc-b7517684ef79"
      },
      "execution_count": 361,
      "outputs": [
        {
          "output_type": "stream",
          "name": "stdout",
          "text": [
            "billu\n"
          ]
        }
      ]
    },
    {
      "cell_type": "code",
      "source": [
        "# Index of movie with title and data\n",
        "\n",
        "index_of_movie = dataset[dataset.title_x == close_match]['index'].values[0]\n",
        "# we are finding the index of movie by comparing the title of each movie with closly matched string and returing its index \n",
        "print(index_of_movie)"
      ],
      "metadata": {
        "colab": {
          "base_uri": "https://localhost:8080/"
        },
        "id": "SoK5rq0MKOSM",
        "outputId": "c210c92a-5332-4c93-94e7-c449d3b51fc0"
      },
      "execution_count": 362,
      "outputs": [
        {
          "output_type": "stream",
          "name": "stdout",
          "text": [
            "925\n"
          ]
        }
      ]
    },
    {
      "cell_type": "code",
      "source": [
        "# finding similariy score \n",
        "\n",
        "score = list(enumerate(similarity[index_of_movie]))\n",
        "print(score)"
      ],
      "metadata": {
        "colab": {
          "base_uri": "https://localhost:8080/"
        },
        "id": "t3Hul74GKqv2",
        "outputId": "ae918373-85ea-423a-b7ad-e5f631f4c860"
      },
      "execution_count": 363,
      "outputs": [
        {
          "output_type": "stream",
          "name": "stdout",
          "text": [
            "[(0, 0.0504603935512987), (1, 0.05598679100700425), (2, 0.05008182954465237), (3, 0.03091013033161837), (4, 0.04338666268313743), (5, 0.021535770823434677), (6, 0.03315927165210743), (7, 0.03495016744334574), (8, 0.05396719645150364), (9, 0.08491605128992966), (10, 0.041881722861691145), (11, 0.07698273909067933), (12, 0.023594408176935467), (13, 0.06429101255829549), (14, 0.0732936832379373), (15, 0.07073957309329039), (16, 0.0338109621413548), (17, 0.057734160657368125), (18, 0.04362084199199213), (19, 0.06277161640147189), (20, 0.03849491106322587), (21, 0.013384318042419463), (22, 0.04181166792143568), (23, 0.061930549802034704), (24, 0.047648353531583844), (25, 0.03710164697565409), (26, 0.09630699719611745), (27, 0.050498808327166606), (28, 0.07162441411533162), (29, 0.027876387811893888), (30, 0.021585084100274262), (31, 0.003907695911260164), (32, 0.04798942471085578), (33, 0.027231715289926364), (34, 0.042141298665423016), (35, 0.038348949972527246), (36, 0.03607553377738772), (37, 0.03850742651918101), (38, 0.1026936538639768), (39, 0.010955180182053664), (40, 0.05097689693233751), (41, 0.01900006378639238), (42, 0.050138172389014156), (43, 0.052515988286188066), (44, 0.025670691897441315), (45, 0.04991991100813785), (46, 0.07337308066062857), (47, 0.0216085355876148), (48, 0.03596517186724023), (49, 0.05793661995897696), (50, 0.03426618859465447), (51, 0.04827253183979842), (52, 0.02296185992106277), (53, 0.013054016945733514), (54, 0.023089507970776718), (55, 0.02427719301141273), (56, 0.03928622445063733), (57, 0.09671583902894355), (58, 0.0547258400981696), (59, 0.035168186512954766), (60, 0.042540853160897625), (61, 0.05944719465339589), (62, 0.019713129125515528), (63, 0.020941165543922304), (64, 0.02997286231529973), (65, 0.010432184318588854), (66, 0.026843412639199534), (67, 0.047345821640860375), (68, 0.016665648582528766), (69, 0.020991491460617136), (70, 0.013540111365625867), (71, 0.03320204253222817), (72, 0.0), (73, 0.0), (74, 0.0020290205717278997), (75, 0.02700881098423315), (76, 0.033559420938469364), (77, 0.075147808887589), (78, 0.023198104416367875), (79, 0.009075094294818413), (80, 0.039060591836577355), (81, 0.07720008100037495), (82, 0.029019177984159327), (83, 0.08783240998764634), (84, 0.03524808095286267), (85, 0.09353119302148066), (86, 0.056436182884621974), (87, 0.06218089949005184), (88, 0.0370364821242605), (89, 0.04562168239579273), (90, 0.09924482654015243), (91, 0.041974277159596604), (92, 0.0670308783466569), (93, 0.052136845176741345), (94, 0.022060709624381364), (95, 0.04109196693909407), (96, 0.07844151737709026), (97, 0.037242432796725504), (98, 0.05000129636635545), (99, 0.06769585846834904), (100, 0.05083828624335942), (101, 0.00960807014233325), (102, 0.054209400897795156), (103, 0.03604553840662942), (104, 0.026684345640648), (105, 0.02891852319713039), (106, 0.05212829200831711), (107, 0.028149078376662025), (108, 0.07914792813612659), (109, 0.08155485161862838), (110, 0.05047565078428569), (111, 0.0475327818849652), (112, 0.0564336581411998), (113, 0.11195923509110034), (114, 0.06625303885408088), (115, 0.047774402853705995), (116, 0.08947990823453808), (117, 0.052781119045522795), (118, 0.03436575225623835), (119, 0.018816721745902116), (120, 0.07054023670951437), (121, 0.03141984880342645), (122, 0.027157867362045812), (123, 0.12913687008327007), (124, 0.02418110148773555), (125, 0.059720311382813), (126, 0.047291774688712276), (127, 0.056289053764979856), (128, 0.01842161500228806), (129, 0.030239610803004906), (130, 0.0827256424452854), (131, 0.053723770843827366), (132, 0.03517043523391828), (133, 0.0505115615698204), (134, 0.023318074026587088), (135, 0.0696662980321239), (136, 0.04823752783288697), (137, 0.025042947879064872), (138, 0.08153832776926175), (139, 0.07222100257605751), (140, 0.01648208887326985), (141, 0.023033229852571356), (142, 0.07416420938902832), (143, 0.059604380673867495), (144, 0.041310365614113956), (145, 0.013774504848654263), (146, 0.049530281073820855), (147, 0.04540099874459399), (148, 0.0419117441575078), (149, 0.026045633611330794), (150, 0.049609660769861785), (151, 0.03261690973372088), (152, 0.07389369776754), (153, 0.04063862588710655), (154, 0.02224725004019591), (155, 0.029418446323488147), (156, 0.02070211343247888), (157, 0.050846359914555835), (158, 0.06611977318907486), (159, 0.04036022221060541), (160, 0.07312363737601157), (161, 0.06331099166564383), (162, 0.033025666662348685), (163, 0.01196019808669101), (164, 0.06805632173354477), (165, 0.05084250602949047), (166, 0.0426071567211667), (167, 0.06122260971678033), (168, 0.0459433312077977), (169, 0.054312695131912773), (170, 0.0336677808277519), (171, 0.018032811941240588), (172, 0.03542531138630863), (173, 0.06658734654536314), (174, 0.0369858488226913), (175, 0.03743745221766142), (176, 0.03364768632871655), (177, 0.1008296337790288), (178, 0.053493895707994565), (179, 0.04596110436735836), (180, 0.047804541081301354), (181, 0.06364916832400108), (182, 0.07859388209528934), (183, 0.048294990837104125), (184, 0.03598819866946161), (185, 0.037968455605614695), (186, 0.033436883081609046), (187, 0.016201083115511685), (188, 0.014540537131991884), (189, 0.0058232294784314), (190, 0.01756903797186817), (191, 0.0833052568047093), (192, 0.0468900431295473), (193, 0.03727336322260256), (194, 0.012341197122028805), (195, 0.020586739051017943), (196, 0.08751254802421476), (197, 0.027939916676369914), (198, 0.01507655370686764), (199, 0.04217602044946969), (200, 0.056070367077184526), (201, 0.049668913660924886), (202, 0.03798011495252831), (203, 0.04474220316830409), (204, 0.08821997460238772), (205, 0.04361887773487369), (206, 0.0037666133163098245), (207, 0.048214522475789626), (208, 0.016727621438175626), (209, 0.04352666043749916), (210, 0.07764197746043469), (211, 0.05710816849745724), (212, 0.04679440591698895), (213, 0.033858099238326306), (214, 0.03503269489163212), (215, 0.06252928912315882), (216, 0.020038649271869085), (217, 0.035414340639366056), (218, 0.028147960542480224), (219, 0.010230169984271554), (220, 0.04720524476243951), (221, 0.013053117329420525), (222, 0.040132499651583005), (223, 0.049601528466796455), (224, 0.04598709619858763), (225, 0.015574012079880897), (226, 0.07087050105600136), (227, 0.01786238876488433), (228, 0.03531822102247268), (229, 0.04277493764226169), (230, 0.07515502975128517), (231, 0.061553044809606355), (232, 0.06583591618942455), (233, 0.016388811034695614), (234, 0.029272339913615095), (235, 0.0639942381233896), (236, 0.0), (237, 0.06984123171709307), (238, 0.023246345694298464), (239, 0.054696939439564246), (240, 0.037100165055228125), (241, 0.03944822771470248), (242, 0.020655393948478304), (243, 0.043437945232165015), (244, 0.03780523403059557), (245, 0.06154253561774584), (246, 0.020956747534660515), (247, 0.029726484474684237), (248, 0.0627876827586875), (249, 0.06406148051549614), (250, 0.059729320232695914), (251, 0.12071837386716969), (252, 0.035400475947619824), (253, 0.054113950792775624), (254, 0.0399747689518732), (255, 0.05884194873416669), (256, 0.06303815920532548), (257, 0.04971401154712955), (258, 0.052090803157807716), (259, 0.011350214846627165), (260, 0.009533820698743836), (261, 0.053142763650840245), (262, 0.057373702066598226), (263, 0.07679200964311586), (264, 0.06192662925349902), (265, 0.02266213484416025), (266, 0.016096584288812298), (267, 0.05290822298282723), (268, 0.06407611752390667), (269, 0.0489384274828643), (270, 0.03941912442293288), (271, 0.045910139293673144), (272, 0.06696360295117987), (273, 0.042138194338384026), (274, 0.025804008456967984), (275, 0.04957962194849793), (276, 0.018358512785223047), (277, 0.028755145552536415), (278, 0.0505229172159293), (279, 0.04030208535254898), (280, 0.02082666534600987), (281, 0.01945725555390239), (282, 0.02507792683949661), (283, 0.07998121714508387), (284, 0.02535958230155841), (285, 0.06891700154097162), (286, 0.021957804960181973), (287, 0.032880673447353875), (288, 0.030796152493408013), (289, 0.06544757605632613), (290, 0.07913232938670506), (291, 0.029324666384364293), (292, 0.052332756550658804), (293, 0.03629794934960048), (294, 0.042695113802479666), (295, 0.018187294876335698), (296, 0.076678555805934), (297, 0.0511363929997256), (298, 0.04141026533817513), (299, 0.020232606438483333), (300, 0.13227400987470445), (301, 0.10258679460100896), (302, 0.030046771888892376), (303, 0.07405415669059774), (304, 0.07783248888761451), (305, 0.11793993389952144), (306, 0.09187995654579503), (307, 0.06580212127499818), (308, 0.013963731519426746), (309, 0.03339299303819024), (310, 0.04760015842370085), (311, 0.08362149422785173), (312, 0.07413394176759404), (313, 0.060112890753041076), (314, 0.02618129300956275), (315, 0.04716634180074877), (316, 0.07473460903589346), (317, 0.03983389734242062), (318, 0.0334868075569699), (319, 0.008220528928270932), (320, 0.042735439077380546), (321, 0.08099332334773646), (322, 0.03712987644295639), (323, 0.08624146431253546), (324, 0.04915343186840322), (325, 0.0414262594403083), (326, 0.036507979924153944), (327, 0.04847190792525608), (328, 0.06538205651985594), (329, 0.0276447326162078), (330, 0.0685231470030359), (331, 0.0), (332, 0.05965378121074809), (333, 0.04740963400064239), (334, 0.019621404188028), (335, 0.03770180305335265), (336, 0.01690434013401875), (337, 0.009590326010677885), (338, 0.05560546786037477), (339, 0.036424775620094885), (340, 0.061665228171649454), (341, 0.05054604895885562), (342, 0.012646053306593978), (343, 0.05177391555371468), (344, 0.03366923287823942), (345, 0.0029184263629492106), (346, 0.009806902418436363), (347, 0.01535286500158958), (348, 0.051813467716552576), (349, 0.021524938247381727), (350, 0.034077395525982504), (351, 0.06084904816486632), (352, 0.012013678511448585), (353, 0.08422605080079333), (354, 0.02066351755498351), (355, 0.021113055509262478), (356, 0.03941726429567514), (357, 0.01682508843002647), (358, 0.01682508843002647), (359, 0.0775379075855478), (360, 0.07185929120641024), (361, 0.07313741842592662), (362, 0.04759800659271516), (363, 0.06167878488718953), (364, 0.05502605152570878), (365, 0.1188933472444122), (366, 0.08161492954569359), (367, 0.08141379030847347), (368, 0.08141379030847347), (369, 0.0), (370, 0.05517896753232862), (371, 0.04698552726025408), (372, 0.029509283674483685), (373, 0.08051354415413636), (374, 0.05803646072635968), (375, 0.017159248553038665), (376, 0.10899281757353826), (377, 0.06072823760329439), (378, 0.07680422878344037), (379, 0.06566993685087544), (380, 0.11379967711152919), (381, 0.048785271393030856), (382, 0.04818577583501392), (383, 0.05458456928197782), (384, 0.046247504013586405), (385, 0.074382266476159), (386, 0.024488771981993417), (387, 0.04496193511849085), (388, 0.03910765054835093), (389, 0.04614973348951103), (390, 0.047347999225983234), (391, 0.04934443660992436), (392, 0.07980528881184593), (393, 0.042377681814507046), (394, 0.08195260509010971), (395, 0.06408519336944563), (396, 0.03191575519759684), (397, 0.034979988340737844), (398, 0.01920830322863801), (399, 0.08379168410505851), (400, 0.0331718148059294), (401, 0.06092076114777742), (402, 0.05785816885613002), (403, 0.011832359829495088), (404, 0.026265501491820446), (405, 0.018547681315218313), (406, 0.0842885389261074), (407, 0.0), (408, 0.03517805746472912), (409, 0.030094516693969977), (410, 0.035916726148351195), (411, 0.009515947400891178), (412, 0.028692783488870194), (413, 0.06465324764707987), (414, 0.05617410361204001), (415, 0.05625422521006787), (416, 0.033359567638487006), (417, 0.02601162255756735), (418, 0.029501705419950973), (419, 0.06894735903475582), (420, 0.0466628221050131), (421, 0.07164317584565824), (422, 0.07242464312799583), (423, 0.041848653235784974), (424, 0.014511495805921341), (425, 0.06854414540224188), (426, 0.09811306412458842), (427, 0.06312178426536151), (428, 0.04612478736794443), (429, 0.05632244378917929), (430, 0.0443397245486119), (431, 0.04566022531287617), (432, 0.06455220051281181), (433, 0.07150181344781353), (434, 0.07549709439295733), (435, 0.08644846284034273), (436, 0.07019206577831516), (437, 0.032621191463659736), (438, 0.06063804439760331), (439, 0.02813545509537901), (440, 0.04715401666297177), (441, 0.060788487816065745), (442, 0.11012121274112235), (443, 0.01898563579682844), (444, 0.04515145651380851), (445, 0.09360485479829206), (446, 0.0513243502033953), (447, 0.04668750016552553), (448, 0.03296485317514206), (449, 0.0728754563725454), (450, 0.032353878120318015), (451, 0.05829171974128073), (452, 0.08919382949480772), (453, 0.10337732416716755), (454, 0.05748038328102952), (455, 0.012552678693869678), (456, 0.0021838909360891922), (457, 0.04933876239282132), (458, 0.015563275713550699), (459, 0.02689786609637743), (460, 0.022294245843106977), (461, 0.06699612974997025), (462, 0.04238747557528944), (463, 0.03707466821630957), (464, 0.05390110645427404), (465, 0.014917996560067233), (466, 0.03486576177802511), (467, 0.08049397580538899), (468, 0.0679648217459646), (469, 0.08511823340424371), (470, 0.031936011670820455), (471, 0.028558037163281834), (472, 0.048087980702967596), (473, 0.041939624203922686), (474, 0.009584206488827957), (475, 0.03227684257416716), (476, 0.04904340004689938), (477, 0.06861139201539929), (478, 0.04048391869375033), (479, 0.11339909189967556), (480, 0.05471530833528135), (481, 0.0), (482, 0.04815261905407553), (483, 0.02896581818095423), (484, 0.07039470539249976), (485, 0.07309538974523919), (486, 0.05546201925157956), (487, 0.08657781775765964), (488, 0.05948091241065663), (489, 0.044371264542399036), (490, 0.02704459241607186), (491, 0.05725490517400654), (492, 0.049912916713569754), (493, 0.024148643356650467), (494, 0.03227869228461824), (495, 0.03786557698232326), (496, 0.05609339076691677), (497, 0.09851153281819572), (498, 0.001901401186234251), (499, 0.04000173056449978), (500, 0.04157397195973696), (501, 0.037137637763425005), (502, 0.06709929550923145), (503, 0.041300123486204765), (504, 0.05426882867569677), (505, 0.06887610571384424), (506, 0.05848769204495648), (507, 0.08491796959243272), (508, 0.013279177680538708), (509, 0.07585492869414796), (510, 0.05319627590262504), (511, 0.035297920897914704), (512, 0.12000460440042822), (513, 0.05267560775323701), (514, 0.01762629338544608), (515, 0.0540314020314504), (516, 0.011182781586774646), (517, 0.06282504268113841), (518, 0.051435060353830483), (519, 0.04284887018435832), (520, 0.059724515184429866), (521, 0.10062202068168667), (522, 0.04432041823627266), (523, 0.05606296002469082), (524, 0.050568963782078154), (525, 0.06133254761231669), (526, 0.029539359004207025), (527, 0.06659811434781042), (528, 0.010514751403749727), (529, 0.022418291944489285), (530, 0.034454740206313395), (531, 0.04192316693427377), (532, 0.04164886588946459), (533, 0.08235193959665293), (534, 0.052902250433472846), (535, 0.05436561827780935), (536, 0.07806547633502676), (537, 0.02192747581886472), (538, 0.10813193398693906), (539, 0.036589824723604863), (540, 0.08073139791363597), (541, 0.026915225631483176), (542, 0.03613963935776676), (543, 0.032192370826824766), (544, 0.05684402874375167), (545, 0.019511238387544556), (546, 0.09209303369761118), (547, 0.07665539358198908), (548, 0.038841439617325786), (549, 0.04195670794839853), (550, 0.06391349485957408), (551, 0.014554269411084484), (552, 0.05404070283938872), (553, 0.054878261415820334), (554, 0.0694702442419313), (555, 0.04553861084130971), (556, 0.02358276830352865), (557, 0.011761406767967665), (558, 0.02959773137335582), (559, 0.08183127282774154), (560, 0.026793238972576315), (561, 0.03645034977745659), (562, 0.028456149261577766), (563, 0.061782941364278116), (564, 0.053886656297707), (565, 0.03759800203035238), (566, 0.01474143108760838), (567, 0.012234274162555289), (568, 0.08698449846990552), (569, 0.09272443161645749), (570, 0.07902712338221002), (571, 0.031637520470146056), (572, 0.0395231907610668), (573, 0.02657188956849378), (574, 0.02006744057886367), (575, 0.025753248292059376), (576, 0.0730145128006562), (577, 0.08817124205270241), (578, 0.0537942774373462), (579, 0.020480823719133553), (580, 0.05200018103447296), (581, 0.060818935822476196), (582, 0.0800839693597087), (583, 0.06089818385519487), (584, 0.06040169359389431), (585, 0.06172299890260772), (586, 0.012710576280127802), (587, 0.08705568878855306), (588, 0.07078715748331729), (589, 0.028729168952970396), (590, 0.07474385409594875), (591, 0.01965247083816963), (592, 0.08843410931205828), (593, 0.06338843803614018), (594, 0.05151946252332958), (595, 0.0814003318517894), (596, 0.016185563612441806), (597, 0.034567404360944784), (598, 0.01669201425250984), (599, 0.01498216369759231), (600, 0.07361459252390212), (601, 0.07085028555987843), (602, 0.07103337421665218), (603, 0.03519849217174166), (604, 0.06277185837573232), (605, 0.07156049643812336), (606, 0.04447971051337843), (607, 0.04431283625444601), (608, 0.06310126050929254), (609, 0.08108037299038631), (610, 0.028247962250206683), (611, 0.067598517571685), (612, 0.06484880991810023), (613, 0.08337445123084403), (614, 0.034877740880797835), (615, 0.041449881795489286), (616, 0.07504860090951525), (617, 0.0716896072667328), (618, 0.03203855989791187), (619, 0.10200955267302796), (620, 0.041532578979125545), (621, 0.060560351351041854), (622, 0.04377514473051503), (623, 0.04552087998798073), (624, 0.04888868454639267), (625, 0.06752506887459503), (626, 0.07091308538446853), (627, 0.07518255928704998), (628, 0.04168878942107456), (629, 0.06190545947443049), (630, 0.06621635333537466), (631, 0.05835515452537733), (632, 0.0479918274101603), (633, 0.03478767530944162), (634, 0.05589680095107342), (635, 0.05961560767716687), (636, 0.09637999794184184), (637, 0.04605260072989597), (638, 0.03365453825241473), (639, 0.05738595971279953), (640, 0.06871309728076724), (641, 0.07263392041256236), (642, 0.12422156410447374), (643, 0.04861595598570246), (644, 0.034966220344569844), (645, 0.05752531187970417), (646, 0.01388416499001423), (647, 0.0687063442456089), (648, 0.044338692346023625), (649, 0.03517967660678693), (650, 0.05108710347967118), (651, 0.0173230545511934), (652, 0.040637737858928345), (653, 0.029804939264806707), (654, 0.08362435781952804), (655, 0.05048635410787918), (656, 0.06686845718249552), (657, 0.07816030324923136), (658, 0.04531752857719846), (659, 0.1205525689405166), (660, 0.07060458671346284), (661, 0.06678666192297271), (662, 0.0591824504465048), (663, 0.04184223638413439), (664, 0.046612091974376504), (665, 0.06713221158646891), (666, 0.05239488926467909), (667, 0.01862400884912041), (668, 0.06786669186247643), (669, 0.053417205580526046), (670, 0.06830828913985368), (671, 0.03980362330829744), (672, 0.06355638368695797), (673, 0.028727669937650923), (674, 0.05942710494999399), (675, 0.06130716748531303), (676, 0.048775796100157934), (677, 0.0), (678, 0.08184837565930221), (679, 0.010720853326664519), (680, 0.05804063702834389), (681, 0.058688008051461), (682, 0.009603535081189787), (683, 0.012344695805157511), (684, 0.047760531070689116), (685, 0.03708718207251633), (686, 0.09530218919819153), (687, 0.048327899155393254), (688, 0.06288499409582043), (689, 0.0710713927856739), (690, 0.06038735727317517), (691, 0.011592826200833429), (692, 0.03304454566929974), (693, 0.05960395706395126), (694, 0.05443405995020906), (695, 0.05576508936101017), (696, 0.04656226313174572), (697, 0.04656226313174572), (698, 0.05568744257140365), (699, 0.05607544327000085), (700, 0.03452602310364768), (701, 0.04515183222352115), (702, 0.04422399587452905), (703, 0.07319450876832657), (704, 0.014823057969476174), (705, 0.06330423157479251), (706, 0.059767254243403185), (707, 0.0018059092576084611), (708, 0.04212358086376214), (709, 0.05320894953703916), (710, 0.04370466831348339), (711, 0.0804584775382393), (712, 0.042771872228680695), (713, 0.08157216765059429), (714, 0.05987432904965292), (715, 0.05175950091104314), (716, 0.104093459470668), (717, 0.05901597989150528), (718, 0.039486598797088004), (719, 0.06065317281124212), (720, 0.06805041680522014), (721, 0.062101856361582636), (722, 0.048137746682887034), (723, 0.041230819522384006), (724, 0.031377947130245415), (725, 0.0314516538058547), (726, 0.06498927327625094), (727, 0.05858985002458306), (728, 0.0716959449119987), (729, 0.0739439521953539), (730, 0.09517914153166214), (731, 0.02020793243845306), (732, 0.051873956762961825), (733, 0.06774475611538441), (734, 0.05959785348759594), (735, 0.05057463626350504), (736, 0.03948702267378227), (737, 0.059807392022266946), (738, 0.03317906248567614), (739, 0.10420234670292346), (740, 0.051061967241642), (741, 0.07725442023234827), (742, 0.044838229743410035), (743, 0.03381376393776017), (744, 0.08277368636202471), (745, 0.06856138933523341), (746, 0.06452839220248814), (747, 0.09078602919160728), (748, 0.08628000925488259), (749, 0.06460267584966413), (750, 0.08820863050770784), (751, 0.06835102136925346), (752, 0.07597797996340318), (753, 0.09765340096668108), (754, 0.07722191616229757), (755, 0.07662550687064441), (756, 0.07321957719205555), (757, 0.0829860873750203), (758, 0.10916345217170044), (759, 0.09536368076021702), (760, 0.06420998564750399), (761, 0.06376150028336833), (762, 0.10386479608424566), (763, 0.06058079542256373), (764, 0.04041429804159427), (765, 0.08127798280047088), (766, 0.06195930326285374), (767, 0.029017162721044393), (768, 0.07091563818136741), (769, 0.07473882740921584), (770, 0.09452030184870333), (771, 0.12187997488635363), (772, 0.12415770583878469), (773, 0.08682101394506984), (774, 0.12956454895413808), (775, 0.08668632778860644), (776, 0.08847287260774764), (777, 0.11588766506527981), (778, 0.08650832185532402), (779, 0.07039628662633707), (780, 0.07978116444299159), (781, 0.018348267694551883), (782, 0.06212517520571175), (783, 0.04256085176144811), (784, 0.12217114546545425), (785, 0.06000743408808681), (786, 0.1164545519498872), (787, 0.07078893766280472), (788, 0.08132914560272557), (789, 0.11482420668859841), (790, 0.11955274773860515), (791, 0.07982711943649584), (792, 0.12286892691933249), (793, 0.07160915922921571), (794, 0.05962494449890214), (795, 0.03295653141890385), (796, 0.06527665731853872), (797, 0.09133489101782113), (798, 0.03862204749015332), (799, 0.03888295413191199), (800, 0.07645718709352611), (801, 0.017297214556325345), (802, 0.1405041129377433), (803, 0.06611947473636978), (804, 0.0894351393590456), (805, 0.06159514310688457), (806, 0.0317346575596655), (807, 0.06557906081787898), (808, 0.06486755151246978), (809, 0.07864883971094198), (810, 0.0652564229097209), (811, 0.07586117830626135), (812, 0.05590068838440508), (813, 0.08627269955638377), (814, 0.08662041051926515), (815, 0.06097993853433462), (816, 0.0856181226388159), (817, 0.0757324971122696), (818, 0.11129870459089193), (819, 0.060086626523197864), (820, 0.07871460633364445), (821, 0.06162945584976371), (822, 0.07157639236616198), (823, 0.06856141980889194), (824, 0.04243297202948546), (825, 0.05676664190800042), (826, 0.055019026099645665), (827, 0.04180297673285823), (828, 0.07498053660277719), (829, 0.08430314393243618), (830, 0.09767830157620876), (831, 0.08462136565623836), (832, 0.03702773779028994), (833, 0.061869253126027875), (834, 0.07735957900958162), (835, 0.04376560708184413), (836, 0.05884579866999734), (837, 0.06120410452727252), (838, 0.10564097202412626), (839, 0.015792083402584877), (840, 0.09386780730349795), (841, 0.11722014383398754), (842, 0.13187467983604922), (843, 0.06226985099336939), (844, 0.09028440391893021), (845, 0.06735183361398786), (846, 0.06609448054721076), (847, 0.07090483665278226), (848, 0.07769758472602756), (849, 0.08734501937077331), (850, 0.06270638195722049), (851, 0.058539432403260865), (852, 0.07590438106383125), (853, 0.07772806019143126), (854, 0.06757502290244792), (855, 0.08500706215602469), (856, 0.09184117160118362), (857, 0.07195371617368036), (858, 0.048601962319168544), (859, 0.09687156557207761), (860, 0.11370831827293873), (861, 0.0873334166640501), (862, 0.05245375418674011), (863, 0.06584780692668647), (864, 0.06553672134461551), (865, 0.02525159032526456), (866, 0.08787857835615133), (867, 0.06750391296887304), (868, 0.04042788944446579), (869, 0.08521137540446103), (870, 0.07377097528451886), (871, 0.05383293069314564), (872, 0.04821310484289255), (873, 0.10155143586125602), (874, 0.07304011008648814), (875, 0.04792091365484668), (876, 0.08023874369485416), (877, 0.10319428791249798), (878, 0.03315782313128604), (879, 0.03897761864238736), (880, 0.08913922143932398), (881, 0.05289226495261466), (882, 0.07274188679354623), (883, 0.12668376301983691), (884, 0.06744360361962817), (885, 0.049547801057031236), (886, 0.0760721892585024), (887, 0.08929343921329602), (888, 0.07785043290695129), (889, 0.10772776710817517), (890, 0.034073667183738526), (891, 0.10944074079508734), (892, 0.08017642298578301), (893, 0.045880315912565355), (894, 0.10103196672661187), (895, 0.06569075264475646), (896, 0.1250518837047613), (897, 0.08095144329908299), (898, 0.018547572802539842), (899, 0.1277997486661144), (900, 0.09802174603907143), (901, 0.06631290143122756), (902, 0.0827710511341616), (903, 0.05916098083278634), (904, 0.06605312598942446), (905, 0.05426813107831515), (906, 0.058192927677260434), (907, 0.08307699976187946), (908, 0.0420237951006574), (909, 0.06642612115568042), (910, 0.07995839112086116), (911, 0.057465220705169295), (912, 0.02021634057166544), (913, 0.06470212909210411), (914, 0.09095542801820825), (915, 0.06010444951684245), (916, 0.09000019706684188), (917, 0.06779912517689346), (918, 0.08488153255988558), (919, 0.10316878556926502), (920, 0.0738598683603924), (921, 0.012581574889095497), (922, 0.06830954780953226), (923, 0.08926259585150433), (924, 0.06243397181729788), (925, 1.0), (926, 0.06837889814760319), (927, 0.03461029605077651), (928, 0.04685912635773886), (929, 0.004677408818469221), (930, 0.07301055655705495), (931, 0.06920395041713015), (932, 0.06281915637265818), (933, 0.11354059941419556), (934, 0.03575106316211547), (935, 0.06560006433703809), (936, 0.05640723587980254), (937, 0.09868890692338395), (938, 0.04222116727726623), (939, 0.09602577672796235), (940, 0.08689926662711792), (941, 0.07106253587898094), (942, 0.07665444120075834), (943, 0.04837805613004503), (944, 0.06812440870844727), (945, 0.10051068315685484), (946, 0.08302763037906191), (947, 0.09732698023029088), (948, 0.06188881472342556), (949, 0.05272160028563081), (950, 0.09602054730203534), (951, 0.05361461408877405), (952, 0.11315291878511226), (953, 0.09817980721235403), (954, 0.03530706315826571), (955, 0.09689140959932713), (956, 0.11102750515683685), (957, 0.07256609788089989), (958, 0.09858258425452192), (959, 0.050953899036352356), (960, 0.03798310298110834), (961, 0.09825886680037339), (962, 0.06746257027605004), (963, 0.07214024959711057), (964, 0.058731756153568224), (965, 0.08338026929801975), (966, 0.029906886304979584), (967, 0.05074556867391941), (968, 0.09747539534481878), (969, 0.07707203700111055), (970, 0.06639071145347111), (971, 0.056314625540038965), (972, 0.06811656292924022), (973, 0.06038374227040706), (974, 0.045036988249914346), (975, 0.06415408198164908), (976, 0.09932608706887824), (977, 0.08151173797704399), (978, 0.046991396952511144), (979, 0.05210174162704892), (980, 0.06643877949210818), (981, 0.047109427330475434), (982, 0.11869637882872704), (983, 0.09075825915917787), (984, 0.04616020059969602), (985, 0.05517775941314966), (986, 0.08026224765083247), (987, 0.04924663449082562), (988, 0.04603585062698254), (989, 0.11082347593880403), (990, 0.03167599532526369), (991, 0.08374016720594728), (992, 0.05658528312085765), (993, 0.08523981855546986), (994, 0.06621380463624348), (995, 0.07602379330001213), (996, 0.07945539204102345), (997, 0.09429186930807013), (998, 0.06202071042377273), (999, 0.07541566934144182), (1000, 0.08548851373175897), (1001, 0.09957644675253116), (1002, 0.08156319784843194), (1003, 0.15122027087397583), (1004, 0.07995641411234732), (1005, 0.04872884059510432), (1006, 0.04633848095541776), (1007, 0.05120108848315272), (1008, 0.07808900908574692), (1009, 0.03987206757776207), (1010, 0.13323047337205257), (1011, 0.05071434868819742), (1012, 0.06569042483953566), (1013, 0.11997702903403533), (1014, 0.05769117624286757), (1015, 0.05964163894820987), (1016, 0.1132470991877446), (1017, 0.1466111389976885), (1018, 0.06360982476690213), (1019, 0.07408542702736096), (1020, 0.07924400962429783), (1021, 0.08118945590129688), (1022, 0.10540475081658772), (1023, 0.05612920112360835), (1024, 0.07125630815638759), (1025, 0.07445497787242872), (1026, 0.06584390550414589), (1027, 0.043840052466234784), (1028, 0.08649307782190016), (1029, 0.13506432910501284), (1030, 0.07804493567528271), (1031, 0.09993985334436054), (1032, 0.06795837490182555), (1033, 0.10833907458566441), (1034, 0.06191211513207351), (1035, 0.11410982097552538), (1036, 0.052122102119533636), (1037, 0.11120951779947047), (1038, 0.0774167985865538), (1039, 0.08686562080151129), (1040, 0.08318516288752618), (1041, 0.05520160527157242), (1042, 0.04590083109603694), (1043, 0.06410391611841176), (1044, 0.06502261211328864), (1045, 0.09815292985500958), (1046, 0.06563410721064136), (1047, 0.08361101081021546), (1048, 0.060852394452094144), (1049, 0.05574867004222961), (1050, 0.06489543987209437), (1051, 0.06386551923766708), (1052, 0.07005933465749194), (1053, 0.0831626735672794), (1054, 0.0626657278134678), (1055, 0.0996732786524152), (1056, 0.07062035106868461), (1057, 0.09725265445414501), (1058, 0.05200530862969156), (1059, 0.08226956641207674), (1060, 0.04257308471342384), (1061, 0.13301818687470185), (1062, 0.05155282402640818), (1063, 0.0017739541478488485), (1064, 0.07765517466880592), (1065, 0.058143533170253496), (1066, 0.044498782351882316), (1067, 0.04349284671086592), (1068, 0.13800353717221164), (1069, 0.08074962989378688), (1070, 0.12752942453375646), (1071, 0.06473336679631683), (1072, 0.09204358707627802), (1073, 0.07107581150282939), (1074, 0.07108720190392168), (1075, 0.07596976515446834), (1076, 0.0887609320863346), (1077, 0.10080343195922833), (1078, 0.04982476946776875), (1079, 0.055309882213628585), (1080, 0.04286821328637161), (1081, 0.06104343310675377), (1082, 0.09048196819955516), (1083, 0.08109808334835411), (1084, 0.05328102242947253), (1085, 0.09092301164405639), (1086, 0.10221228750629617), (1087, 0.09206838149627387), (1088, 0.05003092304841064), (1089, 0.04508301157327036), (1090, 0.07433962221400983), (1091, 0.07059637060787935), (1092, 0.08373072483623421), (1093, 0.05610284011177905), (1094, 0.06030849076708415), (1095, 0.05099119585280746), (1096, 0.0781521823773538), (1097, 0.06452856930141565), (1098, 0.04553728163825002), (1099, 0.03770688145719317), (1100, 0.08028283347022423), (1101, 0.007241917635252443), (1102, 0.08754206581818028), (1103, 0.07109551685079718), (1104, 0.06496168024098424), (1105, 0.08610899796132361), (1106, 0.04983897285867147), (1107, 0.0710022250125221), (1108, 0.06393901652368959), (1109, 0.0748558260194589), (1110, 0.06471303830415716), (1111, 0.09644787798044485), (1112, 0.06012449732645499), (1113, 0.06897271684496033), (1114, 0.09820185346448082), (1115, 0.06775407440293653), (1116, 0.07606552748753204), (1117, 0.07140567159493232), (1118, 0.07037443314904612), (1119, 0.10580197971607105), (1120, 0.07012865075443721), (1121, 0.09584017989741002), (1122, 0.07178455543523356), (1123, 0.10254859686693973), (1124, 0.11053661358326183), (1125, 0.06922130307318507), (1126, 0.032736285448911745), (1127, 0.08062508554118819), (1128, 0.0755629305829999), (1129, 0.04754247248377376), (1130, 0.087653590657986), (1131, 0.09235356270128209), (1132, 0.12088298813590378), (1133, 0.04279467719579501), (1134, 0.07665233750306095), (1135, 0.048783346369732375), (1136, 0.03725323429184999), (1137, 0.06743841895299704), (1138, 0.07212876774152574), (1139, 0.01563446748865028), (1140, 0.0373701761305722), (1141, 0.1040796759906037), (1142, 0.07711223845780643), (1143, 0.09996302024624956), (1144, 0.07741380128804058), (1145, 0.05052164097422227), (1146, 0.06030394963707308), (1147, 0.08252642910678491), (1148, 0.06395087874839313), (1149, 0.0945682315829466), (1150, 0.04670629170048344), (1151, 0.033284235407075355), (1152, 0.08157951359506778), (1153, 0.08283241334936647), (1154, 0.0870321194832114), (1155, 0.0707581762550657), (1156, 0.07203179971348628), (1157, 0.04296794565505265), (1158, 0.06741094976246037), (1159, 0.06292722332167792), (1160, 0.09608198006105441), (1161, 0.0818960821933901), (1162, 0.09525549717746254), (1163, 0.04493467230013754), (1164, 0.07795974998139509), (1165, 0.09824582322597691), (1166, 0.10268824479937115), (1167, 0.07867850649226557), (1168, 0.11634729182031674), (1169, 0.11493247443681975), (1170, 0.07131848946738811), (1171, 0.11836830026930581), (1172, 0.057654618878709825), (1173, 0.0), (1174, 0.06936533923775572), (1175, 0.0), (1176, 0.05991861254542368), (1177, 0.05555498306128455), (1178, 0.06054913903538491), (1179, 0.09285650977114336), (1180, 0.049557131956258015), (1181, 0.10105015256320331), (1182, 0.015256790234150717), (1183, 0.0867351857543806), (1184, 0.0832081195529607), (1185, 0.07155637411916917), (1186, 0.08631560357882581), (1187, 0.06323013029235504), (1188, 0.05900221030743146), (1189, 0.04216857477488423), (1190, 0.09795578605973645), (1191, 0.08349270510717184), (1192, 0.06650305598073304), (1193, 0.07365193258334755), (1194, 0.07490177201381362), (1195, 0.0889004517258548), (1196, 0.08975612104892089), (1197, 0.04851037194168099), (1198, 0.05433855648391078), (1199, 0.006563200225667143), (1200, 0.06376371549443317), (1201, 0.06366450134848262), (1202, 0.11191283575271574), (1203, 0.08319710204092215), (1204, 0.1054619007870902), (1205, 0.11627099320967992), (1206, 0.049509389393265574), (1207, 0.08162526997125795), (1208, 0.035905981993693346), (1209, 0.07106671398388997), (1210, 0.11315124170397634), (1211, 0.044245728237770704), (1212, 0.09811201790122594), (1213, 0.06266518967679169), (1214, 0.08334998631001975), (1215, 0.06238855401420078), (1216, 0.020584453256281575), (1217, 0.07751818402621607), (1218, 0.06889916813492379), (1219, 0.09800187894184079), (1220, 0.06024753817441468), (1221, 0.07507728496377652), (1222, 0.0872245738410713), (1223, 0.08112368462821185), (1224, 0.10298182542469907), (1225, 0.06677624707002992), (1226, 0.10825340959618453), (1227, 0.06004642469055128), (1228, 0.04594412546533298), (1229, 0.06692203613885066), (1230, 0.11179249223561065), (1231, 0.07567411320234083), (1232, 0.11829841531325513), (1233, 0.10821108458971314), (1234, 0.0189552362352263), (1235, 0.12416298334823582), (1236, 0.057910935907311945), (1237, 0.0866077961386735), (1238, 0.0), (1239, 0.016350656903895908), (1240, 0.05737159358713469), (1241, 0.11180708704988915), (1242, 0.06101017495987715), (1243, 0.10035620946956746), (1244, 0.06891350268029621), (1245, 0.06380630548942642), (1246, 0.06292177349918324), (1247, 0.09538836899469161), (1248, 0.08292161971699431), (1249, 0.08729683632076406), (1250, 0.0738794990749285), (1251, 0.052101991987145616), (1252, 0.07061378717628103), (1253, 0.12693930230265937), (1254, 0.040058440093325126), (1255, 0.03490347924722024), (1256, 0.08086779370250197), (1257, 0.0637970613518905), (1258, 0.08692182668921918), (1259, 0.024553696203899508), (1260, 0.09443055214008683), (1261, 0.09145261428094341), (1262, 0.06994144925159015), (1263, 0.09079157524290662), (1264, 0.04567646523817268), (1265, 0.047954134347134095), (1266, 0.10947747750865956), (1267, 0.05587410497136941), (1268, 0.11100398076142275), (1269, 0.06698628782177692), (1270, 0.036369402955173366), (1271, 0.0841943974476158), (1272, 0.117663584665565), (1273, 0.0807477905598027), (1274, 0.09065089555473743), (1275, 0.07200613877531363), (1276, 0.06598965143227684), (1277, 0.10103614977453228), (1278, 0.11174208528263513), (1279, 0.08834563691774955), (1280, 0.09191591630941313), (1281, 0.08236904494742545), (1282, 0.0771317306717277), (1283, 0.02462267776735777), (1284, 0.07953099634345165), (1285, 0.06677235495793814), (1286, 0.06034641821022871), (1287, 0.09403849127129793), (1288, 0.041518568474664244), (1289, 0.1087024896887904), (1290, 0.05280957421437919), (1291, 0.0466967207728305), (1292, 0.0876354110203001), (1293, 0.07632628451599299), (1294, 0.08308454049471155), (1295, 0.06759998458757159), (1296, 0.0403361635976139), (1297, 0.09347335592915025), (1298, 0.06637532345516782), (1299, 0.13550964177517638), (1300, 0.10875258252937775), (1301, 0.05230361431956718), (1302, 0.03546944090229411), (1303, 0.06719254571731237), (1304, 0.03245446002509048), (1305, 0.06596877048255748), (1306, 0.12495570282287338), (1307, 0.05681977590427808), (1308, 0.09813057563972928), (1309, 0.07230171457239973), (1310, 0.06183755028999839), (1311, 0.13118159755453132), (1312, 0.08407138565182007), (1313, 0.09704842266651087), (1314, 0.12394242656516415), (1315, 0.046575561309471096), (1316, 0.03594973114711083), (1317, 0.08304733523245568), (1318, 0.0892808989798617), (1319, 0.07546967695371151), (1320, 0.10534254343611431), (1321, 0.08724995256958638), (1322, 0.06535684345749239), (1323, 0.11523248077432163), (1324, 0.09285224778716114), (1325, 0.08460890549741243), (1326, 0.0863572855104298), (1327, 0.07326883287103611), (1328, 0.038001532277384724), (1329, 0.06423588684597949), (1330, 0.04553988942764132), (1331, 0.0709278793575025), (1332, 0.12234402714344916), (1333, 0.11522033341872098), (1334, 0.08714661061323167), (1335, 0.09412057236877336), (1336, 0.07443457452464086), (1337, 0.1334983926603454), (1338, 0.10020478132594363), (1339, 0.0883573248026551), (1340, 0.07909476824093116), (1341, 0.06728587925347822), (1342, 0.05810392502730073), (1343, 0.057595572617629376), (1344, 0.10264409538712234), (1345, 0.13914888392759092), (1346, 0.07920853969250201), (1347, 0.11566521037561203), (1348, 0.07909494222607366), (1349, 0.09869694687413665), (1350, 0.06984142989435345), (1351, 0.07299879962867122), (1352, 0.07000990863539333), (1353, 0.06859096319991945), (1354, 0.06662066378184647), (1355, 0.0884961778465272), (1356, 0.05549418895475795), (1357, 0.12697139386874456), (1358, 0.06032006048320365), (1359, 0.1255977832959531), (1360, 0.08725284685071527), (1361, 0.02987273357776868), (1362, 0.08233265604060651), (1363, 0.08728039213044544), (1364, 0.07492069224788853), (1365, 0.06286096639578675), (1366, 0.07272616225054129), (1367, 0.08756012860353053), (1368, 0.06210665284333152), (1369, 0.060179713651604495), (1370, 0.09766057031801867), (1371, 0.08327757131531781), (1372, 0.06785431813779609), (1373, 0.046862005026474904), (1374, 0.11240091910352716), (1375, 0.12010460237710543), (1376, 0.062247602909375185), (1377, 0.08613613809920305), (1378, 0.07183319252764725), (1379, 0.05600448799192064), (1380, 0.11196335624443665), (1381, 0.09009545577583687), (1382, 0.03998119192708612), (1383, 0.072125508178228), (1384, 0.0903977430368447), (1385, 0.08901487513830164), (1386, 0.06957693782539437), (1387, 0.06709171564057312), (1388, 0.06123772272827522), (1389, 0.04922068143453072), (1390, 0.10612468434149833), (1391, 0.07155100332102216), (1392, 0.09972394263285449), (1393, 0.063240041546059), (1394, 0.07515963484060585), (1395, 0.062393842359933664), (1396, 0.07219092403063587), (1397, 0.07772893747698569), (1398, 0.08366450973035008), (1399, 0.08546765492697156), (1400, 0.003794215176220976), (1401, 0.08540996937767516), (1402, 0.06771016564309165), (1403, 0.06099088016838219), (1404, 0.08903333574697643), (1405, 0.05403163329563615), (1406, 0.08583282379148266), (1407, 0.048235500002659346), (1408, 0.06201417700640379), (1409, 0.06201417700640379), (1410, 0.09076232409025713), (1411, 0.08322632407406855), (1412, 0.09544590047690897), (1413, 0.06719569503718201), (1414, 0.07355404765280449), (1415, 0.09256005278375097), (1416, 0.07303460437784848), (1417, 0.06553495754569771), (1418, 0.10575353518677723), (1419, 0.08267244828195955), (1420, 0.08267244828195955), (1421, 0.04739861024987446), (1422, 0.05222518256146452), (1423, 0.09656874998326788), (1424, 0.15488437882685321), (1425, 0.07865285183854312), (1426, 0.07759493494368348), (1427, 0.08153524580485763), (1428, 0.08040076522699428), (1429, 0.09844408117412734), (1430, 0.09244861307026), (1431, 0.08477985198703814), (1432, 0.05976975165057848), (1433, 0.08499507807571609), (1434, 0.09488267775435241), (1435, 0.07069355694665302), (1436, 0.08543361525195924), (1437, 0.06548218081858422), (1438, 0.10350980107022674), (1439, 0.09348035459188422), (1440, 0.06367586517413558), (1441, 0.05781800576919508), (1442, 0.06140096413010312), (1443, 0.052748154064969015), (1444, 0.04271470250332078), (1445, 0.03729186937867598), (1446, 0.010127302906440889), (1447, 0.0472685724616376), (1448, 0.08773199657390492), (1449, 0.09225102093651161), (1450, 0.07751972642045703), (1451, 0.06253628985032784), (1452, 0.044327150535331296), (1453, 0.06083668911430331), (1454, 0.07646280014747624), (1455, 0.08343985470651884), (1456, 0.0), (1457, 0.12378104864451667), (1458, 0.0722642666364366), (1459, 0.07099286236039458), (1460, 0.06727412791517674), (1461, 0.012925738934348969), (1462, 0.07457512834059352), (1463, 0.05223959623029417), (1464, 0.10167819252934504), (1465, 0.04869275512053367), (1466, 0.06846544796629979), (1467, 0.037066188528205105), (1468, 0.055357204038774296), (1469, 0.1318051656117034), (1470, 0.06666826488307626), (1471, 0.08025588282377176), (1472, 0.08405338881377972), (1473, 0.07758821522649081), (1474, 0.09266968178114127), (1475, 0.07222052333411588), (1476, 0.07079586519812989), (1477, 0.07924341848994429), (1478, 0.05278667652726604), (1479, 0.06466662494056322), (1480, 0.14598884573079698), (1481, 0.16153595332923268), (1482, 0.01821287854661635), (1483, 0.06762752848995374), (1484, 0.059812169887573055), (1485, 0.07053449170914085), (1486, 0.07865969732984567), (1487, 0.08785525815887964), (1488, 0.049093578942531), (1489, 0.10735470651652428), (1490, 0.042305771931529845), (1491, 0.05644488007344145), (1492, 0.047145441998099384), (1493, 0.09762155488234302), (1494, 0.05185690693061114), (1495, 0.0789627806655703), (1496, 0.08833533897702593), (1497, 0.0735878132568367), (1498, 0.08486159487563341), (1499, 0.0758188406185398), (1500, 0.10164279094055616), (1501, 0.06869225145695328), (1502, 0.03667654623617066), (1503, 0.06929299801939048), (1504, 0.10447464404970694), (1505, 0.07514948918822058), (1506, 0.11458359589537054), (1507, 0.04861836710434909), (1508, 0.07768910180931109), (1509, 0.061084584977032265), (1510, 0.06746159116483506), (1511, 0.09542111415310428), (1512, 0.07912872710750551), (1513, 0.02449100727218079), (1514, 0.09138449304510513), (1515, 0.09552368041055359), (1516, 0.10466974673542956), (1517, 0.0655940060835242), (1518, 0.04745395310489657), (1519, 0.0), (1520, 0.09692877501795752), (1521, 0.08423585754130214), (1522, 0.06396413278200994), (1523, 0.07242966992298099), (1524, 0.04437440407233324), (1525, 0.10964526408207781), (1526, 0.06900610314069018), (1527, 0.10068100244898721), (1528, 0.08119446582889782), (1529, 0.10386232340476484), (1530, 0.09184433323530385), (1531, 0.07189120172447312), (1532, 0.07433316803750963), (1533, 0.07481691455120011), (1534, 0.08457587018179306), (1535, 0.07254783880125026), (1536, 0.08838270886323352), (1537, 0.10812658106116581), (1538, 0.13851916737216016), (1539, 0.04564287566189335), (1540, 0.06859308541143905), (1541, 0.02370439957967943), (1542, 0.06427075194056218), (1543, 0.06741128787418231), (1544, 0.0960471205640849), (1545, 0.04427828014932653), (1546, 0.11191807980792089), (1547, 0.0), (1548, 0.06436585119085474), (1549, 0.12149568850580336), (1550, 0.06615443315011212), (1551, 0.03129198398245286), (1552, 0.07751471683561675), (1553, 0.09232215946654537), (1554, 0.02408957684814473), (1555, 0.07567314985247872), (1556, 0.0735940658605343), (1557, 0.04191102222184813), (1558, 0.07068377863877895), (1559, 0.09896502123233522), (1560, 0.08836795691128888), (1561, 0.06852790535990837), (1562, 0.1076388974259299), (1563, 0.1063941794115417), (1564, 0.05474701955657451), (1565, 0.07220118456369133), (1566, 0.07544994509402991), (1567, 0.049719658293081885), (1568, 0.0714128287616587), (1569, 0.049054217169255475), (1570, 0.0679188945227468), (1571, 0.0820700803937675), (1572, 0.09697802624211499), (1573, 0.041688930599287216), (1574, 0.08309291717168975), (1575, 0.08309291717168975), (1576, 0.05429118467990107), (1577, 0.13013585431761335), (1578, 0.08331829751291453), (1579, 0.05289980247999482), (1580, 0.0809824302461524), (1581, 0.06197922275814836), (1582, 0.07238410802065368), (1583, 0.07037428097495285), (1584, 0.06789603871074126), (1585, 0.08489983585016186), (1586, 0.05770681245598231), (1587, 0.07969078253234568), (1588, 0.09291139795622018), (1589, 0.051851269855390854), (1590, 0.06229412676720476), (1591, 0.05388203640922899), (1592, 0.14683591660244746), (1593, 0.11953103640594762), (1594, 0.09800828963435362), (1595, 0.06942312069448668), (1596, 0.07865300827851285), (1597, 0.09220742676313234), (1598, 0.08334295579667474), (1599, 0.1091785822910235), (1600, 0.10152659502944118), (1601, 0.1290441371353469), (1602, 0.0741506676491241), (1603, 0.08716739490567889), (1604, 0.08536123999269742), (1605, 0.06099581605625042), (1606, 0.0781998902133156), (1607, 0.07977550066701763), (1608, 0.066458442765646), (1609, 0.05393585547168732), (1610, 0.0635068735589464), (1611, 0.08014344556170393), (1612, 0.11094646962950959), (1613, 0.06651988090301446), (1614, 0.1014528811613901), (1615, 0.10864253541652352), (1616, 0.05676388526875905), (1617, 0.08563504155061744), (1618, 0.04228902228807097), (1619, 0.0955425311854928), (1620, 0.06935299483509338), (1621, 0.1005613446733826), (1622, 0.0994458415588223), (1623, 0.0425935711404263), (1624, 0.0710574290103106), (1625, 0.07744390761471744), (1626, 0.07047577415424928), (1627, 0.04168438982647952), (1628, 0.0724884518770862), (1629, 0.08796063310476765), (1630, 0.0574419378435564), (1631, 0.07480313389653614), (1632, 0.06427276596575629), (1633, 0.08639723400888978), (1634, 0.07424368612091428), (1635, 0.06857307954716772), (1636, 0.04301896242391388), (1637, 0.10394819719882076), (1638, 0.06091425223541655), (1639, 0.06684113555638091), (1640, 0.10471381046866123), (1641, 0.13430485760041547), (1642, 0.10106686902947792), (1643, 0.0), (1644, 0.08939757157886914), (1645, 0.07878339567057834), (1646, 0.06172242308669406), (1647, 0.07211975972071114), (1648, 0.10358002289126665), (1649, 0.06939643882351555), (1650, 0.06750747218653425), (1651, 0.08332110061310581), (1652, 0.07241507895804324), (1653, 0.041870984750805126), (1654, 0.11815241511706169), (1655, 0.06589617307615821), (1656, 0.07312169951755743), (1657, 0.08354418174273787), (1658, 0.06556493460189802), (1659, 0.08273241751299719), (1660, 0.10993161712748997), (1661, 0.05904475223077782), (1662, 0.07886375924191091), (1663, 0.03463750379725957), (1664, 0.0916898659765504), (1665, 0.091732691057456), (1666, 0.08742058984658668), (1667, 0.08039403603579558), (1668, 0.03313306476717506), (1669, 0.07362714135294612), (1670, 0.08455074832554635), (1671, 0.10652190147903566), (1672, 0.06499099291444194), (1673, 0.06894275236481631), (1674, 0.07335323096948107), (1675, 0.1029240084677041), (1676, 0.06500779277391025), (1677, 0.05620145850718405), (1678, 0.11012550036917437), (1679, 0.08895770710378793), (1680, 0.04021732858034357), (1681, 0.10590850422465928), (1682, 0.06048792627722905), (1683, 0.048166469218581594), (1684, 0.08693869372480328), (1685, 0.09243769493576813), (1686, 0.044822842205715266), (1687, 0.05457262913962777), (1688, 0.06965551280028107), (1689, 0.06384506582843652), (1690, 0.0903664406858144), (1691, 0.05709294493887171), (1692, 0.08686833576369167), (1693, 0.09638211858127399), (1694, 0.09903153020220488), (1695, 0.08810006506830242), (1696, 0.07999123287860682), (1697, 0.03942162259309002), (1698, 0.049778947736899115), (1699, 0.06532690077541577), (1700, 0.09382945901881076), (1701, 0.004688601875856194), (1702, 0.07343252569828634), (1703, 0.061709503878455745), (1704, 0.053527263180208014), (1705, 0.09004709127296384), (1706, 0.08974927781525507), (1707, 0.05483765497904867), (1708, 0.04429584662265346), (1709, 0.08855722118212002), (1710, 0.06823899188671709), (1711, 0.08147747401787936), (1712, 0.0699686957442527), (1713, 0.07480639177443632), (1714, 0.07398903786333458), (1715, 0.0543660585865563), (1716, 0.08161907515247818), (1717, 0.08978911006081867), (1718, 0.06072156258871872), (1719, 0.08487366496913858), (1720, 0.057116799329494344), (1721, 0.08481445248080854), (1722, 0.08111843139968619), (1723, 0.07675622735853004), (1724, 0.09962486226906121), (1725, 0.049849753147706), (1726, 0.0700405725570824), (1727, 0.09846923595591574), (1728, 0.14303500796056887), (1729, 0.0658731964507725), (1730, 0.07848974347962308), (1731, 0.0), (1732, 0.11048624499034652), (1733, 0.0657083971630636), (1734, 0.057597397030585404), (1735, 0.06610130332030335), (1736, 0.056357433543982025), (1737, 0.08204593319785915), (1738, 0.118720318686938), (1739, 0.07633191340949386), (1740, 0.09947250592097885), (1741, 0.037352376048873474), (1742, 0.01843275374368206), (1743, 0.0965074297223509), (1744, 0.0), (1745, 0.10377567419092161), (1746, 0.08279973062092166), (1747, 0.006370846435028602), (1748, 0.05850698200472178), (1749, 0.09312850361553876), (1750, 0.07228527729340743), (1751, 0.07422717304934923), (1752, 0.10783076976493762), (1753, 0.04879093547840679), (1754, 0.08633889798162497), (1755, 0.054890634156226734), (1756, 0.07844930002955815), (1757, 0.10742025394772434), (1758, 0.07588469320917478), (1759, 0.0352387616571008), (1760, 0.060375515595190506), (1761, 0.0791797842990828), (1762, 0.05942230257326365), (1763, 0.05942230257326365), (1764, 0.04691621713008352), (1765, 0.04691621713008352), (1766, 0.12093356367263233), (1767, 0.07184352067622866), (1768, 0.0453896576102167), (1769, 0.0453896576102167), (1770, 0.08673277334912412), (1771, 0.10676111634539794), (1772, 0.12965454802298135), (1773, 0.08521787360833155), (1774, 0.0829001800652388), (1775, 0.05923404576990368), (1776, 0.09115735435763628), (1777, 0.09268488623558052), (1778, 0.05861850295220485), (1779, 0.08925454217012144), (1780, 0.07539311540656095), (1781, 0.08160951030127582), (1782, 0.07128023634853324), (1783, 0.013153603706770552), (1784, 0.04435398890604399), (1785, 0.06746470106875863), (1786, 0.07247505362753708), (1787, 0.061399856890876126), (1788, 0.0), (1789, 0.043608921172299836), (1790, 0.05875520743992804), (1791, 0.08323626376970056), (1792, 0.06377363718599965), (1793, 0.06572327172806691), (1794, 0.07393093662986565), (1795, 0.07805649456230389), (1796, 0.0730942658873908), (1797, 0.08854898918206779), (1798, 0.0642585970834539), (1799, 0.030867399848868916), (1800, 0.04393337650920124), (1801, 0.02922753708664085), (1802, 0.07541154330383798), (1803, 0.053493753898896976), (1804, 0.08111501823730716), (1805, 0.08748703160699667), (1806, 0.10568973710695173), (1807, 0.08585486213305968), (1808, 0.09719012730029186), (1809, 0.06475886426212735), (1810, 0.006256884255323446), (1811, 0.10092824661200875), (1812, 0.0791406168842258), (1813, 0.03175683129371468), (1814, 0.07917828259114389), (1815, 0.13224538714585155), (1816, 0.08962089127188341), (1817, 0.0026602717403095663), (1818, 0.055479347954968984), (1819, 0.0722264609282729), (1820, 0.05862374731456179), (1821, 0.07357567604081776), (1822, 0.069298612227625), (1823, 0.07694116832404159), (1824, 0.09322639554826581), (1825, 0.06791155977715692), (1826, 0.08990758611500259), (1827, 0.016876590431671765), (1828, 0.07221724827384551), (1829, 0.05058063207843451), (1830, 0.08768475970918811), (1831, 0.07156911871186922), (1832, 0.06452189788108643), (1833, 0.03955614300420522), (1834, 0.10339055185867654), (1835, 0.15279288009894762), (1836, 0.10267489042900584), (1837, 0.07050027275020439), (1838, 0.08434755177834626), (1839, 0.06511142068609606), (1840, 0.08619964189478238), (1841, 0.06875629613657919), (1842, 0.05778249892508856), (1843, 0.05738630826780461), (1844, 0.06526451346775922), (1845, 0.09245235980790137), (1846, 0.06054527891491837), (1847, 0.10484460551535481), (1848, 0.05966346645595596), (1849, 0.08146830768945904), (1850, 0.06876133421194827), (1851, 0.0663314894216231), (1852, 0.10924824135688678), (1853, 0.06582250358941663), (1854, 0.0702003645292329), (1855, 0.0699930447303086), (1856, 0.057083703059829294), (1857, 0.07556031507845427), (1858, 0.0412076137207566), (1859, 0.04532335647401522), (1860, 0.10045971096209788), (1861, 0.049631930698429874), (1862, 0.0068596947594951035), (1863, 0.07299674476887835), (1864, 0.07015384545381761), (1865, 0.038452491758998376), (1866, 0.11431044301218474), (1867, 0.05522384994269749), (1868, 0.10749336148346614), (1869, 0.0808978196614761), (1870, 0.08831338572125079), (1871, 0.09652249888951328), (1872, 0.0727782194083696), (1873, 0.061760467575489864), (1874, 0.0), (1875, 0.05938113441097323), (1876, 0.0706598274491293), (1877, 0.05248162354110491), (1878, 0.051604173088146944), (1879, 0.09756156664297344), (1880, 0.08477860198159709), (1881, 0.07020002583227761), (1882, 0.10703868850171365), (1883, 0.15296839428114012), (1884, 0.05621512271047277), (1885, 0.07627678969496536), (1886, 0.032867677273047576), (1887, 0.04015525333739631), (1888, 0.09500715561942662), (1889, 0.05998586059037274), (1890, 0.08512324100425742), (1891, 0.10476419128011974), (1892, 0.04818180799362619), (1893, 0.0445423971910228), (1894, 0.045342056275108615), (1895, 0.06367525612901673), (1896, 0.09474825489165935), (1897, 0.04304564014470045), (1898, 0.0913064446341836), (1899, 0.07366289632886791), (1900, 0.059483345096550615), (1901, 0.12064906854946239), (1902, 0.056889378498481406), (1903, 0.08242934505661356), (1904, 0.055754241768884535), (1905, 0.10664790464224222), (1906, 0.07044661915234936), (1907, 0.07493167045684229), (1908, 0.0028958920376271416), (1909, 0.06974995281844917), (1910, 0.09641565754311154), (1911, 0.04648064651764251), (1912, 0.09653966155958071), (1913, 0.07223587129275508), (1914, 0.06037931647803256), (1915, 0.08499643827400229), (1916, 0.08172479256926918), (1917, 0.05781285049810773), (1918, 0.08735487364313424), (1919, 0.0825507893445584), (1920, 0.09738919570326612), (1921, 0.04395576373594953), (1922, 0.04716882627194438), (1923, 0.059649569280216724), (1924, 0.07990616603701291), (1925, 0.08543338544859998), (1926, 0.11024448687926885), (1927, 0.0635042052098544), (1928, 0.0526792698972768), (1929, 0.08943560779004282), (1930, 0.046742232076342205), (1931, 0.081005014359003), (1932, 0.07911807686342104), (1933, 0.07174572030787145), (1934, 0.04809902070487138), (1935, 0.06946159848520793), (1936, 0.06151158163436759), (1937, 0.09379494293008309), (1938, 0.04000187654659849), (1939, 0.04576590461977006), (1940, 0.11392290092735628), (1941, 0.050233526647801896), (1942, 0.06857540614552893), (1943, 0.0764310475450656), (1944, 0.06430366582436312), (1945, 0.06143735868402513), (1946, 0.06794954482191623), (1947, 0.0699878174022944), (1948, 0.07147723057339371), (1949, 0.06761499218230924), (1950, 0.08951871574202531), (1951, 0.02329862759220474), (1952, 0.0373839706429463), (1953, 0.0749870039639015), (1954, 0.07699057483398702), (1955, 0.07468399728255057), (1956, 0.04908608889219377), (1957, 0.08914747377996776), (1958, 0.07562987875873334), (1959, 0.03812847505431916), (1960, 0.1534661501253374), (1961, 0.0740287700697467), (1962, 0.09377034039106855), (1963, 0.03426811425380129), (1964, 0.10263056763878749), (1965, 0.12650766273711941), (1966, 0.10741492321538516), (1967, 0.0694649733812081), (1968, 0.07161889921129029), (1969, 0.07653376311997181), (1970, 0.07003930882942), (1971, 0.06179414868111462), (1972, 0.044048990295320854), (1973, 0.11067287286006974), (1974, 0.06648011853552575), (1975, 0.0847829164889762), (1976, 0.0693419511185877), (1977, 0.05310226059704869), (1978, 0.0019827296068688524), (1979, 0.03423214217138475), (1980, 0.11531025771388657), (1981, 0.08270431473072078), (1982, 0.09462384816868032), (1983, 0.07726191441132994), (1984, 0.07443677436244496), (1985, 0.10152834036610224), (1986, 0.10740561597688901), (1987, 0.06856347135351885), (1988, 0.094228715242701), (1989, 0.04057611254623315), (1990, 0.08302184231519323), (1991, 0.06091881868375969), (1992, 0.05049869928079946), (1993, 0.12030570298735946), (1994, 0.07919160875589011), (1995, 0.10130138377602547), (1996, 0.10686651862468864), (1997, 0.09515451546621677), (1998, 0.08025595106641722), (1999, 0.08732199105527012), (2000, 0.07935869136659666), (2001, 0.07652154595405822), (2002, 0.09217528851788634), (2003, 0.06838440791811028), (2004, 0.0706590025870285), (2005, 0.06799693805231277), (2006, 0.0730494977901252), (2007, 0.037803694304195036), (2008, 0.07551939689304646), (2009, 0.027425359723732355), (2010, 0.07136402701626007), (2011, 0.13026482209790036), (2012, 0.06956862443921263), (2013, 0.06712357321387548), (2014, 0.09747748819285032), (2015, 0.049112646642173685), (2016, 0.12287484869759485), (2017, 0.07320464815773284), (2018, 0.0676975906955803), (2019, 0.06082234154976501), (2020, 0.06887352763669814), (2021, 0.03287010015342463), (2022, 0.11913441003394801), (2023, 0.0643068096049934), (2024, 0.03771047298742393), (2025, 0.114004123412433), (2026, 0.08098732540105451), (2027, 0.10744111360201254), (2028, 0.07194497972507313), (2029, 0.05659785905788545), (2030, 0.07538361194555009), (2031, 0.0793391152292619), (2032, 0.0889028403780854), (2033, 0.09752934499958225), (2034, 0.0), (2035, 0.04901403816952954), (2036, 0.08288030878998133), (2037, 0.06625088508441834), (2038, 0.04992990474193007), (2039, 0.07430595420491488), (2040, 0.051331336195092406), (2041, 0.07034157336633258), (2042, 0.07034157336633258), (2043, 0.07090832994726537), (2044, 0.09928594013091062), (2045, 0.0836583272669692), (2046, 0.07319780966284387), (2047, 0.10601167398304417), (2048, 0.06474760243367692), (2049, 0.07217810652987729), (2050, 0.07582284976770651), (2051, 0.03927096188935444), (2052, 0.0), (2053, 0.10333968345191381), (2054, 0.06806110266233195), (2055, 0.07171116754288655), (2056, 0.10290200159098464), (2057, 0.025236902190178576), (2058, 0.08529505666305158), (2059, 0.07638058827545646), (2060, 0.0028888075368246526), (2061, 0.06798066541844264), (2062, 0.05960289958068645), (2063, 0.11741729719363389), (2064, 0.0888275067721984), (2065, 0.07821015969850152), (2066, 0.05040826494850836), (2067, 0.05459813096227021), (2068, 0.1047440076374872), (2069, 0.09215854147145194), (2070, 0.06316838335195114), (2071, 0.0359618463867458), (2072, 0.09630512573231872), (2073, 0.09137918217523087), (2074, 0.06311291578392608), (2075, 0.05031403236789093), (2076, 0.03749008767201569), (2077, 0.1229534361030436), (2078, 0.07507477915021835), (2079, 0.07202096610595833), (2080, 0.11195725347042101), (2081, 0.06200843983038598), (2082, 0.08368492326585422), (2083, 0.06746001822853741), (2084, 0.04540411207930843), (2085, 0.11280946949072208), (2086, 0.04112374212476356), (2087, 0.0799005538009043), (2088, 0.0852252613480241), (2089, 0.10376774282019977), (2090, 0.08156790030047932), (2091, 0.0), (2092, 0.06165922867744778), (2093, 0.12519232299502311), (2094, 0.0), (2095, 0.06474037241219652), (2096, 0.09644390949751487), (2097, 0.011373831697975062), (2098, 0.07042379867071948), (2099, 0.03832724409465617), (2100, 0.0683863289699969), (2101, 0.07803110394520732), (2102, 0.04947115813209689), (2103, 0.04752192759531432), (2104, 0.08239816315039385), (2105, 0.052888831193759894), (2106, 0.10908418762998233), (2107, 0.08733895670198259), (2108, 0.1054192200229993), (2109, 0.07402764130190874), (2110, 0.062489557004492144), (2111, 0.09330867067473454), (2112, 0.10600350662476116), (2113, 0.03746880674812461), (2114, 0.07128552523319982), (2115, 0.0774454478165548), (2116, 0.10666918762721304), (2117, 0.09439006398783406), (2118, 0.09224478058907166), (2119, 0.0), (2120, 0.08553707318955811), (2121, 0.06067436944271597), (2122, 0.06761797632359823), (2123, 0.02443613625416612), (2124, 0.02989455290492852), (2125, 0.03334208630005517), (2126, 0.0798235744115836), (2127, 0.13259503892117913), (2128, 0.06578084825773166), (2129, 0.04098636941231336), (2130, 0.06867399084688064), (2131, 0.07934869303923546), (2132, 0.08571717255785477), (2133, 0.050315168392174425), (2134, 0.04139142493803721), (2135, 0.05031858231803535), (2136, 0.05859706226865177), (2137, 0.09690964467549183), (2138, 0.007771891120411682), (2139, 0.06350628989202364), (2140, 0.07225263497952775), (2141, 0.11394827837411858), (2142, 0.07081237725576219), (2143, 0.054785156308584944), (2144, 0.04876468777208817), (2145, 0.07930546129908592), (2146, 0.11628407477392426), (2147, 0.0803955480244667), (2148, 0.060446177538096474), (2149, 0.03910004103084734), (2150, 0.06541169633462093), (2151, 0.07351388423881886), (2152, 0.09640402969346758), (2153, 0.052300839244336025), (2154, 0.09148664373726247), (2155, 0.08884545734788335), (2156, 0.045312954378765785), (2157, 0.040310522649674656), (2158, 0.09568122006278702), (2159, 0.07007146137201199), (2160, 0.06451175470381625), (2161, 0.11626850383743918), (2162, 0.09410736454710483), (2163, 0.054619893492912026), (2164, 0.07336234656929026), (2165, 0.06953626348407875), (2166, 0.09591792575030365), (2167, 0.09652832945389105), (2168, 0.07003396409726285), (2169, 0.0818089321423147), (2170, 0.1940246564412141), (2171, 0.06351214255213208), (2172, 0.07991825162543112), (2173, 0.08941541632946899), (2174, 0.05480939630415574), (2175, 0.02851616728852258), (2176, 0.05108913185732911), (2177, 0.056970856395633804), (2178, 0.12280054761776915), (2179, 0.08686452151108534), (2180, 0.09873356962427002), (2181, 0.05731121611218205), (2182, 0.07699075627411173), (2183, 0.07669788149921931), (2184, 0.060139791137096006), (2185, 0.054041250055883436), (2186, 0.060899004110543394), (2187, 0.09801045465370967), (2188, 0.09911017358988122), (2189, 0.009846650212742582), (2190, 0.07754274835015004), (2191, 0.06805077968528032), (2192, 0.042370340458028656), (2193, 0.05257039837150649), (2194, 0.04537948407767768), (2195, 0.06929944129145778), (2196, 0.10161112452839013), (2197, 0.07727149263908378), (2198, 0.04907257637333903), (2199, 0.08560793120157513), (2200, 0.06732383517977071), (2201, 0.041241107180500336), (2202, 0.07279295926391229), (2203, 0.05677528096562592), (2204, 0.05855115184721209), (2205, 0.056137195541326484), (2206, 0.08139943188641835), (2207, 0.08172706034218805), (2208, 0.07045394456700599), (2209, 0.017443201970705927), (2210, 0.07391251232086604), (2211, 0.057809573677022), (2212, 0.11044695122638461), (2213, 0.07612989131751087), (2214, 0.05574774493869344), (2215, 0.07501843394767423), (2216, 0.08174966855869113), (2217, 0.01833610690864716), (2218, 0.039571762129563655), (2219, 0.07897396044071342), (2220, 0.09654718837916057), (2221, 0.08305608344375635), (2222, 0.05844811311978624), (2223, 0.043920328644293655), (2224, 0.08207522725802585), (2225, 0.08082393542287963), (2226, 0.06424820612313173), (2227, 0.07883137296969248), (2228, 0.027290951516875214), (2229, 0.07706374062510446), (2230, 0.053746547574808026), (2231, 0.08892375564349947), (2232, 0.10040360265715007), (2233, 0.05886765767026968), (2234, 0.08304510607554849), (2235, 0.037271578876707886), (2236, 0.08822391779493689), (2237, 0.07478074778708939), (2238, 0.10013895743498966), (2239, 0.08873340979345881), (2240, 0.07255330222556729), (2241, 0.04367156880484373), (2242, 0.05715482481402269), (2243, 0.08053969423035194), (2244, 0.06171799372095434), (2245, 0.03551631417729927), (2246, 0.0950515109844476), (2247, 0.0021608826353032443), (2248, 0.07070579984683585), (2249, 0.11614712634327293), (2250, 0.09467458384565929), (2251, 0.06838030313016984), (2252, 0.05968703940347346), (2253, 0.11170366928210788), (2254, 0.07829122626971893), (2255, 0.09645136149252151), (2256, 0.0758227950512094), (2257, 0.07704645570924498), (2258, 0.07980152847695247), (2259, 0.09002221094131292), (2260, 0.09423173541880664), (2261, 0.0779135326248923), (2262, 0.016130822306769856), (2263, 0.04631428549941228), (2264, 0.07702769076633141), (2265, 0.0877436418283756), (2266, 0.06392755044065104), (2267, 0.07934930248968945), (2268, 0.013735174735394422), (2269, 0.069601215872145), (2270, 0.057800673763761176), (2271, 0.0614998791743227), (2272, 0.08149303814564328), (2273, 0.08612588616243087), (2274, 0.056765959543952096), (2275, 0.08709957133712577), (2276, 0.05379729763830672), (2277, 0.017788753274978922), (2278, 0.07528115264030869), (2279, 0.02837989033574427), (2280, 0.0873906069399635), (2281, 0.03710619109660181), (2282, 0.09069653390541169), (2283, 0.06387078644365408), (2284, 0.07459075317080986), (2285, 0.06987877718923721), (2286, 0.0737459098623627), (2287, 0.06398414504813092), (2288, 0.03065238065463361), (2289, 0.09301678754138407), (2290, 0.055076597588551233), (2291, 0.07310167468010073), (2292, 0.07913509854673213), (2293, 0.1362201687020892), (2294, 0.08865773963323524), (2295, 0.07404383698687864), (2296, 0.04896832375242586), (2297, 0.043948553458331596), (2298, 0.08404511128864897), (2299, 0.008058727442095756), (2300, 0.0), (2301, 0.057433809566344314), (2302, 0.061184597999876716), (2303, 0.04281211445083598), (2304, 0.0874602203119434), (2305, 0.06568047893952536), (2306, 0.0817094624445065), (2307, 0.06611259797284268), (2308, 0.031656621625454025), (2309, 0.073415447765073), (2310, 0.04840296237756042), (2311, 0.08938808947709394), (2312, 0.1160953545167702), (2313, 0.11361903609372552), (2314, 0.05571536953691434), (2315, 0.030286219530337624), (2316, 0.008657259100810033), (2317, 0.05756235137701306), (2318, 0.11459493602149715), (2319, 0.04643336566394945), (2320, 0.09720253455595662), (2321, 0.0), (2322, 0.09061429059486378), (2323, 0.06059865147272333), (2324, 0.07435110565239511), (2325, 0.06577151040594648), (2326, 0.08901626181388017), (2327, 0.05112794852848592), (2328, 0.07891521232340958), (2329, 0.05740805974483858), (2330, 0.07229734366219116), (2331, 0.0809552657908878), (2332, 0.10328479225976926), (2333, 0.0983320160057772), (2334, 0.07933057767452864), (2335, 0.0), (2336, 0.09476714237349358), (2337, 0.12292436016529147), (2338, 0.07846896429279879), (2339, 0.0895339935132486), (2340, 0.042683822931508686), (2341, 0.07504986191653161), (2342, 0.05958537334821093), (2343, 0.05872255673230707), (2344, 0.05804208894550246), (2345, 0.07494630644092744), (2346, 0.06892731171483588), (2347, 0.08170173801912019), (2348, 0.018858104681011106), (2349, 0.09940452038564003), (2350, 0.09747536236716844), (2351, 0.08976786699862187), (2352, 0.059123618367751755), (2353, 0.06896400042899031), (2354, 0.07036690538190844), (2355, 0.1193115071443427), (2356, 0.04066420283139004), (2357, 0.01203626449563934), (2358, 0.007509251826159521), (2359, 0.09130558176013494), (2360, 0.055197954085824126), (2361, 0.08043532853537291), (2362, 0.04245539206174638), (2363, 0.08311405935497579), (2364, 0.0030618066792616598), (2365, 0.07790683668941543), (2366, 0.05572621926562669), (2367, 0.056232443266639745), (2368, 0.06371245321344728), (2369, 0.09042481097249745), (2370, 0.020416120368883184), (2371, 0.08377635850774312), (2372, 0.10762362089124357), (2373, 0.047439726832899536), (2374, 0.07855583633367559), (2375, 0.0604731090434613), (2376, 0.0807587423847761), (2377, 0.06386409367725533), (2378, 0.08643039836048663), (2379, 0.06574146885920137), (2380, 0.09860033028370878), (2381, 0.05517808830834707), (2382, 0.09545287952465155), (2383, 0.0441112412518059), (2384, 0.06381818987607718), (2385, 0.046626186056757925), (2386, 0.11399000739508108), (2387, 0.0664194392719033), (2388, 0.06398680637773131), (2389, 0.08379199741916506), (2390, 0.027778551510000967), (2391, 0.09264099372863345), (2392, 0.047214752991722585), (2393, 0.04902961357693197), (2394, 0.08816489567006533), (2395, 0.08182055181857074), (2396, 0.08368297862210132), (2397, 0.10082230371539264), (2398, 0.05388405959249653), (2399, 0.09331437940117229), (2400, 0.07874316349063577), (2401, 0.07841193608130252), (2402, 0.04786342571733683), (2403, 0.002795097034408489), (2404, 0.12303058552235979), (2405, 0.11055995844433679), (2406, 0.06772745074964993), (2407, 0.04933611757622387), (2408, 0.08534030110941936), (2409, 0.01668675642886916), (2410, 0.06748295429930214), (2411, 0.09386494406681517), (2412, 0.0), (2413, 0.03718170936813253), (2414, 0.04015103761512755), (2415, 0.12845720258328314), (2416, 0.07601598539867283), (2417, 0.03996128195987727), (2418, 0.11399939293867536), (2419, 0.08760573075680457), (2420, 0.0664975865249507), (2421, 0.07137642125755558), (2422, 0.1117826827618615), (2423, 0.07192653495709282), (2424, 0.06255252902402662), (2425, 0.09419519249104903), (2426, 0.05274910266032905), (2427, 0.07228509998702366), (2428, 0.08370467152766113), (2429, 0.053689464397704854), (2430, 0.0523130427898246), (2431, 0.07666806125526948), (2432, 0.08362689856390867), (2433, 0.08916845551235321), (2434, 0.05671621847775021), (2435, 0.07553015169340546), (2436, 0.03787804190044663), (2437, 0.07946954547099877), (2438, 0.12502471644738783), (2439, 0.06963305328121344), (2440, 0.04529607318319994), (2441, 0.06318167735642302), (2442, 0.06318167735642302), (2443, 0.10271733382009941), (2444, 0.09444139644348862), (2445, 0.0660116903137596), (2446, 0.06835787428315218), (2447, 0.0870316197300333), (2448, 0.06176963085142335), (2449, 0.08166202932585427), (2450, 0.06935855911553375), (2451, 0.06056392930021312), (2452, 0.09133697104878709), (2453, 0.12674456535941017), (2454, 0.101744718735113), (2455, 0.0), (2456, 0.08375317686974536), (2457, 0.06061747203604251), (2458, 0.10390805934217442), (2459, 0.09066110936136218), (2460, 0.1019943268728208), (2461, 0.07354422197240178), (2462, 0.06893346188708623), (2463, 0.08617805515327977), (2464, 0.07515766540530848), (2465, 0.09570413266882108), (2466, 0.08252617982221401), (2467, 0.005879530147511932), (2468, 0.09435218131262062), (2469, 0.06928057473515627), (2470, 0.06741687518725517), (2471, 0.08244270363839264), (2472, 0.09490526433137289), (2473, 0.06986806948296564), (2474, 0.094199446386047), (2475, 0.07939869210448997), (2476, 0.0895319303193253), (2477, 0.05171624542442522), (2478, 0.06815672143324966), (2479, 0.06516105047409329), (2480, 0.08447920645556126), (2481, 0.08006063165873481), (2482, 0.0037170514120723466), (2483, 0.0603009073461468), (2484, 0.08051932760645711), (2485, 0.05367470974157272), (2486, 0.09831124419463963), (2487, 0.06259048574597573), (2488, 0.06797820733535617), (2489, 0.04768950255270576), (2490, 0.07842930937524688), (2491, 0.050832052550401366), (2492, 0.0941279995944671), (2493, 0.058563378119685976), (2494, 0.06772042776520083), (2495, 0.06351817390051352), (2496, 0.06266380215635127), (2497, 0.08338458786993955), (2498, 0.07124639574285849), (2499, 0.09338713707501464), (2500, 0.0), (2501, 0.10964011779175309), (2502, 0.04967906828253824), (2503, 0.06442809809020698), (2504, 0.06946652522730659), (2505, 0.03505592360895986), (2506, 0.08812577786510539), (2507, 0.1012340939836363), (2508, 0.012759683284126829), (2509, 0.0), (2510, 0.10543327386577185), (2511, 0.0), (2512, 0.025225390923373614), (2513, 0.07702668737562529), (2514, 0.09359307261467602), (2515, 0.04145056133506798), (2516, 0.1222870747660455), (2517, 0.10715207748463002), (2518, 0.055897529830031434), (2519, 0.07052248900114276), (2520, 0.08976212728611942), (2521, 0.02033656470502619), (2522, 0.07168143307804051), (2523, 0.0790135834056259), (2524, 0.07225566239169387), (2525, 0.08071425205669909), (2526, 0.11981319009773385), (2527, 0.008381213374416187), (2528, 0.027114957393188546), (2529, 0.0021838909360891922), (2530, 0.0887568832285036), (2531, 0.09181658071723459), (2532, 0.07108148739421008), (2533, 0.03573514355180261), (2534, 0.0071854865009052075), (2535, 0.08143152888386035), (2536, 0.09952807187650942), (2537, 0.0962635254786744), (2538, 0.05209773780721332), (2539, 0.09042288608736163), (2540, 0.10950819198604732), (2541, 0.08929822744307746), (2542, 0.0580220789231543), (2543, 0.06325005837665043), (2544, 0.0), (2545, 0.09723570379234811), (2546, 0.12297673643149364), (2547, 0.08026852950866578), (2548, 0.053278935185702696), (2549, 0.0976787420420615), (2550, 0.07007947949436275), (2551, 0.10787697342304801), (2552, 0.03523133255223256), (2553, 0.0030117200957431836), (2554, 0.026126224397227435), (2555, 0.06868186080852913), (2556, 0.0), (2557, 0.022173817612244864), (2558, 0.06944494395891435), (2559, 0.06880041294156197), (2560, 0.07840858693458465), (2561, 0.06223032596906999), (2562, 0.04696671553111776), (2563, 0.08746301689899125), (2564, 0.05136382033910287), (2565, 0.08249975832076219), (2566, 0.08626217067383372), (2567, 0.07523529136237264), (2568, 0.0760321913665731), (2569, 0.08292713205958363), (2570, 0.06250812404625322), (2571, 0.09542294414965427), (2572, 0.0916618340947349), (2573, 0.07677022550799632), (2574, 0.09209012071441838), (2575, 0.09930081930016385), (2576, 0.07069871498066266), (2577, 0.10664693151722308), (2578, 0.05840732778525127), (2579, 0.07028612073665444), (2580, 0.06538121895076947), (2581, 0.10608096020399525), (2582, 0.09647629446518179), (2583, 0.024859306957261344), (2584, 0.07139263994134105), (2585, 0.08844932089912266), (2586, 0.08293159341882086), (2587, 0.1510280014703504), (2588, 0.07813928826416495), (2589, 0.09309090702912916), (2590, 0.06742870775800278), (2591, 0.06631662223681196), (2592, 0.11940191290156718), (2593, 0.04235721656803803), (2594, 0.09083707906087225), (2595, 0.05558052513637089), (2596, 0.07720264409462355), (2597, 0.06505794451459838), (2598, 0.10634454503546266), (2599, 0.06238446141008333), (2600, 0.06080459974278258), (2601, 0.08689549319928956), (2602, 0.06629951769974696), (2603, 0.08539728242109308), (2604, 0.10229556272124249), (2605, 0.07440937294181), (2606, 0.12773545476446058), (2607, 0.04864881572735747), (2608, 0.0492210189338767), (2609, 0.06989213145037924), (2610, 0.0022312714864674062), (2611, 0.12029601309358183), (2612, 0.0649774774795516), (2613, 0.09645490430468516), (2614, 0.08422905093187302), (2615, 0.11230801630745181), (2616, 0.03672908390874367), (2617, 0.10105479768125074), (2618, 0.021863141599289843), (2619, 0.09009853134736359), (2620, 0.07454487848803967), (2621, 0.03731616033128391), (2622, 0.07395848381791188), (2623, 0.0), (2624, 0.0026418000320526337), (2625, 0.10062662263107514), (2626, 0.04236338810282925), (2627, 0.0918785699510707), (2628, 0.09867969196554092), (2629, 0.06513296949328763), (2630, 0.07871255000170221), (2631, 0.06718093379744401), (2632, 0.05548458169456946), (2633, 0.002770339469609145), (2634, 0.09445390987066304), (2635, 0.03572409556600077), (2636, 0.09909527461378309), (2637, 0.08372680681921198), (2638, 0.06943779042474701), (2639, 0.07195213859338676), (2640, 0.06490778835913863), (2641, 0.07387299311404324), (2642, 0.09068054984447305), (2643, 0.03933275823683266), (2644, 0.10122595998733372), (2645, 0.0333455742531588), (2646, 0.023873953949945535), (2647, 0.041944731057711654), (2648, 0.08331756591380639), (2649, 0.030361731636362767), (2650, 0.056428954924378834), (2651, 0.06259549472310082), (2652, 0.06499268349731646), (2653, 0.09708742056311183), (2654, 0.056261975428730245), (2655, 0.08220873610365317), (2656, 0.108784914097717), (2657, 0.05547857042055898), (2658, 0.0737576914175731), (2659, 0.06801589436708497), (2660, 0.002657681823852821), (2661, 0.056087136641924884), (2662, 0.0712539127640722), (2663, 0.08161608904002232), (2664, 0.0805326367526738), (2665, 0.06060712361175356), (2666, 0.09369265419582774), (2667, 0.0806087030698575), (2668, 0.06921185600682027), (2669, 0.0453551728372619), (2670, 0.060906762137976654), (2671, 0.0682131818049635), (2672, 0.04148353105286489), (2673, 0.09481883099728391), (2674, 0.05089553514161261), (2675, 0.059449328045171355), (2676, 0.07945927393564536), (2677, 0.06641501931106497), (2678, 0.06663884315886126), (2679, 0.06958692720027382), (2680, 0.09488928930722323), (2681, 0.06896385839732345), (2682, 0.08142173584451588), (2683, 0.10547246153667666), (2684, 0.04373907767569028), (2685, 0.07597386987036547), (2686, 0.029039261458036203), (2687, 0.10863736189258616), (2688, 0.054483656959400745), (2689, 0.042762467172595756), (2690, 0.05185778247977649), (2691, 0.0542320241490157), (2692, 0.067746309416229), (2693, 0.06428725166872222), (2694, 0.08956048456215338), (2695, 0.05557899768006026), (2696, 0.07119550929127258), (2697, 0.08309583891359301), (2698, 0.08111806721092912), (2699, 0.08638616909543732), (2700, 0.10928474415721501), (2701, 0.0820398407262294), (2702, 0.022602558510988083), (2703, 0.11610033400210672), (2704, 0.07374245779716769), (2705, 0.07340427847425135), (2706, 0.0783483910024058), (2707, 0.10361836356513919), (2708, 0.04799776547625528), (2709, 0.06295551461090196), (2710, 0.054451556093447706), (2711, 0.09424063236888516), (2712, 0.06300745350237132), (2713, 0.09988335052788863), (2714, 0.058946591521373895), (2715, 0.06959834695876167), (2716, 0.023131841088152413), (2717, 0.08738226721565358), (2718, 0.05938692420348127), (2719, 0.01954518676405787), (2720, 0.11599017745897558), (2721, 0.06342847344112996), (2722, 0.06288799999762), (2723, 0.04970175107957317), (2724, 0.12573263722097922), (2725, 0.03462730497807658), (2726, 0.0), (2727, 0.05300654332332708), (2728, 0.01254583035965871), (2729, 0.11323350379876686), (2730, 0.0787522762322849), (2731, 0.0072403780670376415), (2732, 0.0897678377374393), (2733, 0.08381187680847337), (2734, 0.06461447377093657), (2735, 0.07415689341207744), (2736, 0.05226673073397126), (2737, 0.12019141712189983), (2738, 0.07462793632499132), (2739, 0.058704502075514586), (2740, 0.04678696404015624), (2741, 0.03545100113180807), (2742, 0.07640628512841093), (2743, 0.08704453814967614), (2744, 0.0986984700007989), (2745, 0.09863648605529099), (2746, 0.10284042826939543), (2747, 0.052017323287712865), (2748, 0.09024846109947494), (2749, 0.06520499436700417), (2750, 0.07011304329897658), (2751, 0.05539107576711119), (2752, 0.09053041498644342), (2753, 0.042759570545961134), (2754, 0.07036715663184821), (2755, 0.03831023842447885), (2756, 0.07852608241386759), (2757, 0.06026771219974042), (2758, 0.08042088402635139), (2759, 0.09532380215484276), (2760, 0.06230329169985296), (2761, 0.10452881624690115), (2762, 0.06806331491001456), (2763, 0.04900491109261165), (2764, 0.0949502568392737), (2765, 0.0890902093614397), (2766, 0.047816894750058264), (2767, 0.11093710111134587), (2768, 0.10350050229215604), (2769, 0.1163450065983514), (2770, 0.06343252523518764), (2771, 0.08280742455311), (2772, 0.0), (2773, 0.054941706649632875), (2774, 0.0), (2775, 0.06361110497454203), (2776, 0.06817623061508288), (2777, 0.08263392907102592), (2778, 0.07677510342890285), (2779, 0.03778553284560213), (2780, 0.05861101317082992), (2781, 0.11415577663021188), (2782, 0.04276148519895259), (2783, 0.03490907998529871), (2784, 0.10047287791444189), (2785, 0.07081857818015701), (2786, 0.08352788968601373), (2787, 0.11818019632629775), (2788, 0.037730219311138846), (2789, 0.0774509779969942), (2790, 0.053596886999462495), (2791, 0.10779865615179354), (2792, 0.10770193965189054), (2793, 0.08143145275989375), (2794, 0.08114178079552456), (2795, 0.05887347606188355), (2796, 0.07023521451931951), (2797, 0.07875056906061542), (2798, 0.06408909697150203), (2799, 0.0750961015339128), (2800, 0.09218910061595376), (2801, 0.02717636667984608), (2802, 0.03280231323028848), (2803, 0.09732254047495534), (2804, 0.06359694782136813), (2805, 0.05342843654978766), (2806, 0.0488211584035037), (2807, 0.03702728079532854), (2808, 0.09593878473849915), (2809, 0.06500791849939953), (2810, 0.09971233768977074), (2811, 0.07039469897316523), (2812, 0.04477289600879285), (2813, 0.0819213087191355), (2814, 0.050342892575497455), (2815, 0.06642457220728124), (2816, 0.0790521726689638), (2817, 0.06746470106875863), (2818, 0.06527335567426637), (2819, 0.038242930174823955), (2820, 0.013041960607330118), (2821, 0.07995661190113722), (2822, 0.0), (2823, 0.10244931875473812), (2824, 0.10233511912053048), (2825, 0.08325060717148201), (2826, 0.054287193556394595), (2827, 0.08185977643250165), (2828, 0.10287039060967126), (2829, 0.01287797547931296), (2830, 0.058288508712358515), (2831, 0.0027075411907521835), (2832, 0.03616766323976588), (2833, 0.061539553477361494), (2834, 0.0903099354853163), (2835, 0.046648373745097255), (2836, 0.09596403957826996), (2837, 0.025549589520327706), (2838, 0.054565416805747564), (2839, 0.07233162305436092), (2840, 0.06780144068268334), (2841, 0.057418087270348035), (2842, 0.03658057863955052), (2843, 0.07371590832222318), (2844, 0.08921725827002068), (2845, 0.11127431291442827), (2846, 0.09657690941075169), (2847, 0.07480621364715885), (2848, 0.07212840833823414), (2849, 0.022041511992557973), (2850, 0.10628640639633055), (2851, 0.058773569359271964), (2852, 0.061636204110274775), (2853, 0.0695219772460474), (2854, 0.10075352247515967), (2855, 0.0803370773528608), (2856, 0.08310040267338441), (2857, 0.07787965537568835), (2858, 0.1590545409726467), (2859, 0.08059691021368187), (2860, 0.09146371260758888), (2861, 0.0785135513150161), (2862, 0.11137615067796011), (2863, 0.07479220677374672), (2864, 0.01603812447744302), (2865, 0.06256064749781784), (2866, 0.0722949258235319), (2867, 0.059454034483474714), (2868, 0.06482666940150297), (2869, 0.05472208574581549), (2870, 0.08599690511062445), (2871, 0.0390070752154457), (2872, 0.07956307552013954), (2873, 0.08493647293830989), (2874, 0.0), (2875, 0.06548544013710442), (2876, 0.0), (2877, 0.06911063967883666), (2878, 0.06665787698375533), (2879, 0.11566777486694248), (2880, 0.11269416650364301), (2881, 0.10095636674714595), (2882, 0.07262927902782547), (2883, 0.06554163375466997), (2884, 0.07164136733437303), (2885, 0.056450064459146694), (2886, 0.09303719234322934), (2887, 0.0757489260234512), (2888, 0.05082903826955975), (2889, 0.08486455955445428), (2890, 0.09776233836235422), (2891, 0.09656756826549558), (2892, 0.10819583607238648), (2893, 0.08465199458269804), (2894, 0.08109398318418057), (2895, 0.05258193717657918), (2896, 0.03870733692174768), (2897, 0.08949086059353795), (2898, 0.0), (2899, 0.0836183065616878), (2900, 0.06742016129748143), (2901, 0.05080289715351942), (2902, 0.06198715474040691), (2903, 0.05990765748795583), (2904, 0.030007602579165918), (2905, 0.05983155463422907), (2906, 0.02551732321963238), (2907, 0.0027059478247608015), (2908, 0.07692030016412933), (2909, 0.0928346881593256), (2910, 0.04435396694004194), (2911, 0.047068304707238155), (2912, 0.143017195927542), (2913, 0.04411600710436146), (2914, 0.029087076296761435), (2915, 0.12819340355238612), (2916, 0.043025084686589166), (2917, 0.0), (2918, 0.08971126874683524), (2919, 0.08497793798452366), (2920, 0.06124811608069515), (2921, 0.062229580361768684), (2922, 0.035199939301319455), (2923, 0.034419410947984605), (2924, 0.04850315660716402), (2925, 0.06939729254325164), (2926, 0.08985441846799191), (2927, 0.0644648745887771), (2928, 0.06641194443727172), (2929, 0.05549867991250615), (2930, 0.0801680566498188), (2931, 0.009504989845241717), (2932, 0.04457899664796997), (2933, 0.07022284761526652), (2934, 0.0), (2935, 0.07832960513786741), (2936, 0.1020331968458142), (2937, 0.07804097419620687), (2938, 0.07028818084346657), (2939, 0.09165203624171424), (2940, 0.06560513920264734), (2941, 0.06898819249106122), (2942, 0.04311328733936871), (2943, 0.10353963268313944), (2944, 0.0720039282329639), (2945, 0.0), (2946, 0.08875724914407783), (2947, 0.08729896308802854), (2948, 0.08628461597430441), (2949, 0.08274555142558376), (2950, 0.0), (2951, 0.08052779946963964), (2952, 0.0), (2953, 0.019055781604200663), (2954, 0.003916865882345724), (2955, 0.05625349816154), (2956, 0.045294064663108584), (2957, 0.08024858417111073), (2958, 0.05082619755448864), (2959, 0.08495544090472669), (2960, 0.004051461476622793), (2961, 0.09426213267096335), (2962, 0.08560866175311029), (2963, 0.07776252926502061), (2964, 0.024109759207865948), (2965, 0.09858943410867396), (2966, 0.03764380950143402), (2967, 0.062362261796827544), (2968, 0.08038068787338519), (2969, 0.0), (2970, 0.05376257570773662), (2971, 0.06657394838059898), (2972, 0.07642045844052155), (2973, 0.0557929947687166), (2974, 0.041238846620669095), (2975, 0.04710601583765888), (2976, 0.0778008189868992), (2977, 0.08202049166184056), (2978, 0.06652530202513046), (2979, 0.07097277588111263), (2980, 0.07850676864646607), (2981, 0.07637632295862225), (2982, 0.06570023697011383), (2983, 0.07108941111887486), (2984, 0.09664019957215811), (2985, 0.04956678939490055), (2986, 0.04359505593662693), (2987, 0.06454903119339707), (2988, 0.0721475606516855), (2989, 0.06541403839211554), (2990, 0.06303349197751415), (2991, 0.08640804292888035), (2992, 0.08959348936347951), (2993, 0.018303808653461578), (2994, 0.0676190671657376), (2995, 0.10782836959882784), (2996, 0.09466915139977518), (2997, 0.08139807401372776), (2998, 0.01249962315325274), (2999, 0.10361571860901009), (3000, 0.07482536062471687), (3001, 0.07234957637792572), (3002, 0.042083805855100215), (3003, 0.05623020565889011), (3004, 0.11598550766321275), (3005, 0.08228509302279619), (3006, 0.06734060641874844), (3007, 0.08570566031746445), (3008, 0.10321870453609829), (3009, 0.0713812469771828), (3010, 0.06965001767685877), (3011, 0.011085081096804238), (3012, 0.09684565477006167), (3013, 0.05796597512572982), (3014, 0.09247766762504647), (3015, 0.05291107957039029), (3016, 0.002995233068625443), (3017, 0.06349917046472901), (3018, 0.10564205389728511), (3019, 0.0630101277432947), (3020, 0.06953294559463467), (3021, 0.0), (3022, 0.08330483837397215), (3023, 0.09127762889222883), (3024, 0.11929725577988332), (3025, 0.04852257454735247), (3026, 0.05641179034869071), (3027, 0.0767142487220241), (3028, 0.08499830834591751), (3029, 0.09435669693666854), (3030, 0.11902552773726702), (3031, 0.05741695009489117), (3032, 0.004002662092646354), (3033, 0.061523048460815744), (3034, 0.08755661967765632), (3035, 0.058560391228973704), (3036, 0.0644964360595825), (3037, 0.05991142726247898), (3038, 0.052844491004691116), (3039, 0.07459459945509934), (3040, 0.04924351041195668), (3041, 0.07565789535228666), (3042, 0.08566254523973796), (3043, 0.02417805398893051), (3044, 0.09439163711671701), (3045, 0.05828676650642235), (3046, 0.0), (3047, 0.0), (3048, 0.060620160116386754), (3049, 0.012783597541547795), (3050, 0.05379740638799806), (3051, 0.06138119096686197), (3052, 0.0030258055266587976), (3053, 0.06570410505559042), (3054, 0.0026984622205759754), (3055, 0.0981690153021295), (3056, 0.06274096234442114), (3057, 0.0696161286638876), (3058, 0.07052238065423105), (3059, 0.04769268202145805), (3060, 0.030174540117512166), (3061, 0.07151779405404544), (3062, 0.029297275812871885), (3063, 0.0510410361499276), (3064, 0.06085781268696246), (3065, 0.09149551787373932), (3066, 0.08732100979129953), (3067, 0.06248768121462568), (3068, 0.08743488815525796), (3069, 0.09692610012220776), (3070, 0.03700095335166742), (3071, 0.08090257873399775), (3072, 0.044897776218521854), (3073, 0.06665019150888675), (3074, 0.0025691964317200696), (3075, 0.08283380811747561), (3076, 0.03903399591291354), (3077, 0.05492382883701596), (3078, 0.06349156907897269), (3079, 0.0799296431873375), (3080, 0.07517952820021591), (3081, 0.04763707437539005), (3082, 0.06235979955709658), (3083, 0.0682294911185276), (3084, 0.08536729570143445), (3085, 0.08459930335032889), (3086, 0.06383525358523297), (3087, 0.06977253034257523), (3088, 0.09048569675926707), (3089, 0.07206664145055286), (3090, 0.08080686328027219), (3091, 0.06214697372890114), (3092, 0.08996753031519335), (3093, 0.059542075241346436), (3094, 0.03480062760254179), (3095, 0.02680112681084023), (3096, 0.058395562185136474), (3097, 0.017609888324557434), (3098, 0.074992964767544), (3099, 0.10662219643414515), (3100, 0.08313899016930469), (3101, 0.047409017661573655), (3102, 0.06282782612309645), (3103, 0.08127109189890697), (3104, 0.0633157773596727), (3105, 0.0), (3106, 0.040812032481518455), (3107, 0.032498270624281074), (3108, 0.0), (3109, 0.0585386834495643), (3110, 0.08204961419236793), (3111, 0.08493548669865739), (3112, 0.03803997874509413), (3113, 0.06948090053324132), (3114, 0.0687289777121263), (3115, 0.07191317457964319), (3116, 0.10806173290196187), (3117, 0.062413441314951065), (3118, 0.05620680004921095), (3119, 0.040399544114653616), (3120, 0.11998536515652143), (3121, 0.08700808727566073), (3122, 0.06745850451770952), (3123, 0.06994445084040328), (3124, 0.06646830565976537), (3125, 0.09075767949420419), (3126, 0.0695584026311757), (3127, 0.12113868271206399), (3128, 0.09490908742807372), (3129, 0.0), (3130, 0.07604290914929165), (3131, 0.026700629074153086), (3132, 0.07293668356790395), (3133, 0.039554567926632436), (3134, 0.07398424334920126), (3135, 0.03916630304163273), (3136, 0.07276936186748616), (3137, 0.08640335966190099), (3138, 0.0), (3139, 0.08665147136260536), (3140, 0.054465745164508264), (3141, 0.09575342520367253), (3142, 0.0463408670322804), (3143, 0.06555710992849978), (3144, 0.06157585388916048), (3145, 0.09456870312531497), (3146, 0.03271408675095485), (3147, 0.09565776699322122), (3148, 0.022022639290577094), (3149, 0.05479024176066737), (3150, 0.10534909212910272), (3151, 0.07877788807172853), (3152, 0.07033230316893724), (3153, 0.04355456340280235), (3154, 0.036499991431227286), (3155, 0.10069234991638944), (3156, 0.07682416858270155), (3157, 0.0), (3158, 0.08751900265883222), (3159, 0.07301707346350857), (3160, 0.06768880949296681), (3161, 0.08797521819500614), (3162, 0.0707860956165866), (3163, 0.060162411381343914), (3164, 0.017648965249799756), (3165, 0.013202364328428634), (3166, 0.0), (3167, 0.07515869714709839), (3168, 0.08743727502273169), (3169, 0.050503868234998514), (3170, 0.039822886588031466), (3171, 0.036947340522956694), (3172, 0.003038656321134446), (3173, 0.09455997761254194), (3174, 0.10209637803785523), (3175, 0.08230846911765717), (3176, 0.07416098501133087), (3177, 0.0719433798618771), (3178, 0.013969638805995294), (3179, 0.0861979779876719), (3180, 0.09576860102386524), (3181, 0.0), (3182, 0.015248392956507623), (3183, 0.0933218681981403), (3184, 0.08691344292905728), (3185, 0.0), (3186, 0.08489757177606598), (3187, 0.06562793970600467), (3188, 0.1085993171677447), (3189, 0.08820821917100297), (3190, 0.14585979089787734), (3191, 0.0), (3192, 0.09514131101478564), (3193, 0.032850698800518), (3194, 0.08988529902881748), (3195, 0.06987458435213723), (3196, 0.07246267120845735), (3197, 0.06854957634194721), (3198, 0.06822821532422789), (3199, 0.1058581164218629), (3200, 0.04369892930780938), (3201, 0.0), (3202, 0.05946566359769981), (3203, 0.04596363904282361), (3204, 0.04140610211517759), (3205, 0.07434888877911239), (3206, 0.011435770395863687), (3207, 0.09470761388256363), (3208, 0.049863915328833074), (3209, 0.003580744652164894), (3210, 0.09093722134903459), (3211, 0.051110534426526764), (3212, 0.0741479701120809), (3213, 0.09600123894861613), (3214, 0.0), (3215, 0.0585846243352148), (3216, 0.06479198569373505), (3217, 0.08601993873189166), (3218, 0.09594345418014358), (3219, 0.08005173169313753), (3220, 0.0624076044578404), (3221, 0.1185832428924668), (3222, 0.055922906210349635), (3223, 0.08253495320369132), (3224, 0.030240437846287292), (3225, 0.06182889495725713), (3226, 0.09449902997021808), (3227, 0.07505810364078534), (3228, 0.09135581395284723), (3229, 0.061209189192168494), (3230, 0.06241871767673142), (3231, 0.08036137385610231), (3232, 0.08677548682104748), (3233, 0.06074710219296559), (3234, 0.07761661752121413), (3235, 0.09668567640174833), (3236, 0.09249959779366895), (3237, 0.07779565326923354), (3238, 0.02472501122632164), (3239, 0.07586410183805253), (3240, 0.08408642501273421), (3241, 0.0), (3242, 0.07126900586589668), (3243, 0.0753143014749138), (3244, 0.0022890375486051134), (3245, 0.04598082815980112), (3246, 0.13894225363541857), (3247, 0.05178371008954466), (3248, 0.0), (3249, 0.07577406502335238), (3250, 0.08597577662765821), (3251, 0.0), (3252, 0.04442110580779312), (3253, 0.060987044154420716), (3254, 0.059827099408132696), (3255, 0.035425988268988524), (3256, 0.0875771828174766), (3257, 0.03299650492065738), (3258, 0.018977374826721235), (3259, 0.1028525227017585), (3260, 0.07216406748591074), (3261, 0.10085871018889725), (3262, 0.04104272407421197), (3263, 0.10272719564268792), (3264, 0.11321188181756954), (3265, 0.11668665129814708), (3266, 0.051639610197116215), (3267, 0.0030864997095946603), (3268, 0.05680205368847312), (3269, 0.0), (3270, 0.07647375966761658), (3271, 0.07830952109325318), (3272, 0.13716936573276675), (3273, 0.09537655124681872), (3274, 0.09607143804758651), (3275, 0.02912003570957208), (3276, 0.07347574449106972), (3277, 0.0489167467301735), (3278, 0.07895152716752041), (3279, 0.07009290414755151), (3280, 0.06297106811491783), (3281, 0.09179367246029578), (3282, 0.06633496672805424), (3283, 0.08426521854975852), (3284, 0.061592443387272225), (3285, 0.07708269395470385), (3286, 0.1059261654054968), (3287, 0.0867797688268568), (3288, 0.08574422871410645), (3289, 0.06524868822005253), (3290, 0.03276674017727205), (3291, 0.05579589320398925), (3292, 0.05733994868517885), (3293, 0.0), (3294, 0.07077333957397733), (3295, 0.06924183577873287), (3296, 0.06616965710051553), (3297, 0.07983529542717634), (3298, 0.09540482191204458), (3299, 0.08539033353456006), (3300, 0.09602922723314301), (3301, 0.08669106717283032), (3302, 0.0029637487053323685), (3303, 0.07220163591669972), (3304, 0.06800490622582311), (3305, 0.08325974100985768), (3306, 0.05669876369328391), (3307, 0.10080483385827847), (3308, 0.0026120997181208064), (3309, 0.06566511543433506), (3310, 0.07399800335985356), (3311, 0.06925605113726152), (3312, 0.07835594474855011), (3313, 0.07383322994388555), (3314, 0.055837651612457274), (3315, 0.054095077439928745), (3316, 0.09176361474616145), (3317, 0.10718327320322542), (3318, 0.12168116858900599), (3319, 0.05637460091872908), (3320, 0.02496005139817261), (3321, 0.04269776396461165), (3322, 0.07664134568796054), (3323, 0.03038604247837741), (3324, 0.07457262536826857), (3325, 0.06310521024065696), (3326, 0.052603943797933914), (3327, 0.08499365623754677), (3328, 0.04329927564522012), (3329, 0.08652067475433449), (3330, 0.057659359543882065), (3331, 0.06999788623785302), (3332, 0.09119950490458212), (3333, 0.08340181141468761), (3334, 0.10213082722693607), (3335, 0.04413222927662887), (3336, 0.06986827161399395), (3337, 0.019617762723967324), (3338, 0.08627896559532014), (3339, 0.05005230939381032), (3340, 0.024411391121707166), (3341, 0.0), (3342, 0.09572474142235012), (3343, 0.0), (3344, 0.07959695423616542), (3345, 0.11017666739216868), (3346, 0.058779457203249216), (3347, 0.019052362321641505), (3348, 0.07518348651967328), (3349, 0.058191524834830706), (3350, 0.08040684154683882), (3351, 0.09985277876251646), (3352, 0.08225254438577952), (3353, 0.0757833149241145), (3354, 0.06499119595932361), (3355, 0.02500143875063871), (3356, 0.08356050783201215), (3357, 0.002721987365061557), (3358, 0.10152619499397464), (3359, 0.08292391957962272), (3360, 0.0), (3361, 0.0), (3362, 0.06342959036344431), (3363, 0.10724352922226661), (3364, 0.08998106178600908), (3365, 0.06523704813563458), (3366, 0.02557836690684308), (3367, 0.07618960537015777), (3368, 0.09154277054215613), (3369, 0.08214578710640955), (3370, 0.10640720249338084), (3371, 0.023042470104326435), (3372, 0.06412531733713676), (3373, 0.0), (3374, 0.017058559438861354), (3375, 0.07716603907739603), (3376, 0.07262041709656766), (3377, 0.11821160254945134), (3378, 0.008588829585199596), (3379, 0.05943896468051618), (3380, 0.124134671875751), (3381, 0.0836744878464588), (3382, 0.05871001373522327), (3383, 0.07051964571846897), (3384, 0.05147680953675715), (3385, 0.05371613775267002), (3386, 0.0), (3387, 0.07565531925713193), (3388, 0.07201144942815892), (3389, 0.0528542046912594), (3390, 0.04991341674761508), (3391, 0.10613049712653781), (3392, 0.0037595583800910464), (3393, 0.08383434835630549), (3394, 0.0), (3395, 0.09101735138606114), (3396, 0.05934636953462052), (3397, 0.11943453692425604), (3398, 0.055519272864136396), (3399, 0.08650727669604225), (3400, 0.07772405224135667), (3401, 0.11717453064717041), (3402, 0.04665005232346162), (3403, 0.08169156451150945), (3404, 0.05984900874177135), (3405, 0.06690505304762161), (3406, 0.08290396037701268), (3407, 0.10208755979671835), (3408, 0.10337732416716755), (3409, 0.07158435499673964), (3410, 0.06393863849929511), (3411, 0.0), (3412, 0.058848080508204226), (3413, 0.05675304755442695), (3414, 0.052219478838007496), (3415, 0.06893237745301481), (3416, 0.07074436306309229), (3417, 0.12996645453271813), (3418, 0.07231868063390819), (3419, 0.01878700003625599), (3420, 0.06201376962687521), (3421, 0.03655231803457234), (3422, 0.06206525812127783), (3423, 0.09223845081524452), (3424, 0.08204478891924746), (3425, 0.07995445122060926), (3426, 0.003528875147630938), (3427, 0.039633407049540825), (3428, 0.09347657174832921), (3429, 0.0856936005374844), (3430, 0.06923097207047553), (3431, 0.04860123833903559), (3432, 0.014483925471877972), (3433, 0.00982652595956662), (3434, 0.06698244653012937), (3435, 0.06359511221349264), (3436, 0.06796307064410324), (3437, 0.08319114162092581), (3438, 0.0029202939850517056), (3439, 0.07348306642128628), (3440, 0.04125218766382918), (3441, 0.026811204537147602), (3442, 0.061364510769298136), (3443, 0.07400593579491567), (3444, 0.06978751633353551), (3445, 0.10219777403273812), (3446, 0.0), (3447, 0.06846557874225355), (3448, 0.05174033625754476), (3449, 0.09012983139589249), (3450, 0.13316962073562358), (3451, 0.11846766173431865), (3452, 0.0867701298127485), (3453, 0.07313055642777355), (3454, 0.0), (3455, 0.0634913903051691), (3456, 0.09342568349449018), (3457, 0.0), (3458, 0.04843849260705134), (3459, 0.0630393592388952), (3460, 0.114567393028638), (3461, 0.1437170883183096), (3462, 0.027482776413666685), (3463, 0.035258130836266104), (3464, 0.051929871392011225), (3465, 0.051138740098053304), (3466, 0.07559896889683067), (3467, 0.07024450958518631), (3468, 0.05881632331533499), (3469, 0.08967659718499536), (3470, 0.0980335710793316), (3471, 0.092918651225662), (3472, 0.09461048956310043), (3473, 0.08919158051208843), (3474, 0.03135360484025567), (3475, 0.07946631059202314), (3476, 0.0705935839728542), (3477, 0.08374392388204846), (3478, 0.09909004612807475), (3479, 0.09137368621897424), (3480, 0.0), (3481, 0.07579475649857076), (3482, 0.08562961567934392), (3483, 0.08558098074526252), (3484, 0.02949145714912796), (3485, 0.1272580654699788), (3486, 0.06876542822943196), (3487, 0.0), (3488, 0.0414076853891828), (3489, 0.08981405296904463), (3490, 0.0), (3491, 0.07773316914634822), (3492, 0.08875077267234854), (3493, 0.06607392045425783), (3494, 0.07708720994318795), (3495, 0.03707266037665867), (3496, 0.06831356792066937), (3497, 0.0856915832474608), (3498, 0.0856022313060219), (3499, 0.04405000959167783), (3500, 0.06063039741701264), (3501, 0.08460800518055195), (3502, 0.02446114409547196), (3503, 0.002389107688643059), (3504, 0.021219360195550038), (3505, 0.002263946049584988), (3506, 0.0726144672502053), (3507, 0.055793032956303897), (3508, 0.06491868849236801), (3509, 0.05061939997763142), (3510, 0.06942081426951449), (3511, 0.03999903393758619), (3512, 0.06721526375790789), (3513, 0.09470397221062464), (3514, 0.017829327652308616), (3515, 0.05614439975270953), (3516, 0.022938653707019148), (3517, 0.07820559922395724), (3518, 0.0288555932128545), (3519, 0.08199030086154835), (3520, 0.020741543370767935), (3521, 0.1378768255921755), (3522, 0.0766430349428768), (3523, 0.01637057631540957), (3524, 0.1069157400142795), (3525, 0.0), (3526, 0.08379801479246626), (3527, 0.04585256318006009), (3528, 0.06994301007211096), (3529, 0.0), (3530, 0.08912420164063398), (3531, 0.1210795816464591), (3532, 0.08629188175665278), (3533, 0.14406733147881737), (3534, 0.1025066923540945), (3535, 0.0), (3536, 0.07749146823309774), (3537, 0.022191745291893255), (3538, 0.006557229852239233), (3539, 0.09311402990256193), (3540, 0.0), (3541, 0.07894631419496974), (3542, 0.10285183860888211), (3543, 0.08950202881238044), (3544, 0.08930830975734902), (3545, 0.005024635386114884), (3546, 0.0), (3547, 0.03427599530367477), (3548, 0.0799582904147406), (3549, 0.067239881955347), (3550, 0.0), (3551, 0.09574948226755615), (3552, 0.0784264040083939), (3553, 0.12105893658103413), (3554, 0.0814782000310078), (3555, 0.12186603313533034), (3556, 0.08357060909512928), (3557, 0.04112427843688387), (3558, 0.061764809469022734), (3559, 0.0954985978253352), (3560, 0.12834068967172235), (3561, 0.052255401457182805), (3562, 0.09285323540147043), (3563, 0.0), (3564, 0.0028971266502984014), (3565, 0.09832800073662497), (3566, 0.0), (3567, 0.05770945922945438), (3568, 0.09167377495975564), (3569, 0.07694383723712334), (3570, 0.05030992378180022), (3571, 0.08268441714990296), (3572, 0.08671838190723347), (3573, 0.0), (3574, 0.060312900145171204), (3575, 0.0677914296059804), (3576, 0.08003003265926875), (3577, 0.019009915101919468), (3578, 0.057145506864035994), (3579, 0.07667300220516904), (3580, 0.07541222032412069), (3581, 0.0), (3582, 0.06225034652612342), (3583, 0.08891552295080349), (3584, 0.056886216144853834), (3585, 0.09789614485216964), (3586, 0.036593074293623046), (3587, 0.050211475660050055), (3588, 0.06171911844665941), (3589, 0.05831999864719683), (3590, 0.10095728013298906), (3591, 0.09578019410323145), (3592, 0.06525418397398591), (3593, 0.07898573270135568), (3594, 0.07744256272584875), (3595, 0.039916323098925156), (3596, 0.042784375453359044), (3597, 0.024063639610295114), (3598, 0.040278009751297555), (3599, 0.07890767596232898), (3600, 0.0), (3601, 0.036011945188992686), (3602, 0.07022526575368372), (3603, 0.05479063316327166), (3604, 0.096086804274307), (3605, 0.07612370300133964), (3606, 0.08582787028580316), (3607, 0.08490948023698658), (3608, 0.09637861693260694), (3609, 0.05749457757285512), (3610, 0.08750730277814864), (3611, 0.041895558821845896), (3612, 0.0), (3613, 0.05524516199327348), (3614, 0.07051617428283884), (3615, 0.05592998329868809), (3616, 0.07411311208030344), (3617, 0.0432183872930166), (3618, 0.05274243322889229), (3619, 0.06998321630136671), (3620, 0.0), (3621, 0.08209775851910465), (3622, 0.0), (3623, 0.0), (3624, 0.10349487502157956), (3625, 0.0), (3626, 0.08879111319952174), (3627, 0.06350466953988936), (3628, 0.06712931475950742), (3629, 0.060549172053406056), (3630, 0.05724107731317757), (3631, 0.02716656490699923), (3632, 0.059391949530101025), (3633, 0.09396180924888486), (3634, 0.07823383437519171), (3635, 0.0672021964813492), (3636, 0.05662253425641582), (3637, 0.07374336649422386), (3638, 0.09931018425469042), (3639, 0.06343797065909319), (3640, 0.05975226893160835), (3641, 0.053817043772019034), (3642, 0.11106324941627976), (3643, 0.048278539077732205), (3644, 0.08246832725070667), (3645, 0.0), (3646, 0.05023599471462533), (3647, 0.059703575545434304), (3648, 0.06198606387548378), (3649, 0.0), (3650, 0.09588130054785395), (3651, 0.08041699788372825), (3652, 0.06140026259741902), (3653, 0.0), (3654, 0.002352543614267143), (3655, 0.12030321023724104), (3656, 0.06286200723054955), (3657, 0.08071918482830466), (3658, 0.08022915506219407), (3659, 0.0665172317623944), (3660, 0.057521140027010205), (3661, 0.08738976301822662), (3662, 0.044663705855629676), (3663, 0.06314348343958079), (3664, 0.0443108874926083), (3665, 0.08656920132207195), (3666, 0.0655546756703855), (3667, 0.07944479206256098), (3668, 0.10511588396050393), (3669, 0.05123687254845401), (3670, 0.04495599143705375), (3671, 0.060458633823591824), (3672, 0.06765576394959004), (3673, 0.11825434991233211), (3674, 0.06692523745502228), (3675, 0.0916343833261453), (3676, 0.04644078565745329), (3677, 0.002036233583486917), (3678, 0.002574791213901974), (3679, 0.06668099981077555), (3680, 0.07720911871182859), (3681, 0.08381175418464487), (3682, 0.07186016489438221), (3683, 0.0345900049881079), (3684, 0.08490064137514279), (3685, 0.08734723245146964), (3686, 0.04519154448542098), (3687, 0.08863465901744029), (3688, 0.07221444146436502), (3689, 0.074627571630232), (3690, 0.05644663015269517), (3691, 0.09975843705746604), (3692, 0.05379521727446825), (3693, 0.06594174173130271), (3694, 0.07263637805011654), (3695, 0.06896208499342252), (3696, 0.07592873257697857), (3697, 0.060856424908675634), (3698, 0.10213244405754068), (3699, 0.0689521988924163), (3700, 0.04226419597819411), (3701, 0.04724338864734956), (3702, 0.08312148024530917), (3703, 0.04699091263604323), (3704, 0.06272068188299643), (3705, 0.054237583616081685), (3706, 0.049747272761796794), (3707, 0.06297178111501314), (3708, 0.026978645674111654), (3709, 0.04375796008565286), (3710, 0.08663031745774515), (3711, 0.0), (3712, 0.0714903451652014), (3713, 0.07597573410472806), (3714, 0.13681861756146893), (3715, 0.056598906839706045), (3716, 0.08628403133657134), (3717, 0.08149242581414294), (3718, 0.0), (3719, 0.0), (3720, 0.05158533931152982), (3721, 0.012027112559587917), (3722, 0.0), (3723, 0.08604863248835959), (3724, 0.07083195727083508), (3725, 0.062463892153531556), (3726, 0.054039714598260166), (3727, 0.08996631316424164), (3728, 0.06870860092167724), (3729, 0.07541436932335929), (3730, 0.09259402183993393), (3731, 0.0), (3732, 0.0030780530653591602), (3733, 0.08963964447086877), (3734, 0.05940093101972799), (3735, 0.05151934299070242), (3736, 0.09770873373342523), (3737, 0.07045523946509394), (3738, 0.09311571295601262), (3739, 0.024756870493356398), (3740, 0.0), (3741, 0.01527458330990825), (3742, 0.05722002201050222), (3743, 0.05772401609552128), (3744, 0.07376749997424545), (3745, 0.0), (3746, 0.11313813601354898), (3747, 0.0023554507111003833), (3748, 0.08715570433024616), (3749, 0.07401068641976173), (3750, 0.09453450577706257), (3751, 0.0843530232286864), (3752, 0.036985682121130126), (3753, 0.07922765083022318), (3754, 0.06355734797999851), (3755, 0.09554699552536093), (3756, 0.09554699552536093), (3757, 0.06076817194686602), (3758, 0.07628240586336489), (3759, 0.06271318129382608), (3760, 0.06850053350712325), (3761, 0.0730718024850499), (3762, 0.03193278446541911), (3763, 0.12167002198156944), (3764, 0.08967374213830796), (3765, 0.016969316249414976), (3766, 0.08751786435170719), (3767, 0.11536222487370519), (3768, 0.09572003276785161), (3769, 0.08879673819596132), (3770, 0.04124248835228853), (3771, 0.08438326757169677), (3772, 0.061697556636589095), (3773, 0.0), (3774, 0.08189221330616853), (3775, 0.09002569530512357), (3776, 0.07131122789047423), (3777, 0.11544938071619816), (3778, 0.06380362005215595), (3779, 0.0680975316297719), (3780, 0.10589340941887859), (3781, 0.059205872242140675), (3782, 0.07758214379303241), (3783, 0.12370865109443603), (3784, 0.08427747190867749), (3785, 0.07869850039610829), (3786, 0.07680637454311265), (3787, 0.09434583156047166), (3788, 0.07817944698271924), (3789, 0.07817944698271924), (3790, 0.07300976136931057), (3791, 0.06276012443494085), (3792, 0.08026696993281277), (3793, 0.049335933236668045), (3794, 0.06656651985201956), (3795, 0.08980791651910847), (3796, 0.08980791651910847), (3797, 0.09865973645828496), (3798, 0.10173652084879962), (3799, 0.07350519675275052), (3800, 0.08741180087519833), (3801, 0.07633241999538497), (3802, 0.11170102902482067), (3803, 0.04219132141816151), (3804, 0.07678240100920647), (3805, 0.05124033285131338), (3806, 0.06197035734730864), (3807, 0.06436258757069666), (3808, 0.12743794926041385), (3809, 0.003064767743887485), (3810, 0.09403963664712568), (3811, 0.07466915384723279), (3812, 0.08118351259500269), (3813, 0.07834486066103843), (3814, 0.09943403335409681), (3815, 0.0), (3816, 0.03017201954832817), (3817, 0.11241403071056982), (3818, 0.08848935592874406), (3819, 0.06749763673482471), (3820, 0.029056689273158014), (3821, 0.07675644975734977), (3822, 0.06963652892024629), (3823, 0.02214397735959919), (3824, 0.07810930793750676), (3825, 0.06791423475105744), (3826, 0.08757875641715165), (3827, 0.08279055346292952), (3828, 0.08279055346292952), (3829, 0.10737948619257463), (3830, 0.0), (3831, 0.07154560280203937), (3832, 0.07154560280203937), (3833, 0.11633991528044717), (3834, 0.07497395088908956), (3835, 0.03997470168733988), (3836, 0.13329284773158204), (3837, 0.05917988540531548), (3838, 0.07873311540613243), (3839, 0.06489268177488798), (3840, 0.04312288548053465), (3841, 0.05070451757114568), (3842, 0.053718743657733534), (3843, 0.053718743657733534), (3844, 0.07287046819591504), (3845, 0.0713857696171547), (3846, 0.07942464133820365), (3847, 0.08406521974129676), (3848, 0.07661552571868173), (3849, 0.02496246423618024), (3850, 0.08899244781563143), (3851, 0.07190685240667741), (3852, 0.05491253235375198), (3853, 0.06027025094661278), (3854, 0.07857955125232471), (3855, 0.06910710169741474), (3856, 0.05402056088940115), (3857, 0.06635245804237709), (3858, 0.014113505424892769), (3859, 0.0), (3860, 0.07857172340576037), (3861, 0.0), (3862, 0.06465375596542917), (3863, 0.0), (3864, 0.07036774340494337), (3865, 0.04488875316451775), (3866, 0.09432909648307666), (3867, 0.03215294687759394), (3868, 0.0027289499335367497), (3869, 0.08531389668263803), (3870, 0.053438849958999994), (3871, 0.07712862102069641), (3872, 0.006572366740300595), (3873, 0.06740247054348432), (3874, 0.06740247054348432), (3875, 0.07895301532214742), (3876, 0.06804851013420284), (3877, 0.0908051137407095), (3878, 0.05839679456082407), (3879, 0.06787356935830319), (3880, 0.08428299149125601), (3881, 0.06322519409592403), (3882, 0.07456915482163361), (3883, 0.07456915482163361), (3884, 0.032629827000928036), (3885, 0.09289064127574162), (3886, 0.06530165643191874), (3887, 0.0), (3888, 0.08614628287126892), (3889, 0.0694252062139234), (3890, 0.0566802260335013), (3891, 0.03735055347490875), (3892, 0.03735055347490875), (3893, 0.021518589897810234), (3894, 0.09624232835554072), (3895, 0.09334964756170758), (3896, 0.07412856077185681), (3897, 0.040011731229243876), (3898, 0.08155332029290939), (3899, 0.11408276754612875), (3900, 0.11870464636225617), (3901, 0.04084365436745259), (3902, 0.0028538162089538424), (3903, 0.05716880585280224), (3904, 0.05006919386341093), (3905, 0.030965971567060005), (3906, 0.13384161397298266), (3907, 0.04858331416151928), (3908, 0.08027173607312188), (3909, 0.10063689649636028), (3910, 0.1004346810661389), (3911, 0.10138711042348125), (3912, 0.07808494049778009), (3913, 0.09667719923596681), (3914, 0.05941816167557685), (3915, 0.06513577448471441), (3916, 0.04912919996077448), (3917, 0.08288487081158966), (3918, 0.06284150643652191), (3919, 0.03721253920928066), (3920, 0.015197269268783311), (3921, 0.06041232546472196), (3922, 0.060706311078218195), (3923, 0.08162418705837526), (3924, 0.07157243943135526), (3925, 0.08319678629448084), (3926, 0.012909036044268678), (3927, 0.04205297841797604), (3928, 0.004089479922150322), (3929, 0.07164624760843645), (3930, 0.06243417543987924), (3931, 0.10617713424514728), (3932, 0.05013326840116937), (3933, 0.07823751511469242), (3934, 0.1090874124857638), (3935, 0.04584712897410315), (3936, 0.09493171882456407), (3937, 0.06288294648906347), (3938, 0.00408103332214077), (3939, 0.07872008602831806), (3940, 0.058211489582072326), (3941, 0.07895518348367382), (3942, 0.08962875082973819), (3943, 0.04936426507075601), (3944, 0.05084623406897814), (3945, 0.060388338268913266), (3946, 0.09325321465313137), (3947, 0.042889731318209806), (3948, 0.07280362422456242), (3949, 0.08822057323344736), (3950, 0.06276821824113317), (3951, 0.056331750918520274), (3952, 0.04540880440875602), (3953, 0.0747864981380548), (3954, 0.10505752258511997), (3955, 0.10505752258511997), (3956, 0.1018481194581545), (3957, 0.038651992297711206), (3958, 0.012938064642343972), (3959, 0.0780352876501959), (3960, 0.015940952603758548), (3961, 0.0), (3962, 0.09728847158359885), (3963, 0.08026437361853656), (3964, 0.08082058752702768), (3965, 0.0), (3966, 0.0954848128408824), (3967, 0.09233286790808425), (3968, 0.04566121728920219), (3969, 0.08562568567995782), (3970, 0.08537378327813294), (3971, 0.04715143273057164), (3972, 0.08946194758246849), (3973, 0.0746312596620405), (3974, 0.09398596355004755), (3975, 0.10648052755029601), (3976, 0.0), (3977, 0.016829685687450007), (3978, 0.05485328706667623), (3979, 0.0987286271703808), (3980, 0.05937127231207949), (3981, 0.05937127231207949), (3982, 0.0758455451414547), (3983, 0.049351672233789175), (3984, 0.08044544098730598), (3985, 0.0840141298488091), (3986, 0.08282181743482657), (3987, 0.003096506657747583), (3988, 0.06176452377004043), (3989, 0.06267662544318928), (3990, 0.09924014663091815), (3991, 0.07352916325074878), (3992, 0.08463864226939453), (3993, 0.013625806924092794), (3994, 0.0), (3995, 0.013654962502000843), (3996, 0.10754420188944848), (3997, 0.019036750285664046), (3998, 0.08489383360896992), (3999, 0.0), (4000, 0.08014862206824815), (4001, 0.07176949855339942), (4002, 0.052049555965762294), (4003, 0.037636106507366276), (4004, 0.046188310007297964), (4005, 0.09201535110268695), (4006, 0.0), (4007, 0.12260655257834902), (4008, 0.08770703732682696), (4009, 0.04456263778143367), (4010, 0.10083372595571524), (4011, 0.092489228468584), (4012, 0.025960952672155667), (4013, 0.09426831828863445), (4014, 0.048794418963813785), (4015, 0.07582798974807912), (4016, 0.0), (4017, 0.0), (4018, 0.07346947513805623), (4019, 0.07346947513805623), (4020, 0.06485030581574205), (4021, 0.09715791111438934), (4022, 0.0), (4023, 0.0), (4024, 0.09775171492564293), (4025, 0.09775171492564293), (4026, 0.031698139050053926), (4027, 0.031698139050053926), (4028, 0.08972882984384341), (4029, 0.06175386937669082), (4030, 0.07889666253887315), (4031, 0.06069804656602264), (4032, 0.056333029989160364), (4033, 0.06259123926548746), (4034, 0.07597248841728839), (4035, 0.07853870063647324), (4036, 0.08728525677943325), (4037, 0.0030674850720193085), (4038, 0.0895389685572511), (4039, 0.06705215129257963), (4040, 0.06595971637255181), (4041, 0.08055649098421898), (4042, 0.0815572378801628), (4043, 0.09904928096079528), (4044, 0.06026943668164052), (4045, 0.06026943668164052), (4046, 0.08815415627551232), (4047, 0.08815415627551232), (4048, 0.08325315584400066), (4049, 0.08975536936677997), (4050, 0.0712011889524955), (4051, 0.10375750543231445), (4052, 0.05106421653543919), (4053, 0.08844653558826997), (4054, 0.04853503747715885), (4055, 0.08430812663345313), (4056, 0.045976294090231476), (4057, 0.08641457406224434), (4058, 0.004103358998121409), (4059, 0.082620211404219), (4060, 0.12125788497600805), (4061, 0.07998078766709464), (4062, 0.06200895032042786), (4063, 0.07215404826269328), (4064, 0.08597607236785225), (4065, 0.055307917922119886), (4066, 0.07334616678771254), (4067, 0.0), (4068, 0.07212174476214407), (4069, 0.05374931878755244), (4070, 0.0526891837889008), (4071, 0.0560664960539826), (4072, 0.05278117115517079), (4073, 0.030288356115855716), (4074, 0.030288356115855716), (4075, 0.09321335722118192), (4076, 0.09321335722118192), (4077, 0.09870720470703691), (4078, 0.01390499905513519), (4079, 0.12302168159850858), (4080, 0.052120894638942615), (4081, 0.08527179856800814), (4082, 0.04908639598668255), (4083, 0.06384221117129192), (4084, 0.0023399799030527973), (4085, 0.09785611034181031), (4086, 0.07536346584105633), (4087, 0.056902159549361966), (4088, 0.06802031470401018), (4089, 0.10050599528337711), (4090, 0.10025189605857959), (4091, 0.05199848972697567), (4092, 0.08559025710703087), (4093, 0.08274323261593781), (4094, 0.0), (4095, 0.08357691729866625), (4096, 0.1207505320617906), (4097, 0.0737613961751489), (4098, 0.043590640967961024), (4099, 0.00218206582314911), (4100, 0.0864448881955891), (4101, 0.002309368736859313), (4102, 0.0027858791461684283), (4103, 0.06702153469062738), (4104, 0.0536668943667233), (4105, 0.09194949231276543), (4106, 0.09194949231276543), (4107, 0.08505069657030581), (4108, 0.06872000678424045), (4109, 0.058557860842583465), (4110, 0.07905973701475008), (4111, 0.06908584797930536), (4112, 0.05981201632973599), (4113, 0.05984627411672522), (4114, 0.061951732311095215), (4115, 0.02052103108006359), (4116, 0.05935495164308749), (4117, 0.0), (4118, 0.0908322216398943), (4119, 0.002643220539798964), (4120, 0.07374955004628188), (4121, 0.06378580550007429), (4122, 0.07364756740897019), (4123, 0.07323990685581332), (4124, 0.07105621036438327), (4125, 0.06348901524835568), (4126, 0.06951393396763975), (4127, 0.07342632545124575), (4128, 0.07342632545124575), (4129, 0.0730602817037526), (4130, 0.06773721321543091), (4131, 0.06773721321543091), (4132, 0.07089447239309533), (4133, 0.03178305196567266), (4134, 0.0), (4135, 0.0935544238327066), (4136, 0.08686699407895912), (4137, 0.05670866445917559), (4138, 0.08577050472899675), (4139, 0.08766282543255137), (4140, 0.036994886932408926), (4141, 0.05157778081615062), (4142, 0.06221987087053848), (4143, 0.11771459758188496), (4144, 0.05367787610952595), (4145, 0.0), (4146, 0.0), (4147, 0.045638987901487765), (4148, 0.09131468578088774), (4149, 0.002149562430605549), (4150, 0.07275466069568148), (4151, 0.0023896348003002257), (4152, 0.04866230008977086), (4153, 0.02619157422717908), (4154, 0.03723387134064289), (4155, 0.058622708013952696), (4156, 0.0020407531283911286), (4157, 0.0), (4158, 0.04536009099727981), (4159, 0.06905944531348567), (4160, 0.0025433420858443087), (4161, 0.07008681009735204), (4162, 0.06659955434290032), (4163, 0.09170110537938245), (4164, 0.08484380074895036), (4165, 0.08660213861456914), (4166, 0.08660213861456914), (4167, 0.0), (4168, 0.06068812596852178), (4169, 0.10885593115861776), (4170, 0.10885593115861776), (4171, 0.10601262534773966), (4172, 0.021665706068362774), (4173, 0.0813731007297302), (4174, 0.08639926170698893), (4175, 0.04142285184455555), (4176, 0.05443513615818843), (4177, 0.07277963201031105), (4178, 0.08804808270053166), (4179, 0.0), (4180, 0.09006569190466873), (4181, 0.08768564920309524), (4182, 0.012627050821079042), (4183, 0.0881567608278104), (4184, 0.0), (4185, 0.019993211188554932), (4186, 0.13264654003049947), (4187, 0.0634774845729976), (4188, 0.0634774845729976), (4189, 0.08024306968495855), (4190, 0.038448879713280405), (4191, 0.05913056573118762), (4192, 0.07859861682807177), (4193, 0.10012991675374618), (4194, 0.11683072779916329), (4195, 0.06621614486475355), (4196, 0.0), (4197, 0.0), (4198, 0.08591045425728604), (4199, 0.0), (4200, 0.023316366355475838), (4201, 0.04948906519902171), (4202, 0.019097631546122124), (4203, 0.0), (4204, 0.008311517847412186), (4205, 0.07514478291693187), (4206, 0.09863135545233542), (4207, 0.0), (4208, 0.0031129503972527513), (4209, 0.057799375521774304), (4210, 0.05998788888915975), (4211, 0.05998788888915975), (4212, 0.05158595498604288), (4213, 0.06787116596956358), (4214, 0.07542590784645527), (4215, 0.0842763317052533), (4216, 0.08909867195475724), (4217, 0.0746347117239759), (4218, 0.07577317884355372), (4219, 0.0), (4220, 0.0), (4221, 0.09902952701740915), (4222, 0.06742330612428081), (4223, 0.09873514576548743), (4224, 0.09723058995827291), (4225, 0.09177291209415342), (4226, 0.07655890356224072), (4227, 0.08568989618460951), (4228, 0.0904825202025695), (4229, 0.11804122313347741), (4230, 0.10856783635146235), (4231, 0.0), (4232, 0.09955422443901098), (4233, 0.1008891111117945), (4234, 0.0), (4235, 0.06067818422767751), (4236, 0.06781638587225379), (4237, 0.07170228506032662), (4238, 0.058976776314759796), (4239, 0.04169722695890526), (4240, 0.04169722695890526), (4241, 0.08792186141340026), (4242, 0.08904439348332309), (4243, 0.08904439348332309), (4244, 0.06843916988495273), (4245, 0.09682572902392084), (4246, 0.004916701756373201), (4247, 0.09688099848912092), (4248, 0.09688099848912092), (4249, 0.0024130529575260243), (4250, 0.0), (4251, 0.0), (4252, 0.00199927534150127), (4253, 0.07780782726505313), (4254, 0.060675647768873534), (4255, 0.06004562123081251), (4256, 0.004579245057429386), (4257, 0.08241702107527388), (4258, 0.0), (4259, 0.0029028124549327983), (4260, 0.0), (4261, 0.09731651559093465), (4262, 0.08654007040871453), (4263, 0.04769359036085756), (4264, 0.09501705961984062), (4265, 0.07301355002713181), (4266, 0.07034525618391758), (4267, 0.07034525618391758), (4268, 0.05346904475736641), (4269, 0.07381940473168692), (4270, 0.003075149238092996), (4271, 0.0030668336418731854), (4272, 0.0), (4273, 0.07270924336354542), (4274, 0.0787696971326522), (4275, 0.05787116094743885), (4276, 0.061804742071363425), (4277, 0.07901563137892553), (4278, 0.0), (4279, 0.04878188642680217), (4280, 0.051133659558310354), (4281, 0.07924474924440013), (4282, 0.05543563834548106), (4283, 0.08860975425472598), (4284, 0.002384554365766964), (4285, 0.07146255714411756), (4286, 0.07146255714411756), (4287, 0.03855940906452424), (4288, 0.03855940906452424), (4289, 0.0), (4290, 0.09966956489472936), (4291, 0.017460450447520655), (4292, 0.023080273633031587), (4293, 0.0), (4294, 0.03198528231349085), (4295, 0.005577346677851602), (4296, 0.07245231016572759), (4297, 0.10232799070324315), (4298, 0.05976534056325663), (4299, 0.08123466088336934), (4300, 0.05306777294612107), (4301, 0.06453322060712752), (4302, 0.05616640320301882), (4303, 0.05448708148291346), (4304, 0.061563443812642935), (4305, 0.08166575261587661), (4306, 0.06580636661696157), (4307, 0.00210199000203562), (4308, 0.0018764831226217333), (4309, 0.0), (4310, 0.040900433985025506), (4311, 0.003224852286616741), (4312, 0.08466811737997346), (4313, 0.07895409610791645), (4314, 0.003098405930513712), (4315, 0.002406704725843746), (4316, 0.04738398175983165), (4317, 0.0031864235814866846), (4318, 0.06332809639659896), (4319, 0.07972808262842093), (4320, 0.03975834001933627), (4321, 0.07694426300814756), (4322, 0.04724026302688095), (4323, 0.06667739863399841), (4324, 0.07282297178119744), (4325, 0.053510484056191056), (4326, 0.003025878626772567), (4327, 0.07418285189590555), (4328, 0.009584206488827957)]\n"
          ]
        }
      ]
    },
    {
      "cell_type": "code",
      "source": [
        "len(score)"
      ],
      "metadata": {
        "colab": {
          "base_uri": "https://localhost:8080/"
        },
        "id": "h2Duvsz9LqKy",
        "outputId": "2463e887-61ab-4122-b6aa-54dba4cb3ebd"
      },
      "execution_count": 364,
      "outputs": [
        {
          "output_type": "execute_result",
          "data": {
            "text/plain": [
              "4329"
            ]
          },
          "metadata": {},
          "execution_count": 364
        }
      ]
    },
    {
      "cell_type": "code",
      "source": [
        "# finding movies having higher similarity score \n",
        "\n",
        "sorted_list = sorted(score, key = lambda x:x[1], reverse = True)\n",
        "# sort based on non increasing order, key is based on first index of score in list element which is score in (index, score)\n",
        "print(sorted_list)"
      ],
      "metadata": {
        "colab": {
          "base_uri": "https://localhost:8080/"
        },
        "id": "-9vXNydvLqH-",
        "outputId": "b94c1799-f9b5-4943-dc80-d73eb4caef89"
      },
      "execution_count": 365,
      "outputs": [
        {
          "output_type": "stream",
          "name": "stdout",
          "text": [
            "[(925, 1.0), (2170, 0.1940246564412141), (1481, 0.16153595332923268), (2858, 0.1590545409726467), (1424, 0.15488437882685321), (1960, 0.1534661501253374), (1883, 0.15296839428114012), (1835, 0.15279288009894762), (1003, 0.15122027087397583), (2587, 0.1510280014703504), (1592, 0.14683591660244746), (1017, 0.1466111389976885), (1480, 0.14598884573079698), (3190, 0.14585979089787734), (3533, 0.14406733147881737), (3461, 0.1437170883183096), (1728, 0.14303500796056887), (2912, 0.143017195927542), (802, 0.1405041129377433), (1345, 0.13914888392759092), (3246, 0.13894225363541857), (1538, 0.13851916737216016), (1068, 0.13800353717221164), (3521, 0.1378768255921755), (3272, 0.13716936573276675), (3714, 0.13681861756146893), (2293, 0.1362201687020892), (1299, 0.13550964177517638), (1029, 0.13506432910501284), (1641, 0.13430485760041547), (3906, 0.13384161397298266), (1337, 0.1334983926603454), (3836, 0.13329284773158204), (1010, 0.13323047337205257), (3450, 0.13316962073562358), (1061, 0.13301818687470185), (4186, 0.13264654003049947), (2127, 0.13259503892117913), (300, 0.13227400987470445), (1815, 0.13224538714585155), (842, 0.13187467983604922), (1469, 0.1318051656117034), (1311, 0.13118159755453132), (2011, 0.13026482209790036), (1577, 0.13013585431761335), (3417, 0.12996645453271813), (1772, 0.12965454802298135), (774, 0.12956454895413808), (123, 0.12913687008327007), (1601, 0.1290441371353469), (2415, 0.12845720258328314), (3560, 0.12834068967172235), (2915, 0.12819340355238612), (899, 0.1277997486661144), (2606, 0.12773545476446058), (1070, 0.12752942453375646), (3808, 0.12743794926041385), (3485, 0.1272580654699788), (1357, 0.12697139386874456), (1253, 0.12693930230265937), (2453, 0.12674456535941017), (883, 0.12668376301983691), (1965, 0.12650766273711941), (2724, 0.12573263722097922), (1359, 0.1255977832959531), (2093, 0.12519232299502311), (896, 0.1250518837047613), (2438, 0.12502471644738783), (1306, 0.12495570282287338), (642, 0.12422156410447374), (1235, 0.12416298334823582), (772, 0.12415770583878469), (3380, 0.124134671875751), (1314, 0.12394242656516415), (1457, 0.12378104864451667), (3783, 0.12370865109443603), (2404, 0.12303058552235979), (4079, 0.12302168159850858), (2546, 0.12297673643149364), (2077, 0.1229534361030436), (2337, 0.12292436016529147), (2016, 0.12287484869759485), (792, 0.12286892691933249), (2178, 0.12280054761776915), (4007, 0.12260655257834902), (1332, 0.12234402714344916), (2516, 0.1222870747660455), (784, 0.12217114546545425), (771, 0.12187997488635363), (3555, 0.12186603313533034), (3318, 0.12168116858900599), (3763, 0.12167002198156944), (1549, 0.12149568850580336), (4060, 0.12125788497600805), (3127, 0.12113868271206399), (3531, 0.1210795816464591), (3553, 0.12105893658103413), (1766, 0.12093356367263233), (1132, 0.12088298813590378), (4096, 0.1207505320617906), (251, 0.12071837386716969), (1901, 0.12064906854946239), (659, 0.1205525689405166), (1993, 0.12030570298735946), (3655, 0.12030321023724104), (2611, 0.12029601309358183), (2737, 0.12019141712189983), (1375, 0.12010460237710543), (512, 0.12000460440042822), (3120, 0.11998536515652143), (1013, 0.11997702903403533), (2526, 0.11981319009773385), (790, 0.11955274773860515), (1593, 0.11953103640594762), (3397, 0.11943453692425604), (2592, 0.11940191290156718), (2355, 0.1193115071443427), (3024, 0.11929725577988332), (2022, 0.11913441003394801), (3030, 0.11902552773726702), (365, 0.1188933472444122), (1738, 0.118720318686938), (3900, 0.11870464636225617), (982, 0.11869637882872704), (3221, 0.1185832428924668), (3451, 0.11846766173431865), (1171, 0.11836830026930581), (1232, 0.11829841531325513), (3673, 0.11825434991233211), (3377, 0.11821160254945134), (2787, 0.11818019632629775), (1654, 0.11815241511706169), (4229, 0.11804122313347741), (305, 0.11793993389952144), (4143, 0.11771459758188496), (1272, 0.117663584665565), (2063, 0.11741729719363389), (841, 0.11722014383398754), (3401, 0.11717453064717041), (4194, 0.11683072779916329), (3265, 0.11668665129814708), (786, 0.1164545519498872), (1168, 0.11634729182031674), (2769, 0.1163450065983514), (3833, 0.11633991528044717), (2146, 0.11628407477392426), (1205, 0.11627099320967992), (2161, 0.11626850383743918), (2249, 0.11614712634327293), (2703, 0.11610033400210672), (2312, 0.1160953545167702), (2720, 0.11599017745897558), (3004, 0.11598550766321275), (777, 0.11588766506527981), (2879, 0.11566777486694248), (1347, 0.11566521037561203), (3777, 0.11544938071619816), (3767, 0.11536222487370519), (1980, 0.11531025771388657), (1323, 0.11523248077432163), (1333, 0.11522033341872098), (1169, 0.11493247443681975), (789, 0.11482420668859841), (2318, 0.11459493602149715), (1506, 0.11458359589537054), (3460, 0.114567393028638), (1866, 0.11431044301218474), (2781, 0.11415577663021188), (1035, 0.11410982097552538), (3899, 0.11408276754612875), (2025, 0.114004123412433), (2418, 0.11399939293867536), (2386, 0.11399000739508108), (2141, 0.11394827837411858), (1940, 0.11392290092735628), (380, 0.11379967711152919), (860, 0.11370831827293873), (2313, 0.11361903609372552), (933, 0.11354059941419556), (479, 0.11339909189967556), (1016, 0.1132470991877446), (2729, 0.11323350379876686), (3264, 0.11321188181756954), (952, 0.11315291878511226), (1210, 0.11315124170397634), (3746, 0.11313813601354898), (2085, 0.11280946949072208), (2880, 0.11269416650364301), (3817, 0.11241403071056982), (1374, 0.11240091910352716), (2615, 0.11230801630745181), (1380, 0.11196335624443665), (113, 0.11195923509110034), (2080, 0.11195725347042101), (1546, 0.11191807980792089), (1202, 0.11191283575271574), (1241, 0.11180708704988915), (1230, 0.11179249223561065), (2422, 0.1117826827618615), (1278, 0.11174208528263513), (2253, 0.11170366928210788), (3802, 0.11170102902482067), (2862, 0.11137615067796011), (818, 0.11129870459089193), (2845, 0.11127431291442827), (1037, 0.11120951779947047), (3642, 0.11106324941627976), (956, 0.11102750515683685), (1268, 0.11100398076142275), (1612, 0.11094646962950959), (2767, 0.11093710111134587), (989, 0.11082347593880403), (1973, 0.11067287286006974), (2405, 0.11055995844433679), (1124, 0.11053661358326183), (1732, 0.11048624499034652), (2212, 0.11044695122638461), (1926, 0.11024448687926885), (3345, 0.11017666739216868), (1678, 0.11012550036917437), (442, 0.11012121274112235), (1660, 0.10993161712748997), (1525, 0.10964526408207781), (2501, 0.10964011779175309), (2540, 0.10950819198604732), (1266, 0.10947747750865956), (891, 0.10944074079508734), (2700, 0.10928474415721501), (1852, 0.10924824135688678), (1599, 0.1091785822910235), (758, 0.10916345217170044), (3934, 0.1090874124857638), (2106, 0.10908418762998233), (376, 0.10899281757353826), (4169, 0.10885593115861776), (4170, 0.10885593115861776), (2656, 0.108784914097717), (1300, 0.10875258252937775), (1289, 0.1087024896887904), (1615, 0.10864253541652352), (2687, 0.10863736189258616), (3188, 0.1085993171677447), (4230, 0.10856783635146235), (1033, 0.10833907458566441), (1226, 0.10825340959618453), (1233, 0.10821108458971314), (2892, 0.10819583607238648), (538, 0.10813193398693906), (1537, 0.10812658106116581), (3116, 0.10806173290196187), (2551, 0.10787697342304801), (1752, 0.10783076976493762), (2995, 0.10782836959882784), (2791, 0.10779865615179354), (889, 0.10772776710817517), (2792, 0.10770193965189054), (1562, 0.1076388974259299), (2372, 0.10762362089124357), (3996, 0.10754420188944848), (1868, 0.10749336148346614), (2027, 0.10744111360201254), (1757, 0.10742025394772434), (1966, 0.10741492321538516), (1986, 0.10740561597688901), (3829, 0.10737948619257463), (1489, 0.10735470651652428), (3363, 0.10724352922226661), (3317, 0.10718327320322542), (2517, 0.10715207748463002), (1882, 0.10703868850171365), (3524, 0.1069157400142795), (1996, 0.10686651862468864), (1771, 0.10676111634539794), (2116, 0.10666918762721304), (1905, 0.10664790464224222), (2577, 0.10664693151722308), (3099, 0.10662219643414515), (1671, 0.10652190147903566), (3975, 0.10648052755029601), (3370, 0.10640720249338084), (1563, 0.1063941794115417), (2598, 0.10634454503546266), (2850, 0.10628640639633055), (3931, 0.10617713424514728), (3391, 0.10613049712653781), (1390, 0.10612468434149833), (2581, 0.10608096020399525), (4171, 0.10601262534773966), (2047, 0.10601167398304417), (2112, 0.10600350662476116), (3286, 0.1059261654054968), (1681, 0.10590850422465928), (3780, 0.10589340941887859), (3199, 0.1058581164218629), (1119, 0.10580197971607105), (1418, 0.10575353518677723), (1806, 0.10568973710695173), (3018, 0.10564205389728511), (838, 0.10564097202412626), (2683, 0.10547246153667666), (1204, 0.1054619007870902), (2510, 0.10543327386577185), (2108, 0.1054192200229993), (1022, 0.10540475081658772), (3150, 0.10534909212910272), (1320, 0.10534254343611431), (3668, 0.10511588396050393), (3954, 0.10505752258511997), (3955, 0.10505752258511997), (1847, 0.10484460551535481), (1891, 0.10476419128011974), (2068, 0.1047440076374872), (1640, 0.10471381046866123), (1516, 0.10466974673542956), (2761, 0.10452881624690115), (1504, 0.10447464404970694), (739, 0.10420234670292346), (716, 0.104093459470668), (1141, 0.1040796759906037), (1637, 0.10394819719882076), (2458, 0.10390805934217442), (762, 0.10386479608424566), (1529, 0.10386232340476484), (1745, 0.10377567419092161), (2089, 0.10376774282019977), (4051, 0.10375750543231445), (2707, 0.10361836356513919), (2999, 0.10361571860901009), (1648, 0.10358002289126665), (2943, 0.10353963268313944), (1438, 0.10350980107022674), (2768, 0.10350050229215604), (3624, 0.10349487502157956), (1834, 0.10339055185867654), (453, 0.10337732416716755), (3408, 0.10337732416716755), (2053, 0.10333968345191381), (2332, 0.10328479225976926), (3008, 0.10321870453609829), (877, 0.10319428791249798), (919, 0.10316878556926502), (1224, 0.10298182542469907), (1675, 0.1029240084677041), (2056, 0.10290200159098464), (2828, 0.10287039060967126), (3259, 0.1028525227017585), (3542, 0.10285183860888211), (2746, 0.10284042826939543), (3263, 0.10272719564268792), (2443, 0.10271733382009941), (38, 0.1026936538639768), (1166, 0.10268824479937115), (1836, 0.10267489042900584), (1344, 0.10264409538712234), (1964, 0.10263056763878749), (301, 0.10258679460100896), (1123, 0.10254859686693973), (3534, 0.1025066923540945), (2823, 0.10244931875473812), (2824, 0.10233511912053048), (4297, 0.10232799070324315), (2604, 0.10229556272124249), (1086, 0.10221228750629617), (3445, 0.10219777403273812), (3698, 0.10213244405754068), (3334, 0.10213082722693607), (3174, 0.10209637803785523), (3407, 0.10208755979671835), (2936, 0.1020331968458142), (619, 0.10200955267302796), (2460, 0.1019943268728208), (3956, 0.1018481194581545), (2454, 0.101744718735113), (3798, 0.10173652084879962), (1464, 0.10167819252934504), (1500, 0.10164279094055616), (2196, 0.10161112452839013), (873, 0.10155143586125602), (1985, 0.10152834036610224), (1600, 0.10152659502944118), (3358, 0.10152619499397464), (1614, 0.1014528811613901), (3911, 0.10138711042348125), (1995, 0.10130138377602547), (2507, 0.1012340939836363), (2644, 0.10122595998733372), (1642, 0.10106686902947792), (2617, 0.10105479768125074), (1181, 0.10105015256320331), (1277, 0.10103614977453228), (894, 0.10103196672661187), (3590, 0.10095728013298906), (2881, 0.10095636674714595), (1811, 0.10092824661200875), (4233, 0.1008891111117945), (3261, 0.10085871018889725), (4010, 0.10083372595571524), (177, 0.1008296337790288), (2397, 0.10082230371539264), (3307, 0.10080483385827847), (1077, 0.10080343195922833), (2854, 0.10075352247515967), (3155, 0.10069234991638944), (1527, 0.10068100244898721), (3909, 0.10063689649636028), (2625, 0.10062662263107514), (521, 0.10062202068168667), (1621, 0.1005613446733826), (945, 0.10051068315685484), (4089, 0.10050599528337711), (2784, 0.10047287791444189), (1860, 0.10045971096209788), (3910, 0.1004346810661389), (2232, 0.10040360265715007), (1243, 0.10035620946956746), (4090, 0.10025189605857959), (1338, 0.10020478132594363), (2238, 0.10013895743498966), (4193, 0.10012991675374618), (1143, 0.09996302024624956), (1031, 0.09993985334436054), (2713, 0.09988335052788863), (3351, 0.09985277876251646), (3691, 0.09975843705746604), (1392, 0.09972394263285449), (2810, 0.09971233768977074), (1055, 0.0996732786524152), (4290, 0.09966956489472936), (1724, 0.09962486226906121), (1001, 0.09957644675253116), (4232, 0.09955422443901098), (2536, 0.09952807187650942), (1740, 0.09947250592097885), (1622, 0.0994458415588223), (3814, 0.09943403335409681), (2349, 0.09940452038564003), (976, 0.09932608706887824), (3638, 0.09931018425469042), (2575, 0.09930081930016385), (2044, 0.09928594013091062), (90, 0.09924482654015243), (3990, 0.09924014663091815), (2188, 0.09911017358988122), (2636, 0.09909527461378309), (3478, 0.09909004612807475), (4043, 0.09904928096079528), (1694, 0.09903153020220488), (4221, 0.09902952701740915), (1559, 0.09896502123233522), (4223, 0.09873514576548743), (2180, 0.09873356962427002), (3979, 0.0987286271703808), (4077, 0.09870720470703691), (2744, 0.0986984700007989), (1349, 0.09869694687413665), (937, 0.09868890692338395), (2628, 0.09867969196554092), (3797, 0.09865973645828496), (2745, 0.09863648605529099), (4206, 0.09863135545233542), (2380, 0.09860033028370878), (2965, 0.09858943410867396), (958, 0.09858258425452192), (497, 0.09851153281819572), (1727, 0.09846923595591574), (1429, 0.09844408117412734), (2333, 0.0983320160057772), (3565, 0.09832800073662497), (2486, 0.09831124419463963), (961, 0.09825886680037339), (1165, 0.09824582322597691), (1114, 0.09820185346448082), (953, 0.09817980721235403), (3055, 0.0981690153021295), (1045, 0.09815292985500958), (1308, 0.09813057563972928), (426, 0.09811306412458842), (1212, 0.09811201790122594), (3470, 0.0980335710793316), (900, 0.09802174603907143), (2187, 0.09801045465370967), (1594, 0.09800828963435362), (1219, 0.09800187894184079), (1190, 0.09795578605973645), (3585, 0.09789614485216964), (4085, 0.09785611034181031), (2890, 0.09776233836235422), (4024, 0.09775171492564293), (4025, 0.09775171492564293), (3736, 0.09770873373342523), (2549, 0.0976787420420615), (830, 0.09767830157620876), (1370, 0.09766057031801867), (753, 0.09765340096668108), (1493, 0.09762155488234302), (1879, 0.09756156664297344), (2033, 0.09752934499958225), (2014, 0.09747748819285032), (968, 0.09747539534481878), (2350, 0.09747536236716844), (1920, 0.09738919570326612), (947, 0.09732698023029088), (2803, 0.09732254047495534), (4261, 0.09731651559093465), (3962, 0.09728847158359885), (1057, 0.09725265445414501), (2545, 0.09723570379234811), (4224, 0.09723058995827291), (2320, 0.09720253455595662), (1808, 0.09719012730029186), (4021, 0.09715791111438934), (2653, 0.09708742056311183), (1313, 0.09704842266651087), (1572, 0.09697802624211499), (1520, 0.09692877501795752), (3069, 0.09692610012220776), (2137, 0.09690964467549183), (955, 0.09689140959932713), (4247, 0.09688099848912092), (4248, 0.09688099848912092), (859, 0.09687156557207761), (3012, 0.09684565477006167), (4245, 0.09682572902392084), (57, 0.09671583902894355), (3235, 0.09668567640174833), (3913, 0.09667719923596681), (2984, 0.09664019957215811), (2846, 0.09657690941075169), (1423, 0.09656874998326788), (2891, 0.09656756826549558), (2220, 0.09654718837916057), (1912, 0.09653966155958071), (2167, 0.09652832945389105), (1871, 0.09652249888951328), (1743, 0.0965074297223509), (2582, 0.09647629446518179), (2613, 0.09645490430468516), (2255, 0.09645136149252151), (1111, 0.09644787798044485), (2096, 0.09644390949751487), (1910, 0.09641565754311154), (2152, 0.09640402969346758), (1693, 0.09638211858127399), (636, 0.09637999794184184), (3608, 0.09637861693260694), (26, 0.09630699719611745), (2072, 0.09630512573231872), (2537, 0.0962635254786744), (3894, 0.09624232835554072), (3604, 0.096086804274307), (1160, 0.09608198006105441), (3274, 0.09607143804758651), (1544, 0.0960471205640849), (3300, 0.09602922723314301), (939, 0.09602577672796235), (950, 0.09602054730203534), (3213, 0.09600123894861613), (2836, 0.09596403957826996), (3218, 0.09594345418014358), (2808, 0.09593878473849915), (2166, 0.09591792575030365), (3650, 0.09588130054785395), (1121, 0.09584017989741002), (3591, 0.09578019410323145), (3180, 0.09576860102386524), (3141, 0.09575342520367253), (3551, 0.09574948226755615), (3342, 0.09572474142235012), (3768, 0.09572003276785161), (2465, 0.09570413266882108), (2158, 0.09568122006278702), (3147, 0.09565776699322122), (3755, 0.09554699552536093), (3756, 0.09554699552536093), (1619, 0.0955425311854928), (1515, 0.09552368041055359), (3559, 0.0954985978253352), (3966, 0.0954848128408824), (2382, 0.09545287952465155), (1412, 0.09544590047690897), (2571, 0.09542294414965427), (1511, 0.09542111415310428), (3298, 0.09540482191204458), (1247, 0.09538836899469161), (3273, 0.09537655124681872), (759, 0.09536368076021702), (2759, 0.09532380215484276), (686, 0.09530218919819153), (1162, 0.09525549717746254), (730, 0.09517914153166214), (1997, 0.09515451546621677), (3192, 0.09514131101478564), (2246, 0.0950515109844476), (4264, 0.09501705961984062), (1888, 0.09500715561942662), (2764, 0.0949502568392737), (3936, 0.09493171882456407), (3128, 0.09490908742807372), (2472, 0.09490526433137289), (2680, 0.09488928930722323), (1434, 0.09488267775435241), (2673, 0.09481883099728391), (2336, 0.09476714237349358), (1896, 0.09474825489165935), (3207, 0.09470761388256363), (3513, 0.09470397221062464), (2250, 0.09467458384565929), (2996, 0.09466915139977518), (1982, 0.09462384816868032), (3472, 0.09461048956310043), (3145, 0.09456870312531497), (1149, 0.0945682315829466), (3173, 0.09455997761254194), (3750, 0.09453450577706257), (770, 0.09452030184870333), (3226, 0.09449902997021808), (2634, 0.09445390987066304), (2444, 0.09444139644348862), (1260, 0.09443055214008683), (3044, 0.09439163711671701), (2117, 0.09439006398783406), (3029, 0.09435669693666854), (2468, 0.09435218131262062), (3787, 0.09434583156047166), (3866, 0.09432909648307666), (997, 0.09429186930807013), (4013, 0.09426831828863445), (2961, 0.09426213267096335), (2711, 0.09424063236888516), (2260, 0.09423173541880664), (1988, 0.094228715242701), (2474, 0.094199446386047), (2425, 0.09419519249104903), (2492, 0.0941279995944671), (1335, 0.09412057236877336), (2162, 0.09410736454710483), (3810, 0.09403963664712568), (1287, 0.09403849127129793), (3974, 0.09398596355004755), (3633, 0.09396180924888486), (840, 0.09386780730349795), (2411, 0.09386494406681517), (1700, 0.09382945901881076), (1937, 0.09379494293008309), (1962, 0.09377034039106855), (2666, 0.09369265419582774), (445, 0.09360485479829206), (2514, 0.09359307261467602), (4135, 0.0935544238327066), (85, 0.09353119302148066), (1439, 0.09348035459188422), (3428, 0.09347657174832921), (1297, 0.09347335592915025), (3456, 0.09342568349449018), (2499, 0.09338713707501464), (3895, 0.09334964756170758), (3183, 0.0933218681981403), (2399, 0.09331437940117229), (2111, 0.09330867067473454), (3946, 0.09325321465313137), (1824, 0.09322639554826581), (4075, 0.09321335722118192), (4076, 0.09321335722118192), (1749, 0.09312850361553876), (3738, 0.09311571295601262), (3539, 0.09311402990256193), (2589, 0.09309090702912916), (2886, 0.09303719234322934), (2289, 0.09301678754138407), (3471, 0.092918651225662), (1588, 0.09291139795622018), (3885, 0.09289064127574162), (1179, 0.09285650977114336), (3562, 0.09285323540147043), (1324, 0.09285224778716114), (2909, 0.0928346881593256), (569, 0.09272443161645749), (1777, 0.09268488623558052), (1474, 0.09266968178114127), (2391, 0.09264099372863345), (3730, 0.09259402183993393), (1415, 0.09256005278375097), (3236, 0.09249959779366895), (4011, 0.092489228468584), (3014, 0.09247766762504647), (1845, 0.09245235980790137), (1430, 0.09244861307026), (1685, 0.09243769493576813), (1131, 0.09235356270128209), (3967, 0.09233286790808425), (1553, 0.09232215946654537), (1449, 0.09225102093651161), (2118, 0.09224478058907166), (3423, 0.09223845081524452), (1597, 0.09220742676313234), (2800, 0.09218910061595376), (2002, 0.09217528851788634), (2069, 0.09215854147145194), (546, 0.09209303369761118), (2574, 0.09209012071441838), (1087, 0.09206838149627387), (1072, 0.09204358707627802), (4005, 0.09201535110268695), (4105, 0.09194949231276543), (4106, 0.09194949231276543), (1280, 0.09191591630941313), (306, 0.09187995654579503), (2627, 0.0918785699510707), (1530, 0.09184433323530385), (856, 0.09184117160118362), (2531, 0.09181658071723459), (3281, 0.09179367246029578), (4225, 0.09177291209415342), (3316, 0.09176361474616145), (1665, 0.091732691057456), (4163, 0.09170110537938245), (1664, 0.0916898659765504), (3568, 0.09167377495975564), (2572, 0.0916618340947349), (2939, 0.09165203624171424), (3675, 0.0916343833261453), (3368, 0.09154277054215613), (3065, 0.09149551787373932), (2154, 0.09148664373726247), (2860, 0.09146371260758888), (1261, 0.09145261428094341), (1514, 0.09138449304510513), (2073, 0.09137918217523087), (3479, 0.09137368621897424), (3228, 0.09135581395284723), (2452, 0.09133697104878709), (797, 0.09133489101782113), (4148, 0.09131468578088774), (1898, 0.0913064446341836), (2359, 0.09130558176013494), (3023, 0.09127762889222883), (3332, 0.09119950490458212), (1776, 0.09115735435763628), (3395, 0.09101735138606114), (914, 0.09095542801820825), (3210, 0.09093722134903459), (1085, 0.09092301164405639), (2594, 0.09083707906087225), (4118, 0.0908322216398943), (3877, 0.0908051137407095), (1263, 0.09079157524290662), (747, 0.09078602919160728), (1410, 0.09076232409025713), (983, 0.09075825915917787), (3125, 0.09075767949420419), (2282, 0.09069653390541169), (2642, 0.09068054984447305), (2459, 0.09066110936136218), (1274, 0.09065089555473743), (2322, 0.09061429059486378), (2752, 0.09053041498644342), (3088, 0.09048569675926707), (4228, 0.0904825202025695), (1082, 0.09048196819955516), (2369, 0.09042481097249745), (2539, 0.09042288608736163), (1384, 0.0903977430368447), (1690, 0.0903664406858144), (2834, 0.0903099354853163), (844, 0.09028440391893021), (2748, 0.09024846109947494), (3449, 0.09012983139589249), (2619, 0.09009853134736359), (1381, 0.09009545577583687), (4180, 0.09006569190466873), (1705, 0.09004709127296384), (3775, 0.09002569530512357), (2259, 0.09002221094131292), (916, 0.09000019706684188), (3364, 0.08998106178600908), (3092, 0.08996753031519335), (3727, 0.08996631316424164), (1826, 0.08990758611500259), (3194, 0.08988529902881748), (2926, 0.08985441846799191), (3489, 0.08981405296904463), (3795, 0.08980791651910847), (3796, 0.08980791651910847), (1717, 0.08978911006081867), (2351, 0.08976786699862187), (2732, 0.0897678377374393), (2520, 0.08976212728611942), (1196, 0.08975612104892089), (4049, 0.08975536936677997), (1706, 0.08974927781525507), (4028, 0.08972882984384341), (2918, 0.08971126874683524), (3469, 0.08967659718499536), (3764, 0.08967374213830796), (3733, 0.08963964447086877), (3942, 0.08962875082973819), (1816, 0.08962089127188341), (2992, 0.08959348936347951), (2694, 0.08956048456215338), (4038, 0.0895389685572511), (2339, 0.0895339935132486), (2476, 0.0895319303193253), (1950, 0.08951871574202531), (3543, 0.08950202881238044), (2897, 0.08949086059353795), (116, 0.08947990823453808), (3972, 0.08946194758246849), (1929, 0.08943560779004282), (804, 0.0894351393590456), (2173, 0.08941541632946899), (1644, 0.08939757157886914), (2311, 0.08938808947709394), (3544, 0.08930830975734902), (2541, 0.08929822744307746), (887, 0.08929343921329602), (1318, 0.0892808989798617), (923, 0.08926259585150433), (1779, 0.08925454217012144), (2844, 0.08921725827002068), (452, 0.08919382949480772), (3473, 0.08919158051208843), (2433, 0.08916845551235321), (1957, 0.08914747377996776), (880, 0.08913922143932398), (3530, 0.08912420164063398), (4216, 0.08909867195475724), (2765, 0.0890902093614397), (4242, 0.08904439348332309), (4243, 0.08904439348332309), (1404, 0.08903333574697643), (2326, 0.08901626181388017), (1385, 0.08901487513830164), (3850, 0.08899244781563143), (1679, 0.08895770710378793), (2231, 0.08892375564349947), (3583, 0.08891552295080349), (2032, 0.0889028403780854), (1195, 0.0889004517258548), (2155, 0.08884545734788335), (2064, 0.0888275067721984), (3769, 0.08879673819596132), (3626, 0.08879111319952174), (1076, 0.0887609320863346), (2946, 0.08875724914407783), (2530, 0.0887568832285036), (3492, 0.08875077267234854), (2239, 0.08873340979345881), (2294, 0.08865773963323524), (3687, 0.08863465901744029), (4283, 0.08860975425472598), (1709, 0.08855722118212002), (1797, 0.08854898918206779), (1355, 0.0884961778465272), (3818, 0.08848935592874406), (776, 0.08847287260774764), (2585, 0.08844932089912266), (4053, 0.08844653558826997), (592, 0.08843410931205828), (1536, 0.08838270886323352), (1560, 0.08836795691128888), (1339, 0.0883573248026551), (1279, 0.08834563691774955), (1496, 0.08833533897702593), (1870, 0.08831338572125079), (2236, 0.08822391779493689), (3949, 0.08822057323344736), (204, 0.08821997460238772), (750, 0.08820863050770784), (3189, 0.08820821917100297), (577, 0.08817124205270241), (2394, 0.08816489567006533), (4183, 0.0881567608278104), (4046, 0.08815415627551232), (4047, 0.08815415627551232), (2506, 0.08812577786510539), (1695, 0.08810006506830242), (4178, 0.08804808270053166), (3161, 0.08797521819500614), (1629, 0.08796063310476765), (4241, 0.08792186141340026), (866, 0.08787857835615133), (1487, 0.08785525815887964), (83, 0.08783240998764634), (2265, 0.0877436418283756), (1448, 0.08773199657390492), (4008, 0.08770703732682696), (4181, 0.08768564920309524), (1830, 0.08768475970918811), (4139, 0.08766282543255137), (1130, 0.087653590657986), (1292, 0.0876354110203001), (2419, 0.08760573075680457), (3826, 0.08757875641715165), (3256, 0.0875771828174766), (1367, 0.08756012860353053), (3034, 0.08755661967765632), (1102, 0.08754206581818028), (3158, 0.08751900265883222), (3766, 0.08751786435170719), (196, 0.08751254802421476), (3610, 0.08750730277814864), (1805, 0.08748703160699667), (2563, 0.08746301689899125), (2304, 0.0874602203119434), (3168, 0.08743727502273169), (3068, 0.08743488815525796), (1666, 0.08742058984658668), (3800, 0.08741180087519833), (2280, 0.0873906069399635), (3661, 0.08738976301822662), (2717, 0.08738226721565358), (1918, 0.08735487364313424), (3685, 0.08734723245146964), (849, 0.08734501937077331), (2107, 0.08733895670198259), (861, 0.0873334166640501), (1999, 0.08732199105527012), (3066, 0.08732100979129953), (2947, 0.08729896308802854), (1249, 0.08729683632076406), (4036, 0.08728525677943325), (1363, 0.08728039213044544), (1360, 0.08725284685071527), (1321, 0.08724995256958638), (1222, 0.0872245738410713), (1603, 0.08716739490567889), (3748, 0.08715570433024616), (1334, 0.08714661061323167), (2275, 0.08709957133712577), (587, 0.08705568878855306), (2743, 0.08704453814967614), (1154, 0.0870321194832114), (2447, 0.0870316197300333), (3121, 0.08700808727566073), (568, 0.08698449846990552), (1684, 0.08693869372480328), (1258, 0.08692182668921918), (3184, 0.08691344292905728), (940, 0.08689926662711792), (2601, 0.08689549319928956), (1692, 0.08686833576369167), (4136, 0.08686699407895912), (1039, 0.08686562080151129), (2179, 0.08686452151108534), (773, 0.08682101394506984), (3287, 0.0867797688268568), (3232, 0.08677548682104748), (3452, 0.0867701298127485), (1183, 0.0867351857543806), (1770, 0.08673277334912412), (3572, 0.08671838190723347), (3301, 0.08669106717283032), (775, 0.08668632778860644), (3139, 0.08665147136260536), (3710, 0.08663031745774515), (814, 0.08662041051926515), (1237, 0.0866077961386735), (4165, 0.08660213861456914), (4166, 0.08660213861456914), (487, 0.08657781775765964), (3665, 0.08656920132207195), (4262, 0.08654007040871453), (3329, 0.08652067475433449), (778, 0.08650832185532402), (3399, 0.08650727669604225), (1028, 0.08649307782190016), (435, 0.08644846284034273), (4100, 0.0864448881955891), (2378, 0.08643039836048663), (4057, 0.08641457406224434), (2991, 0.08640804292888035), (3137, 0.08640335966190099), (4174, 0.08639926170698893), (1633, 0.08639723400888978), (2699, 0.08638616909543732), (1326, 0.0863572855104298), (1754, 0.08633889798162497), (1186, 0.08631560357882581), (3532, 0.08629188175665278), (2948, 0.08628461597430441), (3716, 0.08628403133657134), (748, 0.08628000925488259), (3338, 0.08627896559532014), (813, 0.08627269955638377), (2566, 0.08626217067383372), (323, 0.08624146431253546), (1840, 0.08619964189478238), (3179, 0.0861979779876719), (2463, 0.08617805515327977), (3888, 0.08614628287126892), (1377, 0.08613613809920305), (2273, 0.08612588616243087), (1105, 0.08610899796132361), (3723, 0.08604863248835959), (3217, 0.08601993873189166), (2870, 0.08599690511062445), (4064, 0.08597607236785225), (3250, 0.08597577662765821), (4198, 0.08591045425728604), (1807, 0.08585486213305968), (1406, 0.08583282379148266), (3606, 0.08582787028580316), (4138, 0.08577050472899675), (3288, 0.08574422871410645), (2132, 0.08571717255785477), (3007, 0.08570566031746445), (3429, 0.0856936005374844), (3497, 0.0856915832474608), (4227, 0.08568989618460951), (3042, 0.08566254523973796), (1617, 0.08563504155061744), (3482, 0.08562961567934392), (3969, 0.08562568567995782), (816, 0.0856181226388159), (2962, 0.08560866175311029), (2199, 0.08560793120157513), (3498, 0.0856022313060219), (4092, 0.08559025710703087), (3483, 0.08558098074526252), (2120, 0.08553707318955811), (1000, 0.08548851373175897), (1399, 0.08546765492697156), (1436, 0.08543361525195924), (1925, 0.08543338544859998), (1401, 0.08540996937767516), (2603, 0.08539728242109308), (3299, 0.08539033353456006), (3970, 0.08537378327813294), (3084, 0.08536729570143445), (1604, 0.08536123999269742), (2408, 0.08534030110941936), (3869, 0.08531389668263803), (2058, 0.08529505666305158), (4081, 0.08527179856800814), (993, 0.08523981855546986), (2088, 0.0852252613480241), (1773, 0.08521787360833155), (869, 0.08521137540446103), (1890, 0.08512324100425742), (469, 0.08511823340424371), (4107, 0.08505069657030581), (855, 0.08500706215602469), (3028, 0.08499830834591751), (1915, 0.08499643827400229), (1433, 0.08499507807571609), (3327, 0.08499365623754677), (2919, 0.08497793798452366), (2959, 0.08495544090472669), (2873, 0.08493647293830989), (3111, 0.08493548669865739), (507, 0.08491796959243272), (9, 0.08491605128992966), (3607, 0.08490948023698658), (3684, 0.08490064137514279), (1585, 0.08489983585016186), (3186, 0.08489757177606598), (3998, 0.08489383360896992), (918, 0.08488153255988558), (1719, 0.08487366496913858), (2889, 0.08486455955445428), (1498, 0.08486159487563341), (4164, 0.08484380074895036), (1721, 0.08481445248080854), (1975, 0.0847829164889762), (1431, 0.08477985198703814), (1880, 0.08477860198159709), (4312, 0.08466811737997346), (2893, 0.08465199458269804), (3992, 0.08463864226939453), (831, 0.08462136565623836), (1325, 0.08460890549741243), (3501, 0.08460800518055195), (3085, 0.08459930335032889), (1534, 0.08457587018179306), (1670, 0.08455074832554635), (2480, 0.08447920645556126), (3771, 0.08438326757169677), (3751, 0.0843530232286864), (1838, 0.08434755177834626), (4055, 0.08430812663345313), (829, 0.08430314393243618), (406, 0.0842885389261074), (3880, 0.08428299149125601), (3784, 0.08427747190867749), (4215, 0.0842763317052533), (3283, 0.08426521854975852), (1521, 0.08423585754130214), (2614, 0.08422905093187302), (353, 0.08422605080079333), (1271, 0.0841943974476158), (3240, 0.08408642501273421), (1312, 0.08407138565182007), (3847, 0.08406521974129676), (1472, 0.08405338881377972), (2298, 0.08404511128864897), (3985, 0.0840141298488091), (3393, 0.08383434835630549), (2733, 0.08381187680847337), (3681, 0.08381175418464487), (3526, 0.08379801479246626), (2389, 0.08379199741916506), (399, 0.08379168410505851), (2371, 0.08377635850774312), (2456, 0.08375317686974536), (3477, 0.08374392388204846), (991, 0.08374016720594728), (1092, 0.08373072483623421), (2637, 0.08372680681921198), (2428, 0.08370467152766113), (2082, 0.08368492326585422), (2396, 0.08368297862210132), (3381, 0.0836744878464588), (1398, 0.08366450973035008), (2045, 0.0836583272669692), (2432, 0.08362689856390867), (654, 0.08362435781952804), (311, 0.08362149422785173), (2899, 0.0836183065616878), (1047, 0.08361101081021546), (4095, 0.08357691729866625), (3556, 0.08357060909512928), (3356, 0.08356050783201215), (1657, 0.08354418174273787), (2786, 0.08352788968601373), (1191, 0.08349270510717184), (1455, 0.08343985470651884), (3333, 0.08340181141468761), (2497, 0.08338458786993955), (965, 0.08338026929801975), (613, 0.08337445123084403), (1214, 0.08334998631001975), (1598, 0.08334295579667474), (1651, 0.08332110061310581), (1578, 0.08331829751291453), (2648, 0.08331756591380639), (191, 0.0833052568047093), (3022, 0.08330483837397215), (1371, 0.08327757131531781), (3305, 0.08325974100985768), (4048, 0.08325315584400066), (2825, 0.08325060717148201), (1791, 0.08323626376970056), (1411, 0.08322632407406855), (1184, 0.0832081195529607), (1203, 0.08319710204092215), (3925, 0.08319678629448084), (3437, 0.08319114162092581), (1040, 0.08318516288752618), (1053, 0.0831626735672794), (3100, 0.08313899016930469), (3702, 0.08312148024530917), (2363, 0.08311405935497579), (2856, 0.08310040267338441), (2697, 0.08309583891359301), (1574, 0.08309291717168975), (1575, 0.08309291717168975), (1294, 0.08308454049471155), (907, 0.08307699976187946), (2221, 0.08305608344375635), (1317, 0.08304733523245568), (2234, 0.08304510607554849), (946, 0.08302763037906191), (1990, 0.08302184231519323), (757, 0.0829860873750203), (2586, 0.08293159341882086), (2569, 0.08292713205958363), (3359, 0.08292391957962272), (1248, 0.08292161971699431), (3406, 0.08290396037701268), (1774, 0.0829001800652388), (3917, 0.08288487081158966), (2036, 0.08288030878998133), (3075, 0.08283380811747561), (1153, 0.08283241334936647), (3986, 0.08282181743482657), (2771, 0.08280742455311), (1746, 0.08279973062092166), (3827, 0.08279055346292952), (3828, 0.08279055346292952), (744, 0.08277368636202471), (902, 0.0827710511341616), (2949, 0.08274555142558376), (4093, 0.08274323261593781), (1659, 0.08273241751299719), (130, 0.0827256424452854), (1981, 0.08270431473072078), (3571, 0.08268441714990296), (1419, 0.08267244828195955), (1420, 0.08267244828195955), (2777, 0.08263392907102592), (4059, 0.082620211404219), (1919, 0.0825507893445584), (3223, 0.08253495320369132), (1147, 0.08252642910678491), (2466, 0.08252617982221401), (2565, 0.08249975832076219), (3644, 0.08246832725070667), (2471, 0.08244270363839264), (1903, 0.08242934505661356), (4257, 0.08241702107527388), (2104, 0.08239816315039385), (1281, 0.08236904494742545), (533, 0.08235193959665293), (1362, 0.08233265604060651), (3175, 0.08230846911765717), (3005, 0.08228509302279619), (1059, 0.08226956641207674), (3352, 0.08225254438577952), (2655, 0.08220873610365317), (3369, 0.08214578710640955), (3621, 0.08209775851910465), (2224, 0.08207522725802585), (1571, 0.0820700803937675), (3110, 0.08204961419236793), (1737, 0.08204593319785915), (3424, 0.08204478891924746), (2701, 0.0820398407262294), (2977, 0.08202049166184056), (3519, 0.08199030086154835), (394, 0.08195260509010971), (2813, 0.0819213087191355), (1161, 0.0818960821933901), (3774, 0.08189221330616853), (2827, 0.08185977643250165), (678, 0.08184837565930221), (559, 0.08183127282774154), (2395, 0.08182055181857074), (2169, 0.0818089321423147), (2216, 0.08174966855869113), (2207, 0.08172706034218805), (1916, 0.08172479256926918), (2306, 0.0817094624445065), (2347, 0.08170173801912019), (3403, 0.08169156451150945), (4305, 0.08166575261587661), (2449, 0.08166202932585427), (1207, 0.08162526997125795), (3923, 0.08162418705837526), (1716, 0.08161907515247818), (2663, 0.08161608904002232), (366, 0.08161492954569359), (1781, 0.08160951030127582), (1152, 0.08157951359506778), (713, 0.08157216765059429), (2090, 0.08156790030047932), (1002, 0.08156319784843194), (4042, 0.0815572378801628), (109, 0.08155485161862838), (3898, 0.08155332029290939), (138, 0.08153832776926175), (1427, 0.08153524580485763), (977, 0.08151173797704399), (2272, 0.08149303814564328), (3717, 0.08149242581414294), (3554, 0.0814782000310078), (1711, 0.08147747401787936), (1849, 0.08146830768945904), (2535, 0.08143152888386035), (2793, 0.08143145275989375), (2682, 0.08142173584451588), (367, 0.08141379030847347), (368, 0.08141379030847347), (595, 0.0814003318517894), (2206, 0.08139943188641835), (2997, 0.08139807401372776), (4173, 0.0813731007297302), (788, 0.08132914560272557), (765, 0.08127798280047088), (3103, 0.08127109189890697), (4299, 0.08123466088336934), (1528, 0.08119446582889782), (1021, 0.08118945590129688), (3812, 0.08118351259500269), (2794, 0.08114178079552456), (1223, 0.08112368462821185), (1722, 0.08111843139968619), (2698, 0.08111806721092912), (1804, 0.08111501823730716), (1083, 0.08109808334835411), (2894, 0.08109398318418057), (609, 0.08108037299038631), (1931, 0.081005014359003), (321, 0.08099332334773646), (2026, 0.08098732540105451), (1580, 0.0809824302461524), (2331, 0.0809552657908878), (897, 0.08095144329908299), (3071, 0.08090257873399775), (1869, 0.0808978196614761), (1256, 0.08086779370250197), (2225, 0.08082393542287963), (3964, 0.08082058752702768), (3090, 0.08080686328027219), (2376, 0.0807587423847761), (1069, 0.08074962989378688), (1273, 0.0807477905598027), (540, 0.08073139791363597), (3657, 0.08071918482830466), (2525, 0.08071425205669909), (1127, 0.08062508554118819), (2667, 0.0806087030698575), (2859, 0.08059691021368187), (4041, 0.08055649098421898), (2243, 0.08053969423035194), (2664, 0.0805326367526738), (2951, 0.08052779946963964), (2484, 0.08051932760645711), (373, 0.08051354415413636), (467, 0.08049397580538899), (711, 0.0804584775382393), (3984, 0.08044544098730598), (2361, 0.08043532853537291), (2758, 0.08042088402635139), (3651, 0.08041699788372825), (3350, 0.08040684154683882), (1428, 0.08040076522699428), (2147, 0.0803955480244667), (1667, 0.08039403603579558), (2968, 0.08038068787338519), (3231, 0.08036137385610231), (2855, 0.0803370773528608), (1100, 0.08028283347022423), (3908, 0.08027173607312188), (2547, 0.08026852950866578), (3792, 0.08026696993281277), (3963, 0.08026437361853656), (986, 0.08026224765083247), (1998, 0.08025595106641722), (1471, 0.08025588282377176), (2957, 0.08024858417111073), (4189, 0.08024306968495855), (876, 0.08023874369485416), (3658, 0.08022915506219407), (892, 0.08017642298578301), (2930, 0.0801680566498188), (4000, 0.08014862206824815), (1611, 0.08014344556170393), (582, 0.0800839693597087), (2481, 0.08006063165873481), (3219, 0.08005173169313753), (3576, 0.08003003265926875), (1696, 0.07999123287860682), (283, 0.07998121714508387), (4061, 0.07998078766709464), (910, 0.07995839112086116), (3548, 0.0799582904147406), (2821, 0.07995661190113722), (1004, 0.07995641411234732), (3425, 0.07995445122060926), (3079, 0.0799296431873375), (2172, 0.07991825162543112), (1924, 0.07990616603701291), (2087, 0.0799005538009043), (3297, 0.07983529542717634), (791, 0.07982711943649584), (2126, 0.0798235744115836), (392, 0.07980528881184593), (2258, 0.07980152847695247), (780, 0.07978116444299159), (1607, 0.07977550066701763), (4319, 0.07972808262842093), (1587, 0.07969078253234568), (3344, 0.07959695423616542), (2872, 0.07956307552013954), (1284, 0.07953099634345165), (2437, 0.07946954547099877), (3475, 0.07946631059202314), (2676, 0.07945927393564536), (996, 0.07945539204102345), (3667, 0.07944479206256098), (3846, 0.07942464133820365), (2475, 0.07939869210448997), (2000, 0.07935869136659666), (2267, 0.07934930248968945), (2131, 0.07934869303923546), (2031, 0.0793391152292619), (2334, 0.07933057767452864), (2145, 0.07930546129908592), (4281, 0.07924474924440013), (1020, 0.07924400962429783), (1477, 0.07924341848994429), (3753, 0.07922765083022318), (1346, 0.07920853969250201), (1994, 0.07919160875589011), (1761, 0.0791797842990828), (1814, 0.07917828259114389), (108, 0.07914792813612659), (1812, 0.0791406168842258), (2292, 0.07913509854673213), (290, 0.07913232938670506), (1512, 0.07912872710750551), (1932, 0.07911807686342104), (1348, 0.07909494222607366), (1340, 0.07909476824093116), (4110, 0.07905973701475008), (2816, 0.0790521726689638), (570, 0.07902712338221002), (4277, 0.07901563137892553), (2523, 0.0790135834056259), (3593, 0.07898573270135568), (2219, 0.07897396044071342), (1495, 0.0789627806655703), (3941, 0.07895518348367382), (4313, 0.07895409610791645), (3875, 0.07895301532214742), (3278, 0.07895152716752041), (3541, 0.07894631419496974), (2328, 0.07891521232340958), (3599, 0.07890767596232898), (4030, 0.07889666253887315), (1662, 0.07886375924191091), (2227, 0.07883137296969248), (1645, 0.07878339567057834), (3151, 0.07877788807172853), (4274, 0.0787696971326522), (2730, 0.0787522762322849), (2797, 0.07875056906061542), (2400, 0.07874316349063577), (3838, 0.07873311540613243), (3939, 0.07872008602831806), (820, 0.07871460633364445), (2630, 0.07871255000170221), (3785, 0.07869850039610829), (1167, 0.07867850649226557), (1486, 0.07865969732984567), (1596, 0.07865300827851285), (1425, 0.07865285183854312), (809, 0.07864883971094198), (4192, 0.07859861682807177), (182, 0.07859388209528934), (3854, 0.07857955125232471), (3860, 0.07857172340576037), (2374, 0.07855583633367559), (4035, 0.07853870063647324), (2756, 0.07852608241386759), (2861, 0.0785135513150161), (2980, 0.07850676864646607), (1730, 0.07848974347962308), (2338, 0.07846896429279879), (1756, 0.07844930002955815), (96, 0.07844151737709026), (2490, 0.07842930937524688), (3552, 0.0784264040083939), (2401, 0.07841193608130252), (2560, 0.07840858693458465), (3312, 0.07835594474855011), (2706, 0.0783483910024058), (3813, 0.07834486066103843), (2935, 0.07832960513786741), (3271, 0.07830952109325318), (2254, 0.07829122626971893), (3933, 0.07823751511469242), (3634, 0.07823383437519171), (2065, 0.07821015969850152), (3517, 0.07820559922395724), (1606, 0.0781998902133156), (3788, 0.07817944698271924), (3789, 0.07817944698271924), (657, 0.07816030324923136), (1096, 0.0781521823773538), (2588, 0.07813928826416495), (3824, 0.07810930793750676), (1008, 0.07808900908574692), (3912, 0.07808494049778009), (536, 0.07806547633502676), (1795, 0.07805649456230389), (1030, 0.07804493567528271), (2937, 0.07804097419620687), (3959, 0.0780352876501959), (2101, 0.07803110394520732), (1164, 0.07795974998139509), (2261, 0.0779135326248923), (2365, 0.07790683668941543), (2857, 0.07787965537568835), (888, 0.07785043290695129), (304, 0.07783248888761451), (4253, 0.07780782726505313), (2976, 0.0778008189868992), (3237, 0.07779565326923354), (2963, 0.07776252926502061), (3491, 0.07773316914634822), (1397, 0.07772893747698569), (853, 0.07772806019143126), (3400, 0.07772405224135667), (848, 0.07769758472602756), (1508, 0.07768910180931109), (1064, 0.07765517466880592), (210, 0.07764197746043469), (3234, 0.07761661752121413), (1426, 0.07759493494368348), (1473, 0.07758821522649081), (3782, 0.07758214379303241), (2190, 0.07754274835015004), (359, 0.0775379075855478), (1450, 0.07751972642045703), (1217, 0.07751818402621607), (1552, 0.07751471683561675), (3536, 0.07749146823309774), (2789, 0.0774509779969942), (2115, 0.0774454478165548), (1625, 0.07744390761471744), (3594, 0.07744256272584875), (1038, 0.0774167985865538), (1144, 0.07741380128804058), (834, 0.07735957900958162), (2197, 0.07727149263908378), (1983, 0.07726191441132994), (741, 0.07725442023234827), (754, 0.07722191616229757), (3680, 0.07720911871182859), (2596, 0.07720264409462355), (81, 0.07720008100037495), (3375, 0.07716603907739603), (1282, 0.0771317306717277), (3871, 0.07712862102069641), (1142, 0.07711223845780643), (3494, 0.07708720994318795), (3285, 0.07708269395470385), (969, 0.07707203700111055), (2229, 0.07706374062510446), (2257, 0.07704645570924498), (2264, 0.07702769076633141), (2513, 0.07702668737562529), (2182, 0.07699075627411173), (1954, 0.07699057483398702), (11, 0.07698273909067933), (4321, 0.07694426300814756), (3569, 0.07694383723712334), (1823, 0.07694116832404159), (2908, 0.07692030016412933), (3156, 0.07682416858270155), (3786, 0.07680637454311265), (378, 0.07680422878344037), (263, 0.07679200964311586), (3804, 0.07678240100920647), (2778, 0.07677510342890285), (2573, 0.07677022550799632), (3821, 0.07675644975734977), (1723, 0.07675622735853004), (3027, 0.0767142487220241), (2183, 0.07669788149921931), (296, 0.076678555805934), (3579, 0.07667300220516904), (2431, 0.07666806125526948), (547, 0.07665539358198908), (942, 0.07665444120075834), (1134, 0.07665233750306095), (3522, 0.0766430349428768), (3322, 0.07664134568796054), (755, 0.07662550687064441), (3848, 0.07661552571868173), (4226, 0.07655890356224072), (1969, 0.07653376311997181), (2001, 0.07652154595405822), (3270, 0.07647375966761658), (1454, 0.07646280014747624), (800, 0.07645718709352611), (1943, 0.0764310475450656), (2972, 0.07642045844052155), (2742, 0.07640628512841093), (2059, 0.07638058827545646), (2981, 0.07637632295862225), (3801, 0.07633241999538497), (1739, 0.07633191340949386), (1293, 0.07632628451599299), (3758, 0.07628240586336489), (1885, 0.07627678969496536), (3367, 0.07618960537015777), (2213, 0.07612989131751087), (3605, 0.07612370300133964), (886, 0.0760721892585024), (1116, 0.07606552748753204), (3130, 0.07604290914929165), (2568, 0.0760321913665731), (995, 0.07602379330001213), (2416, 0.07601598539867283), (752, 0.07597797996340318), (3713, 0.07597573410472806), (2685, 0.07597386987036547), (4034, 0.07597248841728839), (1075, 0.07596976515446834), (3696, 0.07592873257697857), (852, 0.07590438106383125), (1758, 0.07588469320917478), (3239, 0.07586410183805253), (811, 0.07586117830626135), (509, 0.07585492869414796), (3982, 0.0758455451414547), (4015, 0.07582798974807912), (2050, 0.07582284976770651), (2256, 0.0758227950512094), (1499, 0.0758188406185398), (3481, 0.07579475649857076), (3353, 0.0757833149241145), (3249, 0.07577406502335238), (4218, 0.07577317884355372), (2887, 0.0757489260234512), (817, 0.0757324971122696), (1231, 0.07567411320234083), (1555, 0.07567314985247872), (3041, 0.07565789535228666), (3387, 0.07565531925713193), (1958, 0.07562987875873334), (3466, 0.07559896889683067), (1128, 0.0755629305829999), (1857, 0.07556031507845427), (2435, 0.07553015169340546), (2008, 0.07551939689304646), (434, 0.07549709439295733), (1319, 0.07546967695371151), (1566, 0.07544994509402991), (4214, 0.07542590784645527), (999, 0.07541566934144182), (3729, 0.07541436932335929), (3580, 0.07541222032412069), (1802, 0.07541154330383798), (1780, 0.07539311540656095), (2030, 0.07538361194555009), (4086, 0.07536346584105633), (3243, 0.0753143014749138), (2278, 0.07528115264030869), (2567, 0.07523529136237264), (3348, 0.07518348651967328), (627, 0.07518255928704998), (3080, 0.07517952820021591), (1394, 0.07515963484060585), (3167, 0.07515869714709839), (2464, 0.07515766540530848), (230, 0.07515502975128517), (1505, 0.07514948918822058), (77, 0.075147808887589), (4205, 0.07514478291693187), (2799, 0.0750961015339128), (1221, 0.07507728496377652), (2078, 0.07507477915021835), (3227, 0.07505810364078534), (2341, 0.07504986191653161), (616, 0.07504860090951525), (2215, 0.07501843394767423), (3098, 0.074992964767544), (1953, 0.0749870039639015), (828, 0.07498053660277719), (3834, 0.07497395088908956), (2345, 0.07494630644092744), (1907, 0.07493167045684229), (1364, 0.07492069224788853), (1194, 0.07490177201381362), (1109, 0.0748558260194589), (3000, 0.07482536062471687), (1533, 0.07481691455120011), (1713, 0.07480639177443632), (2847, 0.07480621364715885), (1631, 0.07480313389653614), (2863, 0.07479220677374672), (3953, 0.0747864981380548), (2237, 0.07478074778708939), (590, 0.07474385409594875), (769, 0.07473882740921584), (316, 0.07473460903589346), (1955, 0.07468399728255057), (3811, 0.07466915384723279), (4217, 0.0746347117239759), (3973, 0.0746312596620405), (2738, 0.07462793632499132), (3689, 0.074627571630232), (3039, 0.07459459945509934), (2284, 0.07459075317080986), (1462, 0.07457512834059352), (3324, 0.07457262536826857), (3882, 0.07456915482163361), (3883, 0.07456915482163361), (2620, 0.07454487848803967), (1025, 0.07445497787242872), (1984, 0.07443677436244496), (1336, 0.07443457452464086), (2605, 0.07440937294181), (385, 0.074382266476159), (2324, 0.07435110565239511), (3205, 0.07434888877911239), (1090, 0.07433962221400983), (1532, 0.07433316803750963), (2039, 0.07430595420491488), (1634, 0.07424368612091428), (1751, 0.07422717304934923), (4327, 0.07418285189590555), (142, 0.07416420938902832), (3176, 0.07416098501133087), (2735, 0.07415689341207744), (1602, 0.0741506676491241), (3212, 0.0741479701120809), (312, 0.07413394176759404), (3896, 0.07412856077185681), (3616, 0.07411311208030344), (1019, 0.07408542702736096), (303, 0.07405415669059774), (2295, 0.07404383698687864), (1961, 0.0740287700697467), (2109, 0.07402764130190874), (3749, 0.07401068641976173), (3443, 0.07400593579491567), (3310, 0.07399800335985356), (1714, 0.07398903786333458), (3134, 0.07398424334920126), (2622, 0.07395848381791188), (729, 0.0739439521953539), (1794, 0.07393093662986565), (2210, 0.07391251232086604), (152, 0.07389369776754), (1250, 0.0738794990749285), (2641, 0.07387299311404324), (920, 0.0738598683603924), (3313, 0.07383322994388555), (4269, 0.07381940473168692), (870, 0.07377097528451886), (3744, 0.07376749997424545), (4097, 0.0737613961751489), (2658, 0.0737576914175731), (4120, 0.07374955004628188), (2286, 0.0737459098623627), (3637, 0.07374336649422386), (2704, 0.07374245779716769), (2843, 0.07371590832222318), (1899, 0.07366289632886791), (1193, 0.07365193258334755), (4122, 0.07364756740897019), (1669, 0.07362714135294612), (600, 0.07361459252390212), (1556, 0.0735940658605343), (1497, 0.0735878132568367), (1821, 0.07357567604081776), (1414, 0.07355404765280449), (2461, 0.07354422197240178), (3991, 0.07352916325074878), (2151, 0.07351388423881886), (3799, 0.07350519675275052), (3439, 0.07348306642128628), (3276, 0.07347574449106972), (4018, 0.07346947513805623), (4019, 0.07346947513805623), (1702, 0.07343252569828634), (4127, 0.07342632545124575), (4128, 0.07342632545124575), (2309, 0.073415447765073), (2705, 0.07340427847425135), (46, 0.07337308066062857), (2164, 0.07336234656929026), (1674, 0.07335323096948107), (4066, 0.07334616678771254), (14, 0.0732936832379373), (1327, 0.07326883287103611), (4123, 0.07323990685581332), (756, 0.07321957719205555), (2017, 0.07320464815773284), (2046, 0.07319780966284387), (703, 0.07319450876832657), (361, 0.07313741842592662), (3453, 0.07313055642777355), (160, 0.07312363737601157), (1656, 0.07312169951755743), (2291, 0.07310167468010073), (485, 0.07309538974523919), (1796, 0.0730942658873908), (3761, 0.0730718024850499), (4129, 0.0730602817037526), (2006, 0.0730494977901252), (874, 0.07304011008648814), (1416, 0.07303460437784848), (3159, 0.07301707346350857), (576, 0.0730145128006562), (4265, 0.07301355002713181), (930, 0.07301055655705495), (3790, 0.07300976136931057), (1351, 0.07299879962867122), (1863, 0.07299674476887835), (3132, 0.07293668356790395), (449, 0.0728754563725454), (3844, 0.07287046819591504), (4324, 0.07282297178119744), (3948, 0.07280362422456242), (2202, 0.07279295926391229), (4177, 0.07277963201031105), (1872, 0.0727782194083696), (3136, 0.07276936186748616), (4150, 0.07275466069568148), (882, 0.07274188679354623), (1366, 0.07272616225054129), (4273, 0.07270924336354542), (3694, 0.07263637805011654), (641, 0.07263392041256236), (2882, 0.07262927902782547), (3376, 0.07262041709656766), (3506, 0.0726144672502053), (957, 0.07256609788089989), (2240, 0.07255330222556729), (1535, 0.07254783880125026), (1628, 0.0724884518770862), (1786, 0.07247505362753708), (3196, 0.07246267120845735), (4296, 0.07245231016572759), (1523, 0.07242966992298099), (422, 0.07242464312799583), (1652, 0.07241507895804324), (1582, 0.07238410802065368), (3001, 0.07234957637792572), (2839, 0.07233162305436092), (3418, 0.07231868063390819), (1309, 0.07230171457239973), (2330, 0.07229734366219116), (2866, 0.0722949258235319), (1750, 0.07228527729340743), (2427, 0.07228509998702366), (1458, 0.0722642666364366), (2524, 0.07225566239169387), (2140, 0.07225263497952775), (1913, 0.07223587129275508), (1819, 0.0722264609282729), (139, 0.07222100257605751), (1475, 0.07222052333411588), (1828, 0.07221724827384551), (3688, 0.07221444146436502), (3303, 0.07220163591669972), (1565, 0.07220118456369133), (1396, 0.07219092403063587), (2049, 0.07217810652987729), (3260, 0.07216406748591074), (4063, 0.07215404826269328), (2988, 0.0721475606516855), (963, 0.07214024959711057), (1138, 0.07212876774152574), (2848, 0.07212840833823414), (1383, 0.072125508178228), (4068, 0.07212174476214407), (1647, 0.07211975972071114), (3089, 0.07206664145055286), (1156, 0.07203179971348628), (2079, 0.07202096610595833), (3388, 0.07201144942815892), (1275, 0.07200613877531363), (2944, 0.0720039282329639), (857, 0.07195371617368036), (2639, 0.07195213859338676), (2028, 0.07194497972507313), (3177, 0.0719433798618771), (2423, 0.07192653495709282), (3115, 0.07191317457964319), (3851, 0.07190685240667741), (1531, 0.07189120172447312), (3682, 0.07186016489438221), (360, 0.07185929120641024), (1767, 0.07184352067622866), (1378, 0.07183319252764725), (1122, 0.07178455543523356), (4001, 0.07176949855339942), (1933, 0.07174572030787145), (2055, 0.07171116754288655), (4237, 0.07170228506032662), (728, 0.0716959449119987), (617, 0.0716896072667328), (2522, 0.07168143307804051), (3929, 0.07164624760843645), (421, 0.07164317584565824), (2884, 0.07164136733437303), (28, 0.07162441411533162), (1968, 0.07161889921129029), (793, 0.07160915922921571), (3409, 0.07158435499673964), (822, 0.07157639236616198), (3924, 0.07157243943135526), (1831, 0.07156911871186922), (605, 0.07156049643812336), (1185, 0.07155637411916917), (1391, 0.07155100332102216), (3831, 0.07154560280203937), (3832, 0.07154560280203937), (3061, 0.07151779405404544), (433, 0.07150181344781353), (3712, 0.0714903451652014), (1948, 0.07147723057339371), (4285, 0.07146255714411756), (4286, 0.07146255714411756), (1568, 0.0714128287616587), (1117, 0.07140567159493232), (2584, 0.07139263994134105), (3845, 0.0713857696171547), (3009, 0.0713812469771828), (2421, 0.07137642125755558), (2010, 0.07136402701626007), (1170, 0.07131848946738811), (3776, 0.07131122789047423), (2114, 0.07128552523319982), (1782, 0.07128023634853324), (3242, 0.07126900586589668), (1024, 0.07125630815638759), (2662, 0.0712539127640722), (2498, 0.07124639574285849), (4050, 0.0712011889524955), (2696, 0.07119550929127258), (1103, 0.07109551685079718), (2983, 0.07108941111887486), (1074, 0.07108720190392168), (2532, 0.07108148739421008), (1073, 0.07107581150282939), (689, 0.0710713927856739), (1209, 0.07106671398388997), (941, 0.07106253587898094), (1624, 0.0710574290103106), (4124, 0.07105621036438327), (602, 0.07103337421665218), (1107, 0.0710022250125221), (1459, 0.07099286236039458), (2979, 0.07097277588111263), (1331, 0.0709278793575025), (768, 0.07091563818136741), (626, 0.07091308538446853), (2043, 0.07090832994726537), (847, 0.07090483665278226), (4132, 0.07089447239309533), (226, 0.07087050105600136), (601, 0.07085028555987843), (3724, 0.07083195727083508), (2785, 0.07081857818015701), (2142, 0.07081237725576219), (1476, 0.07079586519812989), (787, 0.07078893766280472), (588, 0.07078715748331729), (3162, 0.0707860956165866), (3294, 0.07077333957397733), (1155, 0.0707581762550657), (3416, 0.07074436306309229), (15, 0.07073957309329039), (2248, 0.07070579984683585), (2576, 0.07069871498066266), (1435, 0.07069355694665302), (1558, 0.07068377863877895), (1876, 0.0706598274491293), (2004, 0.0706590025870285), (1056, 0.07062035106868461), (1252, 0.07061378717628103), (660, 0.07060458671346284), (1091, 0.07059637060787935), (3476, 0.0705935839728542), (120, 0.07054023670951437), (1485, 0.07053449170914085), (2519, 0.07052248900114276), (3058, 0.07052238065423105), (3383, 0.07051964571846897), (3614, 0.07051617428283884), (1837, 0.07050027275020439), (1626, 0.07047577415424928), (3737, 0.07045523946509394), (2208, 0.07045394456700599), (1906, 0.07044661915234936), (2098, 0.07042379867071948), (779, 0.07039628662633707), (484, 0.07039470539249976), (2811, 0.07039469897316523), (1118, 0.07037443314904612), (1583, 0.07037428097495285), (3864, 0.07036774340494337), (2754, 0.07036715663184821), (2354, 0.07036690538190844), (4266, 0.07034525618391758), (4267, 0.07034525618391758), (2041, 0.07034157336633258), (2042, 0.07034157336633258), (3152, 0.07033230316893724), (2938, 0.07028818084346657), (2579, 0.07028612073665444), (3467, 0.07024450958518631), (2796, 0.07023521451931951), (3602, 0.07022526575368372), (2933, 0.07022284761526652), (1854, 0.0702003645292329), (1881, 0.07020002583227761), (436, 0.07019206577831516), (1864, 0.07015384545381761), (1120, 0.07012865075443721), (2750, 0.07011304329897658), (3279, 0.07009290414755151), (4161, 0.07008681009735204), (2550, 0.07007947949436275), (2159, 0.07007146137201199), (1052, 0.07005933465749194), (1726, 0.0700405725570824), (1970, 0.07003930882942), (2168, 0.07003396409726285), (1352, 0.07000990863539333), (3331, 0.06999788623785302), (1855, 0.0699930447303086), (1947, 0.0699878174022944), (3619, 0.06998321630136671), (1712, 0.0699686957442527), (3123, 0.06994445084040328), (3528, 0.06994301007211096), (1262, 0.06994144925159015), (2609, 0.06989213145037924), (2285, 0.06987877718923721), (3195, 0.06987458435213723), (3336, 0.06986827161399395), (2473, 0.06986806948296564), (1350, 0.06984142989435345), (237, 0.06984123171709307), (3444, 0.06978751633353551), (3087, 0.06977253034257523), (1909, 0.06974995281844917), (135, 0.0696662980321239), (1688, 0.06965551280028107), (3010, 0.06965001767685877), (3822, 0.06963652892024629), (2439, 0.06963305328121344), (3057, 0.0696161286638876), (2269, 0.069601215872145), (2715, 0.06959834695876167), (2679, 0.06958692720027382), (1386, 0.06957693782539437), (2012, 0.06956862443921263), (3126, 0.0695584026311757), (2165, 0.06953626348407875), (3020, 0.06953294559463467), (2853, 0.0695219772460474), (4126, 0.06951393396763975), (3113, 0.06948090053324132), (554, 0.0694702442419313), (2504, 0.06946652522730659), (1967, 0.0694649733812081), (1935, 0.06946159848520793), (2558, 0.06944494395891435), (2638, 0.06943779042474701), (3889, 0.0694252062139234), (1595, 0.06942312069448668), (3510, 0.06942081426951449), (2925, 0.06939729254325164), (1649, 0.06939643882351555), (1174, 0.06936533923775572), (2450, 0.06935855911553375), (1620, 0.06935299483509338), (1976, 0.0693419511185877), (2195, 0.06929944129145778), (1822, 0.069298612227625), (1503, 0.06929299801939048), (2469, 0.06928057473515627), (3311, 0.06925605113726152), (3295, 0.06924183577873287), (3430, 0.06923097207047553), (1125, 0.06922130307318507), (2668, 0.06921185600682027), (931, 0.06920395041713015), (2877, 0.06911063967883666), (3855, 0.06910710169741474), (4111, 0.06908584797930536), (4159, 0.06905944531348567), (1526, 0.06900610314069018), (2941, 0.06898819249106122), (1113, 0.06897271684496033), (2353, 0.06896400042899031), (2681, 0.06896385839732345), (3695, 0.06896208499342252), (3699, 0.0689521988924163), (419, 0.06894735903475582), (1673, 0.06894275236481631), (2462, 0.06893346188708623), (3415, 0.06893237745301481), (2346, 0.06892731171483588), (285, 0.06891700154097162), (1244, 0.06891350268029621), (1218, 0.06889916813492379), (505, 0.06887610571384424), (2020, 0.06887352763669814), (2559, 0.06880041294156197), (3486, 0.06876542822943196), (1850, 0.06876133421194827), (1841, 0.06875629613657919), (3114, 0.0687289777121263), (4108, 0.06872000678424045), (640, 0.06871309728076724), (3728, 0.06870860092167724), (647, 0.0687063442456089), (1501, 0.06869225145695328), (2555, 0.06868186080852913), (2130, 0.06867399084688064), (477, 0.06861139201539929), (1540, 0.06859308541143905), (1353, 0.06859096319991945), (1942, 0.06857540614552893), (1635, 0.06857307954716772), (1987, 0.06856347135351885), (823, 0.06856141980889194), (745, 0.06856138933523341), (3197, 0.06854957634194721), (425, 0.06854414540224188), (1561, 0.06852790535990837), (330, 0.0685231470030359), (3760, 0.06850053350712325), (3447, 0.06846557874225355), (1466, 0.06846544796629979), (4244, 0.06843916988495273), (2100, 0.0683863289699969), (2003, 0.06838440791811028), (2251, 0.06838030313016984), (926, 0.06837889814760319), (2446, 0.06835787428315218), (751, 0.06835102136925346), (3496, 0.06831356792066937), (922, 0.06830954780953226), (670, 0.06830828913985368), (1710, 0.06823899188671709), (3083, 0.0682294911185276), (3198, 0.06822821532422789), (2671, 0.0682131818049635), (2776, 0.06817623061508288), (2478, 0.06815672143324966), (944, 0.06812440870844727), (972, 0.06811656292924022), (3779, 0.0680975316297719), (2762, 0.06806331491001456), (2054, 0.06806110266233195), (164, 0.06805632173354477), (2191, 0.06805077968528032), (720, 0.06805041680522014), (3876, 0.06804851013420284), (4088, 0.06802031470401018), (2659, 0.06801589436708497), (3304, 0.06800490622582311), (2005, 0.06799693805231277), (2061, 0.06798066541844264), (2488, 0.06797820733535617), (468, 0.0679648217459646), (3436, 0.06796307064410324), (1032, 0.06795837490182555), (1946, 0.06794954482191623), (1570, 0.0679188945227468), (3825, 0.06791423475105744), (1825, 0.06791155977715692), (1584, 0.06789603871074126), (3879, 0.06787356935830319), (4213, 0.06787116596956358), (668, 0.06786669186247643), (1372, 0.06785431813779609), (4236, 0.06781638587225379), (2840, 0.06780144068268334), (917, 0.06779912517689346), (3575, 0.0677914296059804), (1115, 0.06775407440293653), (2692, 0.067746309416229), (733, 0.06774475611538441), (4130, 0.06773721321543091), (4131, 0.06773721321543091), (2406, 0.06772745074964993), (2494, 0.06772042776520083), (1402, 0.06771016564309165), (2018, 0.0676975906955803), (99, 0.06769585846834904), (3160, 0.06768880949296681), (3672, 0.06765576394959004), (1483, 0.06762752848995374), (2994, 0.0676190671657376), (2122, 0.06761797632359823), (1949, 0.06761499218230924), (1295, 0.06759998458757159), (611, 0.067598517571685), (854, 0.06757502290244792), (625, 0.06752506887459503), (1650, 0.06750747218653425), (867, 0.06750391296887304), (3819, 0.06749763673482471), (2410, 0.06748295429930214), (1785, 0.06746470106875863), (2817, 0.06746470106875863), (962, 0.06746257027605004), (1510, 0.06746159116483506), (2083, 0.06746001822853741), (3122, 0.06745850451770952), (884, 0.06744360361962817), (1137, 0.06743841895299704), (2590, 0.06742870775800278), (4222, 0.06742330612428081), (2900, 0.06742016129748143), (2470, 0.06741687518725517), (1543, 0.06741128787418231), (1158, 0.06741094976246037), (3873, 0.06740247054348432), (3874, 0.06740247054348432), (845, 0.06735183361398786), (3006, 0.06734060641874844), (2200, 0.06732383517977071), (1341, 0.06728587925347822), (1460, 0.06727412791517674), (3549, 0.067239881955347), (3512, 0.06721526375790789), (3635, 0.0672021964813492), (1413, 0.06719569503718201), (1303, 0.06719254571731237), (2631, 0.06718093379744401), (665, 0.06713221158646891), (3628, 0.06712931475950742), (2013, 0.06712357321387548), (502, 0.06709929550923145), (1387, 0.06709171564057312), (4039, 0.06705215129257963), (92, 0.0670308783466569), (4103, 0.06702153469062738), (461, 0.06699612974997025), (1269, 0.06698628782177692), (3434, 0.06698244653012937), (272, 0.06696360295117987), (3674, 0.06692523745502228), (1229, 0.06692203613885066), (3405, 0.06690505304762161), (656, 0.06686845718249552), (1639, 0.06684113555638091), (661, 0.06678666192297271), (1225, 0.06677624707002992), (1285, 0.06677235495793814), (3679, 0.06668099981077555), (4323, 0.06667739863399841), (1470, 0.06666826488307626), (2878, 0.06665787698375533), (3073, 0.06665019150888675), (2678, 0.06663884315886126), (1354, 0.06662066378184647), (4162, 0.06659955434290032), (527, 0.06659811434781042), (173, 0.06658734654536314), (2971, 0.06657394838059898), (3794, 0.06656651985201956), (2978, 0.06652530202513046), (1613, 0.06651988090301446), (3659, 0.0665172317623944), (1192, 0.06650305598073304), (2420, 0.0664975865249507), (1974, 0.06648011853552575), (3124, 0.06646830565976537), (1608, 0.066458442765646), (980, 0.06643877949210818), (909, 0.06642612115568042), (2815, 0.06642457220728124), (2387, 0.0664194392719033), (2677, 0.06641501931106497), (2928, 0.06641194443727172), (970, 0.06639071145347111), (1298, 0.06637532345516782), (3857, 0.06635245804237709), (3282, 0.06633496672805424), (1851, 0.0663314894216231), (2591, 0.06631662223681196), (901, 0.06631290143122756), (2602, 0.06629951769974696), (114, 0.06625303885408088), (2037, 0.06625088508441834), (630, 0.06621635333537466), (4195, 0.06621614486475355), (994, 0.06621380463624348), (3296, 0.06616965710051553), (1550, 0.06615443315011212), (158, 0.06611977318907486), (803, 0.06611947473636978), (2307, 0.06611259797284268), (1735, 0.06610130332030335), (846, 0.06609448054721076), (3493, 0.06607392045425783), (904, 0.06605312598942446), (2445, 0.0660116903137596), (1276, 0.06598965143227684), (1305, 0.06596877048255748), (4040, 0.06595971637255181), (3693, 0.06594174173130271), (1655, 0.06589617307615821), (1729, 0.0658731964507725), (863, 0.06584780692668647), (1026, 0.06584390550414589), (232, 0.06583591618942455), (1853, 0.06582250358941663), (4306, 0.06580636661696157), (307, 0.06580212127499818), (2128, 0.06578084825773166), (2325, 0.06577151040594648), (2379, 0.06574146885920137), (1793, 0.06572327172806691), (1733, 0.0657083971630636), (3053, 0.06570410505559042), (2982, 0.06570023697011383), (895, 0.06569075264475646), (1012, 0.06569042483953566), (2305, 0.06568047893952536), (379, 0.06566993685087544), (3309, 0.06566511543433506), (1046, 0.06563410721064136), (3187, 0.06562793970600467), (2940, 0.06560513920264734), (935, 0.06560006433703809), (1517, 0.0655940060835242), (807, 0.06557906081787898), (1658, 0.06556493460189802), (3143, 0.06555710992849978), (3666, 0.0655546756703855), (2883, 0.06554163375466997), (864, 0.06553672134461551), (1417, 0.06553495754569771), (2875, 0.06548544013710442), (1437, 0.06548218081858422), (289, 0.06544757605632613), (2989, 0.06541403839211554), (2150, 0.06541169633462093), (328, 0.06538205651985594), (2580, 0.06538121895076947), (1322, 0.06535684345749239), (1699, 0.06532690077541577), (3886, 0.06530165643191874), (796, 0.06527665731853872), (2818, 0.06527335567426637), (1844, 0.06526451346775922), (810, 0.0652564229097209), (3592, 0.06525418397398591), (3289, 0.06524868822005253), (3365, 0.06523704813563458), (2749, 0.06520499436700417), (2479, 0.06516105047409329), (3915, 0.06513577448471441), (2629, 0.06513296949328763), (1839, 0.06511142068609606), (2597, 0.06505794451459838), (1044, 0.06502261211328864), (2809, 0.06500791849939953), (1676, 0.06500779277391025), (2652, 0.06499268349731646), (3354, 0.06499119595932361), (1672, 0.06499099291444194), (726, 0.06498927327625094), (2612, 0.0649774774795516), (1104, 0.06496168024098424), (3508, 0.06491868849236801), (2640, 0.06490778835913863), (1050, 0.06489543987209437), (3839, 0.06489268177488798), (808, 0.06486755151246978), (4020, 0.06485030581574205), (612, 0.06484880991810023), (2868, 0.06482666940150297), (3216, 0.06479198569373505), (1809, 0.06475886426212735), (2048, 0.06474760243367692), (2095, 0.06474037241219652), (1071, 0.06473336679631683), (1110, 0.06471303830415716), (913, 0.06470212909210411), (1479, 0.06466662494056322), (3862, 0.06465375596542917), (413, 0.06465324764707987), (2734, 0.06461447377093657), (749, 0.06460267584966413), (432, 0.06455220051281181), (2987, 0.06454903119339707), (4301, 0.06453322060712752), (1097, 0.06452856930141565), (746, 0.06452839220248814), (1832, 0.06452189788108643), (2160, 0.06451175470381625), (3036, 0.0644964360595825), (2927, 0.0644648745887771), (2503, 0.06442809809020698), (1548, 0.06436585119085474), (3807, 0.06436258757069666), (2023, 0.0643068096049934), (1944, 0.06430366582436312), (13, 0.06429101255829549), (2693, 0.06428725166872222), (1632, 0.06427276596575629), (1542, 0.06427075194056218), (1798, 0.0642585970834539), (2226, 0.06424820612313173), (1329, 0.06423588684597949), (760, 0.06420998564750399), (975, 0.06415408198164908), (3372, 0.06412531733713676), (1043, 0.06410391611841176), (2798, 0.06408909697150203), (395, 0.06408519336944563), (268, 0.06407611752390667), (249, 0.06406148051549614), (235, 0.0639942381233896), (2388, 0.06398680637773131), (2287, 0.06398414504813092), (1522, 0.06396413278200994), (1148, 0.06395087874839313), (1108, 0.06393901652368959), (3410, 0.06393863849929511), (2266, 0.06392755044065104), (550, 0.06391349485957408), (2283, 0.06387078644365408), (1051, 0.06386551923766708), (2377, 0.06386409367725533), (1689, 0.06384506582843652), (4083, 0.06384221117129192), (3086, 0.06383525358523297), (2384, 0.06381818987607718), (1245, 0.06380630548942642), (3778, 0.06380362005215595), (1257, 0.0637970613518905), (4121, 0.06378580550007429), (1792, 0.06377363718599965), (1200, 0.06376371549443317), (761, 0.06376150028336833), (2368, 0.06371245321344728), (1440, 0.06367586517413558), (1895, 0.06367525612901673), (1201, 0.06366450134848262), (181, 0.06364916832400108), (2775, 0.06361110497454203), (1018, 0.06360982476690213), (2804, 0.06359694782136813), (3435, 0.06359511221349264), (3754, 0.06355734797999851), (672, 0.06355638368695797), (2495, 0.06351817390051352), (2171, 0.06351214255213208), (1610, 0.0635068735589464), (2139, 0.06350628989202364), (3627, 0.06350466953988936), (1927, 0.0635042052098544), (3017, 0.06349917046472901), (3078, 0.06349156907897269), (3455, 0.0634913903051691), (4125, 0.06348901524835568), (4187, 0.0634774845729976), (4188, 0.0634774845729976), (3639, 0.06343797065909319), (2770, 0.06343252523518764), (3362, 0.06342959036344431), (2721, 0.06342847344112996), (593, 0.06338843803614018), (4318, 0.06332809639659896), (3104, 0.0633157773596727), (161, 0.06331099166564383), (705, 0.06330423157479251), (2543, 0.06325005837665043), (1393, 0.063240041546059), (1187, 0.06323013029235504), (3881, 0.06322519409592403), (2441, 0.06318167735642302), (2442, 0.06318167735642302), (2070, 0.06316838335195114), (3663, 0.06314348343958079), (427, 0.06312178426536151), (2074, 0.06311291578392608), (3325, 0.06310521024065696), (608, 0.06310126050929254), (3459, 0.0630393592388952), (256, 0.06303815920532548), (2990, 0.06303349197751415), (3019, 0.0630101277432947), (2712, 0.06300745350237132), (3707, 0.06297178111501314), (3280, 0.06297106811491783), (2709, 0.06295551461090196), (1159, 0.06292722332167792), (1246, 0.06292177349918324), (2722, 0.06288799999762), (688, 0.06288499409582043), (3937, 0.06288294648906347), (3656, 0.06286200723054955), (1365, 0.06286096639578675), (3918, 0.06284150643652191), (3102, 0.06282782612309645), (517, 0.06282504268113841), (932, 0.06281915637265818), (248, 0.0627876827586875), (604, 0.06277185837573232), (19, 0.06277161640147189), (3950, 0.06276821824113317), (3791, 0.06276012443494085), (3056, 0.06274096234442114), (3704, 0.06272068188299643), (3759, 0.06271318129382608), (850, 0.06270638195722049), (3989, 0.06267662544318928), (1054, 0.0626657278134678), (1213, 0.06266518967679169), (2496, 0.06266380215635127), (2651, 0.06259549472310082), (4033, 0.06259123926548746), (2487, 0.06259048574597573), (2865, 0.06256064749781784), (2424, 0.06255252902402662), (1451, 0.06253628985032784), (215, 0.06252928912315882), (2570, 0.06250812404625322), (2110, 0.062489557004492144), (3067, 0.06248768121462568), (3725, 0.062463892153531556), (3930, 0.06243417543987924), (924, 0.06243397181729788), (3230, 0.06241871767673142), (3117, 0.062413441314951065), (3220, 0.0624076044578404), (1395, 0.062393842359933664), (1215, 0.06238855401420078), (2599, 0.06238446141008333), (2967, 0.062362261796827544), (3082, 0.06235979955709658), (2760, 0.06230329169985296), (1590, 0.06229412676720476), (843, 0.06226985099336939), (3582, 0.06225034652612342), (1376, 0.062247602909375185), (2561, 0.06223032596906999), (2921, 0.062229580361768684), (4142, 0.06221987087053848), (87, 0.06218089949005184), (3091, 0.06214697372890114), (782, 0.06212517520571175), (1368, 0.06210665284333152), (721, 0.062101856361582636), (3422, 0.06206525812127783), (998, 0.06202071042377273), (1408, 0.06201417700640379), (1409, 0.06201417700640379), (3420, 0.06201376962687521), (4062, 0.06200895032042786), (2081, 0.06200843983038598), (2902, 0.06198715474040691), (3648, 0.06198606387548378), (1581, 0.06197922275814836), (3806, 0.06197035734730864), (766, 0.06195930326285374), (4114, 0.061951732311095215), (23, 0.061930549802034704), (264, 0.06192662925349902), (1034, 0.06191211513207351), (629, 0.06190545947443049), (948, 0.06188881472342556), (833, 0.061869253126027875), (1310, 0.06183755028999839), (3225, 0.06182889495725713), (4276, 0.061804742071363425), (1971, 0.06179414868111462), (563, 0.061782941364278116), (2448, 0.06176963085142335), (3558, 0.061764809469022734), (3988, 0.06176452377004043), (1873, 0.061760467575489864), (4029, 0.06175386937669082), (585, 0.06172299890260772), (1646, 0.06172242308669406), (3588, 0.06171911844665941), (2244, 0.06171799372095434), (1703, 0.061709503878455745), (3772, 0.061697556636589095), (363, 0.06167878488718953), (340, 0.061665228171649454), (2092, 0.06165922867744778), (2852, 0.061636204110274775), (821, 0.06162945584976371), (805, 0.06159514310688457), (3284, 0.061592443387272225), (3144, 0.06157585388916048), (4304, 0.061563443812642935), (231, 0.061553044809606355), (245, 0.06154253561774584), (2833, 0.061539553477361494), (3033, 0.061523048460815744), (1936, 0.06151158163436759), (2271, 0.0614998791743227), (1945, 0.06143735868402513), (1442, 0.06140096413010312), (3652, 0.06140026259741902), (1787, 0.061399856890876126), (3051, 0.06138119096686197), (3442, 0.061364510769298136), (525, 0.06133254761231669), (675, 0.06130716748531303), (2920, 0.06124811608069515), (1388, 0.06123772272827522), (167, 0.06122260971678033), (3229, 0.061209189192168494), (837, 0.06120410452727252), (2302, 0.061184597999876716), (1509, 0.061084584977032265), (1081, 0.06104343310675377), (1242, 0.06101017495987715), (1605, 0.06099581605625042), (1403, 0.06099088016838219), (3253, 0.060987044154420716), (815, 0.06097993853433462), (401, 0.06092076114777742), (1991, 0.06091881868375969), (1638, 0.06091425223541655), (2670, 0.060906762137976654), (2186, 0.060899004110543394), (583, 0.06089818385519487), (3064, 0.06085781268696246), (3697, 0.060856424908675634), (1048, 0.060852394452094144), (351, 0.06084904816486632), (1453, 0.06083668911430331), (2019, 0.06082234154976501), (581, 0.060818935822476196), (2600, 0.06080459974278258), (441, 0.060788487816065745), (3757, 0.06076817194686602), (3233, 0.06074710219296559), (377, 0.06072823760329439), (1718, 0.06072156258871872), (3922, 0.060706311078218195), (4031, 0.06069804656602264), (4168, 0.06068812596852178), (4235, 0.06067818422767751), (4254, 0.060675647768873534), (2121, 0.06067436944271597), (719, 0.06065317281124212), (438, 0.06063804439760331), (3500, 0.06063039741701264), (3048, 0.060620160116386754), (2457, 0.06061747203604251), (2665, 0.06060712361175356), (2323, 0.06059865147272333), (763, 0.06058079542256373), (2451, 0.06056392930021312), (621, 0.060560351351041854), (3629, 0.060549172053406056), (1178, 0.06054913903538491), (1846, 0.06054527891491837), (1682, 0.06048792627722905), (2375, 0.0604731090434613), (3671, 0.060458633823591824), (2148, 0.060446177538096474), (3921, 0.06041232546472196), (584, 0.06040169359389431), (3945, 0.060388338268913266), (690, 0.06038735727317517), (973, 0.06038374227040706), (1914, 0.06037931647803256), (1760, 0.060375515595190506), (1286, 0.06034641821022871), (1358, 0.06032006048320365), (3574, 0.060312900145171204), (1094, 0.06030849076708415), (1146, 0.06030394963707308), (2483, 0.0603009073461468), (3853, 0.06027025094661278), (4044, 0.06026943668164052), (4045, 0.06026943668164052), (2757, 0.06026771219974042), (1220, 0.06024753817441468), (1369, 0.060179713651604495), (3163, 0.060162411381343914), (2184, 0.060139791137096006), (1112, 0.06012449732645499), (313, 0.060112890753041076), (915, 0.06010444951684245), (819, 0.060086626523197864), (1227, 0.06004642469055128), (4255, 0.06004562123081251), (785, 0.06000743408808681), (4210, 0.05998788888915975), (4211, 0.05998788888915975), (1889, 0.05998586059037274), (1176, 0.05991861254542368), (3037, 0.05991142726247898), (2903, 0.05990765748795583), (714, 0.05987432904965292), (3404, 0.05984900874177135), (4113, 0.05984627411672522), (2905, 0.05983155463422907), (3254, 0.059827099408132696), (1484, 0.059812169887573055), (4112, 0.05981201632973599), (737, 0.059807392022266946), (1432, 0.05976975165057848), (706, 0.059767254243403185), (4298, 0.05976534056325663), (3640, 0.05975226893160835), (250, 0.059729320232695914), (520, 0.059724515184429866), (125, 0.059720311382813), (3647, 0.059703575545434304), (2252, 0.05968703940347346), (1848, 0.05966346645595596), (332, 0.05965378121074809), (1923, 0.059649569280216724), (1015, 0.05964163894820987), (794, 0.05962494449890214), (635, 0.05961560767716687), (143, 0.059604380673867495), (693, 0.05960395706395126), (2062, 0.05960289958068645), (734, 0.05959785348759594), (2342, 0.05958537334821093), (3093, 0.059542075241346436), (1900, 0.059483345096550615), (488, 0.05948091241065663), (3202, 0.05946566359769981), (2867, 0.059454034483474714), (2675, 0.059449328045171355), (61, 0.05944719465339589), (3379, 0.05943896468051618), (674, 0.05942710494999399), (1762, 0.05942230257326365), (1763, 0.05942230257326365), (3914, 0.05941816167557685), (3734, 0.05940093101972799), (3632, 0.059391949530101025), (2718, 0.05938692420348127), (1875, 0.05938113441097323), (3980, 0.05937127231207949), (3981, 0.05937127231207949), (4116, 0.05935495164308749), (3396, 0.05934636953462052), (1775, 0.05923404576990368), (3781, 0.059205872242140675), (662, 0.0591824504465048), (3837, 0.05917988540531548), (903, 0.05916098083278634), (4191, 0.05913056573118762), (2352, 0.059123618367751755), (1661, 0.05904475223077782), (717, 0.05901597989150528), (1188, 0.05900221030743146), (4238, 0.058976776314759796), (2714, 0.058946591521373895), (2795, 0.05887347606188355), (2233, 0.05886765767026968), (3412, 0.058848080508204226), (836, 0.05884579866999734), (255, 0.05884194873416669), (3468, 0.05881632331533499), (3346, 0.058779457203249216), (2851, 0.058773569359271964), (1790, 0.05875520743992804), (964, 0.058731756153568224), (2343, 0.05872255673230707), (3382, 0.05871001373522327), (2739, 0.058704502075514586), (681, 0.058688008051461), (1820, 0.05862374731456179), (4155, 0.058622708013952696), (1778, 0.05861850295220485), (2780, 0.05861101317082992), (2136, 0.05859706226865177), (727, 0.05858985002458306), (3215, 0.0585846243352148), (2493, 0.058563378119685976), (3035, 0.058560391228973704), (4109, 0.058557860842583465), (2204, 0.05855115184721209), (851, 0.058539432403260865), (3109, 0.0585386834495643), (1748, 0.05850698200472178), (506, 0.05848769204495648), (2222, 0.05844811311978624), (2578, 0.05840732778525127), (3878, 0.05839679456082407), (3096, 0.058395562185136474), (631, 0.05835515452537733), (3589, 0.05831999864719683), (451, 0.05829171974128073), (2830, 0.058288508712358515), (3045, 0.05828676650642235), (3940, 0.058211489582072326), (906, 0.058192927677260434), (3349, 0.058191524834830706), (1065, 0.058143533170253496), (1342, 0.05810392502730073), (2344, 0.05804208894550246), (680, 0.05804063702834389), (374, 0.05803646072635968), (2542, 0.0580220789231543), (3013, 0.05796597512572982), (49, 0.05793661995897696), (1236, 0.057910935907311945), (4275, 0.05787116094743885), (402, 0.05785816885613002), (1441, 0.05781800576919508), (1917, 0.05781285049810773), (2211, 0.057809573677022), (2270, 0.057800673763761176), (4209, 0.057799375521774304), (1842, 0.05778249892508856), (17, 0.057734160657368125), (3743, 0.05772401609552128), (3567, 0.05770945922945438), (1586, 0.05770681245598231), (1014, 0.05769117624286757), (3330, 0.057659359543882065), (1172, 0.057654618878709825), (1734, 0.057597397030585404), (1343, 0.057595572617629376), (2317, 0.05756235137701306), (645, 0.05752531187970417), (3660, 0.057521140027010205), (3609, 0.05749457757285512), (454, 0.05748038328102952), (911, 0.057465220705169295), (1630, 0.0574419378435564), (2301, 0.057433809566344314), (2841, 0.057418087270348035), (3031, 0.05741695009489117), (2329, 0.05740805974483858), (1843, 0.05738630826780461), (639, 0.05738595971279953), (262, 0.057373702066598226), (1240, 0.05737159358713469), (3292, 0.05733994868517885), (2181, 0.05731121611218205), (491, 0.05725490517400654), (3630, 0.05724107731317757), (3742, 0.05722002201050222), (3903, 0.05716880585280224), (2242, 0.05715482481402269), (3578, 0.057145506864035994), (1720, 0.057116799329494344), (211, 0.05710816849745724), (1691, 0.05709294493887171), (1856, 0.057083703059829294), (2177, 0.056970856395633804), (4087, 0.056902159549361966), (1902, 0.056889378498481406), (3584, 0.056886216144853834), (544, 0.05684402874375167), (1307, 0.05681977590427808), (3268, 0.05680205368847312), (2203, 0.05677528096562592), (825, 0.05676664190800042), (2274, 0.056765959543952096), (1616, 0.05676388526875905), (3413, 0.05675304755442695), (2434, 0.05671621847775021), (4137, 0.05670866445917559), (3306, 0.05669876369328391), (3890, 0.0566802260335013), (3636, 0.05662253425641582), (3715, 0.056598906839706045), (2029, 0.05659785905788545), (992, 0.05658528312085765), (2885, 0.056450064459146694), (3690, 0.05644663015269517), (1491, 0.05644488007344145), (86, 0.056436182884621974), (112, 0.0564336581411998), (2650, 0.056428954924378834), (3026, 0.05641179034869071), (936, 0.05640723587980254), (3319, 0.05637460091872908), (1736, 0.056357433543982025), (4032, 0.056333029989160364), (3951, 0.056331750918520274), (429, 0.05632244378917929), (971, 0.056314625540038965), (127, 0.056289053764979856), (2654, 0.056261975428730245), (415, 0.05625422521006787), (2955, 0.05625349816154), (2367, 0.056232443266639745), (3003, 0.05623020565889011), (1884, 0.05621512271047277), (3118, 0.05620680004921095), (1677, 0.05620145850718405), (414, 0.05617410361204001), (4302, 0.05616640320301882), (3515, 0.05614439975270953), (2205, 0.056137195541326484), (1023, 0.05612920112360835), (1093, 0.05610284011177905), (496, 0.05609339076691677), (2661, 0.056087136641924884), (699, 0.05607544327000085), (200, 0.056070367077184526), (4071, 0.0560664960539826), (523, 0.05606296002469082), (1379, 0.05600448799192064), (1, 0.05598679100700425), (3615, 0.05592998329868809), (3222, 0.055922906210349635), (812, 0.05590068838440508), (2518, 0.055897529830031434), (634, 0.05589680095107342), (1267, 0.05587410497136941), (3314, 0.055837651612457274), (3291, 0.05579589320398925), (3507, 0.055793032956303897), (2973, 0.0557929947687166), (695, 0.05576508936101017), (1904, 0.055754241768884535), (1049, 0.05574867004222961), (2214, 0.05574774493869344), (2366, 0.05572621926562669), (2314, 0.05571536953691434), (698, 0.05568744257140365), (338, 0.05560546786037477), (2595, 0.05558052513637089), (2695, 0.05557899768006026), (1177, 0.05555498306128455), (3398, 0.055519272864136396), (2929, 0.05549867991250615), (1356, 0.05549418895475795), (2632, 0.05548458169456946), (1818, 0.055479347954968984), (2657, 0.05547857042055898), (486, 0.05546201925157956), (4282, 0.05543563834548106), (2751, 0.05539107576711119), (1468, 0.055357204038774296), (1079, 0.055309882213628585), (4065, 0.055307917922119886), (3613, 0.05524516199327348), (1867, 0.05522384994269749), (1041, 0.05520160527157242), (2360, 0.055197954085824126), (370, 0.05517896753232862), (2381, 0.05517808830834707), (985, 0.05517775941314966), (2290, 0.055076597588551233), (364, 0.05502605152570878), (826, 0.055019026099645665), (2773, 0.054941706649632875), (3077, 0.05492382883701596), (3852, 0.05491253235375198), (1755, 0.054890634156226734), (553, 0.054878261415820334), (3978, 0.05485328706667623), (1707, 0.05483765497904867), (2174, 0.05480939630415574), (3603, 0.05479063316327166), (3149, 0.05479024176066737), (2143, 0.054785156308584944), (1564, 0.05474701955657451), (58, 0.0547258400981696), (2869, 0.05472208574581549), (480, 0.05471530833528135), (239, 0.054696939439564246), (2163, 0.054619893492912026), (2067, 0.05459813096227021), (383, 0.05458456928197782), (1687, 0.05457262913962777), (2838, 0.054565416805747564), (4303, 0.05448708148291346), (2688, 0.054483656959400745), (3140, 0.054465745164508264), (2710, 0.054451556093447706), (4176, 0.05443513615818843), (694, 0.05443405995020906), (1715, 0.0543660585865563), (535, 0.05436561827780935), (1198, 0.05433855648391078), (169, 0.054312695131912773), (1576, 0.05429118467990107), (2826, 0.054287193556394595), (504, 0.05426882867569677), (905, 0.05426813107831515), (3705, 0.054237583616081685), (2691, 0.0542320241490157), (102, 0.054209400897795156), (253, 0.054113950792775624), (3315, 0.054095077439928745), (2185, 0.054041250055883436), (552, 0.05404070283938872), (3726, 0.054039714598260166), (1405, 0.05403163329563615), (515, 0.0540314020314504), (3856, 0.05402056088940115), (8, 0.05396719645150364), (1609, 0.05393585547168732), (464, 0.05390110645427404), (564, 0.053886656297707), (2398, 0.05388405959249653), (1591, 0.05388203640922899), (871, 0.05383293069314564), (3641, 0.053817043772019034), (3050, 0.05379740638799806), (2276, 0.05379729763830672), (3692, 0.05379521727446825), (578, 0.0537942774373462), (2970, 0.05376257570773662), (4069, 0.05374931878755244), (2230, 0.053746547574808026), (131, 0.053723770843827366), (3842, 0.053718743657733534), (3843, 0.053718743657733534), (3385, 0.05371613775267002), (2429, 0.053689464397704854), (4144, 0.05367787610952595), (2485, 0.05367470974157272), (4104, 0.0536668943667233), (951, 0.05361461408877405), (2790, 0.053596886999462495), (1704, 0.053527263180208014), (4325, 0.053510484056191056), (178, 0.053493895707994565), (1803, 0.053493753898896976), (4268, 0.05346904475736641), (3870, 0.053438849958999994), (2805, 0.05342843654978766), (669, 0.053417205580526046), (1084, 0.05328102242947253), (2548, 0.053278935185702696), (709, 0.05320894953703916), (510, 0.05319627590262504), (261, 0.053142763650840245), (1977, 0.05310226059704869), (4300, 0.05306777294612107), (2727, 0.05300654332332708), (3015, 0.05291107957039029), (267, 0.05290822298282723), (534, 0.052902250433472846), (1579, 0.05289980247999482), (881, 0.05289226495261466), (2105, 0.052888831193759894), (3389, 0.0528542046912594), (3038, 0.052844491004691116), (1290, 0.05280957421437919), (1478, 0.05278667652726604), (4072, 0.05278117115517079), (117, 0.052781119045522795), (2426, 0.05274910266032905), (1443, 0.052748154064969015), (3618, 0.05274243322889229), (949, 0.05272160028563081), (4070, 0.0526891837889008), (1928, 0.0526792698972768), (513, 0.05267560775323701), (3326, 0.052603943797933914), (2895, 0.05258193717657918), (2193, 0.05257039837150649), (43, 0.052515988286188066), (1877, 0.05248162354110491), (862, 0.05245375418674011), (666, 0.05239488926467909), (292, 0.052332756550658804), (2430, 0.0523130427898246), (1301, 0.05230361431956718), (2153, 0.052300839244336025), (2736, 0.05226673073397126), (3561, 0.052255401457182805), (1463, 0.05223959623029417), (1422, 0.05222518256146452), (3414, 0.052219478838007496), (93, 0.052136845176741345), (106, 0.05212829200831711), (1036, 0.052122102119533636), (4080, 0.052120894638942615), (1251, 0.052101991987145616), (979, 0.05210174162704892), (2538, 0.05209773780721332), (258, 0.052090803157807716), (4002, 0.052049555965762294), (2747, 0.052017323287712865), (1058, 0.05200530862969156), (580, 0.05200018103447296), (4091, 0.05199848972697567), (3464, 0.051929871392011225), (732, 0.051873956762961825), (2690, 0.05185778247977649), (1494, 0.05185690693061114), (1589, 0.051851269855390854), (348, 0.051813467716552576), (3247, 0.05178371008954466), (343, 0.05177391555371468), (715, 0.05175950091104314), (3448, 0.05174033625754476), (2477, 0.05171624542442522), (3266, 0.051639610197116215), (1878, 0.051604173088146944), (4212, 0.05158595498604288), (3720, 0.05158533931152982), (4141, 0.05157778081615062), (1062, 0.05155282402640818), (594, 0.05151946252332958), (3735, 0.05151934299070242), (3384, 0.05147680953675715), (518, 0.051435060353830483), (2564, 0.05136382033910287), (2040, 0.051331336195092406), (446, 0.0513243502033953), (3805, 0.05124033285131338), (3669, 0.05123687254845401), (1007, 0.05120108848315272), (3465, 0.051138740098053304), (297, 0.0511363929997256), (4280, 0.051133659558310354), (2327, 0.05112794852848592), (3211, 0.051110534426526764), (2176, 0.05108913185732911), (650, 0.05108710347967118), (4052, 0.05106421653543919), (740, 0.051061967241642), (3063, 0.0510410361499276), (1095, 0.05099119585280746), (40, 0.05097689693233751), (959, 0.050953899036352356), (2674, 0.05089553514161261), (157, 0.050846359914555835), (3944, 0.05084623406897814), (165, 0.05084250602949047), (100, 0.05083828624335942), (2491, 0.050832052550401366), (2888, 0.05082903826955975), (2958, 0.05082619755448864), (2901, 0.05080289715351942), (967, 0.05074556867391941), (1011, 0.05071434868819742), (3841, 0.05070451757114568), (3509, 0.05061939997763142), (1829, 0.05058063207843451), (735, 0.05057463626350504), (524, 0.050568963782078154), (341, 0.05054604895885562), (278, 0.0505229172159293), (1145, 0.05052164097422227), (133, 0.0505115615698204), (3169, 0.050503868234998514), (27, 0.050498808327166606), (1992, 0.05049869928079946), (655, 0.05048635410787918), (110, 0.05047565078428569), (0, 0.0504603935512987), (2066, 0.05040826494850836), (2814, 0.050342892575497455), (2135, 0.05031858231803535), (2133, 0.050315168392174425), (2075, 0.05031403236789093), (3570, 0.05030992378180022), (3646, 0.05023599471462533), (1941, 0.050233526647801896), (3587, 0.050211475660050055), (42, 0.050138172389014156), (3932, 0.05013326840116937), (2, 0.05008182954465237), (3904, 0.05006919386341093), (3339, 0.05005230939381032), (1088, 0.05003092304841064), (98, 0.05000129636635545), (2038, 0.04992990474193007), (45, 0.04991991100813785), (3390, 0.04991341674761508), (492, 0.049912916713569754), (3208, 0.049863915328833074), (1725, 0.049849753147706), (1106, 0.04983897285867147), (1078, 0.04982476946776875), (1698, 0.049778947736899115), (3706, 0.049747272761796794), (1567, 0.049719658293081885), (257, 0.04971401154712955), (2723, 0.04970175107957317), (2502, 0.04967906828253824), (201, 0.049668913660924886), (1861, 0.049631930698429874), (150, 0.049609660769861785), (223, 0.049601528466796455), (275, 0.04957962194849793), (2985, 0.04956678939490055), (1180, 0.049557131956258015), (885, 0.049547801057031236), (146, 0.049530281073820855), (1206, 0.049509389393265574), (4201, 0.04948906519902171), (2102, 0.04947115813209689), (3943, 0.04936426507075601), (3983, 0.049351672233789175), (391, 0.04934443660992436), (457, 0.04933876239282132), (2407, 0.04933611757622387), (3793, 0.049335933236668045), (987, 0.04924663449082562), (3040, 0.04924351041195668), (2608, 0.0492210189338767), (1389, 0.04922068143453072), (324, 0.04915343186840322), (3916, 0.04912919996077448), (2015, 0.049112646642173685), (1488, 0.049093578942531), (4082, 0.04908639598668255), (1956, 0.04908608889219377), (2198, 0.04907257637333903), (1569, 0.049054217169255475), (476, 0.04904340004689938), (2393, 0.04902961357693197), (2035, 0.04901403816952954), (2763, 0.04900491109261165), (2296, 0.04896832375242586), (269, 0.0489384274828643), (3277, 0.0489167467301735), (624, 0.04888868454639267), (2806, 0.0488211584035037), (4014, 0.048794418963813785), (1753, 0.04879093547840679), (381, 0.048785271393030856), (1135, 0.048783346369732375), (4279, 0.04878188642680217), (676, 0.048775796100157934), (2144, 0.04876468777208817), (1005, 0.04872884059510432), (1465, 0.04869275512053367), (4152, 0.04866230008977086), (2607, 0.04864881572735747), (1507, 0.04861836710434909), (643, 0.04861595598570246), (858, 0.048601962319168544), (3431, 0.04860123833903559), (3907, 0.04858331416151928), (4054, 0.04853503747715885), (3025, 0.04852257454735247), (1197, 0.04851037194168099), (2924, 0.04850315660716402), (327, 0.04847190792525608), (3458, 0.04843849260705134), (2310, 0.04840296237756042), (943, 0.04837805613004503), (687, 0.048327899155393254), (183, 0.048294990837104125), (3643, 0.048278539077732205), (51, 0.04827253183979842), (136, 0.04823752783288697), (1407, 0.048235500002659346), (207, 0.048214522475789626), (872, 0.04821310484289255), (382, 0.04818577583501392), (1892, 0.04818180799362619), (1683, 0.048166469218581594), (482, 0.04815261905407553), (722, 0.048137746682887034), (1934, 0.04809902070487138), (472, 0.048087980702967596), (2708, 0.04799776547625528), (632, 0.0479918274101603), (32, 0.04798942471085578), (1265, 0.047954134347134095), (875, 0.04792091365484668), (2402, 0.04786342571733683), (2766, 0.047816894750058264), (180, 0.047804541081301354), (115, 0.047774402853705995), (684, 0.047760531070689116), (4263, 0.04769359036085756), (3059, 0.04769268202145805), (2489, 0.04768950255270576), (24, 0.047648353531583844), (3081, 0.04763707437539005), (310, 0.04760015842370085), (362, 0.04759800659271516), (1129, 0.04754247248377376), (111, 0.0475327818849652), (2103, 0.04752192759531432), (1518, 0.04745395310489657), (2373, 0.047439726832899536), (333, 0.04740963400064239), (3101, 0.047409017661573655), (1421, 0.04739861024987446), (4316, 0.04738398175983165), (390, 0.047347999225983234), (67, 0.047345821640860375), (126, 0.047291774688712276), (1447, 0.0472685724616376), (3701, 0.04724338864734956), (4322, 0.04724026302688095), (2392, 0.047214752991722585), (220, 0.04720524476243951), (1922, 0.04716882627194438), (315, 0.04716634180074877), (440, 0.04715401666297177), (3971, 0.04715143273057164), (1492, 0.047145441998099384), (981, 0.047109427330475434), (2975, 0.04710601583765888), (2911, 0.047068304707238155), (978, 0.046991396952511144), (3703, 0.04699091263604323), (371, 0.04698552726025408), (2562, 0.04696671553111776), (1764, 0.04691621713008352), (1765, 0.04691621713008352), (192, 0.0468900431295473), (1373, 0.046862005026474904), (928, 0.04685912635773886), (212, 0.04679440591698895), (2740, 0.04678696404015624), (1930, 0.046742232076342205), (1150, 0.04670629170048344), (1291, 0.0466967207728305), (447, 0.04668750016552553), (420, 0.0466628221050131), (3402, 0.04665005232346162), (2835, 0.046648373745097255), (2385, 0.046626186056757925), (664, 0.046612091974376504), (1315, 0.046575561309471096), (696, 0.04656226313174572), (697, 0.04656226313174572), (1911, 0.04648064651764251), (3676, 0.04644078565745329), (2319, 0.04643336566394945), (3142, 0.0463408670322804), (1006, 0.04633848095541776), (2263, 0.04631428549941228), (384, 0.046247504013586405), (4004, 0.046188310007297964), (984, 0.04616020059969602), (389, 0.04614973348951103), (428, 0.04612478736794443), (637, 0.04605260072989597), (988, 0.04603585062698254), (224, 0.04598709619858763), (3245, 0.04598082815980112), (4056, 0.045976294090231476), (3203, 0.04596363904282361), (179, 0.04596110436735836), (1228, 0.04594412546533298), (168, 0.0459433312077977), (271, 0.045910139293673144), (1042, 0.04590083109603694), (893, 0.045880315912565355), (3527, 0.04585256318006009), (3935, 0.04584712897410315), (1939, 0.04576590461977006), (1264, 0.04567646523817268), (3968, 0.04566121728920219), (431, 0.04566022531287617), (1539, 0.04564287566189335), (4147, 0.045638987901487765), (89, 0.04562168239579273), (1330, 0.04553988942764132), (555, 0.04553861084130971), (1098, 0.04553728163825002), (623, 0.04552087998798073), (3952, 0.04540880440875602), (2084, 0.04540411207930843), (147, 0.04540099874459399), (1768, 0.0453896576102167), (1769, 0.0453896576102167), (2194, 0.04537948407767768), (4158, 0.04536009099727981), (2669, 0.0453551728372619), (1894, 0.045342056275108615), (1859, 0.04532335647401522), (658, 0.04531752857719846), (2156, 0.045312954378765785), (2440, 0.04529607318319994), (2956, 0.045294064663108584), (3686, 0.04519154448542098), (701, 0.04515183222352115), (444, 0.04515145651380851), (1089, 0.04508301157327036), (974, 0.045036988249914346), (387, 0.04496193511849085), (3670, 0.04495599143705375), (1163, 0.04493467230013754), (3072, 0.044897776218521854), (3865, 0.04488875316451775), (742, 0.044838229743410035), (1686, 0.044822842205715266), (2812, 0.04477289600879285), (203, 0.04474220316830409), (3662, 0.044663705855629676), (2932, 0.04457899664796997), (4009, 0.04456263778143367), (1893, 0.0445423971910228), (1066, 0.044498782351882316), (606, 0.04447971051337843), (3252, 0.04442110580779312), (1524, 0.04437440407233324), (489, 0.044371264542399036), (1784, 0.04435398890604399), (2910, 0.04435396694004194), (430, 0.0443397245486119), (648, 0.044338692346023625), (1452, 0.044327150535331296), (522, 0.04432041823627266), (607, 0.04431283625444601), (3664, 0.0443108874926083), (1708, 0.04429584662265346), (1545, 0.04427828014932653), (1211, 0.044245728237770704), (702, 0.04422399587452905), (3335, 0.04413222927662887), (2913, 0.04411600710436146), (2383, 0.0441112412518059), (3499, 0.04405000959167783), (1972, 0.044048990295320854), (1921, 0.04395576373594953), (2297, 0.043948553458331596), (1800, 0.04393337650920124), (2223, 0.043920328644293655), (1027, 0.043840052466234784), (622, 0.04377514473051503), (835, 0.04376560708184413), (3709, 0.04375796008565286), (2684, 0.04373907767569028), (710, 0.04370466831348339), (3200, 0.04369892930780938), (2241, 0.04367156880484373), (18, 0.04362084199199213), (205, 0.04361887773487369), (1789, 0.043608921172299836), (2986, 0.04359505593662693), (4098, 0.043590640967961024), (3153, 0.04355456340280235), (209, 0.04352666043749916), (1067, 0.04349284671086592), (243, 0.043437945232165015), (4, 0.04338666268313743), (3328, 0.04329927564522012), (3617, 0.0432183872930166), (3840, 0.04312288548053465), (2942, 0.04311328733936871), (1897, 0.04304564014470045), (2916, 0.043025084686589166), (1636, 0.04301896242391388), (1157, 0.04296794565505265), (3947, 0.042889731318209806), (1080, 0.04286821328637161), (519, 0.04284887018435832), (2303, 0.04281211445083598), (1133, 0.04279467719579501), (3596, 0.042784375453359044), (229, 0.04277493764226169), (712, 0.042771872228680695), (2689, 0.042762467172595756), (2782, 0.04276148519895259), (2753, 0.042759570545961134), (320, 0.042735439077380546), (1444, 0.04271470250332078), (3321, 0.04269776396461165), (294, 0.042695113802479666), (2340, 0.042683822931508686), (166, 0.0426071567211667), (1623, 0.0425935711404263), (1060, 0.04257308471342384), (783, 0.04256085176144811), (60, 0.042540853160897625), (2362, 0.04245539206174638), (824, 0.04243297202948546), (462, 0.04238747557528944), (393, 0.042377681814507046), (2192, 0.042370340458028656), (2626, 0.04236338810282925), (2593, 0.04235721656803803), (1490, 0.042305771931529845), (1618, 0.04228902228807097), (3700, 0.04226419597819411), (938, 0.04222116727726623), (3803, 0.04219132141816151), (199, 0.04217602044946969), (1189, 0.04216857477488423), (34, 0.042141298665423016), (273, 0.042138194338384026), (708, 0.04212358086376214), (3002, 0.042083805855100215), (3927, 0.04205297841797604), (908, 0.0420237951006574), (91, 0.041974277159596604), (549, 0.04195670794839853), (2647, 0.041944731057711654), (473, 0.041939624203922686), (531, 0.04192316693427377), (148, 0.0419117441575078), (1557, 0.04191102222184813), (3611, 0.041895558821845896), (10, 0.041881722861691145), (1653, 0.041870984750805126), (423, 0.041848653235784974), (663, 0.04184223638413439), (22, 0.04181166792143568), (827, 0.04180297673285823), (4239, 0.04169722695890526), (4240, 0.04169722695890526), (1573, 0.041688930599287216), (628, 0.04168878942107456), (1627, 0.04168438982647952), (532, 0.04164886588946459), (500, 0.04157397195973696), (620, 0.041532578979125545), (1288, 0.041518568474664244), (2672, 0.04148353105286489), (2515, 0.04145056133506798), (615, 0.041449881795489286), (325, 0.0414262594403083), (4175, 0.04142285184455555), (298, 0.04141026533817513), (3488, 0.0414076853891828), (3204, 0.04140610211517759), (2134, 0.04139142493803721), (144, 0.041310365614113956), (503, 0.041300123486204765), (3440, 0.04125218766382918), (3770, 0.04124248835228853), (2201, 0.041241107180500336), (2974, 0.041238846620669095), (723, 0.041230819522384006), (1858, 0.0412076137207566), (3557, 0.04112427843688387), (2086, 0.04112374212476356), (95, 0.04109196693909407), (3262, 0.04104272407421197), (2129, 0.04098636941231336), (4310, 0.040900433985025506), (3901, 0.04084365436745259), (3106, 0.040812032481518455), (2356, 0.04066420283139004), (153, 0.04063862588710655), (652, 0.040637737858928345), (1989, 0.04057611254623315), (478, 0.04048391869375033), (868, 0.04042788944446579), (764, 0.04041429804159427), (3119, 0.040399544114653616), (159, 0.04036022221060541), (1296, 0.0403361635976139), (2157, 0.040310522649674656), (279, 0.04030208535254898), (3598, 0.040278009751297555), (1680, 0.04021732858034357), (1887, 0.04015525333739631), (2414, 0.04015103761512755), (222, 0.040132499651583005), (1254, 0.040058440093325126), (3897, 0.040011731229243876), (1938, 0.04000187654659849), (499, 0.04000173056449978), (3511, 0.03999903393758619), (1382, 0.03998119192708612), (254, 0.0399747689518732), (3835, 0.03997470168733988), (2417, 0.03996128195987727), (3595, 0.039916323098925156), (1009, 0.03987206757776207), (317, 0.03983389734242062), (3170, 0.039822886588031466), (671, 0.03980362330829744), (4320, 0.03975834001933627), (3427, 0.039633407049540825), (2218, 0.039571762129563655), (1833, 0.03955614300420522), (3133, 0.039554567926632436), (572, 0.0395231907610668), (736, 0.03948702267378227), (718, 0.039486598797088004), (241, 0.03944822771470248), (1697, 0.03942162259309002), (270, 0.03941912442293288), (356, 0.03941726429567514), (2643, 0.03933275823683266), (56, 0.03928622445063733), (2051, 0.03927096188935444), (3135, 0.03916630304163273), (388, 0.03910765054835093), (2149, 0.03910004103084734), (80, 0.039060591836577355), (3076, 0.03903399591291354), (2871, 0.0390070752154457), (879, 0.03897761864238736), (799, 0.03888295413191199), (548, 0.038841439617325786), (2896, 0.03870733692174768), (3957, 0.038651992297711206), (798, 0.03862204749015332), (4287, 0.03855940906452424), (4288, 0.03855940906452424), (37, 0.03850742651918101), (20, 0.03849491106322587), (1865, 0.038452491758998376), (4190, 0.038448879713280405), (35, 0.038348949972527246), (2099, 0.03832724409465617), (2755, 0.03831023842447885), (2819, 0.038242930174823955), (1959, 0.03812847505431916), (3112, 0.03803997874509413), (1328, 0.038001532277384724), (960, 0.03798310298110834), (202, 0.03798011495252831), (185, 0.037968455605614695), (2436, 0.03787804190044663), (495, 0.03786557698232326), (244, 0.03780523403059557), (2007, 0.037803694304195036), (2779, 0.03778553284560213), (2788, 0.037730219311138846), (2024, 0.03771047298742393), (1099, 0.03770688145719317), (335, 0.03770180305335265), (2966, 0.03764380950143402), (4003, 0.037636106507366276), (565, 0.03759800203035238), (2076, 0.03749008767201569), (2113, 0.03746880674812461), (175, 0.03743745221766142), (1952, 0.0373839706429463), (1140, 0.0373701761305722), (1741, 0.037352376048873474), (3891, 0.03735055347490875), (3892, 0.03735055347490875), (2621, 0.03731616033128391), (1445, 0.03729186937867598), (193, 0.03727336322260256), (2235, 0.037271578876707886), (1136, 0.03725323429184999), (97, 0.037242432796725504), (4154, 0.03723387134064289), (3919, 0.03721253920928066), (2413, 0.03718170936813253), (501, 0.037137637763425005), (322, 0.03712987644295639), (2281, 0.03710619109660181), (25, 0.03710164697565409), (240, 0.037100165055228125), (685, 0.03708718207251633), (463, 0.03707466821630957), (3495, 0.03707266037665867), (1467, 0.037066188528205105), (88, 0.0370364821242605), (832, 0.03702773779028994), (2807, 0.03702728079532854), (3070, 0.03700095335166742), (4140, 0.036994886932408926), (174, 0.0369858488226913), (3752, 0.036985682121130126), (3171, 0.036947340522956694), (2616, 0.03672908390874367), (1502, 0.03667654623617066), (3586, 0.036593074293623046), (539, 0.036589824723604863), (2842, 0.03658057863955052), (3421, 0.03655231803457234), (326, 0.036507979924153944), (3154, 0.036499991431227286), (561, 0.03645034977745659), (339, 0.036424775620094885), (1270, 0.036369402955173366), (293, 0.03629794934960048), (2832, 0.03616766323976588), (542, 0.03613963935776676), (36, 0.03607553377738772), (103, 0.03604553840662942), (3601, 0.036011945188992686), (184, 0.03598819866946161), (48, 0.03596517186724023), (2071, 0.0359618463867458), (1316, 0.03594973114711083), (410, 0.035916726148351195), (1208, 0.035905981993693346), (934, 0.03575106316211547), (2533, 0.03573514355180261), (2635, 0.03572409556600077), (2245, 0.03551631417729927), (1302, 0.03546944090229411), (2741, 0.03545100113180807), (3255, 0.035425988268988524), (172, 0.03542531138630863), (217, 0.035414340639366056), (252, 0.035400475947619824), (228, 0.03531822102247268), (954, 0.03530706315826571), (511, 0.035297920897914704), (3463, 0.035258130836266104), (84, 0.03524808095286267), (1759, 0.0352387616571008), (2552, 0.03523133255223256), (2922, 0.035199939301319455), (603, 0.03519849217174166), (649, 0.03517967660678693), (408, 0.03517805746472912), (132, 0.03517043523391828), (59, 0.035168186512954766), (2505, 0.03505592360895986), (214, 0.03503269489163212), (397, 0.034979988340737844), (644, 0.034966220344569844), (7, 0.03495016744334574), (2783, 0.03490907998529871), (1255, 0.03490347924722024), (614, 0.034877740880797835), (466, 0.03486576177802511), (3094, 0.03480062760254179), (633, 0.03478767530944162), (1663, 0.03463750379725957), (2725, 0.03462730497807658), (927, 0.03461029605077651), (3683, 0.0345900049881079), (597, 0.034567404360944784), (700, 0.03452602310364768), (530, 0.034454740206313395), (2923, 0.034419410947984605), (118, 0.03436575225623835), (3547, 0.03427599530367477), (1963, 0.03426811425380129), (50, 0.03426618859465447), (1979, 0.03423214217138475), (350, 0.034077395525982504), (890, 0.034073667183738526), (213, 0.033858099238326306), (743, 0.03381376393776017), (16, 0.0338109621413548), (344, 0.03366923287823942), (170, 0.0336677808277519), (638, 0.03365453825241473), (176, 0.03364768632871655), (76, 0.033559420938469364), (318, 0.0334868075569699), (186, 0.033436883081609046), (309, 0.03339299303819024), (416, 0.033359567638487006), (2645, 0.0333455742531588), (2125, 0.03334208630005517), (1151, 0.033284235407075355), (71, 0.03320204253222817), (738, 0.03317906248567614), (400, 0.0331718148059294), (6, 0.03315927165210743), (878, 0.03315782313128604), (1668, 0.03313306476717506), (692, 0.03304454566929974), (162, 0.033025666662348685), (3257, 0.03299650492065738), (448, 0.03296485317514206), (795, 0.03295653141890385), (287, 0.032880673447353875), (2021, 0.03287010015342463), (1886, 0.032867677273047576), (3193, 0.032850698800518), (2802, 0.03280231323028848), (3290, 0.03276674017727205), (1126, 0.032736285448911745), (3146, 0.03271408675095485), (3884, 0.032629827000928036), (437, 0.032621191463659736), (151, 0.03261690973372088), (3107, 0.032498270624281074), (1304, 0.03245446002509048), (450, 0.032353878120318015), (494, 0.03227869228461824), (475, 0.03227684257416716), (543, 0.032192370826824766), (3867, 0.03215294687759394), (618, 0.03203855989791187), (4294, 0.03198528231349085), (470, 0.031936011670820455), (3762, 0.03193278446541911), (396, 0.03191575519759684), (4133, 0.03178305196567266), (1813, 0.03175683129371468), (806, 0.0317346575596655), (4026, 0.031698139050053926), (4027, 0.031698139050053926), (990, 0.03167599532526369), (2308, 0.031656621625454025), (571, 0.031637520470146056), (725, 0.0314516538058547), (121, 0.03141984880342645), (724, 0.031377947130245415), (3474, 0.03135360484025567), (1551, 0.03129198398245286), (3905, 0.030965971567060005), (3, 0.03091013033161837), (1799, 0.030867399848868916), (288, 0.030796152493408013), (2288, 0.03065238065463361), (3323, 0.03038604247837741), (2649, 0.030361731636362767), (4073, 0.030288356115855716), (4074, 0.030288356115855716), (2315, 0.030286219530337624), (3224, 0.030240437846287292), (129, 0.030239610803004906), (3060, 0.030174540117512166), (3816, 0.03017201954832817), (409, 0.030094516693969977), (302, 0.030046771888892376), (2904, 0.030007602579165918), (64, 0.02997286231529973), (966, 0.029906886304979584), (2124, 0.02989455290492852), (1361, 0.02987273357776868), (653, 0.029804939264806707), (247, 0.029726484474684237), (558, 0.02959773137335582), (526, 0.029539359004207025), (372, 0.029509283674483685), (418, 0.029501705419950973), (3484, 0.02949145714912796), (155, 0.029418446323488147), (291, 0.029324666384364293), (3062, 0.029297275812871885), (234, 0.029272339913615095), (1801, 0.02922753708664085), (3275, 0.02912003570957208), (2914, 0.029087076296761435), (3820, 0.029056689273158014), (2686, 0.029039261458036203), (82, 0.029019177984159327), (767, 0.029017162721044393), (483, 0.02896581818095423), (105, 0.02891852319713039), (3518, 0.0288555932128545), (277, 0.028755145552536415), (589, 0.028729168952970396), (673, 0.028727669937650923), (412, 0.028692783488870194), (471, 0.028558037163281834), (2175, 0.02851616728852258), (562, 0.028456149261577766), (2279, 0.02837989033574427), (610, 0.028247962250206683), (107, 0.028149078376662025), (218, 0.028147960542480224), (439, 0.02813545509537901), (197, 0.027939916676369914), (29, 0.027876387811893888), (2390, 0.027778551510000967), (329, 0.0276447326162078), (3462, 0.027482776413666685), (2009, 0.027425359723732355), (2228, 0.027290951516875214), (33, 0.027231715289926364), (2801, 0.02717636667984608), (3631, 0.02716656490699923), (122, 0.027157867362045812), (2528, 0.027114957393188546), (490, 0.02704459241607186), (75, 0.02700881098423315), (3708, 0.026978645674111654), (541, 0.026915225631483176), (459, 0.02689786609637743), (66, 0.026843412639199534), (3441, 0.026811204537147602), (3095, 0.02680112681084023), (560, 0.026793238972576315), (3131, 0.026700629074153086), (104, 0.026684345640648), (573, 0.02657188956849378), (404, 0.026265501491820446), (4153, 0.02619157422717908), (314, 0.02618129300956275), (2554, 0.026126224397227435), (149, 0.026045633611330794), (417, 0.02601162255756735), (4012, 0.025960952672155667), (274, 0.025804008456967984), (575, 0.025753248292059376), (44, 0.025670691897441315), (3366, 0.02557836690684308), (2837, 0.025549589520327706), (2906, 0.02551732321963238), (284, 0.02535958230155841), (865, 0.02525159032526456), (2057, 0.025236902190178576), (2512, 0.025225390923373614), (282, 0.02507792683949661), (137, 0.025042947879064872), (3355, 0.02500143875063871), (3849, 0.02496246423618024), (3320, 0.02496005139817261), (2583, 0.024859306957261344), (3739, 0.024756870493356398), (3238, 0.02472501122632164), (1283, 0.02462267776735777), (1259, 0.024553696203899508), (1513, 0.02449100727218079), (386, 0.024488771981993417), (3502, 0.02446114409547196), (2123, 0.02443613625416612), (3340, 0.024411391121707166), (55, 0.02427719301141273), (124, 0.02418110148773555), (3043, 0.02417805398893051), (493, 0.024148643356650467), (2964, 0.024109759207865948), (1554, 0.02408957684814473), (3597, 0.024063639610295114), (2646, 0.023873953949945535), (1541, 0.02370439957967943), (12, 0.023594408176935467), (556, 0.02358276830352865), (134, 0.023318074026587088), (4200, 0.023316366355475838), (1951, 0.02329862759220474), (238, 0.023246345694298464), (78, 0.023198104416367875), (2716, 0.023131841088152413), (54, 0.023089507970776718), (4292, 0.023080273633031587), (3371, 0.023042470104326435), (141, 0.023033229852571356), (52, 0.02296185992106277), (3516, 0.022938653707019148), (265, 0.02266213484416025), (2702, 0.022602558510988083), (529, 0.022418291944489285), (460, 0.022294245843106977), (154, 0.02224725004019591), (3537, 0.022191745291893255), (2557, 0.022173817612244864), (3823, 0.02214397735959919), (94, 0.022060709624381364), (2849, 0.022041511992557973), (3148, 0.022022639290577094), (286, 0.021957804960181973), (537, 0.02192747581886472), (2618, 0.021863141599289843), (4172, 0.021665706068362774), (47, 0.0216085355876148), (30, 0.021585084100274262), (5, 0.021535770823434677), (349, 0.021524938247381727), (3893, 0.021518589897810234), (3504, 0.021219360195550038), (355, 0.021113055509262478), (69, 0.020991491460617136), (246, 0.020956747534660515), (63, 0.020941165543922304), (280, 0.02082666534600987), (3520, 0.020741543370767935), (156, 0.02070211343247888), (354, 0.02066351755498351), (242, 0.020655393948478304), (195, 0.020586739051017943), (1216, 0.020584453256281575), (4115, 0.02052103108006359), (579, 0.020480823719133553), (2370, 0.020416120368883184), (2521, 0.02033656470502619), (299, 0.020232606438483333), (912, 0.02021634057166544), (731, 0.02020793243845306), (574, 0.02006744057886367), (216, 0.020038649271869085), (4185, 0.019993211188554932), (62, 0.019713129125515528), (591, 0.01965247083816963), (334, 0.019621404188028), (3337, 0.019617762723967324), (2719, 0.01954518676405787), (545, 0.019511238387544556), (281, 0.01945725555390239), (398, 0.01920830322863801), (4202, 0.019097631546122124), (2953, 0.019055781604200663), (3347, 0.019052362321641505), (3997, 0.019036750285664046), (3577, 0.019009915101919468), (41, 0.01900006378639238), (443, 0.01898563579682844), (3258, 0.018977374826721235), (1234, 0.0189552362352263), (2348, 0.018858104681011106), (119, 0.018816721745902116), (3419, 0.01878700003625599), (667, 0.01862400884912041), (405, 0.018547681315218313), (898, 0.018547572802539842), (1742, 0.01843275374368206), (128, 0.01842161500228806), (276, 0.018358512785223047), (781, 0.018348267694551883), (2217, 0.01833610690864716), (2993, 0.018303808653461578), (1482, 0.01821287854661635), (295, 0.018187294876335698), (171, 0.018032811941240588), (227, 0.01786238876488433), (3514, 0.017829327652308616), (2277, 0.017788753274978922), (3164, 0.017648965249799756), (514, 0.01762629338544608), (3097, 0.017609888324557434), (190, 0.01756903797186817), (4291, 0.017460450447520655), (2209, 0.017443201970705927), (651, 0.0173230545511934), (801, 0.017297214556325345), (375, 0.017159248553038665), (3374, 0.017058559438861354), (3765, 0.016969316249414976), (336, 0.01690434013401875), (1827, 0.016876590431671765), (3977, 0.016829685687450007), (357, 0.01682508843002647), (358, 0.01682508843002647), (208, 0.016727621438175626), (598, 0.01669201425250984), (2409, 0.01668675642886916), (68, 0.016665648582528766), (140, 0.01648208887326985), (233, 0.016388811034695614), (3523, 0.01637057631540957), (1239, 0.016350656903895908), (187, 0.016201083115511685), (596, 0.016185563612441806), (2262, 0.016130822306769856), (266, 0.016096584288812298), (2864, 0.01603812447744302), (3960, 0.015940952603758548), (839, 0.015792083402584877), (1139, 0.01563446748865028), (225, 0.015574012079880897), (458, 0.015563275713550699), (347, 0.01535286500158958), (3741, 0.01527458330990825), (1182, 0.015256790234150717), (3182, 0.015248392956507623), (3920, 0.015197269268783311), (198, 0.01507655370686764), (599, 0.01498216369759231), (465, 0.014917996560067233), (704, 0.014823057969476174), (566, 0.01474143108760838), (551, 0.014554269411084484), (188, 0.014540537131991884), (424, 0.014511495805921341), (3432, 0.014483925471877972), (3858, 0.014113505424892769), (3178, 0.013969638805995294), (308, 0.013963731519426746), (4078, 0.01390499905513519), (646, 0.01388416499001423), (145, 0.013774504848654263), (2268, 0.013735174735394422), (3995, 0.013654962502000843), (3993, 0.013625806924092794), (70, 0.013540111365625867), (21, 0.013384318042419463), (508, 0.013279177680538708), (3165, 0.013202364328428634), (1783, 0.013153603706770552), (53, 0.013054016945733514), (221, 0.013053117329420525), (2820, 0.013041960607330118), (3958, 0.012938064642343972), (1461, 0.012925738934348969), (3926, 0.012909036044268678), (2829, 0.01287797547931296), (3049, 0.012783597541547795), (2508, 0.012759683284126829), (586, 0.012710576280127802), (342, 0.012646053306593978), (4182, 0.012627050821079042), (921, 0.012581574889095497), (455, 0.012552678693869678), (2728, 0.01254583035965871), (2998, 0.01249962315325274), (683, 0.012344695805157511), (194, 0.012341197122028805), (567, 0.012234274162555289), (2357, 0.01203626449563934), (3721, 0.012027112559587917), (352, 0.012013678511448585), (163, 0.01196019808669101), (403, 0.011832359829495088), (557, 0.011761406767967665), (691, 0.011592826200833429), (3206, 0.011435770395863687), (2097, 0.011373831697975062), (259, 0.011350214846627165), (516, 0.011182781586774646), (3011, 0.011085081096804238), (39, 0.010955180182053664), (679, 0.010720853326664519), (528, 0.010514751403749727), (65, 0.010432184318588854), (219, 0.010230169984271554), (1446, 0.010127302906440889), (2189, 0.009846650212742582), (3433, 0.00982652595956662), (346, 0.009806902418436363), (101, 0.00960807014233325), (682, 0.009603535081189787), (337, 0.009590326010677885), (474, 0.009584206488827957), (4328, 0.009584206488827957), (260, 0.009533820698743836), (411, 0.009515947400891178), (2931, 0.009504989845241717), (79, 0.009075094294818413), (2316, 0.008657259100810033), (3378, 0.008588829585199596), (2527, 0.008381213374416187), (4204, 0.008311517847412186), (319, 0.008220528928270932), (2299, 0.008058727442095756), (2138, 0.007771891120411682), (2358, 0.007509251826159521), (1101, 0.007241917635252443), (2731, 0.0072403780670376415), (2534, 0.0071854865009052075), (1862, 0.0068596947594951035), (3872, 0.006572366740300595), (1199, 0.006563200225667143), (3538, 0.006557229852239233), (1747, 0.006370846435028602), (1810, 0.006256884255323446), (2467, 0.005879530147511932), (189, 0.0058232294784314), (4295, 0.005577346677851602), (3545, 0.005024635386114884), (4246, 0.004916701756373201), (1701, 0.004688601875856194), (929, 0.004677408818469221), (4256, 0.004579245057429386), (4058, 0.004103358998121409), (3928, 0.004089479922150322), (3938, 0.00408103332214077), (2960, 0.004051461476622793), (3032, 0.004002662092646354), (2954, 0.003916865882345724), (31, 0.003907695911260164), (1400, 0.003794215176220976), (206, 0.0037666133163098245), (3392, 0.0037595583800910464), (2482, 0.0037170514120723466), (3209, 0.003580744652164894), (3426, 0.003528875147630938), (4311, 0.003224852286616741), (4317, 0.0031864235814866846), (4208, 0.0031129503972527513), (4314, 0.003098405930513712), (3987, 0.003096506657747583), (3267, 0.0030864997095946603), (3732, 0.0030780530653591602), (4270, 0.003075149238092996), (4037, 0.0030674850720193085), (4271, 0.0030668336418731854), (3809, 0.003064767743887485), (2364, 0.0030618066792616598), (3172, 0.003038656321134446), (4326, 0.003025878626772567), (3052, 0.0030258055266587976), (2553, 0.0030117200957431836), (3016, 0.002995233068625443), (3302, 0.0029637487053323685), (3438, 0.0029202939850517056), (345, 0.0029184263629492106), (4259, 0.0029028124549327983), (3564, 0.0028971266502984014), (1908, 0.0028958920376271416), (2060, 0.0028888075368246526), (3902, 0.0028538162089538424), (2403, 0.002795097034408489), (4102, 0.0027858791461684283), (2633, 0.002770339469609145), (3868, 0.0027289499335367497), (3357, 0.002721987365061557), (2831, 0.0027075411907521835), (2907, 0.0027059478247608015), (3054, 0.0026984622205759754), (1817, 0.0026602717403095663), (2660, 0.002657681823852821), (4119, 0.002643220539798964), (2624, 0.0026418000320526337), (3308, 0.0026120997181208064), (3678, 0.002574791213901974), (3074, 0.0025691964317200696), (4160, 0.0025433420858443087), (4249, 0.0024130529575260243), (4315, 0.002406704725843746), (4151, 0.0023896348003002257), (3503, 0.002389107688643059), (4284, 0.002384554365766964), (3747, 0.0023554507111003833), (3654, 0.002352543614267143), (4084, 0.0023399799030527973), (4101, 0.002309368736859313), (3244, 0.0022890375486051134), (3505, 0.002263946049584988), (2610, 0.0022312714864674062), (456, 0.0021838909360891922), (2529, 0.0021838909360891922), (4099, 0.00218206582314911), (2247, 0.0021608826353032443), (4149, 0.002149562430605549), (4307, 0.00210199000203562), (4156, 0.0020407531283911286), (3677, 0.002036233583486917), (74, 0.0020290205717278997), (4252, 0.00199927534150127), (1978, 0.0019827296068688524), (498, 0.001901401186234251), (4308, 0.0018764831226217333), (707, 0.0018059092576084611), (1063, 0.0017739541478488485), (72, 0.0), (73, 0.0), (236, 0.0), (331, 0.0), (369, 0.0), (407, 0.0), (481, 0.0), (677, 0.0), (1173, 0.0), (1175, 0.0), (1238, 0.0), (1456, 0.0), (1519, 0.0), (1547, 0.0), (1643, 0.0), (1731, 0.0), (1744, 0.0), (1788, 0.0), (1874, 0.0), (2034, 0.0), (2052, 0.0), (2091, 0.0), (2094, 0.0), (2119, 0.0), (2300, 0.0), (2321, 0.0), (2335, 0.0), (2412, 0.0), (2455, 0.0), (2500, 0.0), (2509, 0.0), (2511, 0.0), (2544, 0.0), (2556, 0.0), (2623, 0.0), (2726, 0.0), (2772, 0.0), (2774, 0.0), (2822, 0.0), (2874, 0.0), (2876, 0.0), (2898, 0.0), (2917, 0.0), (2934, 0.0), (2945, 0.0), (2950, 0.0), (2952, 0.0), (2969, 0.0), (3021, 0.0), (3046, 0.0), (3047, 0.0), (3105, 0.0), (3108, 0.0), (3129, 0.0), (3138, 0.0), (3157, 0.0), (3166, 0.0), (3181, 0.0), (3185, 0.0), (3191, 0.0), (3201, 0.0), (3214, 0.0), (3241, 0.0), (3248, 0.0), (3251, 0.0), (3269, 0.0), (3293, 0.0), (3341, 0.0), (3343, 0.0), (3360, 0.0), (3361, 0.0), (3373, 0.0), (3386, 0.0), (3394, 0.0), (3411, 0.0), (3446, 0.0), (3454, 0.0), (3457, 0.0), (3480, 0.0), (3487, 0.0), (3490, 0.0), (3525, 0.0), (3529, 0.0), (3535, 0.0), (3540, 0.0), (3546, 0.0), (3550, 0.0), (3563, 0.0), (3566, 0.0), (3573, 0.0), (3581, 0.0), (3600, 0.0), (3612, 0.0), (3620, 0.0), (3622, 0.0), (3623, 0.0), (3625, 0.0), (3645, 0.0), (3649, 0.0), (3653, 0.0), (3711, 0.0), (3718, 0.0), (3719, 0.0), (3722, 0.0), (3731, 0.0), (3740, 0.0), (3745, 0.0), (3773, 0.0), (3815, 0.0), (3830, 0.0), (3859, 0.0), (3861, 0.0), (3863, 0.0), (3887, 0.0), (3961, 0.0), (3965, 0.0), (3976, 0.0), (3994, 0.0), (3999, 0.0), (4006, 0.0), (4016, 0.0), (4017, 0.0), (4022, 0.0), (4023, 0.0), (4067, 0.0), (4094, 0.0), (4117, 0.0), (4134, 0.0), (4145, 0.0), (4146, 0.0), (4157, 0.0), (4167, 0.0), (4179, 0.0), (4184, 0.0), (4196, 0.0), (4197, 0.0), (4199, 0.0), (4203, 0.0), (4207, 0.0), (4219, 0.0), (4220, 0.0), (4231, 0.0), (4234, 0.0), (4250, 0.0), (4251, 0.0), (4258, 0.0), (4260, 0.0), (4272, 0.0), (4278, 0.0), (4289, 0.0), (4293, 0.0), (4309, 0.0)]\n"
          ]
        }
      ]
    },
    {
      "cell_type": "code",
      "source": [
        "print(sorted_list[0], sorted_list[1], sorted_list[2], sorted_list[3], sorted_list[4])\n",
        "# top five score with index "
      ],
      "metadata": {
        "colab": {
          "base_uri": "https://localhost:8080/"
        },
        "id": "_MhejghFLqE3",
        "outputId": "68ff3be5-6d3b-473a-cf7b-b91083ecac94"
      },
      "execution_count": 366,
      "outputs": [
        {
          "output_type": "stream",
          "name": "stdout",
          "text": [
            "(925, 1.0) (2170, 0.1940246564412141) (1481, 0.16153595332923268) (2858, 0.1590545409726467) (1424, 0.15488437882685321)\n"
          ]
        }
      ]
    },
    {
      "cell_type": "code",
      "source": [
        "# printing the name of similar movies based on the index\n",
        "\n",
        "print(\"Movies Results : \\n\")\n",
        "\n",
        "i = 1\n",
        "\n",
        "for movie in sorted_list:\n",
        "  index = movie[0]\n",
        "  title_of_movie = dataset[dataset.index == index]['title_x'].values[0]\n",
        "  if(i<=10):\n",
        "    print(i, '.', title_of_movie)\n",
        "    i += 1"
      ],
      "metadata": {
        "colab": {
          "base_uri": "https://localhost:8080/"
        },
        "id": "7SpKzAIfLqB9",
        "outputId": "9253d98f-ae29-4e7f-e0c6-0aeaf87e0bd3"
      },
      "execution_count": 367,
      "outputs": [
        {
          "output_type": "stream",
          "name": "stdout",
          "text": [
            "Movies Results : \n",
            "\n",
            "1 . the stoneman murders\n",
            "2 . jeevan ki shatranj\n",
            "3 . praan jaye par shaan na jaye\n",
            "4 . ardh satya\n",
            "5 . baaz: a bird in danger\n",
            "6 . vijeta (1996 film)\n",
            "7 . mahaanta\n",
            "8 . zulm-o-sitam\n",
            "9 . woodstock villa\n",
            "10 . jalwa\n"
          ]
        }
      ]
    },
    {
      "cell_type": "markdown",
      "source": [
        "## Recommendation function "
      ],
      "metadata": {
        "id": "Rp5khK0sR824"
      }
    },
    {
      "cell_type": "code",
      "source": [
        "def recommend(name):\n",
        "  find_close_match = difflib.get_close_matches(movie_name, list_of_all_titles)\n",
        "  \n",
        "  try:\n",
        "    close_match = find_close_match[0]\n",
        "  except IndexError:\n",
        "    close_match = 'null'\n",
        "    print(\"No result found with this title\")\n",
        "    return \n",
        "  index_of_movie = dataset[dataset.title_x == close_match]['index'].values[0]\n",
        "  score = list(enumerate(similarity[index_of_movie]))\n",
        "  sorted_list = sorted(score, key = lambda x:x[1], reverse = True)\n",
        "\n",
        "\n",
        "  print(\"Movies Results : \\n\")\n",
        "\n",
        "  i = 1\n",
        "\n",
        "  for movie in sorted_list:\n",
        "    index = movie[0]\n",
        "    title_of_movie = dataset[dataset.index == index]['title_x'].values[0]\n",
        "    if(i<=3):\n",
        "      print(i, '. ', title_of_movie)\n",
        "      i += 1"
      ],
      "metadata": {
        "id": "UZ3_zgIOLp_H"
      },
      "execution_count": 373,
      "outputs": []
    },
    {
      "cell_type": "code",
      "source": [
        "movie_name = input('Enter movie/chracter/ clue : ')\n",
        "\n",
        "recommend(movie_name)"
      ],
      "metadata": {
        "colab": {
          "base_uri": "https://localhost:8080/"
        },
        "id": "rtmyz0WeTbAv",
        "outputId": "1bc2776b-d3de-4e8e-81f5-93966c5d94b8"
      },
      "execution_count": 381,
      "outputs": [
        {
          "output_type": "stream",
          "name": "stdout",
          "text": [
            "Enter movie/chracter/ clue : london\n",
            "Movies Results : \n",
            "\n",
            "1 .  azhar (film)\n",
            "2 .  malik ek\n",
            "3 .  22 yards\n"
          ]
        }
      ]
    }
  ]
}